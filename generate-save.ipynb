{
 "cells": [
  {
   "cell_type": "code",
   "execution_count": 4,
   "metadata": {},
   "outputs": [
    {
     "name": "stderr",
     "output_type": "stream",
     "text": [
      "/home/ubuntu-gpu/project/laboratory/ghost-train/.venv/lib/python3.8/site-packages/kornia/augmentation/augmentation.py:1830: DeprecationWarning: GaussianBlur is no longer maintained and will be removed from the future versions. Please use RandomGaussianBlur instead.\n",
      "  warnings.warn(\n",
      "/home/ubuntu-gpu/project/laboratory/ghost-train/.venv/lib/python3.8/site-packages/mxnet/numpy/utils.py:37: DeprecationWarning: `np.bool` is a deprecated alias for the builtin `bool`. To silence this warning, use `bool` by itself. Doing this will not modify any behavior and is safe. If you specifically wanted the numpy scalar type, use `np.bool_` here.\n",
      "Deprecated in NumPy 1.20; for more details and guidance: https://numpy.org/devdocs/release/1.20.0-notes.html#deprecations\n",
      "  bool = onp.bool\n",
      "/home/ubuntu-gpu/project/laboratory/ghost-train/.venv/lib/python3.8/site-packages/mxnet/numpy/fallback.py:143: DeprecationWarning: In accordance with NEP 32, the function mirr was removed from NumPy version 1.20.  A replacement for this function is available in the numpy_financial library: https://pypi.org/project/numpy-financial\n",
      "  mirr = onp.mirr\n",
      "/home/ubuntu-gpu/project/laboratory/ghost-train/.venv/lib/python3.8/site-packages/mxnet/numpy/fallback.py:160: DeprecationWarning: In accordance with NEP 32, the function npv was removed from NumPy version 1.20.  A replacement for this function is available in the numpy_financial library: https://pypi.org/project/numpy-financial\n",
      "  npv = onp.npv\n",
      "/home/ubuntu-gpu/project/laboratory/ghost-train/.venv/lib/python3.8/site-packages/mxnet/numpy/fallback.py:164: DeprecationWarning: In accordance with NEP 32, the function pmt was removed from NumPy version 1.20.  A replacement for this function is available in the numpy_financial library: https://pypi.org/project/numpy-financial\n",
      "  pmt = onp.pmt\n",
      "/home/ubuntu-gpu/project/laboratory/ghost-train/.venv/lib/python3.8/site-packages/mxnet/numpy/fallback.py:173: DeprecationWarning: In accordance with NEP 32, the function ppmt was removed from NumPy version 1.20.  A replacement for this function is available in the numpy_financial library: https://pypi.org/project/numpy-financial\n",
      "  ppmt = onp.ppmt\n",
      "/home/ubuntu-gpu/project/laboratory/ghost-train/.venv/lib/python3.8/site-packages/mxnet/numpy/fallback.py:176: DeprecationWarning: In accordance with NEP 32, the function pv was removed from NumPy version 1.20.  A replacement for this function is available in the numpy_financial library: https://pypi.org/project/numpy-financial\n",
      "  pv = onp.pv\n",
      "/home/ubuntu-gpu/project/laboratory/ghost-train/.venv/lib/python3.8/site-packages/mxnet/numpy/fallback.py:177: DeprecationWarning: In accordance with NEP 32, the function rate was removed from NumPy version 1.20.  A replacement for this function is available in the numpy_financial library: https://pypi.org/project/numpy-financial\n",
      "  rate = onp.rate\n"
     ]
    }
   ],
   "source": [
    "import cv2\n",
    "import torch\n",
    "import time\n",
    "import os\n",
    "import numpy as np\n",
    "\n",
    "from utils.inference.image_processing import crop_face, get_final_image, show_images, get_only_swaped_image\n",
    "from utils.inference.video_processing import read_video, get_target, get_final_video, add_audio_from_another_video, face_enhancement\n",
    "from utils.inference.core import model_inference\n",
    "\n",
    "from network.AEI_Net import AEI_Net\n",
    "from coordinate_reg.image_infer import Handler\n",
    "from insightface_func.face_detect_crop_multi import Face_detect_crop\n",
    "from arcface_model.iresnet import iresnet100\n",
    "from models.pix2pix_model import Pix2PixModel\n",
    "from models.config_sr import TestOptions"
   ]
  },
  {
   "cell_type": "code",
   "execution_count": 5,
   "metadata": {},
   "outputs": [],
   "source": [
    "from typing import List\n",
    "import numpy as np\n",
    "import matplotlib.pyplot as plt\n",
    "import base64\n",
    "from io import BytesIO\n",
    "from typing import Callable, List\n",
    "\n",
    "import numpy as np\n",
    "import torch\n",
    "import cv2\n",
    "from utils.inference.masks import face_mask_static \n",
    "from matplotlib import pyplot as plt\n",
    "from insightface.utils import face_align\n",
    "\n",
    "def show_face_frames(final_frames_list: List[List[np.ndarray]], \n",
    "                      titles: List[str] = None, \n",
    "                      figsize: tuple = (20, 5), \n",
    "                      fontsize: int = 15):\n",
    "    \"\"\"\n",
    "    オプションのタイトルと共に最終フレームを表示する\n",
    "\n",
    "    Args:\n",
    "    final_frames_list (List[List[np.ndarray]]): 最終フレームのリストのリスト\n",
    "    titles (List[str], optional): 各セットのタイトル。デフォルトはNone\n",
    "    figsize (tuple, optional): 図のサイズ。デフォルトは(20, 5)\n",
    "    fontsize (int, optional): タイトルのフォントサイズ。デフォルトは15\n",
    "    \"\"\"\n",
    "\n",
    "    fig, axes = plt.subplots(1, len(final_frames_list), figsize=figsize)\n",
    "    for idx, (ax, image) in enumerate(zip(axes, final_frames_list)):\n",
    "        ax.imshow(image[0][:, :, ::-1])\n",
    "        if titles:\n",
    "            ax.set_title(titles[idx], fontsize=fontsize)\n",
    "        ax.axis(\"off\")\n",
    "    plt.show()\n",
    "\n",
    "def get_only_swaped_fullimage(final_frames: List[np.ndarray],\n",
    "                          crop_frames: List[np.ndarray],\n",
    "                          full_frame: np.ndarray,\n",
    "                          tfm_arrays: List[np.ndarray]):\n",
    "    \"\"\"\n",
    "    フェイススワッピングや他の画像変換の結果を用いて最終的な画像を生成する\n",
    "\n",
    "    Args:\n",
    "    final_frames (List[np.ndarray]): 最終的に生成されたフレームのリスト\n",
    "    full_frame (np.ndarray): フルサイズの元のフレーム\n",
    "    tfm_arrays (List[np.ndarray]): 各フレームに適用された変換行列のリスト\n",
    "    \"\"\"\n",
    "    final = full_frame.copy()\n",
    "    \n",
    "    for frames, crop_frames, tfm_arrays in zip(final_frames_list, crop_frames_list, tfm_array_list):\n",
    "        for frame, crop_frame, tfm_array in zip(frames, crop_frames, tfm_arrays):\n",
    "            if frame.size > 0:\n",
    "                frame_resized = cv2.resize(frame, (crop_frame.shape[1], crop_frame.shape[0]))\n",
    "                mat_rev = cv2.invertAffineTransform(tfm_array)\n",
    "                swap_t = cv2.warpAffine(frame_resized, mat_rev, (full_frame.shape[1], full_frame.shape[0]), borderMode=cv2.BORDER_REPLICATE)\n",
    "                mask = cv2.warpAffine(np.ones_like(crop_frame[:, :, 0], dtype=np.uint8), mat_rev, (full_frame.shape[1], full_frame.shape[0]))\n",
    "                mask = mask[:, :, np.newaxis]\n",
    "                final = mask * swap_t + (1 - mask) * final\n",
    "    \n",
    "    final = np.array(final, dtype='uint8')\n",
    "    return final\n",
    "\n",
    "def get_only_swaped_faceimage(final_frames: List[np.ndarray],\n",
    "                          crop_frames: List[np.ndarray],\n",
    "                          full_frame: np.ndarray,\n",
    "                          tfm_arrays: List[np.ndarray]):\n",
    "    \"\"\"\n",
    "    フェイススワッピングや他の画像変換の結果を用いて最終的な画像を生成する\n",
    "\n",
    "    Args:\n",
    "    final_frames (List[np.ndarray]): 最終的に生成されたフレームのリスト\n",
    "    full_frame (np.ndarray): フルサイズの元のフレーム\n",
    "    tfm_arrays (List[np.ndarray]): 各フレームに適用された変換行列のリスト\n",
    "    \"\"\"\n",
    "    # 各フレームに対応するパラメータのリスト（初期値はすべてNone）\n",
    "    params = [None for i in range(len(final_frames))]\n",
    "    \n",
    "    # 各フレームについてループ\n",
    "    for i in range(len(final_frames)):\n",
    "        # 224x224ピクセルにリサイズされたフレームを取得\n",
    "        frame = cv2.resize(final_frames[i][0], (224, 224))\n",
    "        \n",
    "        # リサイズされたフレームと対応するクロップフレームからランドマークを検出\n",
    "        landmarks = handler.get_without_detection_without_transform(frame)     \n",
    "        landmarks_tgt = handler.get_without_detection_without_transform(crop_frames[i][0])\n",
    "\n",
    "        # face_mask_static関数を使用して、マスクと他の出力を取得\n",
    "        mask, _ = face_mask_static(crop_frames[i][0], landmarks, landmarks_tgt, params[i])\n",
    "        # 変換行列を反転\n",
    "        mat_rev = cv2.invertAffineTransform(tfm_arrays[i][0])\n",
    "\n",
    "        # リサイズされたフレームとマスクを元のフルサイズのフレームに再変換\n",
    "        #swap_t = cv2.warpAffine(frame, mat_rev, (full_frame.shape[1], full_frame.shape[0]), borderMode=cv2.BORDER_REPLICATE)\n",
    "        #mask_t = cv2.warpAffine(mask, mat_rev, (full_frame.shape[1], full_frame.shape[0]))\n",
    "        #mask_t = np.expand_dims(mask_t, 2)\n",
    "\n",
    "        # マスクを使用して変換されたフレームを最終フレームに適用\n",
    "        final = mask*frame + (1-mask)*crop_frames[i][0]\n",
    "    \n",
    "    # 最終フレームをuint8型の配列に変換し、関数の結果として返す\n",
    "    final = np.array(final, dtype='uint8')\n",
    "    return final\n",
    "\n",
    "import matplotlib.pyplot as plt\n",
    "import numpy as np\n",
    "from typing import List\n",
    "\n",
    "def noshow_images(images: List[np.ndarray], \n",
    "                titles=None, \n",
    "                figsize=(20, 5), \n",
    "                fontsize=15):\n",
    "    \"\"\"\n",
    "    Display images with optional titles\n",
    "    オプションのタイトルと共に画像を表示する\n",
    "    \"\"\"\n",
    "    if titles:\n",
    "        assert len(titles) == len(images), \"Amount of images should be the same as the amount of titles\"\n",
    "    \n",
    "    fig, axes = plt.subplots(1, len(images), figsize=figsize)\n",
    "    plt.subplots_adjust(wspace=0, hspace=0)  # 余白をなくす設定\n",
    "\n",
    "    for idx, (ax, image) in enumerate(zip(axes, images)):\n",
    "        ax.imshow(image[:, :, ::-1])\n",
    "        if titles:\n",
    "            ax.set_title(titles[idx], fontsize=fontsize)\n",
    "        ax.axis(\"off\")\n",
    "\n",
    "    plt.tight_layout(pad=0)  # 余白をなくす設定\n",
    "    plt.show()"
   ]
  },
  {
   "cell_type": "code",
   "execution_count": 11,
   "metadata": {},
   "outputs": [],
   "source": [
    "def swap(G_path, target_path, source_path, save_path):\n",
    "    app = Face_detect_crop(name='antelope', root='./insightface_func/models')\n",
    "    app.prepare(ctx_id= 0, det_thresh=0.6, det_size=(640,640))\n",
    "\n",
    "    # main model for generation\n",
    "    G = AEI_Net(backbone='unet', num_blocks=2, c_id=512)\n",
    "    G.eval()\n",
    "    G.load_state_dict(torch.load(G_path, map_location=torch.device('cpu')))\n",
    "    G = G.cuda()\n",
    "    G = G.half()\n",
    "\n",
    "    # arcface model to get face embedding\n",
    "    netArc = iresnet100(fp16=False)\n",
    "    netArc.load_state_dict(torch.load('arcface_model/backbone.pth'))\n",
    "    netArc = netArc.cuda()\n",
    "    netArc.eval()\n",
    "\n",
    "    # model to get face landmarks\n",
    "    handler = Handler('./coordinate_reg/model/2d106det', 0, ctx_id=0, det_size=640)\n",
    "\n",
    "    use_sr = False\n",
    "    if use_sr:\n",
    "        os.environ['CUDA_VISIBLE_DEVICES'] = '0'\n",
    "        torch.backends.cudnn.benchmark = True\n",
    "        opt = TestOptions()\n",
    "        model = Pix2PixModel(opt)\n",
    "        model.netG.train()\n",
    "\n",
    "    image_to_image = True\n",
    "\n",
    "    if image_to_image:\n",
    "        path_to_target = target_path\n",
    "    else:\n",
    "        path_to_video = 'examples/videos/random_gif.gif'\n",
    "\n",
    "    source_full = cv2.imread(source_path)\n",
    "    OUT_VIDEO_NAME = \"examples/results/result.mp4\"\n",
    "    crop_size = 224\n",
    "    BS = 60\n",
    "\n",
    "    try:\n",
    "        source = crop_face(source_full, app, crop_size)[0]\n",
    "        source = [source[:, :, ::-1]]\n",
    "        print(\"Everything is ok!\")\n",
    "    except TypeError:\n",
    "        print(\"Bad source images\")\n",
    "\n",
    "    if image_to_image:\n",
    "        target_full = cv2.imread(path_to_target)\n",
    "        full_frames = [target_full]\n",
    "        print(len(full_frames))\n",
    "    else:\n",
    "        full_frames, fps = read_video(path_to_video)\n",
    "\n",
    "    target = get_target(full_frames, app, crop_size)\n",
    "\n",
    "    START_TIME = time.time()\n",
    "    final_frames_list, crop_frames_list, full_frames, tfm_array_list = model_inference(full_frames,\n",
    "                                                                                      source,\n",
    "                                                                                      target,\n",
    "                                                                                      netArc,\n",
    "                                                                                      G,\n",
    "                                                                                      app,\n",
    "                                                                                      set_target=False,\n",
    "                                                                                      crop_size=crop_size,\n",
    "                                                                                      BS=BS)\n",
    "    \n",
    "    result = get_final_image(final_frames_list, crop_frames_list, full_frames[0], tfm_array_list, handler)\n",
    "    \n",
    "    # 生成した画像を保存\n",
    "    #save_result_path = f\"{save_path}/result.png\"\n",
    "    #cv2.imwrite(save_result_path, result)\n",
    "    \n",
    "\n",
    "    return result, source, target_full\n",
    "\n",
    "\n"
   ]
  },
  {
   "cell_type": "code",
   "execution_count": 14,
   "metadata": {},
   "outputs": [
    {
     "name": "stdout",
     "output_type": "stream",
     "text": [
      "input mean and std: 127.5 127.5\n",
      "find model: ./insightface_func/models/antelope/glintr100.onnx recognition\n",
      "find model: ./insightface_func/models/antelope/scrfd_10g_bnkps.onnx detection\n",
      "set det-size: (640, 640)\n",
      "loading ./coordinate_reg/model/2d106det 0\n"
     ]
    },
    {
     "name": "stderr",
     "output_type": "stream",
     "text": [
      "[02:14:46] /work/mxnet/src/nnvm/legacy_json_util.cc:208: Loading symbol saved by previous version v1.5.0. Attempting to upgrade...\n",
      "[02:14:46] /work/mxnet/src/nnvm/legacy_json_util.cc:216: Symbol successfully upgraded!\n"
     ]
    },
    {
     "name": "stdout",
     "output_type": "stream",
     "text": [
      "input mean and std: 127.5 127.5\n",
      "find model: ./insightface_func/models/antelope/glintr100.onnx recognition\n",
      "find model: ./insightface_func/models/antelope/scrfd_10g_bnkps.onnx detection\n",
      "set det-size: (640, 640)\n",
      "Everything is ok!\n",
      "1\n"
     ]
    },
    {
     "name": "stderr",
     "output_type": "stream",
     "text": [
      "100%|██████████| 1/1 [00:00<00:00, 18.78it/s]\n",
      "1it [00:00, 768.47it/s]\n",
      "1it [00:00, 5592.41it/s]\n",
      "100%|██████████| 1/1 [00:00<00:00, 13.18it/s]\n",
      "100%|██████████| 1/1 [00:00<00:00, 10180.35it/s]\n",
      "/home/ubuntu-gpu/project/laboratory/ghost-train/.venv/lib/python3.8/site-packages/mxnet/ndarray/utils.py:141: DeprecationWarning: Please use `csr_matrix` from the `scipy.sparse` namespace, the `scipy.sparse.csr` namespace is deprecated.\n",
      "  if spsp is not None and isinstance(source_array, spsp.csr.csr_matrix):\n",
      "/home/ubuntu-gpu/project/laboratory/ghost-train/.venv/lib/python3.8/site-packages/mxnet/ndarray/utils.py:141: DeprecationWarning: Please use `csr_matrix` from the `scipy.sparse` namespace, the `scipy.sparse.csr` namespace is deprecated.\n",
      "  if spsp is not None and isinstance(source_array, spsp.csr.csr_matrix):\n"
     ]
    },
    {
     "name": "stdout",
     "output_type": "stream",
     "text": [
      "Image saved at examples/results/id85-enhanced9/result_source0_target0.png\n",
      "input mean and std: 127.5 127.5\n",
      "find model: ./insightface_func/models/antelope/glintr100.onnx recognition\n",
      "find model: ./insightface_func/models/antelope/scrfd_10g_bnkps.onnx detection\n",
      "set det-size: (640, 640)\n",
      "loading ./coordinate_reg/model/2d106det 0\n"
     ]
    },
    {
     "name": "stderr",
     "output_type": "stream",
     "text": [
      "[02:14:49] /work/mxnet/src/nnvm/legacy_json_util.cc:208: Loading symbol saved by previous version v1.5.0. Attempting to upgrade...\n",
      "[02:14:49] /work/mxnet/src/nnvm/legacy_json_util.cc:216: Symbol successfully upgraded!\n"
     ]
    },
    {
     "name": "stdout",
     "output_type": "stream",
     "text": [
      "input mean and std: 127.5 127.5\n",
      "find model: ./insightface_func/models/antelope/glintr100.onnx recognition\n",
      "find model: ./insightface_func/models/antelope/scrfd_10g_bnkps.onnx detection\n",
      "set det-size: (640, 640)\n",
      "Everything is ok!\n",
      "1\n"
     ]
    },
    {
     "name": "stderr",
     "output_type": "stream",
     "text": [
      "100%|██████████| 1/1 [00:00<00:00, 18.56it/s]\n",
      "1it [00:00, 935.81it/s]\n",
      "1it [00:00, 5236.33it/s]\n",
      "100%|██████████| 1/1 [00:00<00:00, 13.65it/s]\n",
      "100%|██████████| 1/1 [00:00<00:00, 9845.78it/s]\n",
      "/home/ubuntu-gpu/project/laboratory/ghost-train/.venv/lib/python3.8/site-packages/mxnet/ndarray/utils.py:141: DeprecationWarning: Please use `csr_matrix` from the `scipy.sparse` namespace, the `scipy.sparse.csr` namespace is deprecated.\n",
      "  if spsp is not None and isinstance(source_array, spsp.csr.csr_matrix):\n",
      "/home/ubuntu-gpu/project/laboratory/ghost-train/.venv/lib/python3.8/site-packages/mxnet/ndarray/utils.py:141: DeprecationWarning: Please use `csr_matrix` from the `scipy.sparse` namespace, the `scipy.sparse.csr` namespace is deprecated.\n",
      "  if spsp is not None and isinstance(source_array, spsp.csr.csr_matrix):\n"
     ]
    },
    {
     "name": "stdout",
     "output_type": "stream",
     "text": [
      "Image saved at examples/results/id85-enhanced9/result_source0_target1.png\n",
      "input mean and std: 127.5 127.5\n",
      "find model: ./insightface_func/models/antelope/glintr100.onnx recognition\n",
      "find model: ./insightface_func/models/antelope/scrfd_10g_bnkps.onnx detection\n",
      "set det-size: (640, 640)\n",
      "loading ./coordinate_reg/model/2d106det 0\n",
      "input mean and std: 127.5 127.5\n",
      "find model: ./insightface_func/models/antelope/glintr100.onnx recognition\n",
      "find model: ./insightface_func/models/antelope/scrfd_10g_bnkps.onnx detection\n",
      "set det-size: (640, 640)\n",
      "Everything is ok!\n",
      "1\n"
     ]
    },
    {
     "name": "stderr",
     "output_type": "stream",
     "text": [
      "[02:14:53] /work/mxnet/src/nnvm/legacy_json_util.cc:208: Loading symbol saved by previous version v1.5.0. Attempting to upgrade...\n",
      "[02:14:53] /work/mxnet/src/nnvm/legacy_json_util.cc:216: Symbol successfully upgraded!\n",
      "100%|██████████| 1/1 [00:00<00:00, 20.04it/s]\n",
      "1it [00:00, 1040.25it/s]\n",
      "1it [00:00, 6017.65it/s]\n",
      "100%|██████████| 1/1 [00:00<00:00, 44.99it/s]\n",
      "100%|██████████| 1/1 [00:00<00:00, 14614.30it/s]\n",
      "/home/ubuntu-gpu/project/laboratory/ghost-train/.venv/lib/python3.8/site-packages/mxnet/ndarray/utils.py:141: DeprecationWarning: Please use `csr_matrix` from the `scipy.sparse` namespace, the `scipy.sparse.csr` namespace is deprecated.\n",
      "  if spsp is not None and isinstance(source_array, spsp.csr.csr_matrix):\n",
      "/home/ubuntu-gpu/project/laboratory/ghost-train/.venv/lib/python3.8/site-packages/mxnet/ndarray/utils.py:141: DeprecationWarning: Please use `csr_matrix` from the `scipy.sparse` namespace, the `scipy.sparse.csr` namespace is deprecated.\n",
      "  if spsp is not None and isinstance(source_array, spsp.csr.csr_matrix):\n"
     ]
    },
    {
     "name": "stdout",
     "output_type": "stream",
     "text": [
      "Image saved at examples/results/id85-enhanced9/result_source0_target2.png\n",
      "input mean and std: 127.5 127.5\n",
      "find model: ./insightface_func/models/antelope/glintr100.onnx recognition\n",
      "find model: ./insightface_func/models/antelope/scrfd_10g_bnkps.onnx detection\n",
      "set det-size: (640, 640)\n",
      "loading ./coordinate_reg/model/2d106det 0\n",
      "input mean and std: 127.5 127.5\n",
      "find model: ./insightface_func/models/antelope/glintr100.onnx recognition\n",
      "find model: ./insightface_func/models/antelope/scrfd_10g_bnkps.onnx detection\n",
      "set det-size: (640, 640)\n",
      "Everything is ok!\n",
      "1\n"
     ]
    },
    {
     "name": "stderr",
     "output_type": "stream",
     "text": [
      "[02:14:56] /work/mxnet/src/nnvm/legacy_json_util.cc:208: Loading symbol saved by previous version v1.5.0. Attempting to upgrade...\n",
      "[02:14:56] /work/mxnet/src/nnvm/legacy_json_util.cc:216: Symbol successfully upgraded!\n",
      "100%|██████████| 1/1 [00:00<00:00, 20.55it/s]\n",
      "1it [00:00, 179.81it/s]\n",
      "1it [00:00, 5275.85it/s]\n",
      "100%|██████████| 1/1 [00:00<00:00, 45.22it/s]\n",
      "100%|██████████| 1/1 [00:00<00:00, 18001.30it/s]\n",
      "/home/ubuntu-gpu/project/laboratory/ghost-train/.venv/lib/python3.8/site-packages/mxnet/ndarray/utils.py:141: DeprecationWarning: Please use `csr_matrix` from the `scipy.sparse` namespace, the `scipy.sparse.csr` namespace is deprecated.\n",
      "  if spsp is not None and isinstance(source_array, spsp.csr.csr_matrix):\n",
      "/home/ubuntu-gpu/project/laboratory/ghost-train/.venv/lib/python3.8/site-packages/mxnet/ndarray/utils.py:141: DeprecationWarning: Please use `csr_matrix` from the `scipy.sparse` namespace, the `scipy.sparse.csr` namespace is deprecated.\n",
      "  if spsp is not None and isinstance(source_array, spsp.csr.csr_matrix):\n"
     ]
    },
    {
     "name": "stdout",
     "output_type": "stream",
     "text": [
      "Image saved at examples/results/id85-enhanced9/result_source0_target3.png\n",
      "input mean and std: 127.5 127.5\n",
      "find model: ./insightface_func/models/antelope/glintr100.onnx recognition\n",
      "find model: ./insightface_func/models/antelope/scrfd_10g_bnkps.onnx detection\n",
      "set det-size: (640, 640)\n",
      "loading ./coordinate_reg/model/2d106det 0\n"
     ]
    },
    {
     "name": "stderr",
     "output_type": "stream",
     "text": [
      "[02:15:00] /work/mxnet/src/nnvm/legacy_json_util.cc:208: Loading symbol saved by previous version v1.5.0. Attempting to upgrade...\n",
      "[02:15:00] /work/mxnet/src/nnvm/legacy_json_util.cc:216: Symbol successfully upgraded!\n"
     ]
    },
    {
     "name": "stdout",
     "output_type": "stream",
     "text": [
      "input mean and std: 127.5 127.5\n",
      "find model: ./insightface_func/models/antelope/glintr100.onnx recognition\n",
      "find model: ./insightface_func/models/antelope/scrfd_10g_bnkps.onnx detection\n",
      "set det-size: (640, 640)\n",
      "Everything is ok!\n",
      "1\n"
     ]
    },
    {
     "name": "stderr",
     "output_type": "stream",
     "text": [
      "100%|██████████| 1/1 [00:00<00:00, 19.84it/s]\n",
      "1it [00:00, 352.82it/s]\n",
      "1it [00:00, 5849.80it/s]\n",
      "100%|██████████| 1/1 [00:00<00:00, 13.24it/s]\n",
      "100%|██████████| 1/1 [00:00<00:00, 20068.44it/s]\n",
      "/home/ubuntu-gpu/project/laboratory/ghost-train/.venv/lib/python3.8/site-packages/mxnet/ndarray/utils.py:141: DeprecationWarning: Please use `csr_matrix` from the `scipy.sparse` namespace, the `scipy.sparse.csr` namespace is deprecated.\n",
      "  if spsp is not None and isinstance(source_array, spsp.csr.csr_matrix):\n",
      "/home/ubuntu-gpu/project/laboratory/ghost-train/.venv/lib/python3.8/site-packages/mxnet/ndarray/utils.py:141: DeprecationWarning: Please use `csr_matrix` from the `scipy.sparse` namespace, the `scipy.sparse.csr` namespace is deprecated.\n",
      "  if spsp is not None and isinstance(source_array, spsp.csr.csr_matrix):\n"
     ]
    },
    {
     "name": "stdout",
     "output_type": "stream",
     "text": [
      "Image saved at examples/results/id85-enhanced9/result_source0_target4.png\n",
      "input mean and std: 127.5 127.5\n",
      "find model: ./insightface_func/models/antelope/glintr100.onnx recognition\n",
      "find model: ./insightface_func/models/antelope/scrfd_10g_bnkps.onnx detection\n",
      "set det-size: (640, 640)\n",
      "loading ./coordinate_reg/model/2d106det 0\n"
     ]
    },
    {
     "name": "stderr",
     "output_type": "stream",
     "text": [
      "[02:15:03] /work/mxnet/src/nnvm/legacy_json_util.cc:208: Loading symbol saved by previous version v1.5.0. Attempting to upgrade...\n",
      "[02:15:03] /work/mxnet/src/nnvm/legacy_json_util.cc:216: Symbol successfully upgraded!\n"
     ]
    },
    {
     "name": "stdout",
     "output_type": "stream",
     "text": [
      "input mean and std: 127.5 127.5\n",
      "find model: ./insightface_func/models/antelope/glintr100.onnx recognition\n",
      "find model: ./insightface_func/models/antelope/scrfd_10g_bnkps.onnx detection\n",
      "set det-size: (640, 640)\n",
      "Everything is ok!\n",
      "1\n"
     ]
    },
    {
     "name": "stderr",
     "output_type": "stream",
     "text": [
      "100%|██████████| 1/1 [00:00<00:00, 16.76it/s]\n",
      "1it [00:00, 583.92it/s]\n",
      "1it [00:00, 5412.01it/s]\n",
      "100%|██████████| 1/1 [00:00<00:00, 13.34it/s]\n",
      "100%|██████████| 1/1 [00:00<00:00, 19328.59it/s]\n",
      "/home/ubuntu-gpu/project/laboratory/ghost-train/.venv/lib/python3.8/site-packages/mxnet/ndarray/utils.py:141: DeprecationWarning: Please use `csr_matrix` from the `scipy.sparse` namespace, the `scipy.sparse.csr` namespace is deprecated.\n",
      "  if spsp is not None and isinstance(source_array, spsp.csr.csr_matrix):\n",
      "/home/ubuntu-gpu/project/laboratory/ghost-train/.venv/lib/python3.8/site-packages/mxnet/ndarray/utils.py:141: DeprecationWarning: Please use `csr_matrix` from the `scipy.sparse` namespace, the `scipy.sparse.csr` namespace is deprecated.\n",
      "  if spsp is not None and isinstance(source_array, spsp.csr.csr_matrix):\n"
     ]
    },
    {
     "name": "stdout",
     "output_type": "stream",
     "text": [
      "Image saved at examples/results/id85-enhanced9/result_source0_target5.png\n",
      "input mean and std: 127.5 127.5\n",
      "find model: ./insightface_func/models/antelope/glintr100.onnx recognition\n",
      "find model: ./insightface_func/models/antelope/scrfd_10g_bnkps.onnx detection\n",
      "set det-size: (640, 640)\n",
      "loading ./coordinate_reg/model/2d106det 0\n",
      "input mean and std: 127.5 127.5\n",
      "find model: ./insightface_func/models/antelope/glintr100.onnx recognition\n",
      "find model: ./insightface_func/models/antelope/scrfd_10g_bnkps.onnx detection\n",
      "set det-size: (640, 640)\n",
      "Everything is ok!\n",
      "1\n"
     ]
    },
    {
     "name": "stderr",
     "output_type": "stream",
     "text": [
      "[02:15:06] /work/mxnet/src/nnvm/legacy_json_util.cc:208: Loading symbol saved by previous version v1.5.0. Attempting to upgrade...\n",
      "[02:15:06] /work/mxnet/src/nnvm/legacy_json_util.cc:216: Symbol successfully upgraded!\n",
      "100%|██████████| 1/1 [00:00<00:00, 17.39it/s]\n",
      "1it [00:00, 916.19it/s]\n",
      "1it [00:00, 4981.36it/s]\n",
      "100%|██████████| 1/1 [00:00<00:00, 42.45it/s]\n",
      "100%|██████████| 1/1 [00:00<00:00, 21845.33it/s]\n",
      "/home/ubuntu-gpu/project/laboratory/ghost-train/.venv/lib/python3.8/site-packages/mxnet/ndarray/utils.py:141: DeprecationWarning: Please use `csr_matrix` from the `scipy.sparse` namespace, the `scipy.sparse.csr` namespace is deprecated.\n",
      "  if spsp is not None and isinstance(source_array, spsp.csr.csr_matrix):\n",
      "/home/ubuntu-gpu/project/laboratory/ghost-train/.venv/lib/python3.8/site-packages/mxnet/ndarray/utils.py:141: DeprecationWarning: Please use `csr_matrix` from the `scipy.sparse` namespace, the `scipy.sparse.csr` namespace is deprecated.\n",
      "  if spsp is not None and isinstance(source_array, spsp.csr.csr_matrix):\n"
     ]
    },
    {
     "name": "stdout",
     "output_type": "stream",
     "text": [
      "Image saved at examples/results/id85-enhanced9/result_source0_target6.png\n",
      "input mean and std: 127.5 127.5\n",
      "find model: ./insightface_func/models/antelope/glintr100.onnx recognition\n",
      "find model: ./insightface_func/models/antelope/scrfd_10g_bnkps.onnx detection\n",
      "set det-size: (640, 640)\n",
      "loading ./coordinate_reg/model/2d106det 0\n",
      "input mean and std: 127.5 127.5\n",
      "find model: ./insightface_func/models/antelope/glintr100.onnx recognition\n",
      "find model: ./insightface_func/models/antelope/scrfd_10g_bnkps.onnx detection\n",
      "set det-size: (640, 640)\n",
      "Everything is ok!\n",
      "1\n"
     ]
    },
    {
     "name": "stderr",
     "output_type": "stream",
     "text": [
      "[02:15:10] /work/mxnet/src/nnvm/legacy_json_util.cc:208: Loading symbol saved by previous version v1.5.0. Attempting to upgrade...\n",
      "[02:15:10] /work/mxnet/src/nnvm/legacy_json_util.cc:216: Symbol successfully upgraded!\n",
      "100%|██████████| 1/1 [00:00<00:00, 17.00it/s]\n",
      "1it [00:00, 492.93it/s]\n",
      "1it [00:00, 6743.25it/s]\n",
      "100%|██████████| 1/1 [00:00<00:00, 13.47it/s]\n",
      "100%|██████████| 1/1 [00:00<00:00, 18078.90it/s]\n",
      "/home/ubuntu-gpu/project/laboratory/ghost-train/.venv/lib/python3.8/site-packages/mxnet/ndarray/utils.py:141: DeprecationWarning: Please use `csr_matrix` from the `scipy.sparse` namespace, the `scipy.sparse.csr` namespace is deprecated.\n",
      "  if spsp is not None and isinstance(source_array, spsp.csr.csr_matrix):\n",
      "/home/ubuntu-gpu/project/laboratory/ghost-train/.venv/lib/python3.8/site-packages/mxnet/ndarray/utils.py:141: DeprecationWarning: Please use `csr_matrix` from the `scipy.sparse` namespace, the `scipy.sparse.csr` namespace is deprecated.\n",
      "  if spsp is not None and isinstance(source_array, spsp.csr.csr_matrix):\n"
     ]
    },
    {
     "name": "stdout",
     "output_type": "stream",
     "text": [
      "Image saved at examples/results/id85-enhanced9/result_source0_target7.png\n",
      "input mean and std: 127.5 127.5\n",
      "find model: ./insightface_func/models/antelope/glintr100.onnx recognition\n",
      "find model: ./insightface_func/models/antelope/scrfd_10g_bnkps.onnx detection\n",
      "set det-size: (640, 640)\n",
      "loading ./coordinate_reg/model/2d106det 0\n",
      "input mean and std: 127.5 127.5\n",
      "find model: ./insightface_func/models/antelope/glintr100.onnx recognition\n",
      "find model: ./insightface_func/models/antelope/scrfd_10g_bnkps.onnx detection\n",
      "set det-size: (640, 640)\n",
      "Everything is ok!\n",
      "1\n"
     ]
    },
    {
     "name": "stderr",
     "output_type": "stream",
     "text": [
      "[02:15:13] /work/mxnet/src/nnvm/legacy_json_util.cc:208: Loading symbol saved by previous version v1.5.0. Attempting to upgrade...\n",
      "[02:15:13] /work/mxnet/src/nnvm/legacy_json_util.cc:216: Symbol successfully upgraded!\n",
      "100%|██████████| 1/1 [00:00<00:00, 19.63it/s]\n",
      "1it [00:00, 722.28it/s]\n",
      "1it [00:00, 7294.44it/s]\n",
      "100%|██████████| 1/1 [00:00<00:00, 44.62it/s]\n",
      "100%|██████████| 1/1 [00:00<00:00, 19239.93it/s]\n",
      "/home/ubuntu-gpu/project/laboratory/ghost-train/.venv/lib/python3.8/site-packages/mxnet/ndarray/utils.py:141: DeprecationWarning: Please use `csr_matrix` from the `scipy.sparse` namespace, the `scipy.sparse.csr` namespace is deprecated.\n",
      "  if spsp is not None and isinstance(source_array, spsp.csr.csr_matrix):\n",
      "/home/ubuntu-gpu/project/laboratory/ghost-train/.venv/lib/python3.8/site-packages/mxnet/ndarray/utils.py:141: DeprecationWarning: Please use `csr_matrix` from the `scipy.sparse` namespace, the `scipy.sparse.csr` namespace is deprecated.\n",
      "  if spsp is not None and isinstance(source_array, spsp.csr.csr_matrix):\n"
     ]
    },
    {
     "name": "stdout",
     "output_type": "stream",
     "text": [
      "Image saved at examples/results/id85-enhanced9/result_source0_target8.png\n",
      "input mean and std: 127.5 127.5\n",
      "find model: ./insightface_func/models/antelope/glintr100.onnx recognition\n",
      "find model: ./insightface_func/models/antelope/scrfd_10g_bnkps.onnx detection\n",
      "set det-size: (640, 640)\n",
      "loading ./coordinate_reg/model/2d106det 0\n"
     ]
    },
    {
     "name": "stderr",
     "output_type": "stream",
     "text": [
      "[02:15:16] /work/mxnet/src/nnvm/legacy_json_util.cc:208: Loading symbol saved by previous version v1.5.0. Attempting to upgrade...\n",
      "[02:15:16] /work/mxnet/src/nnvm/legacy_json_util.cc:216: Symbol successfully upgraded!\n"
     ]
    },
    {
     "name": "stdout",
     "output_type": "stream",
     "text": [
      "input mean and std: 127.5 127.5\n",
      "find model: ./insightface_func/models/antelope/glintr100.onnx recognition\n",
      "find model: ./insightface_func/models/antelope/scrfd_10g_bnkps.onnx detection\n",
      "set det-size: (640, 640)\n",
      "Everything is ok!\n",
      "1\n"
     ]
    },
    {
     "name": "stderr",
     "output_type": "stream",
     "text": [
      "100%|██████████| 1/1 [00:00<00:00, 20.59it/s]\n",
      "1it [00:00, 558.79it/s]\n",
      "1it [00:00, 2144.33it/s]\n",
      "100%|██████████| 1/1 [00:00<00:00, 55.49it/s]\n",
      "100%|██████████| 1/1 [00:00<00:00, 21290.88it/s]\n",
      "/home/ubuntu-gpu/project/laboratory/ghost-train/.venv/lib/python3.8/site-packages/mxnet/ndarray/utils.py:141: DeprecationWarning: Please use `csr_matrix` from the `scipy.sparse` namespace, the `scipy.sparse.csr` namespace is deprecated.\n",
      "  if spsp is not None and isinstance(source_array, spsp.csr.csr_matrix):\n",
      "/home/ubuntu-gpu/project/laboratory/ghost-train/.venv/lib/python3.8/site-packages/mxnet/ndarray/utils.py:141: DeprecationWarning: Please use `csr_matrix` from the `scipy.sparse` namespace, the `scipy.sparse.csr` namespace is deprecated.\n",
      "  if spsp is not None and isinstance(source_array, spsp.csr.csr_matrix):\n"
     ]
    },
    {
     "name": "stdout",
     "output_type": "stream",
     "text": [
      "Image saved at examples/results/id85-enhanced9/result_source0_target9.png\n",
      "input mean and std: 127.5 127.5\n",
      "find model: ./insightface_func/models/antelope/glintr100.onnx recognition\n",
      "find model: ./insightface_func/models/antelope/scrfd_10g_bnkps.onnx detection\n",
      "set det-size: (640, 640)\n",
      "loading ./coordinate_reg/model/2d106det 0\n"
     ]
    },
    {
     "name": "stderr",
     "output_type": "stream",
     "text": [
      "[02:15:19] /work/mxnet/src/nnvm/legacy_json_util.cc:208: Loading symbol saved by previous version v1.5.0. Attempting to upgrade...\n",
      "[02:15:19] /work/mxnet/src/nnvm/legacy_json_util.cc:216: Symbol successfully upgraded!\n"
     ]
    },
    {
     "name": "stdout",
     "output_type": "stream",
     "text": [
      "input mean and std: 127.5 127.5\n",
      "find model: ./insightface_func/models/antelope/glintr100.onnx recognition\n",
      "find model: ./insightface_func/models/antelope/scrfd_10g_bnkps.onnx detection\n",
      "set det-size: (640, 640)\n",
      "Everything is ok!\n",
      "1\n"
     ]
    },
    {
     "name": "stderr",
     "output_type": "stream",
     "text": [
      "100%|██████████| 1/1 [00:00<00:00, 20.15it/s]\n",
      "1it [00:00, 512.25it/s]\n",
      "1it [00:00, 4092.00it/s]\n",
      "100%|██████████| 1/1 [00:00<00:00, 43.04it/s]\n",
      "100%|██████████| 1/1 [00:00<00:00, 8128.50it/s]\n",
      "/home/ubuntu-gpu/project/laboratory/ghost-train/.venv/lib/python3.8/site-packages/mxnet/ndarray/utils.py:141: DeprecationWarning: Please use `csr_matrix` from the `scipy.sparse` namespace, the `scipy.sparse.csr` namespace is deprecated.\n",
      "  if spsp is not None and isinstance(source_array, spsp.csr.csr_matrix):\n",
      "/home/ubuntu-gpu/project/laboratory/ghost-train/.venv/lib/python3.8/site-packages/mxnet/ndarray/utils.py:141: DeprecationWarning: Please use `csr_matrix` from the `scipy.sparse` namespace, the `scipy.sparse.csr` namespace is deprecated.\n",
      "  if spsp is not None and isinstance(source_array, spsp.csr.csr_matrix):\n"
     ]
    },
    {
     "name": "stdout",
     "output_type": "stream",
     "text": [
      "Image saved at examples/results/id85-enhanced9/result_source0_target10.png\n",
      "input mean and std: 127.5 127.5\n",
      "find model: ./insightface_func/models/antelope/glintr100.onnx recognition\n",
      "find model: ./insightface_func/models/antelope/scrfd_10g_bnkps.onnx detection\n",
      "set det-size: (640, 640)\n",
      "loading ./coordinate_reg/model/2d106det 0\n"
     ]
    },
    {
     "name": "stderr",
     "output_type": "stream",
     "text": [
      "[02:15:23] /work/mxnet/src/nnvm/legacy_json_util.cc:208: Loading symbol saved by previous version v1.5.0. Attempting to upgrade...\n",
      "[02:15:23] /work/mxnet/src/nnvm/legacy_json_util.cc:216: Symbol successfully upgraded!\n"
     ]
    },
    {
     "name": "stdout",
     "output_type": "stream",
     "text": [
      "input mean and std: 127.5 127.5\n",
      "find model: ./insightface_func/models/antelope/glintr100.onnx recognition\n",
      "find model: ./insightface_func/models/antelope/scrfd_10g_bnkps.onnx detection\n",
      "set det-size: (640, 640)\n",
      "Everything is ok!\n",
      "1\n"
     ]
    },
    {
     "name": "stderr",
     "output_type": "stream",
     "text": [
      "100%|██████████| 1/1 [00:00<00:00, 20.09it/s]\n",
      "1it [00:00, 457.44it/s]\n",
      "1it [00:00, 5983.32it/s]\n",
      "100%|██████████| 1/1 [00:00<00:00, 21.23it/s]\n",
      "100%|██████████| 1/1 [00:00<00:00, 19418.07it/s]\n",
      "/home/ubuntu-gpu/project/laboratory/ghost-train/.venv/lib/python3.8/site-packages/mxnet/ndarray/utils.py:141: DeprecationWarning: Please use `csr_matrix` from the `scipy.sparse` namespace, the `scipy.sparse.csr` namespace is deprecated.\n",
      "  if spsp is not None and isinstance(source_array, spsp.csr.csr_matrix):\n",
      "/home/ubuntu-gpu/project/laboratory/ghost-train/.venv/lib/python3.8/site-packages/mxnet/ndarray/utils.py:141: DeprecationWarning: Please use `csr_matrix` from the `scipy.sparse` namespace, the `scipy.sparse.csr` namespace is deprecated.\n",
      "  if spsp is not None and isinstance(source_array, spsp.csr.csr_matrix):\n"
     ]
    },
    {
     "name": "stdout",
     "output_type": "stream",
     "text": [
      "Image saved at examples/results/id85-enhanced9/result_source0_target11.png\n",
      "input mean and std: 127.5 127.5\n",
      "find model: ./insightface_func/models/antelope/glintr100.onnx recognition\n",
      "find model: ./insightface_func/models/antelope/scrfd_10g_bnkps.onnx detection\n",
      "set det-size: (640, 640)\n",
      "loading ./coordinate_reg/model/2d106det 0\n"
     ]
    },
    {
     "name": "stderr",
     "output_type": "stream",
     "text": [
      "[02:15:26] /work/mxnet/src/nnvm/legacy_json_util.cc:208: Loading symbol saved by previous version v1.5.0. Attempting to upgrade...\n",
      "[02:15:26] /work/mxnet/src/nnvm/legacy_json_util.cc:216: Symbol successfully upgraded!\n"
     ]
    },
    {
     "name": "stdout",
     "output_type": "stream",
     "text": [
      "input mean and std: 127.5 127.5\n",
      "find model: ./insightface_func/models/antelope/glintr100.onnx recognition\n",
      "find model: ./insightface_func/models/antelope/scrfd_10g_bnkps.onnx detection\n",
      "set det-size: (640, 640)\n",
      "Everything is ok!\n",
      "1\n"
     ]
    },
    {
     "name": "stderr",
     "output_type": "stream",
     "text": [
      "100%|██████████| 1/1 [00:00<00:00, 20.76it/s]\n",
      "1it [00:00, 424.78it/s]\n",
      "1it [00:00, 998.64it/s]\n",
      "100%|██████████| 1/1 [00:00<00:00, 39.71it/s]\n",
      "100%|██████████| 1/1 [00:00<00:00, 20360.70it/s]\n",
      "/home/ubuntu-gpu/project/laboratory/ghost-train/.venv/lib/python3.8/site-packages/mxnet/ndarray/utils.py:141: DeprecationWarning: Please use `csr_matrix` from the `scipy.sparse` namespace, the `scipy.sparse.csr` namespace is deprecated.\n",
      "  if spsp is not None and isinstance(source_array, spsp.csr.csr_matrix):\n",
      "/home/ubuntu-gpu/project/laboratory/ghost-train/.venv/lib/python3.8/site-packages/mxnet/ndarray/utils.py:141: DeprecationWarning: Please use `csr_matrix` from the `scipy.sparse` namespace, the `scipy.sparse.csr` namespace is deprecated.\n",
      "  if spsp is not None and isinstance(source_array, spsp.csr.csr_matrix):\n"
     ]
    },
    {
     "name": "stdout",
     "output_type": "stream",
     "text": [
      "Image saved at examples/results/id85-enhanced9/result_source0_target12.png\n",
      "input mean and std: 127.5 127.5\n",
      "find model: ./insightface_func/models/antelope/glintr100.onnx recognition\n",
      "find model: ./insightface_func/models/antelope/scrfd_10g_bnkps.onnx detection\n",
      "set det-size: (640, 640)\n",
      "loading ./coordinate_reg/model/2d106det 0\n"
     ]
    },
    {
     "name": "stderr",
     "output_type": "stream",
     "text": [
      "[02:15:29] /work/mxnet/src/nnvm/legacy_json_util.cc:208: Loading symbol saved by previous version v1.5.0. Attempting to upgrade...\n",
      "[02:15:29] /work/mxnet/src/nnvm/legacy_json_util.cc:216: Symbol successfully upgraded!\n"
     ]
    },
    {
     "name": "stdout",
     "output_type": "stream",
     "text": [
      "input mean and std: 127.5 127.5\n",
      "find model: ./insightface_func/models/antelope/glintr100.onnx recognition\n",
      "find model: ./insightface_func/models/antelope/scrfd_10g_bnkps.onnx detection\n",
      "set det-size: (640, 640)\n",
      "Everything is ok!\n",
      "1\n"
     ]
    },
    {
     "name": "stderr",
     "output_type": "stream",
     "text": [
      "100%|██████████| 1/1 [00:00<00:00, 18.70it/s]\n",
      "1it [00:00, 703.86it/s]\n",
      "1it [00:00, 5949.37it/s]\n",
      "100%|██████████| 1/1 [00:00<00:00, 43.47it/s]\n",
      "100%|██████████| 1/1 [00:00<00:00, 17050.02it/s]\n",
      "/home/ubuntu-gpu/project/laboratory/ghost-train/.venv/lib/python3.8/site-packages/mxnet/ndarray/utils.py:141: DeprecationWarning: Please use `csr_matrix` from the `scipy.sparse` namespace, the `scipy.sparse.csr` namespace is deprecated.\n",
      "  if spsp is not None and isinstance(source_array, spsp.csr.csr_matrix):\n",
      "/home/ubuntu-gpu/project/laboratory/ghost-train/.venv/lib/python3.8/site-packages/mxnet/ndarray/utils.py:141: DeprecationWarning: Please use `csr_matrix` from the `scipy.sparse` namespace, the `scipy.sparse.csr` namespace is deprecated.\n",
      "  if spsp is not None and isinstance(source_array, spsp.csr.csr_matrix):\n"
     ]
    },
    {
     "name": "stdout",
     "output_type": "stream",
     "text": [
      "Image saved at examples/results/id85-enhanced9/result_source0_target13.png\n",
      "input mean and std: 127.5 127.5\n",
      "find model: ./insightface_func/models/antelope/glintr100.onnx recognition\n",
      "find model: ./insightface_func/models/antelope/scrfd_10g_bnkps.onnx detection\n",
      "set det-size: (640, 640)\n",
      "loading ./coordinate_reg/model/2d106det 0\n"
     ]
    },
    {
     "name": "stderr",
     "output_type": "stream",
     "text": [
      "[02:15:33] /work/mxnet/src/nnvm/legacy_json_util.cc:208: Loading symbol saved by previous version v1.5.0. Attempting to upgrade...\n",
      "[02:15:33] /work/mxnet/src/nnvm/legacy_json_util.cc:216: Symbol successfully upgraded!\n"
     ]
    },
    {
     "name": "stdout",
     "output_type": "stream",
     "text": [
      "input mean and std: 127.5 127.5\n",
      "find model: ./insightface_func/models/antelope/glintr100.onnx recognition\n",
      "find model: ./insightface_func/models/antelope/scrfd_10g_bnkps.onnx detection\n",
      "set det-size: (640, 640)\n",
      "Everything is ok!\n",
      "1\n"
     ]
    },
    {
     "name": "stderr",
     "output_type": "stream",
     "text": [
      "100%|██████████| 1/1 [00:00<00:00, 18.50it/s]\n",
      "1it [00:00, 467.59it/s]\n",
      "1it [00:00, 5343.06it/s]\n",
      "100%|██████████| 1/1 [00:00<00:00, 19.33it/s]\n",
      "100%|██████████| 1/1 [00:00<00:00, 15827.56it/s]\n",
      "/home/ubuntu-gpu/project/laboratory/ghost-train/.venv/lib/python3.8/site-packages/mxnet/ndarray/utils.py:141: DeprecationWarning: Please use `csr_matrix` from the `scipy.sparse` namespace, the `scipy.sparse.csr` namespace is deprecated.\n",
      "  if spsp is not None and isinstance(source_array, spsp.csr.csr_matrix):\n",
      "/home/ubuntu-gpu/project/laboratory/ghost-train/.venv/lib/python3.8/site-packages/mxnet/ndarray/utils.py:141: DeprecationWarning: Please use `csr_matrix` from the `scipy.sparse` namespace, the `scipy.sparse.csr` namespace is deprecated.\n",
      "  if spsp is not None and isinstance(source_array, spsp.csr.csr_matrix):\n"
     ]
    },
    {
     "name": "stdout",
     "output_type": "stream",
     "text": [
      "Image saved at examples/results/id85-enhanced9/result_source0_target14.png\n",
      "input mean and std: 127.5 127.5\n",
      "find model: ./insightface_func/models/antelope/glintr100.onnx recognition\n",
      "find model: ./insightface_func/models/antelope/scrfd_10g_bnkps.onnx detection\n",
      "set det-size: (640, 640)\n",
      "loading ./coordinate_reg/model/2d106det 0\n",
      "input mean and std: 127.5 127.5\n",
      "find model: ./insightface_func/models/antelope/glintr100.onnx recognition\n",
      "find model: ./insightface_func/models/antelope/scrfd_10g_bnkps.onnx detection\n",
      "set det-size: (640, 640)\n",
      "Everything is ok!\n",
      "1\n"
     ]
    },
    {
     "name": "stderr",
     "output_type": "stream",
     "text": [
      "[02:15:36] /work/mxnet/src/nnvm/legacy_json_util.cc:208: Loading symbol saved by previous version v1.5.0. Attempting to upgrade...\n",
      "[02:15:36] /work/mxnet/src/nnvm/legacy_json_util.cc:216: Symbol successfully upgraded!\n",
      "100%|██████████| 1/1 [00:00<00:00, 17.02it/s]\n",
      "1it [00:00, 245.58it/s]\n",
      "1it [00:00, 2714.76it/s]\n",
      "100%|██████████| 1/1 [00:00<00:00, 25.92it/s]\n",
      "100%|██████████| 1/1 [00:00<00:00, 19152.07it/s]\n",
      "/home/ubuntu-gpu/project/laboratory/ghost-train/.venv/lib/python3.8/site-packages/mxnet/ndarray/utils.py:141: DeprecationWarning: Please use `csr_matrix` from the `scipy.sparse` namespace, the `scipy.sparse.csr` namespace is deprecated.\n",
      "  if spsp is not None and isinstance(source_array, spsp.csr.csr_matrix):\n",
      "/home/ubuntu-gpu/project/laboratory/ghost-train/.venv/lib/python3.8/site-packages/mxnet/ndarray/utils.py:141: DeprecationWarning: Please use `csr_matrix` from the `scipy.sparse` namespace, the `scipy.sparse.csr` namespace is deprecated.\n",
      "  if spsp is not None and isinstance(source_array, spsp.csr.csr_matrix):\n"
     ]
    },
    {
     "name": "stdout",
     "output_type": "stream",
     "text": [
      "Image saved at examples/results/id85-enhanced9/result_source0_target15.png\n",
      "input mean and std: 127.5 127.5\n",
      "find model: ./insightface_func/models/antelope/glintr100.onnx recognition\n",
      "find model: ./insightface_func/models/antelope/scrfd_10g_bnkps.onnx detection\n",
      "set det-size: (640, 640)\n",
      "loading ./coordinate_reg/model/2d106det 0\n",
      "input mean and std: 127.5 127.5\n",
      "find model: ./insightface_func/models/antelope/glintr100.onnx recognition\n",
      "find model: ./insightface_func/models/antelope/scrfd_10g_bnkps.onnx detection\n",
      "set det-size: (640, 640)\n",
      "Everything is ok!\n",
      "1\n"
     ]
    },
    {
     "name": "stderr",
     "output_type": "stream",
     "text": [
      "[02:15:39] /work/mxnet/src/nnvm/legacy_json_util.cc:208: Loading symbol saved by previous version v1.5.0. Attempting to upgrade...\n",
      "[02:15:39] /work/mxnet/src/nnvm/legacy_json_util.cc:216: Symbol successfully upgraded!\n",
      "100%|██████████| 1/1 [00:00<00:00, 18.11it/s]\n",
      "1it [00:00, 701.04it/s]\n",
      "1it [00:00, 6384.02it/s]\n",
      "100%|██████████| 1/1 [00:00<00:00, 41.78it/s]\n",
      "100%|██████████| 1/1 [00:00<00:00, 19328.59it/s]\n",
      "/home/ubuntu-gpu/project/laboratory/ghost-train/.venv/lib/python3.8/site-packages/mxnet/ndarray/utils.py:141: DeprecationWarning: Please use `csr_matrix` from the `scipy.sparse` namespace, the `scipy.sparse.csr` namespace is deprecated.\n",
      "  if spsp is not None and isinstance(source_array, spsp.csr.csr_matrix):\n",
      "/home/ubuntu-gpu/project/laboratory/ghost-train/.venv/lib/python3.8/site-packages/mxnet/ndarray/utils.py:141: DeprecationWarning: Please use `csr_matrix` from the `scipy.sparse` namespace, the `scipy.sparse.csr` namespace is deprecated.\n",
      "  if spsp is not None and isinstance(source_array, spsp.csr.csr_matrix):\n"
     ]
    },
    {
     "name": "stdout",
     "output_type": "stream",
     "text": [
      "Image saved at examples/results/id85-enhanced9/result_source0_target16.png\n",
      "input mean and std: 127.5 127.5\n",
      "find model: ./insightface_func/models/antelope/glintr100.onnx recognition\n",
      "find model: ./insightface_func/models/antelope/scrfd_10g_bnkps.onnx detection\n",
      "set det-size: (640, 640)\n",
      "loading ./coordinate_reg/model/2d106det 0\n",
      "input mean and std: 127.5 127.5\n",
      "find model: ./insightface_func/models/antelope/glintr100.onnx recognition\n",
      "find model: ./insightface_func/models/antelope/scrfd_10g_bnkps.onnx detection\n",
      "set det-size: (640, 640)\n",
      "Everything is ok!\n",
      "1\n"
     ]
    },
    {
     "name": "stderr",
     "output_type": "stream",
     "text": [
      "[02:15:43] /work/mxnet/src/nnvm/legacy_json_util.cc:208: Loading symbol saved by previous version v1.5.0. Attempting to upgrade...\n",
      "[02:15:43] /work/mxnet/src/nnvm/legacy_json_util.cc:216: Symbol successfully upgraded!\n",
      "100%|██████████| 1/1 [00:00<00:00, 18.26it/s]\n",
      "1it [00:00, 522.72it/s]\n",
      "1it [00:00, 4136.39it/s]\n",
      "100%|██████████| 1/1 [00:00<00:00, 40.48it/s]\n",
      "100%|██████████| 1/1 [00:00<00:00, 18978.75it/s]\n",
      "/home/ubuntu-gpu/project/laboratory/ghost-train/.venv/lib/python3.8/site-packages/mxnet/ndarray/utils.py:141: DeprecationWarning: Please use `csr_matrix` from the `scipy.sparse` namespace, the `scipy.sparse.csr` namespace is deprecated.\n",
      "  if spsp is not None and isinstance(source_array, spsp.csr.csr_matrix):\n",
      "/home/ubuntu-gpu/project/laboratory/ghost-train/.venv/lib/python3.8/site-packages/mxnet/ndarray/utils.py:141: DeprecationWarning: Please use `csr_matrix` from the `scipy.sparse` namespace, the `scipy.sparse.csr` namespace is deprecated.\n",
      "  if spsp is not None and isinstance(source_array, spsp.csr.csr_matrix):\n"
     ]
    },
    {
     "name": "stdout",
     "output_type": "stream",
     "text": [
      "Image saved at examples/results/id85-enhanced9/result_source1_target0.png\n",
      "input mean and std: 127.5 127.5\n",
      "find model: ./insightface_func/models/antelope/glintr100.onnx recognition\n",
      "find model: ./insightface_func/models/antelope/scrfd_10g_bnkps.onnx detection\n",
      "set det-size: (640, 640)\n",
      "loading ./coordinate_reg/model/2d106det 0\n"
     ]
    },
    {
     "name": "stderr",
     "output_type": "stream",
     "text": [
      "[02:15:46] /work/mxnet/src/nnvm/legacy_json_util.cc:208: Loading symbol saved by previous version v1.5.0. Attempting to upgrade...\n",
      "[02:15:46] /work/mxnet/src/nnvm/legacy_json_util.cc:216: Symbol successfully upgraded!\n"
     ]
    },
    {
     "name": "stdout",
     "output_type": "stream",
     "text": [
      "input mean and std: 127.5 127.5\n",
      "find model: ./insightface_func/models/antelope/glintr100.onnx recognition\n",
      "find model: ./insightface_func/models/antelope/scrfd_10g_bnkps.onnx detection\n",
      "set det-size: (640, 640)\n",
      "Everything is ok!\n",
      "1\n"
     ]
    },
    {
     "name": "stderr",
     "output_type": "stream",
     "text": [
      "100%|██████████| 1/1 [00:00<00:00, 18.62it/s]\n",
      "1it [00:00, 478.42it/s]\n",
      "1it [00:00, 4644.85it/s]\n",
      "100%|██████████| 1/1 [00:00<00:00, 47.14it/s]\n",
      "100%|██████████| 1/1 [00:00<00:00, 21732.15it/s]\n",
      "/home/ubuntu-gpu/project/laboratory/ghost-train/.venv/lib/python3.8/site-packages/mxnet/ndarray/utils.py:141: DeprecationWarning: Please use `csr_matrix` from the `scipy.sparse` namespace, the `scipy.sparse.csr` namespace is deprecated.\n",
      "  if spsp is not None and isinstance(source_array, spsp.csr.csr_matrix):\n",
      "/home/ubuntu-gpu/project/laboratory/ghost-train/.venv/lib/python3.8/site-packages/mxnet/ndarray/utils.py:141: DeprecationWarning: Please use `csr_matrix` from the `scipy.sparse` namespace, the `scipy.sparse.csr` namespace is deprecated.\n",
      "  if spsp is not None and isinstance(source_array, spsp.csr.csr_matrix):\n"
     ]
    },
    {
     "name": "stdout",
     "output_type": "stream",
     "text": [
      "Image saved at examples/results/id85-enhanced9/result_source1_target1.png\n",
      "input mean and std: 127.5 127.5\n",
      "find model: ./insightface_func/models/antelope/glintr100.onnx recognition\n",
      "find model: ./insightface_func/models/antelope/scrfd_10g_bnkps.onnx detection\n",
      "set det-size: (640, 640)\n",
      "loading ./coordinate_reg/model/2d106det 0\n"
     ]
    },
    {
     "name": "stderr",
     "output_type": "stream",
     "text": [
      "[02:15:49] /work/mxnet/src/nnvm/legacy_json_util.cc:208: Loading symbol saved by previous version v1.5.0. Attempting to upgrade...\n",
      "[02:15:49] /work/mxnet/src/nnvm/legacy_json_util.cc:216: Symbol successfully upgraded!\n"
     ]
    },
    {
     "name": "stdout",
     "output_type": "stream",
     "text": [
      "input mean and std: 127.5 127.5\n",
      "find model: ./insightface_func/models/antelope/glintr100.onnx recognition\n",
      "find model: ./insightface_func/models/antelope/scrfd_10g_bnkps.onnx detection\n",
      "set det-size: (640, 640)\n",
      "Everything is ok!\n",
      "1\n"
     ]
    },
    {
     "name": "stderr",
     "output_type": "stream",
     "text": [
      "100%|██████████| 1/1 [00:00<00:00, 16.58it/s]\n",
      "1it [00:00, 600.13it/s]\n",
      "1it [00:00, 6553.60it/s]\n",
      "100%|██████████| 1/1 [00:00<00:00, 14.42it/s]\n",
      "100%|██████████| 1/1 [00:00<00:00, 21732.15it/s]\n",
      "/home/ubuntu-gpu/project/laboratory/ghost-train/.venv/lib/python3.8/site-packages/mxnet/ndarray/utils.py:141: DeprecationWarning: Please use `csr_matrix` from the `scipy.sparse` namespace, the `scipy.sparse.csr` namespace is deprecated.\n",
      "  if spsp is not None and isinstance(source_array, spsp.csr.csr_matrix):\n",
      "/home/ubuntu-gpu/project/laboratory/ghost-train/.venv/lib/python3.8/site-packages/mxnet/ndarray/utils.py:141: DeprecationWarning: Please use `csr_matrix` from the `scipy.sparse` namespace, the `scipy.sparse.csr` namespace is deprecated.\n",
      "  if spsp is not None and isinstance(source_array, spsp.csr.csr_matrix):\n"
     ]
    },
    {
     "name": "stdout",
     "output_type": "stream",
     "text": [
      "Image saved at examples/results/id85-enhanced9/result_source1_target2.png\n",
      "input mean and std: 127.5 127.5\n",
      "find model: ./insightface_func/models/antelope/glintr100.onnx recognition\n",
      "find model: ./insightface_func/models/antelope/scrfd_10g_bnkps.onnx detection\n",
      "set det-size: (640, 640)\n",
      "loading ./coordinate_reg/model/2d106det 0\n"
     ]
    },
    {
     "name": "stderr",
     "output_type": "stream",
     "text": [
      "[02:15:52] /work/mxnet/src/nnvm/legacy_json_util.cc:208: Loading symbol saved by previous version v1.5.0. Attempting to upgrade...\n",
      "[02:15:52] /work/mxnet/src/nnvm/legacy_json_util.cc:216: Symbol successfully upgraded!\n"
     ]
    },
    {
     "name": "stdout",
     "output_type": "stream",
     "text": [
      "input mean and std: 127.5 127.5\n",
      "find model: ./insightface_func/models/antelope/glintr100.onnx recognition\n",
      "find model: ./insightface_func/models/antelope/scrfd_10g_bnkps.onnx detection\n",
      "set det-size: (640, 640)\n",
      "Everything is ok!\n",
      "1\n"
     ]
    },
    {
     "name": "stderr",
     "output_type": "stream",
     "text": [
      "100%|██████████| 1/1 [00:00<00:00, 18.99it/s]\n",
      "1it [00:00, 424.35it/s]\n",
      "1it [00:00, 5714.31it/s]\n",
      "100%|██████████| 1/1 [00:00<00:00, 46.12it/s]\n",
      "100%|██████████| 1/1 [00:00<00:00, 22795.13it/s]\n",
      "/home/ubuntu-gpu/project/laboratory/ghost-train/.venv/lib/python3.8/site-packages/mxnet/ndarray/utils.py:141: DeprecationWarning: Please use `csr_matrix` from the `scipy.sparse` namespace, the `scipy.sparse.csr` namespace is deprecated.\n",
      "  if spsp is not None and isinstance(source_array, spsp.csr.csr_matrix):\n",
      "/home/ubuntu-gpu/project/laboratory/ghost-train/.venv/lib/python3.8/site-packages/mxnet/ndarray/utils.py:141: DeprecationWarning: Please use `csr_matrix` from the `scipy.sparse` namespace, the `scipy.sparse.csr` namespace is deprecated.\n",
      "  if spsp is not None and isinstance(source_array, spsp.csr.csr_matrix):\n"
     ]
    },
    {
     "name": "stdout",
     "output_type": "stream",
     "text": [
      "Image saved at examples/results/id85-enhanced9/result_source1_target3.png\n",
      "input mean and std: 127.5 127.5\n",
      "find model: ./insightface_func/models/antelope/glintr100.onnx recognition\n",
      "find model: ./insightface_func/models/antelope/scrfd_10g_bnkps.onnx detection\n",
      "set det-size: (640, 640)\n",
      "loading ./coordinate_reg/model/2d106det 0\n",
      "input mean and std: 127.5 127.5\n",
      "find model: ./insightface_func/models/antelope/glintr100.onnx recognition\n",
      "find model: ./insightface_func/models/antelope/scrfd_10g_bnkps.onnx detection\n",
      "set det-size: (640, 640)\n",
      "Everything is ok!\n",
      "1\n"
     ]
    },
    {
     "name": "stderr",
     "output_type": "stream",
     "text": [
      "[02:15:56] /work/mxnet/src/nnvm/legacy_json_util.cc:208: Loading symbol saved by previous version v1.5.0. Attempting to upgrade...\n",
      "[02:15:56] /work/mxnet/src/nnvm/legacy_json_util.cc:216: Symbol successfully upgraded!\n",
      "100%|██████████| 1/1 [00:00<00:00, 18.40it/s]\n",
      "1it [00:00, 265.43it/s]\n",
      "1it [00:00, 6186.29it/s]\n",
      "100%|██████████| 1/1 [00:00<00:00, 14.17it/s]\n",
      "100%|██████████| 1/1 [00:00<00:00, 20164.92it/s]\n",
      "/home/ubuntu-gpu/project/laboratory/ghost-train/.venv/lib/python3.8/site-packages/mxnet/ndarray/utils.py:141: DeprecationWarning: Please use `csr_matrix` from the `scipy.sparse` namespace, the `scipy.sparse.csr` namespace is deprecated.\n",
      "  if spsp is not None and isinstance(source_array, spsp.csr.csr_matrix):\n",
      "/home/ubuntu-gpu/project/laboratory/ghost-train/.venv/lib/python3.8/site-packages/mxnet/ndarray/utils.py:141: DeprecationWarning: Please use `csr_matrix` from the `scipy.sparse` namespace, the `scipy.sparse.csr` namespace is deprecated.\n",
      "  if spsp is not None and isinstance(source_array, spsp.csr.csr_matrix):\n"
     ]
    },
    {
     "name": "stdout",
     "output_type": "stream",
     "text": [
      "Image saved at examples/results/id85-enhanced9/result_source1_target4.png\n",
      "input mean and std: 127.5 127.5\n",
      "find model: ./insightface_func/models/antelope/glintr100.onnx recognition\n",
      "find model: ./insightface_func/models/antelope/scrfd_10g_bnkps.onnx detection\n",
      "set det-size: (640, 640)\n",
      "loading ./coordinate_reg/model/2d106det 0\n",
      "input mean and std: 127.5 127.5\n",
      "find model: ./insightface_func/models/antelope/glintr100.onnx recognition\n",
      "find model: ./insightface_func/models/antelope/scrfd_10g_bnkps.onnx detection\n",
      "set det-size: (640, 640)\n",
      "Everything is ok!\n",
      "1\n"
     ]
    },
    {
     "name": "stderr",
     "output_type": "stream",
     "text": [
      "[02:15:59] /work/mxnet/src/nnvm/legacy_json_util.cc:208: Loading symbol saved by previous version v1.5.0. Attempting to upgrade...\n",
      "[02:15:59] /work/mxnet/src/nnvm/legacy_json_util.cc:216: Symbol successfully upgraded!\n",
      "100%|██████████| 1/1 [00:00<00:00, 21.34it/s]\n",
      "1it [00:00, 209.61it/s]\n",
      "1it [00:00, 5899.16it/s]\n",
      "100%|██████████| 1/1 [00:00<00:00, 50.87it/s]\n",
      "100%|██████████| 1/1 [00:00<00:00, 17772.47it/s]\n",
      "/home/ubuntu-gpu/project/laboratory/ghost-train/.venv/lib/python3.8/site-packages/mxnet/ndarray/utils.py:141: DeprecationWarning: Please use `csr_matrix` from the `scipy.sparse` namespace, the `scipy.sparse.csr` namespace is deprecated.\n",
      "  if spsp is not None and isinstance(source_array, spsp.csr.csr_matrix):\n",
      "/home/ubuntu-gpu/project/laboratory/ghost-train/.venv/lib/python3.8/site-packages/mxnet/ndarray/utils.py:141: DeprecationWarning: Please use `csr_matrix` from the `scipy.sparse` namespace, the `scipy.sparse.csr` namespace is deprecated.\n",
      "  if spsp is not None and isinstance(source_array, spsp.csr.csr_matrix):\n"
     ]
    },
    {
     "name": "stdout",
     "output_type": "stream",
     "text": [
      "Image saved at examples/results/id85-enhanced9/result_source1_target5.png\n",
      "input mean and std: 127.5 127.5\n",
      "find model: ./insightface_func/models/antelope/glintr100.onnx recognition\n",
      "find model: ./insightface_func/models/antelope/scrfd_10g_bnkps.onnx detection\n",
      "set det-size: (640, 640)\n",
      "loading ./coordinate_reg/model/2d106det 0\n",
      "input mean and std: 127.5 127.5\n",
      "find model: ./insightface_func/models/antelope/glintr100.onnx recognition\n",
      "find model: ./insightface_func/models/antelope/scrfd_10g_bnkps.onnx detection\n",
      "set det-size: (640, 640)\n",
      "Everything is ok!\n",
      "1\n"
     ]
    },
    {
     "name": "stderr",
     "output_type": "stream",
     "text": [
      "[02:16:02] /work/mxnet/src/nnvm/legacy_json_util.cc:208: Loading symbol saved by previous version v1.5.0. Attempting to upgrade...\n",
      "[02:16:02] /work/mxnet/src/nnvm/legacy_json_util.cc:216: Symbol successfully upgraded!\n",
      "100%|██████████| 1/1 [00:00<00:00, 19.70it/s]\n",
      "1it [00:00, 155.44it/s]\n",
      "1it [00:00, 5419.00it/s]\n",
      "100%|██████████| 1/1 [00:00<00:00, 14.13it/s]\n",
      "100%|██████████| 1/1 [00:00<00:00, 20068.44it/s]\n",
      "/home/ubuntu-gpu/project/laboratory/ghost-train/.venv/lib/python3.8/site-packages/mxnet/ndarray/utils.py:141: DeprecationWarning: Please use `csr_matrix` from the `scipy.sparse` namespace, the `scipy.sparse.csr` namespace is deprecated.\n",
      "  if spsp is not None and isinstance(source_array, spsp.csr.csr_matrix):\n",
      "/home/ubuntu-gpu/project/laboratory/ghost-train/.venv/lib/python3.8/site-packages/mxnet/ndarray/utils.py:141: DeprecationWarning: Please use `csr_matrix` from the `scipy.sparse` namespace, the `scipy.sparse.csr` namespace is deprecated.\n",
      "  if spsp is not None and isinstance(source_array, spsp.csr.csr_matrix):\n"
     ]
    },
    {
     "name": "stdout",
     "output_type": "stream",
     "text": [
      "Image saved at examples/results/id85-enhanced9/result_source1_target6.png\n",
      "input mean and std: 127.5 127.5\n",
      "find model: ./insightface_func/models/antelope/glintr100.onnx recognition\n",
      "find model: ./insightface_func/models/antelope/scrfd_10g_bnkps.onnx detection\n",
      "set det-size: (640, 640)\n",
      "loading ./coordinate_reg/model/2d106det 0\n"
     ]
    },
    {
     "name": "stderr",
     "output_type": "stream",
     "text": [
      "[02:16:05] /work/mxnet/src/nnvm/legacy_json_util.cc:208: Loading symbol saved by previous version v1.5.0. Attempting to upgrade...\n",
      "[02:16:05] /work/mxnet/src/nnvm/legacy_json_util.cc:216: Symbol successfully upgraded!\n"
     ]
    },
    {
     "name": "stdout",
     "output_type": "stream",
     "text": [
      "input mean and std: 127.5 127.5\n",
      "find model: ./insightface_func/models/antelope/glintr100.onnx recognition\n",
      "find model: ./insightface_func/models/antelope/scrfd_10g_bnkps.onnx detection\n",
      "set det-size: (640, 640)\n",
      "Everything is ok!\n",
      "1\n"
     ]
    },
    {
     "name": "stderr",
     "output_type": "stream",
     "text": [
      "100%|██████████| 1/1 [00:00<00:00, 20.01it/s]\n",
      "1it [00:00, 398.13it/s]\n",
      "1it [00:00, 5229.81it/s]\n",
      "100%|██████████| 1/1 [00:00<00:00, 14.37it/s]\n",
      "100%|██████████| 1/1 [00:00<00:00, 14614.30it/s]\n",
      "/home/ubuntu-gpu/project/laboratory/ghost-train/.venv/lib/python3.8/site-packages/mxnet/ndarray/utils.py:141: DeprecationWarning: Please use `csr_matrix` from the `scipy.sparse` namespace, the `scipy.sparse.csr` namespace is deprecated.\n",
      "  if spsp is not None and isinstance(source_array, spsp.csr.csr_matrix):\n",
      "/home/ubuntu-gpu/project/laboratory/ghost-train/.venv/lib/python3.8/site-packages/mxnet/ndarray/utils.py:141: DeprecationWarning: Please use `csr_matrix` from the `scipy.sparse` namespace, the `scipy.sparse.csr` namespace is deprecated.\n",
      "  if spsp is not None and isinstance(source_array, spsp.csr.csr_matrix):\n"
     ]
    },
    {
     "name": "stdout",
     "output_type": "stream",
     "text": [
      "Image saved at examples/results/id85-enhanced9/result_source1_target7.png\n",
      "input mean and std: 127.5 127.5\n",
      "find model: ./insightface_func/models/antelope/glintr100.onnx recognition\n",
      "find model: ./insightface_func/models/antelope/scrfd_10g_bnkps.onnx detection\n",
      "set det-size: (640, 640)\n",
      "loading ./coordinate_reg/model/2d106det 0\n"
     ]
    },
    {
     "name": "stderr",
     "output_type": "stream",
     "text": [
      "[02:16:08] /work/mxnet/src/nnvm/legacy_json_util.cc:208: Loading symbol saved by previous version v1.5.0. Attempting to upgrade...\n",
      "[02:16:08] /work/mxnet/src/nnvm/legacy_json_util.cc:216: Symbol successfully upgraded!\n"
     ]
    },
    {
     "name": "stdout",
     "output_type": "stream",
     "text": [
      "input mean and std: 127.5 127.5\n",
      "find model: ./insightface_func/models/antelope/glintr100.onnx recognition\n",
      "find model: ./insightface_func/models/antelope/scrfd_10g_bnkps.onnx detection\n",
      "set det-size: (640, 640)\n",
      "Everything is ok!\n",
      "1\n"
     ]
    },
    {
     "name": "stderr",
     "output_type": "stream",
     "text": [
      "100%|██████████| 1/1 [00:00<00:00, 20.51it/s]\n",
      "1it [00:00, 923.25it/s]\n",
      "1it [00:00, 5667.98it/s]\n",
      "100%|██████████| 1/1 [00:00<00:00, 45.90it/s]\n",
      "100%|██████████| 1/1 [00:00<00:00, 18157.16it/s]\n",
      "/home/ubuntu-gpu/project/laboratory/ghost-train/.venv/lib/python3.8/site-packages/mxnet/ndarray/utils.py:141: DeprecationWarning: Please use `csr_matrix` from the `scipy.sparse` namespace, the `scipy.sparse.csr` namespace is deprecated.\n",
      "  if spsp is not None and isinstance(source_array, spsp.csr.csr_matrix):\n",
      "/home/ubuntu-gpu/project/laboratory/ghost-train/.venv/lib/python3.8/site-packages/mxnet/ndarray/utils.py:141: DeprecationWarning: Please use `csr_matrix` from the `scipy.sparse` namespace, the `scipy.sparse.csr` namespace is deprecated.\n",
      "  if spsp is not None and isinstance(source_array, spsp.csr.csr_matrix):\n"
     ]
    },
    {
     "name": "stdout",
     "output_type": "stream",
     "text": [
      "Image saved at examples/results/id85-enhanced9/result_source1_target8.png\n",
      "input mean and std: 127.5 127.5\n",
      "find model: ./insightface_func/models/antelope/glintr100.onnx recognition\n",
      "find model: ./insightface_func/models/antelope/scrfd_10g_bnkps.onnx detection\n",
      "set det-size: (640, 640)\n",
      "loading ./coordinate_reg/model/2d106det 0\n",
      "input mean and std: 127.5 127.5\n",
      "find model: ./insightface_func/models/antelope/glintr100.onnx recognition\n",
      "find model: ./insightface_func/models/antelope/scrfd_10g_bnkps.onnx detection\n",
      "set det-size: (640, 640)\n",
      "Everything is ok!\n",
      "1\n"
     ]
    },
    {
     "name": "stderr",
     "output_type": "stream",
     "text": [
      "[02:16:11] /work/mxnet/src/nnvm/legacy_json_util.cc:208: Loading symbol saved by previous version v1.5.0. Attempting to upgrade...\n",
      "[02:16:11] /work/mxnet/src/nnvm/legacy_json_util.cc:216: Symbol successfully upgraded!\n",
      "100%|██████████| 1/1 [00:00<00:00, 18.45it/s]\n",
      "1it [00:00, 414.29it/s]\n",
      "1it [00:00, 5974.79it/s]\n",
      "100%|██████████| 1/1 [00:00<00:00, 14.81it/s]\n",
      "100%|██████████| 1/1 [00:00<00:00, 19508.39it/s]\n",
      "/home/ubuntu-gpu/project/laboratory/ghost-train/.venv/lib/python3.8/site-packages/mxnet/ndarray/utils.py:141: DeprecationWarning: Please use `csr_matrix` from the `scipy.sparse` namespace, the `scipy.sparse.csr` namespace is deprecated.\n",
      "  if spsp is not None and isinstance(source_array, spsp.csr.csr_matrix):\n",
      "/home/ubuntu-gpu/project/laboratory/ghost-train/.venv/lib/python3.8/site-packages/mxnet/ndarray/utils.py:141: DeprecationWarning: Please use `csr_matrix` from the `scipy.sparse` namespace, the `scipy.sparse.csr` namespace is deprecated.\n",
      "  if spsp is not None and isinstance(source_array, spsp.csr.csr_matrix):\n"
     ]
    },
    {
     "name": "stdout",
     "output_type": "stream",
     "text": [
      "Image saved at examples/results/id85-enhanced9/result_source1_target9.png\n",
      "input mean and std: 127.5 127.5\n",
      "find model: ./insightface_func/models/antelope/glintr100.onnx recognition\n",
      "find model: ./insightface_func/models/antelope/scrfd_10g_bnkps.onnx detection\n",
      "set det-size: (640, 640)\n",
      "loading ./coordinate_reg/model/2d106det 0\n"
     ]
    },
    {
     "name": "stderr",
     "output_type": "stream",
     "text": [
      "[02:16:14] /work/mxnet/src/nnvm/legacy_json_util.cc:208: Loading symbol saved by previous version v1.5.0. Attempting to upgrade...\n",
      "[02:16:14] /work/mxnet/src/nnvm/legacy_json_util.cc:216: Symbol successfully upgraded!\n"
     ]
    },
    {
     "name": "stdout",
     "output_type": "stream",
     "text": [
      "input mean and std: 127.5 127.5\n",
      "find model: ./insightface_func/models/antelope/glintr100.onnx recognition\n",
      "find model: ./insightface_func/models/antelope/scrfd_10g_bnkps.onnx detection\n",
      "set det-size: (640, 640)\n",
      "Everything is ok!\n",
      "1\n"
     ]
    },
    {
     "name": "stderr",
     "output_type": "stream",
     "text": [
      "100%|██████████| 1/1 [00:00<00:00, 19.89it/s]\n",
      "1it [00:00, 562.92it/s]\n",
      "1it [00:00, 5190.97it/s]\n",
      "100%|██████████| 1/1 [00:00<00:00, 41.82it/s]\n",
      "100%|██████████| 1/1 [00:00<00:00, 19508.39it/s]\n",
      "/home/ubuntu-gpu/project/laboratory/ghost-train/.venv/lib/python3.8/site-packages/mxnet/ndarray/utils.py:141: DeprecationWarning: Please use `csr_matrix` from the `scipy.sparse` namespace, the `scipy.sparse.csr` namespace is deprecated.\n",
      "  if spsp is not None and isinstance(source_array, spsp.csr.csr_matrix):\n",
      "/home/ubuntu-gpu/project/laboratory/ghost-train/.venv/lib/python3.8/site-packages/mxnet/ndarray/utils.py:141: DeprecationWarning: Please use `csr_matrix` from the `scipy.sparse` namespace, the `scipy.sparse.csr` namespace is deprecated.\n",
      "  if spsp is not None and isinstance(source_array, spsp.csr.csr_matrix):\n"
     ]
    },
    {
     "name": "stdout",
     "output_type": "stream",
     "text": [
      "Image saved at examples/results/id85-enhanced9/result_source1_target10.png\n",
      "input mean and std: 127.5 127.5\n",
      "find model: ./insightface_func/models/antelope/glintr100.onnx recognition\n",
      "find model: ./insightface_func/models/antelope/scrfd_10g_bnkps.onnx detection\n",
      "set det-size: (640, 640)\n",
      "loading ./coordinate_reg/model/2d106det 0\n"
     ]
    },
    {
     "name": "stderr",
     "output_type": "stream",
     "text": [
      "[02:16:17] /work/mxnet/src/nnvm/legacy_json_util.cc:208: Loading symbol saved by previous version v1.5.0. Attempting to upgrade...\n",
      "[02:16:17] /work/mxnet/src/nnvm/legacy_json_util.cc:216: Symbol successfully upgraded!\n"
     ]
    },
    {
     "name": "stdout",
     "output_type": "stream",
     "text": [
      "input mean and std: 127.5 127.5\n",
      "find model: ./insightface_func/models/antelope/glintr100.onnx recognition\n",
      "find model: ./insightface_func/models/antelope/scrfd_10g_bnkps.onnx detection\n",
      "set det-size: (640, 640)\n",
      "Everything is ok!\n",
      "1\n"
     ]
    },
    {
     "name": "stderr",
     "output_type": "stream",
     "text": [
      "100%|██████████| 1/1 [00:00<00:00, 18.45it/s]\n",
      "1it [00:00, 581.25it/s]\n",
      "1it [00:00, 6204.59it/s]\n",
      "100%|██████████| 1/1 [00:00<00:00, 13.36it/s]\n",
      "100%|██████████| 1/1 [00:00<00:00, 19691.57it/s]\n",
      "/home/ubuntu-gpu/project/laboratory/ghost-train/.venv/lib/python3.8/site-packages/mxnet/ndarray/utils.py:141: DeprecationWarning: Please use `csr_matrix` from the `scipy.sparse` namespace, the `scipy.sparse.csr` namespace is deprecated.\n",
      "  if spsp is not None and isinstance(source_array, spsp.csr.csr_matrix):\n",
      "/home/ubuntu-gpu/project/laboratory/ghost-train/.venv/lib/python3.8/site-packages/mxnet/ndarray/utils.py:141: DeprecationWarning: Please use `csr_matrix` from the `scipy.sparse` namespace, the `scipy.sparse.csr` namespace is deprecated.\n",
      "  if spsp is not None and isinstance(source_array, spsp.csr.csr_matrix):\n"
     ]
    },
    {
     "name": "stdout",
     "output_type": "stream",
     "text": [
      "Image saved at examples/results/id85-enhanced9/result_source1_target11.png\n",
      "input mean and std: 127.5 127.5\n",
      "find model: ./insightface_func/models/antelope/glintr100.onnx recognition\n",
      "find model: ./insightface_func/models/antelope/scrfd_10g_bnkps.onnx detection\n",
      "set det-size: (640, 640)\n",
      "loading ./coordinate_reg/model/2d106det 0\n",
      "input mean and std: 127.5 127.5\n",
      "find model: ./insightface_func/models/antelope/glintr100.onnx recognition\n",
      "find model: ./insightface_func/models/antelope/scrfd_10g_bnkps.onnx detection\n",
      "set det-size: (640, 640)\n",
      "Everything is ok!\n",
      "1\n"
     ]
    },
    {
     "name": "stderr",
     "output_type": "stream",
     "text": [
      "[02:16:20] /work/mxnet/src/nnvm/legacy_json_util.cc:208: Loading symbol saved by previous version v1.5.0. Attempting to upgrade...\n",
      "[02:16:20] /work/mxnet/src/nnvm/legacy_json_util.cc:216: Symbol successfully upgraded!\n",
      "100%|██████████| 1/1 [00:00<00:00, 19.49it/s]\n",
      "1it [00:00, 866.95it/s]\n",
      "1it [00:00, 6114.15it/s]\n",
      "100%|██████████| 1/1 [00:00<00:00, 13.98it/s]\n",
      "100%|██████████| 1/1 [00:00<00:00, 16070.13it/s]\n",
      "/home/ubuntu-gpu/project/laboratory/ghost-train/.venv/lib/python3.8/site-packages/mxnet/ndarray/utils.py:141: DeprecationWarning: Please use `csr_matrix` from the `scipy.sparse` namespace, the `scipy.sparse.csr` namespace is deprecated.\n",
      "  if spsp is not None and isinstance(source_array, spsp.csr.csr_matrix):\n",
      "/home/ubuntu-gpu/project/laboratory/ghost-train/.venv/lib/python3.8/site-packages/mxnet/ndarray/utils.py:141: DeprecationWarning: Please use `csr_matrix` from the `scipy.sparse` namespace, the `scipy.sparse.csr` namespace is deprecated.\n",
      "  if spsp is not None and isinstance(source_array, spsp.csr.csr_matrix):\n"
     ]
    },
    {
     "name": "stdout",
     "output_type": "stream",
     "text": [
      "Image saved at examples/results/id85-enhanced9/result_source1_target12.png\n",
      "input mean and std: 127.5 127.5\n",
      "find model: ./insightface_func/models/antelope/glintr100.onnx recognition\n",
      "find model: ./insightface_func/models/antelope/scrfd_10g_bnkps.onnx detection\n",
      "set det-size: (640, 640)\n",
      "loading ./coordinate_reg/model/2d106det 0\n"
     ]
    },
    {
     "name": "stderr",
     "output_type": "stream",
     "text": [
      "[02:16:23] /work/mxnet/src/nnvm/legacy_json_util.cc:208: Loading symbol saved by previous version v1.5.0. Attempting to upgrade...\n",
      "[02:16:23] /work/mxnet/src/nnvm/legacy_json_util.cc:216: Symbol successfully upgraded!\n"
     ]
    },
    {
     "name": "stdout",
     "output_type": "stream",
     "text": [
      "input mean and std: 127.5 127.5\n",
      "find model: ./insightface_func/models/antelope/glintr100.onnx recognition\n",
      "find model: ./insightface_func/models/antelope/scrfd_10g_bnkps.onnx detection\n",
      "set det-size: (640, 640)\n",
      "Everything is ok!\n",
      "1\n"
     ]
    },
    {
     "name": "stderr",
     "output_type": "stream",
     "text": [
      "100%|██████████| 1/1 [00:00<00:00, 20.45it/s]\n",
      "1it [00:00, 860.72it/s]\n",
      "1it [00:00, 5468.45it/s]\n",
      "100%|██████████| 1/1 [00:00<00:00, 59.03it/s]\n",
      "100%|██████████| 1/1 [00:00<00:00, 21732.15it/s]\n",
      "/home/ubuntu-gpu/project/laboratory/ghost-train/.venv/lib/python3.8/site-packages/mxnet/ndarray/utils.py:141: DeprecationWarning: Please use `csr_matrix` from the `scipy.sparse` namespace, the `scipy.sparse.csr` namespace is deprecated.\n",
      "  if spsp is not None and isinstance(source_array, spsp.csr.csr_matrix):\n",
      "/home/ubuntu-gpu/project/laboratory/ghost-train/.venv/lib/python3.8/site-packages/mxnet/ndarray/utils.py:141: DeprecationWarning: Please use `csr_matrix` from the `scipy.sparse` namespace, the `scipy.sparse.csr` namespace is deprecated.\n",
      "  if spsp is not None and isinstance(source_array, spsp.csr.csr_matrix):\n"
     ]
    },
    {
     "name": "stdout",
     "output_type": "stream",
     "text": [
      "Image saved at examples/results/id85-enhanced9/result_source1_target13.png\n",
      "input mean and std: 127.5 127.5\n",
      "find model: ./insightface_func/models/antelope/glintr100.onnx recognition\n",
      "find model: ./insightface_func/models/antelope/scrfd_10g_bnkps.onnx detection\n",
      "set det-size: (640, 640)\n",
      "loading ./coordinate_reg/model/2d106det 0\n",
      "input mean and std: 127.5 127.5\n",
      "find model: ./insightface_func/models/antelope/glintr100.onnx recognition\n",
      "find model: ./insightface_func/models/antelope/scrfd_10g_bnkps.onnx detection\n",
      "set det-size: (640, 640)\n",
      "Everything is ok!\n",
      "1\n"
     ]
    },
    {
     "name": "stderr",
     "output_type": "stream",
     "text": [
      "[02:16:27] /work/mxnet/src/nnvm/legacy_json_util.cc:208: Loading symbol saved by previous version v1.5.0. Attempting to upgrade...\n",
      "[02:16:27] /work/mxnet/src/nnvm/legacy_json_util.cc:216: Symbol successfully upgraded!\n",
      "100%|██████████| 1/1 [00:00<00:00, 20.68it/s]\n",
      "1it [00:00, 355.78it/s]\n",
      "1it [00:00, 6026.30it/s]\n",
      "100%|██████████| 1/1 [00:00<00:00, 13.80it/s]\n",
      "100%|██████████| 1/1 [00:00<00:00, 1518.57it/s]\n",
      "/home/ubuntu-gpu/project/laboratory/ghost-train/.venv/lib/python3.8/site-packages/mxnet/ndarray/utils.py:141: DeprecationWarning: Please use `csr_matrix` from the `scipy.sparse` namespace, the `scipy.sparse.csr` namespace is deprecated.\n",
      "  if spsp is not None and isinstance(source_array, spsp.csr.csr_matrix):\n",
      "/home/ubuntu-gpu/project/laboratory/ghost-train/.venv/lib/python3.8/site-packages/mxnet/ndarray/utils.py:141: DeprecationWarning: Please use `csr_matrix` from the `scipy.sparse` namespace, the `scipy.sparse.csr` namespace is deprecated.\n",
      "  if spsp is not None and isinstance(source_array, spsp.csr.csr_matrix):\n"
     ]
    },
    {
     "name": "stdout",
     "output_type": "stream",
     "text": [
      "Image saved at examples/results/id85-enhanced9/result_source1_target14.png\n",
      "input mean and std: 127.5 127.5\n",
      "find model: ./insightface_func/models/antelope/glintr100.onnx recognition\n",
      "find model: ./insightface_func/models/antelope/scrfd_10g_bnkps.onnx detection\n",
      "set det-size: (640, 640)\n",
      "loading ./coordinate_reg/model/2d106det 0\n",
      "input mean and std: 127.5 127.5\n",
      "find model: ./insightface_func/models/antelope/glintr100.onnx recognition\n",
      "find model: ./insightface_func/models/antelope/scrfd_10g_bnkps.onnx detection\n",
      "set det-size: (640, 640)\n",
      "Everything is ok!\n",
      "1\n"
     ]
    },
    {
     "name": "stderr",
     "output_type": "stream",
     "text": [
      "[02:16:30] /work/mxnet/src/nnvm/legacy_json_util.cc:208: Loading symbol saved by previous version v1.5.0. Attempting to upgrade...\n",
      "[02:16:30] /work/mxnet/src/nnvm/legacy_json_util.cc:216: Symbol successfully upgraded!\n",
      "100%|██████████| 1/1 [00:00<00:00, 19.39it/s]\n",
      "1it [00:00, 447.30it/s]\n",
      "1it [00:00, 6678.83it/s]\n",
      "100%|██████████| 1/1 [00:00<00:00, 44.10it/s]\n",
      "100%|██████████| 1/1 [00:00<00:00, 14873.42it/s]\n",
      "/home/ubuntu-gpu/project/laboratory/ghost-train/.venv/lib/python3.8/site-packages/mxnet/ndarray/utils.py:141: DeprecationWarning: Please use `csr_matrix` from the `scipy.sparse` namespace, the `scipy.sparse.csr` namespace is deprecated.\n",
      "  if spsp is not None and isinstance(source_array, spsp.csr.csr_matrix):\n",
      "/home/ubuntu-gpu/project/laboratory/ghost-train/.venv/lib/python3.8/site-packages/mxnet/ndarray/utils.py:141: DeprecationWarning: Please use `csr_matrix` from the `scipy.sparse` namespace, the `scipy.sparse.csr` namespace is deprecated.\n",
      "  if spsp is not None and isinstance(source_array, spsp.csr.csr_matrix):\n"
     ]
    },
    {
     "name": "stdout",
     "output_type": "stream",
     "text": [
      "Image saved at examples/results/id85-enhanced9/result_source1_target15.png\n",
      "input mean and std: 127.5 127.5\n",
      "find model: ./insightface_func/models/antelope/glintr100.onnx recognition\n",
      "find model: ./insightface_func/models/antelope/scrfd_10g_bnkps.onnx detection\n",
      "set det-size: (640, 640)\n",
      "loading ./coordinate_reg/model/2d106det 0\n"
     ]
    },
    {
     "name": "stderr",
     "output_type": "stream",
     "text": [
      "[02:16:33] /work/mxnet/src/nnvm/legacy_json_util.cc:208: Loading symbol saved by previous version v1.5.0. Attempting to upgrade...\n",
      "[02:16:33] /work/mxnet/src/nnvm/legacy_json_util.cc:216: Symbol successfully upgraded!\n"
     ]
    },
    {
     "name": "stdout",
     "output_type": "stream",
     "text": [
      "input mean and std: 127.5 127.5\n",
      "find model: ./insightface_func/models/antelope/glintr100.onnx recognition\n",
      "find model: ./insightface_func/models/antelope/scrfd_10g_bnkps.onnx detection\n",
      "set det-size: (640, 640)\n",
      "Everything is ok!\n",
      "1\n"
     ]
    },
    {
     "name": "stderr",
     "output_type": "stream",
     "text": [
      "100%|██████████| 1/1 [00:00<00:00, 18.45it/s]\n",
      "1it [00:00, 965.76it/s]\n",
      "1it [00:00, 5343.06it/s]\n",
      "100%|██████████| 1/1 [00:00<00:00, 12.96it/s]\n",
      "100%|██████████| 1/1 [00:00<00:00, 16448.25it/s]\n",
      "/home/ubuntu-gpu/project/laboratory/ghost-train/.venv/lib/python3.8/site-packages/mxnet/ndarray/utils.py:141: DeprecationWarning: Please use `csr_matrix` from the `scipy.sparse` namespace, the `scipy.sparse.csr` namespace is deprecated.\n",
      "  if spsp is not None and isinstance(source_array, spsp.csr.csr_matrix):\n",
      "/home/ubuntu-gpu/project/laboratory/ghost-train/.venv/lib/python3.8/site-packages/mxnet/ndarray/utils.py:141: DeprecationWarning: Please use `csr_matrix` from the `scipy.sparse` namespace, the `scipy.sparse.csr` namespace is deprecated.\n",
      "  if spsp is not None and isinstance(source_array, spsp.csr.csr_matrix):\n"
     ]
    },
    {
     "name": "stdout",
     "output_type": "stream",
     "text": [
      "Image saved at examples/results/id85-enhanced9/result_source1_target16.png\n",
      "input mean and std: 127.5 127.5\n",
      "find model: ./insightface_func/models/antelope/glintr100.onnx recognition\n",
      "find model: ./insightface_func/models/antelope/scrfd_10g_bnkps.onnx detection\n",
      "set det-size: (640, 640)\n",
      "loading ./coordinate_reg/model/2d106det 0\n",
      "input mean and std: 127.5 127.5\n",
      "find model: ./insightface_func/models/antelope/glintr100.onnx recognition\n",
      "find model: ./insightface_func/models/antelope/scrfd_10g_bnkps.onnx detection\n",
      "set det-size: (640, 640)\n",
      "Everything is ok!\n",
      "1\n"
     ]
    },
    {
     "name": "stderr",
     "output_type": "stream",
     "text": [
      "[02:16:36] /work/mxnet/src/nnvm/legacy_json_util.cc:208: Loading symbol saved by previous version v1.5.0. Attempting to upgrade...\n",
      "[02:16:36] /work/mxnet/src/nnvm/legacy_json_util.cc:216: Symbol successfully upgraded!\n",
      "100%|██████████| 1/1 [00:00<00:00, 19.04it/s]\n",
      "1it [00:00, 284.01it/s]\n",
      "1it [00:00, 4860.14it/s]\n",
      "100%|██████████| 1/1 [00:00<00:00, 46.14it/s]\n",
      "100%|██████████| 1/1 [00:00<00:00, 22310.13it/s]\n",
      "/home/ubuntu-gpu/project/laboratory/ghost-train/.venv/lib/python3.8/site-packages/mxnet/ndarray/utils.py:141: DeprecationWarning: Please use `csr_matrix` from the `scipy.sparse` namespace, the `scipy.sparse.csr` namespace is deprecated.\n",
      "  if spsp is not None and isinstance(source_array, spsp.csr.csr_matrix):\n",
      "/home/ubuntu-gpu/project/laboratory/ghost-train/.venv/lib/python3.8/site-packages/mxnet/ndarray/utils.py:141: DeprecationWarning: Please use `csr_matrix` from the `scipy.sparse` namespace, the `scipy.sparse.csr` namespace is deprecated.\n",
      "  if spsp is not None and isinstance(source_array, spsp.csr.csr_matrix):\n"
     ]
    },
    {
     "name": "stdout",
     "output_type": "stream",
     "text": [
      "Image saved at examples/results/id85-enhanced9/result_source2_target0.png\n",
      "input mean and std: 127.5 127.5\n",
      "find model: ./insightface_func/models/antelope/glintr100.onnx recognition\n",
      "find model: ./insightface_func/models/antelope/scrfd_10g_bnkps.onnx detection\n",
      "set det-size: (640, 640)\n",
      "loading ./coordinate_reg/model/2d106det 0\n"
     ]
    },
    {
     "name": "stderr",
     "output_type": "stream",
     "text": [
      "[02:16:39] /work/mxnet/src/nnvm/legacy_json_util.cc:208: Loading symbol saved by previous version v1.5.0. Attempting to upgrade...\n",
      "[02:16:39] /work/mxnet/src/nnvm/legacy_json_util.cc:216: Symbol successfully upgraded!\n"
     ]
    },
    {
     "name": "stdout",
     "output_type": "stream",
     "text": [
      "input mean and std: 127.5 127.5\n",
      "find model: ./insightface_func/models/antelope/glintr100.onnx recognition\n",
      "find model: ./insightface_func/models/antelope/scrfd_10g_bnkps.onnx detection\n",
      "set det-size: (640, 640)\n",
      "Everything is ok!\n",
      "1\n"
     ]
    },
    {
     "name": "stderr",
     "output_type": "stream",
     "text": [
      "100%|██████████| 1/1 [00:00<00:00, 19.00it/s]\n",
      "1it [00:00, 945.09it/s]\n",
      "1it [00:00, 6009.03it/s]\n",
      "100%|██████████| 1/1 [00:00<00:00, 13.58it/s]\n",
      "100%|██████████| 1/1 [00:00<00:00, 15141.89it/s]\n",
      "/home/ubuntu-gpu/project/laboratory/ghost-train/.venv/lib/python3.8/site-packages/mxnet/ndarray/utils.py:141: DeprecationWarning: Please use `csr_matrix` from the `scipy.sparse` namespace, the `scipy.sparse.csr` namespace is deprecated.\n",
      "  if spsp is not None and isinstance(source_array, spsp.csr.csr_matrix):\n",
      "/home/ubuntu-gpu/project/laboratory/ghost-train/.venv/lib/python3.8/site-packages/mxnet/ndarray/utils.py:141: DeprecationWarning: Please use `csr_matrix` from the `scipy.sparse` namespace, the `scipy.sparse.csr` namespace is deprecated.\n",
      "  if spsp is not None and isinstance(source_array, spsp.csr.csr_matrix):\n"
     ]
    },
    {
     "name": "stdout",
     "output_type": "stream",
     "text": [
      "Image saved at examples/results/id85-enhanced9/result_source2_target1.png\n",
      "input mean and std: 127.5 127.5\n",
      "find model: ./insightface_func/models/antelope/glintr100.onnx recognition\n",
      "find model: ./insightface_func/models/antelope/scrfd_10g_bnkps.onnx detection\n",
      "set det-size: (640, 640)\n",
      "loading ./coordinate_reg/model/2d106det 0\n",
      "input mean and std: 127.5 127.5\n",
      "find model: ./insightface_func/models/antelope/glintr100.onnx recognition\n",
      "find model: ./insightface_func/models/antelope/scrfd_10g_bnkps.onnx detection\n",
      "set det-size: (640, 640)\n",
      "Everything is ok!\n",
      "1\n"
     ]
    },
    {
     "name": "stderr",
     "output_type": "stream",
     "text": [
      "[02:16:42] /work/mxnet/src/nnvm/legacy_json_util.cc:208: Loading symbol saved by previous version v1.5.0. Attempting to upgrade...\n",
      "[02:16:42] /work/mxnet/src/nnvm/legacy_json_util.cc:216: Symbol successfully upgraded!\n",
      "100%|██████████| 1/1 [00:00<00:00, 17.82it/s]\n",
      "1it [00:00, 502.07it/s]\n",
      "1it [00:00, 5907.47it/s]\n",
      "100%|██████████| 1/1 [00:00<00:00, 14.55it/s]\n",
      "100%|██████████| 1/1 [00:00<00:00, 19508.39it/s]\n",
      "/home/ubuntu-gpu/project/laboratory/ghost-train/.venv/lib/python3.8/site-packages/mxnet/ndarray/utils.py:141: DeprecationWarning: Please use `csr_matrix` from the `scipy.sparse` namespace, the `scipy.sparse.csr` namespace is deprecated.\n",
      "  if spsp is not None and isinstance(source_array, spsp.csr.csr_matrix):\n",
      "/home/ubuntu-gpu/project/laboratory/ghost-train/.venv/lib/python3.8/site-packages/mxnet/ndarray/utils.py:141: DeprecationWarning: Please use `csr_matrix` from the `scipy.sparse` namespace, the `scipy.sparse.csr` namespace is deprecated.\n",
      "  if spsp is not None and isinstance(source_array, spsp.csr.csr_matrix):\n"
     ]
    },
    {
     "name": "stdout",
     "output_type": "stream",
     "text": [
      "Image saved at examples/results/id85-enhanced9/result_source2_target2.png\n",
      "input mean and std: 127.5 127.5\n",
      "find model: ./insightface_func/models/antelope/glintr100.onnx recognition\n",
      "find model: ./insightface_func/models/antelope/scrfd_10g_bnkps.onnx detection\n",
      "set det-size: (640, 640)\n",
      "loading ./coordinate_reg/model/2d106det 0\n",
      "input mean and std: 127.5 127.5\n",
      "find model: ./insightface_func/models/antelope/glintr100.onnx recognition\n",
      "find model: ./insightface_func/models/antelope/scrfd_10g_bnkps.onnx detection\n",
      "set det-size: (640, 640)\n",
      "Everything is ok!\n",
      "1\n"
     ]
    },
    {
     "name": "stderr",
     "output_type": "stream",
     "text": [
      "[02:16:46] /work/mxnet/src/nnvm/legacy_json_util.cc:208: Loading symbol saved by previous version v1.5.0. Attempting to upgrade...\n",
      "[02:16:46] /work/mxnet/src/nnvm/legacy_json_util.cc:216: Symbol successfully upgraded!\n",
      "100%|██████████| 1/1 [00:00<00:00, 16.71it/s]\n",
      "1it [00:00, 470.06it/s]\n",
      "1it [00:00, 4771.68it/s]\n",
      "100%|██████████| 1/1 [00:00<00:00, 14.01it/s]\n",
      "100%|██████████| 1/1 [00:00<00:00, 12483.05it/s]\n",
      "/home/ubuntu-gpu/project/laboratory/ghost-train/.venv/lib/python3.8/site-packages/mxnet/ndarray/utils.py:141: DeprecationWarning: Please use `csr_matrix` from the `scipy.sparse` namespace, the `scipy.sparse.csr` namespace is deprecated.\n",
      "  if spsp is not None and isinstance(source_array, spsp.csr.csr_matrix):\n",
      "/home/ubuntu-gpu/project/laboratory/ghost-train/.venv/lib/python3.8/site-packages/mxnet/ndarray/utils.py:141: DeprecationWarning: Please use `csr_matrix` from the `scipy.sparse` namespace, the `scipy.sparse.csr` namespace is deprecated.\n",
      "  if spsp is not None and isinstance(source_array, spsp.csr.csr_matrix):\n"
     ]
    },
    {
     "name": "stdout",
     "output_type": "stream",
     "text": [
      "Image saved at examples/results/id85-enhanced9/result_source2_target3.png\n",
      "input mean and std: 127.5 127.5\n",
      "find model: ./insightface_func/models/antelope/glintr100.onnx recognition\n",
      "find model: ./insightface_func/models/antelope/scrfd_10g_bnkps.onnx detection\n",
      "set det-size: (640, 640)\n",
      "loading ./coordinate_reg/model/2d106det 0\n"
     ]
    },
    {
     "name": "stderr",
     "output_type": "stream",
     "text": [
      "[02:16:49] /work/mxnet/src/nnvm/legacy_json_util.cc:208: Loading symbol saved by previous version v1.5.0. Attempting to upgrade...\n",
      "[02:16:49] /work/mxnet/src/nnvm/legacy_json_util.cc:216: Symbol successfully upgraded!\n"
     ]
    },
    {
     "name": "stdout",
     "output_type": "stream",
     "text": [
      "input mean and std: 127.5 127.5\n",
      "find model: ./insightface_func/models/antelope/glintr100.onnx recognition\n",
      "find model: ./insightface_func/models/antelope/scrfd_10g_bnkps.onnx detection\n",
      "set det-size: (640, 640)\n",
      "Everything is ok!\n",
      "1\n"
     ]
    },
    {
     "name": "stderr",
     "output_type": "stream",
     "text": [
      "100%|██████████| 1/1 [00:00<00:00, 16.34it/s]\n",
      "1it [00:00, 1041.80it/s]\n",
      "1it [00:00, 5874.38it/s]\n",
      "100%|██████████| 1/1 [00:00<00:00, 13.94it/s]\n",
      "100%|██████████| 1/1 [00:00<00:00, 22075.28it/s]\n",
      "/home/ubuntu-gpu/project/laboratory/ghost-train/.venv/lib/python3.8/site-packages/mxnet/ndarray/utils.py:141: DeprecationWarning: Please use `csr_matrix` from the `scipy.sparse` namespace, the `scipy.sparse.csr` namespace is deprecated.\n",
      "  if spsp is not None and isinstance(source_array, spsp.csr.csr_matrix):\n",
      "/home/ubuntu-gpu/project/laboratory/ghost-train/.venv/lib/python3.8/site-packages/mxnet/ndarray/utils.py:141: DeprecationWarning: Please use `csr_matrix` from the `scipy.sparse` namespace, the `scipy.sparse.csr` namespace is deprecated.\n",
      "  if spsp is not None and isinstance(source_array, spsp.csr.csr_matrix):\n"
     ]
    },
    {
     "name": "stdout",
     "output_type": "stream",
     "text": [
      "Image saved at examples/results/id85-enhanced9/result_source2_target4.png\n",
      "input mean and std: 127.5 127.5\n",
      "find model: ./insightface_func/models/antelope/glintr100.onnx recognition\n",
      "find model: ./insightface_func/models/antelope/scrfd_10g_bnkps.onnx detection\n",
      "set det-size: (640, 640)\n",
      "loading ./coordinate_reg/model/2d106det 0\n"
     ]
    },
    {
     "name": "stderr",
     "output_type": "stream",
     "text": [
      "[02:16:52] /work/mxnet/src/nnvm/legacy_json_util.cc:208: Loading symbol saved by previous version v1.5.0. Attempting to upgrade...\n",
      "[02:16:52] /work/mxnet/src/nnvm/legacy_json_util.cc:216: Symbol successfully upgraded!\n"
     ]
    },
    {
     "name": "stdout",
     "output_type": "stream",
     "text": [
      "input mean and std: 127.5 127.5\n",
      "find model: ./insightface_func/models/antelope/glintr100.onnx recognition\n",
      "find model: ./insightface_func/models/antelope/scrfd_10g_bnkps.onnx detection\n",
      "set det-size: (640, 640)\n",
      "Everything is ok!\n",
      "1\n"
     ]
    },
    {
     "name": "stderr",
     "output_type": "stream",
     "text": [
      "100%|██████████| 1/1 [00:00<00:00, 18.51it/s]\n",
      "1it [00:00, 699.98it/s]\n",
      "1it [00:00, 4002.20it/s]\n",
      "100%|██████████| 1/1 [00:00<00:00, 14.40it/s]\n",
      "100%|██████████| 1/1 [00:00<00:00, 22310.13it/s]\n",
      "/home/ubuntu-gpu/project/laboratory/ghost-train/.venv/lib/python3.8/site-packages/mxnet/ndarray/utils.py:141: DeprecationWarning: Please use `csr_matrix` from the `scipy.sparse` namespace, the `scipy.sparse.csr` namespace is deprecated.\n",
      "  if spsp is not None and isinstance(source_array, spsp.csr.csr_matrix):\n",
      "/home/ubuntu-gpu/project/laboratory/ghost-train/.venv/lib/python3.8/site-packages/mxnet/ndarray/utils.py:141: DeprecationWarning: Please use `csr_matrix` from the `scipy.sparse` namespace, the `scipy.sparse.csr` namespace is deprecated.\n",
      "  if spsp is not None and isinstance(source_array, spsp.csr.csr_matrix):\n"
     ]
    },
    {
     "name": "stdout",
     "output_type": "stream",
     "text": [
      "Image saved at examples/results/id85-enhanced9/result_source2_target5.png\n",
      "input mean and std: 127.5 127.5\n",
      "find model: ./insightface_func/models/antelope/glintr100.onnx recognition\n",
      "find model: ./insightface_func/models/antelope/scrfd_10g_bnkps.onnx detection\n",
      "set det-size: (640, 640)\n",
      "loading ./coordinate_reg/model/2d106det 0\n"
     ]
    },
    {
     "name": "stderr",
     "output_type": "stream",
     "text": [
      "[02:16:55] /work/mxnet/src/nnvm/legacy_json_util.cc:208: Loading symbol saved by previous version v1.5.0. Attempting to upgrade...\n",
      "[02:16:55] /work/mxnet/src/nnvm/legacy_json_util.cc:216: Symbol successfully upgraded!\n"
     ]
    },
    {
     "name": "stdout",
     "output_type": "stream",
     "text": [
      "input mean and std: 127.5 127.5\n",
      "find model: ./insightface_func/models/antelope/glintr100.onnx recognition\n",
      "find model: ./insightface_func/models/antelope/scrfd_10g_bnkps.onnx detection\n",
      "set det-size: (640, 640)\n",
      "Everything is ok!\n",
      "1\n"
     ]
    },
    {
     "name": "stderr",
     "output_type": "stream",
     "text": [
      "100%|██████████| 1/1 [00:00<00:00, 19.18it/s]\n",
      "1it [00:00, 353.03it/s]\n",
      "1it [00:00, 5833.52it/s]\n",
      "100%|██████████| 1/1 [00:00<00:00, 14.63it/s]\n",
      "100%|██████████| 1/1 [00:00<00:00, 20661.60it/s]\n",
      "/home/ubuntu-gpu/project/laboratory/ghost-train/.venv/lib/python3.8/site-packages/mxnet/ndarray/utils.py:141: DeprecationWarning: Please use `csr_matrix` from the `scipy.sparse` namespace, the `scipy.sparse.csr` namespace is deprecated.\n",
      "  if spsp is not None and isinstance(source_array, spsp.csr.csr_matrix):\n",
      "/home/ubuntu-gpu/project/laboratory/ghost-train/.venv/lib/python3.8/site-packages/mxnet/ndarray/utils.py:141: DeprecationWarning: Please use `csr_matrix` from the `scipy.sparse` namespace, the `scipy.sparse.csr` namespace is deprecated.\n",
      "  if spsp is not None and isinstance(source_array, spsp.csr.csr_matrix):\n"
     ]
    },
    {
     "name": "stdout",
     "output_type": "stream",
     "text": [
      "Image saved at examples/results/id85-enhanced9/result_source2_target6.png\n",
      "input mean and std: 127.5 127.5\n",
      "find model: ./insightface_func/models/antelope/glintr100.onnx recognition\n",
      "find model: ./insightface_func/models/antelope/scrfd_10g_bnkps.onnx detection\n",
      "set det-size: (640, 640)\n",
      "loading ./coordinate_reg/model/2d106det 0\n"
     ]
    },
    {
     "name": "stderr",
     "output_type": "stream",
     "text": [
      "[02:16:58] /work/mxnet/src/nnvm/legacy_json_util.cc:208: Loading symbol saved by previous version v1.5.0. Attempting to upgrade...\n",
      "[02:16:58] /work/mxnet/src/nnvm/legacy_json_util.cc:216: Symbol successfully upgraded!\n"
     ]
    },
    {
     "name": "stdout",
     "output_type": "stream",
     "text": [
      "input mean and std: 127.5 127.5\n",
      "find model: ./insightface_func/models/antelope/glintr100.onnx recognition\n",
      "find model: ./insightface_func/models/antelope/scrfd_10g_bnkps.onnx detection\n",
      "set det-size: (640, 640)\n",
      "Everything is ok!\n",
      "1\n"
     ]
    },
    {
     "name": "stderr",
     "output_type": "stream",
     "text": [
      "100%|██████████| 1/1 [00:00<00:00, 20.40it/s]\n",
      "1it [00:00, 523.31it/s]\n",
      "1it [00:00, 6168.09it/s]\n",
      "100%|██████████| 1/1 [00:00<00:00, 47.64it/s]\n",
      "100%|██████████| 1/1 [00:00<00:00, 20661.60it/s]\n",
      "/home/ubuntu-gpu/project/laboratory/ghost-train/.venv/lib/python3.8/site-packages/mxnet/ndarray/utils.py:141: DeprecationWarning: Please use `csr_matrix` from the `scipy.sparse` namespace, the `scipy.sparse.csr` namespace is deprecated.\n",
      "  if spsp is not None and isinstance(source_array, spsp.csr.csr_matrix):\n",
      "/home/ubuntu-gpu/project/laboratory/ghost-train/.venv/lib/python3.8/site-packages/mxnet/ndarray/utils.py:141: DeprecationWarning: Please use `csr_matrix` from the `scipy.sparse` namespace, the `scipy.sparse.csr` namespace is deprecated.\n",
      "  if spsp is not None and isinstance(source_array, spsp.csr.csr_matrix):\n"
     ]
    },
    {
     "name": "stdout",
     "output_type": "stream",
     "text": [
      "Image saved at examples/results/id85-enhanced9/result_source2_target7.png\n",
      "input mean and std: 127.5 127.5\n",
      "find model: ./insightface_func/models/antelope/glintr100.onnx recognition\n",
      "find model: ./insightface_func/models/antelope/scrfd_10g_bnkps.onnx detection\n",
      "set det-size: (640, 640)\n",
      "loading ./coordinate_reg/model/2d106det 0\n",
      "input mean and std: 127.5 127.5\n",
      "find model: ./insightface_func/models/antelope/glintr100.onnx recognition\n",
      "find model: ./insightface_func/models/antelope/scrfd_10g_bnkps.onnx detection\n",
      "set det-size: (640, 640)\n",
      "Everything is ok!\n",
      "1\n"
     ]
    },
    {
     "name": "stderr",
     "output_type": "stream",
     "text": [
      "[02:17:01] /work/mxnet/src/nnvm/legacy_json_util.cc:208: Loading symbol saved by previous version v1.5.0. Attempting to upgrade...\n",
      "[02:17:01] /work/mxnet/src/nnvm/legacy_json_util.cc:216: Symbol successfully upgraded!\n",
      "100%|██████████| 1/1 [00:00<00:00, 19.24it/s]\n",
      "1it [00:00, 363.39it/s]\n",
      "1it [00:00, 3872.86it/s]\n",
      "100%|██████████| 1/1 [00:00<00:00, 13.89it/s]\n",
      "100%|██████████| 1/1 [00:00<00:00, 15477.14it/s]\n",
      "/home/ubuntu-gpu/project/laboratory/ghost-train/.venv/lib/python3.8/site-packages/mxnet/ndarray/utils.py:141: DeprecationWarning: Please use `csr_matrix` from the `scipy.sparse` namespace, the `scipy.sparse.csr` namespace is deprecated.\n",
      "  if spsp is not None and isinstance(source_array, spsp.csr.csr_matrix):\n",
      "/home/ubuntu-gpu/project/laboratory/ghost-train/.venv/lib/python3.8/site-packages/mxnet/ndarray/utils.py:141: DeprecationWarning: Please use `csr_matrix` from the `scipy.sparse` namespace, the `scipy.sparse.csr` namespace is deprecated.\n",
      "  if spsp is not None and isinstance(source_array, spsp.csr.csr_matrix):\n"
     ]
    },
    {
     "name": "stdout",
     "output_type": "stream",
     "text": [
      "Image saved at examples/results/id85-enhanced9/result_source2_target8.png\n",
      "input mean and std: 127.5 127.5\n",
      "find model: ./insightface_func/models/antelope/glintr100.onnx recognition\n",
      "find model: ./insightface_func/models/antelope/scrfd_10g_bnkps.onnx detection\n",
      "set det-size: (640, 640)\n",
      "loading ./coordinate_reg/model/2d106det 0\n"
     ]
    },
    {
     "name": "stderr",
     "output_type": "stream",
     "text": [
      "[02:17:05] /work/mxnet/src/nnvm/legacy_json_util.cc:208: Loading symbol saved by previous version v1.5.0. Attempting to upgrade...\n",
      "[02:17:05] /work/mxnet/src/nnvm/legacy_json_util.cc:216: Symbol successfully upgraded!\n"
     ]
    },
    {
     "name": "stdout",
     "output_type": "stream",
     "text": [
      "input mean and std: 127.5 127.5\n",
      "find model: ./insightface_func/models/antelope/glintr100.onnx recognition\n",
      "find model: ./insightface_func/models/antelope/scrfd_10g_bnkps.onnx detection\n",
      "set det-size: (640, 640)\n",
      "Everything is ok!\n",
      "1\n"
     ]
    },
    {
     "name": "stderr",
     "output_type": "stream",
     "text": [
      "100%|██████████| 1/1 [00:00<00:00, 19.86it/s]\n",
      "1it [00:00, 428.47it/s]\n",
      "1it [00:00, 5849.80it/s]\n",
      "100%|██████████| 1/1 [00:00<00:00, 40.74it/s]\n",
      "100%|██████████| 1/1 [00:00<00:00, 19065.02it/s]\n",
      "/home/ubuntu-gpu/project/laboratory/ghost-train/.venv/lib/python3.8/site-packages/mxnet/ndarray/utils.py:141: DeprecationWarning: Please use `csr_matrix` from the `scipy.sparse` namespace, the `scipy.sparse.csr` namespace is deprecated.\n",
      "  if spsp is not None and isinstance(source_array, spsp.csr.csr_matrix):\n",
      "/home/ubuntu-gpu/project/laboratory/ghost-train/.venv/lib/python3.8/site-packages/mxnet/ndarray/utils.py:141: DeprecationWarning: Please use `csr_matrix` from the `scipy.sparse` namespace, the `scipy.sparse.csr` namespace is deprecated.\n",
      "  if spsp is not None and isinstance(source_array, spsp.csr.csr_matrix):\n"
     ]
    },
    {
     "name": "stdout",
     "output_type": "stream",
     "text": [
      "Image saved at examples/results/id85-enhanced9/result_source2_target9.png\n",
      "input mean and std: 127.5 127.5\n",
      "find model: ./insightface_func/models/antelope/glintr100.onnx recognition\n",
      "find model: ./insightface_func/models/antelope/scrfd_10g_bnkps.onnx detection\n",
      "set det-size: (640, 640)\n",
      "loading ./coordinate_reg/model/2d106det 0\n"
     ]
    },
    {
     "name": "stderr",
     "output_type": "stream",
     "text": [
      "[02:17:08] /work/mxnet/src/nnvm/legacy_json_util.cc:208: Loading symbol saved by previous version v1.5.0. Attempting to upgrade...\n",
      "[02:17:08] /work/mxnet/src/nnvm/legacy_json_util.cc:216: Symbol successfully upgraded!\n"
     ]
    },
    {
     "name": "stdout",
     "output_type": "stream",
     "text": [
      "input mean and std: 127.5 127.5\n",
      "find model: ./insightface_func/models/antelope/glintr100.onnx recognition\n",
      "find model: ./insightface_func/models/antelope/scrfd_10g_bnkps.onnx detection\n",
      "set det-size: (640, 640)\n",
      "Everything is ok!\n",
      "1\n"
     ]
    },
    {
     "name": "stderr",
     "output_type": "stream",
     "text": [
      "100%|██████████| 1/1 [00:00<00:00, 19.07it/s]\n",
      "1it [00:00, 684.11it/s]\n",
      "1it [00:00, 5548.02it/s]\n",
      "100%|██████████| 1/1 [00:00<00:00, 54.11it/s]\n",
      "100%|██████████| 1/1 [00:00<00:00, 20560.31it/s]\n",
      "/home/ubuntu-gpu/project/laboratory/ghost-train/.venv/lib/python3.8/site-packages/mxnet/ndarray/utils.py:141: DeprecationWarning: Please use `csr_matrix` from the `scipy.sparse` namespace, the `scipy.sparse.csr` namespace is deprecated.\n",
      "  if spsp is not None and isinstance(source_array, spsp.csr.csr_matrix):\n",
      "/home/ubuntu-gpu/project/laboratory/ghost-train/.venv/lib/python3.8/site-packages/mxnet/ndarray/utils.py:141: DeprecationWarning: Please use `csr_matrix` from the `scipy.sparse` namespace, the `scipy.sparse.csr` namespace is deprecated.\n",
      "  if spsp is not None and isinstance(source_array, spsp.csr.csr_matrix):\n"
     ]
    },
    {
     "name": "stdout",
     "output_type": "stream",
     "text": [
      "Image saved at examples/results/id85-enhanced9/result_source2_target10.png\n",
      "input mean and std: 127.5 127.5\n",
      "find model: ./insightface_func/models/antelope/glintr100.onnx recognition\n",
      "find model: ./insightface_func/models/antelope/scrfd_10g_bnkps.onnx detection\n",
      "set det-size: (640, 640)\n",
      "loading ./coordinate_reg/model/2d106det 0\n"
     ]
    },
    {
     "name": "stderr",
     "output_type": "stream",
     "text": [
      "[02:17:11] /work/mxnet/src/nnvm/legacy_json_util.cc:208: Loading symbol saved by previous version v1.5.0. Attempting to upgrade...\n",
      "[02:17:11] /work/mxnet/src/nnvm/legacy_json_util.cc:216: Symbol successfully upgraded!\n"
     ]
    },
    {
     "name": "stdout",
     "output_type": "stream",
     "text": [
      "input mean and std: 127.5 127.5\n",
      "find model: ./insightface_func/models/antelope/glintr100.onnx recognition\n",
      "find model: ./insightface_func/models/antelope/scrfd_10g_bnkps.onnx detection\n",
      "set det-size: (640, 640)\n",
      "Everything is ok!\n",
      "1\n"
     ]
    },
    {
     "name": "stderr",
     "output_type": "stream",
     "text": [
      "100%|██████████| 1/1 [00:00<00:00, 19.06it/s]\n",
      "1it [00:00, 949.80it/s]\n",
      "1it [00:00, 5165.40it/s]\n",
      "100%|██████████| 1/1 [00:00<00:00, 57.70it/s]\n",
      "100%|██████████| 1/1 [00:00<00:00, 21076.90it/s]\n",
      "/home/ubuntu-gpu/project/laboratory/ghost-train/.venv/lib/python3.8/site-packages/mxnet/ndarray/utils.py:141: DeprecationWarning: Please use `csr_matrix` from the `scipy.sparse` namespace, the `scipy.sparse.csr` namespace is deprecated.\n",
      "  if spsp is not None and isinstance(source_array, spsp.csr.csr_matrix):\n",
      "/home/ubuntu-gpu/project/laboratory/ghost-train/.venv/lib/python3.8/site-packages/mxnet/ndarray/utils.py:141: DeprecationWarning: Please use `csr_matrix` from the `scipy.sparse` namespace, the `scipy.sparse.csr` namespace is deprecated.\n",
      "  if spsp is not None and isinstance(source_array, spsp.csr.csr_matrix):\n"
     ]
    },
    {
     "name": "stdout",
     "output_type": "stream",
     "text": [
      "Image saved at examples/results/id85-enhanced9/result_source2_target11.png\n",
      "input mean and std: 127.5 127.5\n",
      "find model: ./insightface_func/models/antelope/glintr100.onnx recognition\n",
      "find model: ./insightface_func/models/antelope/scrfd_10g_bnkps.onnx detection\n",
      "set det-size: (640, 640)\n",
      "loading ./coordinate_reg/model/2d106det 0\n"
     ]
    },
    {
     "name": "stderr",
     "output_type": "stream",
     "text": [
      "[02:17:14] /work/mxnet/src/nnvm/legacy_json_util.cc:208: Loading symbol saved by previous version v1.5.0. Attempting to upgrade...\n",
      "[02:17:14] /work/mxnet/src/nnvm/legacy_json_util.cc:216: Symbol successfully upgraded!\n"
     ]
    },
    {
     "name": "stdout",
     "output_type": "stream",
     "text": [
      "input mean and std: 127.5 127.5\n",
      "find model: ./insightface_func/models/antelope/glintr100.onnx recognition\n",
      "find model: ./insightface_func/models/antelope/scrfd_10g_bnkps.onnx detection\n",
      "set det-size: (640, 640)\n",
      "Everything is ok!\n",
      "1\n"
     ]
    },
    {
     "name": "stderr",
     "output_type": "stream",
     "text": [
      "100%|██████████| 1/1 [00:00<00:00, 19.35it/s]\n",
      "1it [00:00, 731.48it/s]\n",
      "1it [00:00, 6482.70it/s]\n",
      "100%|██████████| 1/1 [00:00<00:00, 13.83it/s]\n",
      "100%|██████████| 1/1 [00:00<00:00, 18641.35it/s]\n",
      "/home/ubuntu-gpu/project/laboratory/ghost-train/.venv/lib/python3.8/site-packages/mxnet/ndarray/utils.py:141: DeprecationWarning: Please use `csr_matrix` from the `scipy.sparse` namespace, the `scipy.sparse.csr` namespace is deprecated.\n",
      "  if spsp is not None and isinstance(source_array, spsp.csr.csr_matrix):\n",
      "/home/ubuntu-gpu/project/laboratory/ghost-train/.venv/lib/python3.8/site-packages/mxnet/ndarray/utils.py:141: DeprecationWarning: Please use `csr_matrix` from the `scipy.sparse` namespace, the `scipy.sparse.csr` namespace is deprecated.\n",
      "  if spsp is not None and isinstance(source_array, spsp.csr.csr_matrix):\n"
     ]
    },
    {
     "name": "stdout",
     "output_type": "stream",
     "text": [
      "Image saved at examples/results/id85-enhanced9/result_source2_target12.png\n",
      "input mean and std: 127.5 127.5\n",
      "find model: ./insightface_func/models/antelope/glintr100.onnx recognition\n",
      "find model: ./insightface_func/models/antelope/scrfd_10g_bnkps.onnx detection\n",
      "set det-size: (640, 640)\n",
      "loading ./coordinate_reg/model/2d106det 0\n",
      "input mean and std: 127.5 127.5\n",
      "find model: ./insightface_func/models/antelope/glintr100.onnx recognition\n",
      "find model: ./insightface_func/models/antelope/scrfd_10g_bnkps.onnx detection\n",
      "set det-size: (640, 640)\n",
      "Everything is ok!\n",
      "1\n"
     ]
    },
    {
     "name": "stderr",
     "output_type": "stream",
     "text": [
      "[02:17:17] /work/mxnet/src/nnvm/legacy_json_util.cc:208: Loading symbol saved by previous version v1.5.0. Attempting to upgrade...\n",
      "[02:17:17] /work/mxnet/src/nnvm/legacy_json_util.cc:216: Symbol successfully upgraded!\n",
      "100%|██████████| 1/1 [00:00<00:00, 19.83it/s]\n",
      "1it [00:00, 642.31it/s]\n",
      "1it [00:00, 6241.52it/s]\n",
      "100%|██████████| 1/1 [00:00<00:00, 42.61it/s]\n",
      "100%|██████████| 1/1 [00:00<00:00, 20763.88it/s]\n",
      "/home/ubuntu-gpu/project/laboratory/ghost-train/.venv/lib/python3.8/site-packages/mxnet/ndarray/utils.py:141: DeprecationWarning: Please use `csr_matrix` from the `scipy.sparse` namespace, the `scipy.sparse.csr` namespace is deprecated.\n",
      "  if spsp is not None and isinstance(source_array, spsp.csr.csr_matrix):\n",
      "/home/ubuntu-gpu/project/laboratory/ghost-train/.venv/lib/python3.8/site-packages/mxnet/ndarray/utils.py:141: DeprecationWarning: Please use `csr_matrix` from the `scipy.sparse` namespace, the `scipy.sparse.csr` namespace is deprecated.\n",
      "  if spsp is not None and isinstance(source_array, spsp.csr.csr_matrix):\n"
     ]
    },
    {
     "name": "stdout",
     "output_type": "stream",
     "text": [
      "Image saved at examples/results/id85-enhanced9/result_source2_target13.png\n",
      "input mean and std: 127.5 127.5\n",
      "find model: ./insightface_func/models/antelope/glintr100.onnx recognition\n",
      "find model: ./insightface_func/models/antelope/scrfd_10g_bnkps.onnx detection\n",
      "set det-size: (640, 640)\n",
      "loading ./coordinate_reg/model/2d106det 0\n"
     ]
    },
    {
     "name": "stderr",
     "output_type": "stream",
     "text": [
      "[02:17:20] /work/mxnet/src/nnvm/legacy_json_util.cc:208: Loading symbol saved by previous version v1.5.0. Attempting to upgrade...\n",
      "[02:17:20] /work/mxnet/src/nnvm/legacy_json_util.cc:216: Symbol successfully upgraded!\n"
     ]
    },
    {
     "name": "stdout",
     "output_type": "stream",
     "text": [
      "input mean and std: 127.5 127.5\n",
      "find model: ./insightface_func/models/antelope/glintr100.onnx recognition\n",
      "find model: ./insightface_func/models/antelope/scrfd_10g_bnkps.onnx detection\n",
      "set det-size: (640, 640)\n",
      "Everything is ok!\n",
      "1\n"
     ]
    },
    {
     "name": "stderr",
     "output_type": "stream",
     "text": [
      "100%|██████████| 1/1 [00:00<00:00, 17.08it/s]\n",
      "1it [00:00, 668.41it/s]\n",
      "1it [00:00, 5454.23it/s]\n",
      "100%|██████████| 1/1 [00:00<00:00, 55.64it/s]\n",
      "100%|██████████| 1/1 [00:00<00:00, 21509.25it/s]\n",
      "/home/ubuntu-gpu/project/laboratory/ghost-train/.venv/lib/python3.8/site-packages/mxnet/ndarray/utils.py:141: DeprecationWarning: Please use `csr_matrix` from the `scipy.sparse` namespace, the `scipy.sparse.csr` namespace is deprecated.\n",
      "  if spsp is not None and isinstance(source_array, spsp.csr.csr_matrix):\n",
      "/home/ubuntu-gpu/project/laboratory/ghost-train/.venv/lib/python3.8/site-packages/mxnet/ndarray/utils.py:141: DeprecationWarning: Please use `csr_matrix` from the `scipy.sparse` namespace, the `scipy.sparse.csr` namespace is deprecated.\n",
      "  if spsp is not None and isinstance(source_array, spsp.csr.csr_matrix):\n"
     ]
    },
    {
     "name": "stdout",
     "output_type": "stream",
     "text": [
      "Image saved at examples/results/id85-enhanced9/result_source2_target14.png\n",
      "input mean and std: 127.5 127.5\n",
      "find model: ./insightface_func/models/antelope/glintr100.onnx recognition\n",
      "find model: ./insightface_func/models/antelope/scrfd_10g_bnkps.onnx detection\n",
      "set det-size: (640, 640)\n",
      "loading ./coordinate_reg/model/2d106det 0\n",
      "input mean and std: 127.5 127.5\n",
      "find model: ./insightface_func/models/antelope/glintr100.onnx recognition\n",
      "find model: ./insightface_func/models/antelope/scrfd_10g_bnkps.onnx detection\n",
      "set det-size: (640, 640)\n",
      "Everything is ok!\n",
      "1\n"
     ]
    },
    {
     "name": "stderr",
     "output_type": "stream",
     "text": [
      "[02:17:23] /work/mxnet/src/nnvm/legacy_json_util.cc:208: Loading symbol saved by previous version v1.5.0. Attempting to upgrade...\n",
      "[02:17:23] /work/mxnet/src/nnvm/legacy_json_util.cc:216: Symbol successfully upgraded!\n",
      "100%|██████████| 1/1 [00:00<00:00, 20.37it/s]\n",
      "1it [00:00, 176.83it/s]\n",
      "1it [00:00, 6177.18it/s]\n",
      "100%|██████████| 1/1 [00:00<00:00, 12.54it/s]\n",
      "100%|██████████| 1/1 [00:00<00:00, 15252.01it/s]\n",
      "/home/ubuntu-gpu/project/laboratory/ghost-train/.venv/lib/python3.8/site-packages/mxnet/ndarray/utils.py:141: DeprecationWarning: Please use `csr_matrix` from the `scipy.sparse` namespace, the `scipy.sparse.csr` namespace is deprecated.\n",
      "  if spsp is not None and isinstance(source_array, spsp.csr.csr_matrix):\n",
      "/home/ubuntu-gpu/project/laboratory/ghost-train/.venv/lib/python3.8/site-packages/mxnet/ndarray/utils.py:141: DeprecationWarning: Please use `csr_matrix` from the `scipy.sparse` namespace, the `scipy.sparse.csr` namespace is deprecated.\n",
      "  if spsp is not None and isinstance(source_array, spsp.csr.csr_matrix):\n"
     ]
    },
    {
     "name": "stdout",
     "output_type": "stream",
     "text": [
      "Image saved at examples/results/id85-enhanced9/result_source2_target15.png\n",
      "input mean and std: 127.5 127.5\n",
      "find model: ./insightface_func/models/antelope/glintr100.onnx recognition\n",
      "find model: ./insightface_func/models/antelope/scrfd_10g_bnkps.onnx detection\n",
      "set det-size: (640, 640)\n",
      "loading ./coordinate_reg/model/2d106det 0\n"
     ]
    },
    {
     "name": "stderr",
     "output_type": "stream",
     "text": [
      "[02:17:27] /work/mxnet/src/nnvm/legacy_json_util.cc:208: Loading symbol saved by previous version v1.5.0. Attempting to upgrade...\n",
      "[02:17:27] /work/mxnet/src/nnvm/legacy_json_util.cc:216: Symbol successfully upgraded!\n"
     ]
    },
    {
     "name": "stdout",
     "output_type": "stream",
     "text": [
      "input mean and std: 127.5 127.5\n",
      "find model: ./insightface_func/models/antelope/glintr100.onnx recognition\n",
      "find model: ./insightface_func/models/antelope/scrfd_10g_bnkps.onnx detection\n",
      "set det-size: (640, 640)\n",
      "Everything is ok!\n",
      "1\n"
     ]
    },
    {
     "name": "stderr",
     "output_type": "stream",
     "text": [
      "100%|██████████| 1/1 [00:00<00:00, 16.60it/s]\n",
      "1it [00:00, 400.91it/s]\n",
      "1it [00:00, 3284.50it/s]\n",
      "100%|██████████| 1/1 [00:00<00:00, 25.17it/s]\n",
      "100%|██████████| 1/1 [00:00<00:00, 21183.35it/s]\n",
      "/home/ubuntu-gpu/project/laboratory/ghost-train/.venv/lib/python3.8/site-packages/mxnet/ndarray/utils.py:141: DeprecationWarning: Please use `csr_matrix` from the `scipy.sparse` namespace, the `scipy.sparse.csr` namespace is deprecated.\n",
      "  if spsp is not None and isinstance(source_array, spsp.csr.csr_matrix):\n",
      "/home/ubuntu-gpu/project/laboratory/ghost-train/.venv/lib/python3.8/site-packages/mxnet/ndarray/utils.py:141: DeprecationWarning: Please use `csr_matrix` from the `scipy.sparse` namespace, the `scipy.sparse.csr` namespace is deprecated.\n",
      "  if spsp is not None and isinstance(source_array, spsp.csr.csr_matrix):\n"
     ]
    },
    {
     "name": "stdout",
     "output_type": "stream",
     "text": [
      "Image saved at examples/results/id85-enhanced9/result_source2_target16.png\n",
      "input mean and std: 127.5 127.5\n",
      "find model: ./insightface_func/models/antelope/glintr100.onnx recognition\n",
      "find model: ./insightface_func/models/antelope/scrfd_10g_bnkps.onnx detection\n",
      "set det-size: (640, 640)\n",
      "loading ./coordinate_reg/model/2d106det 0\n"
     ]
    },
    {
     "name": "stderr",
     "output_type": "stream",
     "text": [
      "[02:17:30] /work/mxnet/src/nnvm/legacy_json_util.cc:208: Loading symbol saved by previous version v1.5.0. Attempting to upgrade...\n",
      "[02:17:30] /work/mxnet/src/nnvm/legacy_json_util.cc:216: Symbol successfully upgraded!\n"
     ]
    },
    {
     "name": "stdout",
     "output_type": "stream",
     "text": [
      "input mean and std: 127.5 127.5\n",
      "find model: ./insightface_func/models/antelope/glintr100.onnx recognition\n",
      "find model: ./insightface_func/models/antelope/scrfd_10g_bnkps.onnx detection\n",
      "set det-size: (640, 640)\n",
      "Everything is ok!\n",
      "1\n"
     ]
    },
    {
     "name": "stderr",
     "output_type": "stream",
     "text": [
      "100%|██████████| 1/1 [00:00<00:00, 19.05it/s]\n",
      "1it [00:00, 272.32it/s]\n",
      "1it [00:00, 5607.36it/s]\n",
      "100%|██████████| 1/1 [00:00<00:00, 55.57it/s]\n",
      "100%|██████████| 1/1 [00:00<00:00, 20262.34it/s]\n",
      "/home/ubuntu-gpu/project/laboratory/ghost-train/.venv/lib/python3.8/site-packages/mxnet/ndarray/utils.py:141: DeprecationWarning: Please use `csr_matrix` from the `scipy.sparse` namespace, the `scipy.sparse.csr` namespace is deprecated.\n",
      "  if spsp is not None and isinstance(source_array, spsp.csr.csr_matrix):\n",
      "/home/ubuntu-gpu/project/laboratory/ghost-train/.venv/lib/python3.8/site-packages/mxnet/ndarray/utils.py:141: DeprecationWarning: Please use `csr_matrix` from the `scipy.sparse` namespace, the `scipy.sparse.csr` namespace is deprecated.\n",
      "  if spsp is not None and isinstance(source_array, spsp.csr.csr_matrix):\n"
     ]
    },
    {
     "name": "stdout",
     "output_type": "stream",
     "text": [
      "Image saved at examples/results/id85-enhanced9/result_source3_target0.png\n",
      "input mean and std: 127.5 127.5\n",
      "find model: ./insightface_func/models/antelope/glintr100.onnx recognition\n",
      "find model: ./insightface_func/models/antelope/scrfd_10g_bnkps.onnx detection\n",
      "set det-size: (640, 640)\n",
      "loading ./coordinate_reg/model/2d106det 0\n"
     ]
    },
    {
     "name": "stderr",
     "output_type": "stream",
     "text": [
      "[02:17:33] /work/mxnet/src/nnvm/legacy_json_util.cc:208: Loading symbol saved by previous version v1.5.0. Attempting to upgrade...\n",
      "[02:17:33] /work/mxnet/src/nnvm/legacy_json_util.cc:216: Symbol successfully upgraded!\n"
     ]
    },
    {
     "name": "stdout",
     "output_type": "stream",
     "text": [
      "input mean and std: 127.5 127.5\n",
      "find model: ./insightface_func/models/antelope/glintr100.onnx recognition\n",
      "find model: ./insightface_func/models/antelope/scrfd_10g_bnkps.onnx detection\n",
      "set det-size: (640, 640)\n",
      "Everything is ok!\n",
      "1\n"
     ]
    },
    {
     "name": "stderr",
     "output_type": "stream",
     "text": [
      "100%|██████████| 1/1 [00:00<00:00, 16.13it/s]\n",
      "1it [00:00, 150.01it/s]\n",
      "1it [00:00, 3609.56it/s]\n",
      "100%|██████████| 1/1 [00:00<00:00, 13.19it/s]\n",
      "100%|██████████| 1/1 [00:00<00:00, 22671.91it/s]\n",
      "/home/ubuntu-gpu/project/laboratory/ghost-train/.venv/lib/python3.8/site-packages/mxnet/ndarray/utils.py:141: DeprecationWarning: Please use `csr_matrix` from the `scipy.sparse` namespace, the `scipy.sparse.csr` namespace is deprecated.\n",
      "  if spsp is not None and isinstance(source_array, spsp.csr.csr_matrix):\n",
      "/home/ubuntu-gpu/project/laboratory/ghost-train/.venv/lib/python3.8/site-packages/mxnet/ndarray/utils.py:141: DeprecationWarning: Please use `csr_matrix` from the `scipy.sparse` namespace, the `scipy.sparse.csr` namespace is deprecated.\n",
      "  if spsp is not None and isinstance(source_array, spsp.csr.csr_matrix):\n"
     ]
    },
    {
     "name": "stdout",
     "output_type": "stream",
     "text": [
      "Image saved at examples/results/id85-enhanced9/result_source3_target1.png\n",
      "input mean and std: 127.5 127.5\n",
      "find model: ./insightface_func/models/antelope/glintr100.onnx recognition\n",
      "find model: ./insightface_func/models/antelope/scrfd_10g_bnkps.onnx detection\n",
      "set det-size: (640, 640)\n",
      "loading ./coordinate_reg/model/2d106det 0\n"
     ]
    },
    {
     "name": "stderr",
     "output_type": "stream",
     "text": [
      "[02:17:36] /work/mxnet/src/nnvm/legacy_json_util.cc:208: Loading symbol saved by previous version v1.5.0. Attempting to upgrade...\n",
      "[02:17:36] /work/mxnet/src/nnvm/legacy_json_util.cc:216: Symbol successfully upgraded!\n"
     ]
    },
    {
     "name": "stdout",
     "output_type": "stream",
     "text": [
      "input mean and std: 127.5 127.5\n",
      "find model: ./insightface_func/models/antelope/glintr100.onnx recognition\n",
      "find model: ./insightface_func/models/antelope/scrfd_10g_bnkps.onnx detection\n",
      "set det-size: (640, 640)\n",
      "Everything is ok!\n",
      "1\n"
     ]
    },
    {
     "name": "stderr",
     "output_type": "stream",
     "text": [
      "100%|██████████| 1/1 [00:00<00:00, 19.69it/s]\n",
      "1it [00:00, 569.18it/s]\n",
      "1it [00:00, 6374.32it/s]\n",
      "100%|██████████| 1/1 [00:00<00:00, 51.96it/s]\n",
      "100%|██████████| 1/1 [00:00<00:00, 20460.02it/s]\n",
      "/home/ubuntu-gpu/project/laboratory/ghost-train/.venv/lib/python3.8/site-packages/mxnet/ndarray/utils.py:141: DeprecationWarning: Please use `csr_matrix` from the `scipy.sparse` namespace, the `scipy.sparse.csr` namespace is deprecated.\n",
      "  if spsp is not None and isinstance(source_array, spsp.csr.csr_matrix):\n",
      "/home/ubuntu-gpu/project/laboratory/ghost-train/.venv/lib/python3.8/site-packages/mxnet/ndarray/utils.py:141: DeprecationWarning: Please use `csr_matrix` from the `scipy.sparse` namespace, the `scipy.sparse.csr` namespace is deprecated.\n",
      "  if spsp is not None and isinstance(source_array, spsp.csr.csr_matrix):\n"
     ]
    },
    {
     "name": "stdout",
     "output_type": "stream",
     "text": [
      "Image saved at examples/results/id85-enhanced9/result_source3_target2.png\n",
      "input mean and std: 127.5 127.5\n",
      "find model: ./insightface_func/models/antelope/glintr100.onnx recognition\n",
      "find model: ./insightface_func/models/antelope/scrfd_10g_bnkps.onnx detection\n",
      "set det-size: (640, 640)\n",
      "loading ./coordinate_reg/model/2d106det 0\n"
     ]
    },
    {
     "name": "stderr",
     "output_type": "stream",
     "text": [
      "[02:17:39] /work/mxnet/src/nnvm/legacy_json_util.cc:208: Loading symbol saved by previous version v1.5.0. Attempting to upgrade...\n",
      "[02:17:39] /work/mxnet/src/nnvm/legacy_json_util.cc:216: Symbol successfully upgraded!\n"
     ]
    },
    {
     "name": "stdout",
     "output_type": "stream",
     "text": [
      "input mean and std: 127.5 127.5\n",
      "find model: ./insightface_func/models/antelope/glintr100.onnx recognition\n",
      "find model: ./insightface_func/models/antelope/scrfd_10g_bnkps.onnx detection\n",
      "set det-size: (640, 640)\n",
      "Everything is ok!\n",
      "1\n"
     ]
    },
    {
     "name": "stderr",
     "output_type": "stream",
     "text": [
      "100%|██████████| 1/1 [00:00<00:00, 14.74it/s]\n",
      "1it [00:00, 684.00it/s]\n",
      "1it [00:00, 3960.63it/s]\n",
      "100%|██████████| 1/1 [00:00<00:00, 14.17it/s]\n",
      "100%|██████████| 1/1 [00:00<00:00, 16844.59it/s]\n",
      "/home/ubuntu-gpu/project/laboratory/ghost-train/.venv/lib/python3.8/site-packages/mxnet/ndarray/utils.py:141: DeprecationWarning: Please use `csr_matrix` from the `scipy.sparse` namespace, the `scipy.sparse.csr` namespace is deprecated.\n",
      "  if spsp is not None and isinstance(source_array, spsp.csr.csr_matrix):\n",
      "/home/ubuntu-gpu/project/laboratory/ghost-train/.venv/lib/python3.8/site-packages/mxnet/ndarray/utils.py:141: DeprecationWarning: Please use `csr_matrix` from the `scipy.sparse` namespace, the `scipy.sparse.csr` namespace is deprecated.\n",
      "  if spsp is not None and isinstance(source_array, spsp.csr.csr_matrix):\n"
     ]
    },
    {
     "name": "stdout",
     "output_type": "stream",
     "text": [
      "Image saved at examples/results/id85-enhanced9/result_source3_target3.png\n",
      "input mean and std: 127.5 127.5\n",
      "find model: ./insightface_func/models/antelope/glintr100.onnx recognition\n",
      "find model: ./insightface_func/models/antelope/scrfd_10g_bnkps.onnx detection\n",
      "set det-size: (640, 640)\n",
      "loading ./coordinate_reg/model/2d106det 0\n",
      "input mean and std: 127.5 127.5\n",
      "find model: ./insightface_func/models/antelope/glintr100.onnx recognition\n",
      "find model: ./insightface_func/models/antelope/scrfd_10g_bnkps.onnx detection\n",
      "set det-size: (640, 640)\n",
      "Everything is ok!\n",
      "1\n"
     ]
    },
    {
     "name": "stderr",
     "output_type": "stream",
     "text": [
      "[02:17:42] /work/mxnet/src/nnvm/legacy_json_util.cc:208: Loading symbol saved by previous version v1.5.0. Attempting to upgrade...\n",
      "[02:17:42] /work/mxnet/src/nnvm/legacy_json_util.cc:216: Symbol successfully upgraded!\n",
      "100%|██████████| 1/1 [00:00<00:00, 20.07it/s]\n",
      "1it [00:00, 474.04it/s]\n",
      "1it [00:00, 7206.71it/s]\n",
      "100%|██████████| 1/1 [00:00<00:00, 62.16it/s]\n",
      "100%|██████████| 1/1 [00:00<00:00, 20661.60it/s]\n",
      "/home/ubuntu-gpu/project/laboratory/ghost-train/.venv/lib/python3.8/site-packages/mxnet/ndarray/utils.py:141: DeprecationWarning: Please use `csr_matrix` from the `scipy.sparse` namespace, the `scipy.sparse.csr` namespace is deprecated.\n",
      "  if spsp is not None and isinstance(source_array, spsp.csr.csr_matrix):\n",
      "/home/ubuntu-gpu/project/laboratory/ghost-train/.venv/lib/python3.8/site-packages/mxnet/ndarray/utils.py:141: DeprecationWarning: Please use `csr_matrix` from the `scipy.sparse` namespace, the `scipy.sparse.csr` namespace is deprecated.\n",
      "  if spsp is not None and isinstance(source_array, spsp.csr.csr_matrix):\n"
     ]
    },
    {
     "name": "stdout",
     "output_type": "stream",
     "text": [
      "Image saved at examples/results/id85-enhanced9/result_source3_target4.png\n",
      "input mean and std: 127.5 127.5\n",
      "find model: ./insightface_func/models/antelope/glintr100.onnx recognition\n",
      "find model: ./insightface_func/models/antelope/scrfd_10g_bnkps.onnx detection\n",
      "set det-size: (640, 640)\n",
      "loading ./coordinate_reg/model/2d106det 0\n"
     ]
    },
    {
     "name": "stderr",
     "output_type": "stream",
     "text": [
      "[02:17:46] /work/mxnet/src/nnvm/legacy_json_util.cc:208: Loading symbol saved by previous version v1.5.0. Attempting to upgrade...\n",
      "[02:17:46] /work/mxnet/src/nnvm/legacy_json_util.cc:216: Symbol successfully upgraded!\n"
     ]
    },
    {
     "name": "stdout",
     "output_type": "stream",
     "text": [
      "input mean and std: 127.5 127.5\n",
      "find model: ./insightface_func/models/antelope/glintr100.onnx recognition\n",
      "find model: ./insightface_func/models/antelope/scrfd_10g_bnkps.onnx detection\n",
      "set det-size: (640, 640)\n",
      "Everything is ok!\n",
      "1\n"
     ]
    },
    {
     "name": "stderr",
     "output_type": "stream",
     "text": [
      "100%|██████████| 1/1 [00:00<00:00, 18.73it/s]\n",
      "1it [00:00, 449.74it/s]\n",
      "1it [00:00, 5793.24it/s]\n",
      "100%|██████████| 1/1 [00:00<00:00, 13.53it/s]\n",
      "100%|██████████| 1/1 [00:00<00:00, 21959.71it/s]\n",
      "/home/ubuntu-gpu/project/laboratory/ghost-train/.venv/lib/python3.8/site-packages/mxnet/ndarray/utils.py:141: DeprecationWarning: Please use `csr_matrix` from the `scipy.sparse` namespace, the `scipy.sparse.csr` namespace is deprecated.\n",
      "  if spsp is not None and isinstance(source_array, spsp.csr.csr_matrix):\n",
      "/home/ubuntu-gpu/project/laboratory/ghost-train/.venv/lib/python3.8/site-packages/mxnet/ndarray/utils.py:141: DeprecationWarning: Please use `csr_matrix` from the `scipy.sparse` namespace, the `scipy.sparse.csr` namespace is deprecated.\n",
      "  if spsp is not None and isinstance(source_array, spsp.csr.csr_matrix):\n"
     ]
    },
    {
     "name": "stdout",
     "output_type": "stream",
     "text": [
      "Image saved at examples/results/id85-enhanced9/result_source3_target5.png\n",
      "input mean and std: 127.5 127.5\n",
      "find model: ./insightface_func/models/antelope/glintr100.onnx recognition\n",
      "find model: ./insightface_func/models/antelope/scrfd_10g_bnkps.onnx detection\n",
      "set det-size: (640, 640)\n",
      "loading ./coordinate_reg/model/2d106det 0\n",
      "input mean and std: 127.5 127.5\n",
      "find model: ./insightface_func/models/antelope/glintr100.onnx recognition\n",
      "find model: ./insightface_func/models/antelope/scrfd_10g_bnkps.onnx detection\n",
      "set det-size: (640, 640)\n",
      "Everything is ok!\n",
      "1\n"
     ]
    },
    {
     "name": "stderr",
     "output_type": "stream",
     "text": [
      "[02:17:49] /work/mxnet/src/nnvm/legacy_json_util.cc:208: Loading symbol saved by previous version v1.5.0. Attempting to upgrade...\n",
      "[02:17:49] /work/mxnet/src/nnvm/legacy_json_util.cc:216: Symbol successfully upgraded!\n",
      "100%|██████████| 1/1 [00:00<00:00, 17.86it/s]\n",
      "1it [00:00, 332.38it/s]\n",
      "1it [00:00, 5384.22it/s]\n",
      "100%|██████████| 1/1 [00:00<00:00, 41.67it/s]\n",
      "100%|██████████| 1/1 [00:00<00:00, 17772.47it/s]\n",
      "/home/ubuntu-gpu/project/laboratory/ghost-train/.venv/lib/python3.8/site-packages/mxnet/ndarray/utils.py:141: DeprecationWarning: Please use `csr_matrix` from the `scipy.sparse` namespace, the `scipy.sparse.csr` namespace is deprecated.\n",
      "  if spsp is not None and isinstance(source_array, spsp.csr.csr_matrix):\n",
      "/home/ubuntu-gpu/project/laboratory/ghost-train/.venv/lib/python3.8/site-packages/mxnet/ndarray/utils.py:141: DeprecationWarning: Please use `csr_matrix` from the `scipy.sparse` namespace, the `scipy.sparse.csr` namespace is deprecated.\n",
      "  if spsp is not None and isinstance(source_array, spsp.csr.csr_matrix):\n"
     ]
    },
    {
     "name": "stdout",
     "output_type": "stream",
     "text": [
      "Image saved at examples/results/id85-enhanced9/result_source3_target6.png\n",
      "input mean and std: 127.5 127.5\n",
      "find model: ./insightface_func/models/antelope/glintr100.onnx recognition\n",
      "find model: ./insightface_func/models/antelope/scrfd_10g_bnkps.onnx detection\n",
      "set det-size: (640, 640)\n",
      "loading ./coordinate_reg/model/2d106det 0\n"
     ]
    },
    {
     "name": "stderr",
     "output_type": "stream",
     "text": [
      "[02:17:52] /work/mxnet/src/nnvm/legacy_json_util.cc:208: Loading symbol saved by previous version v1.5.0. Attempting to upgrade...\n",
      "[02:17:52] /work/mxnet/src/nnvm/legacy_json_util.cc:216: Symbol successfully upgraded!\n"
     ]
    },
    {
     "name": "stdout",
     "output_type": "stream",
     "text": [
      "input mean and std: 127.5 127.5\n",
      "find model: ./insightface_func/models/antelope/glintr100.onnx recognition\n",
      "find model: ./insightface_func/models/antelope/scrfd_10g_bnkps.onnx detection\n",
      "set det-size: (640, 640)\n",
      "Everything is ok!\n",
      "1\n"
     ]
    },
    {
     "name": "stderr",
     "output_type": "stream",
     "text": [
      "100%|██████████| 1/1 [00:00<00:00, 21.88it/s]\n",
      "1it [00:00, 873.27it/s]\n",
      "1it [00:00, 6260.16it/s]\n",
      "100%|██████████| 1/1 [00:00<00:00, 53.09it/s]\n",
      "100%|██████████| 1/1 [00:00<00:00, 15141.89it/s]\n",
      "/home/ubuntu-gpu/project/laboratory/ghost-train/.venv/lib/python3.8/site-packages/mxnet/ndarray/utils.py:141: DeprecationWarning: Please use `csr_matrix` from the `scipy.sparse` namespace, the `scipy.sparse.csr` namespace is deprecated.\n",
      "  if spsp is not None and isinstance(source_array, spsp.csr.csr_matrix):\n",
      "/home/ubuntu-gpu/project/laboratory/ghost-train/.venv/lib/python3.8/site-packages/mxnet/ndarray/utils.py:141: DeprecationWarning: Please use `csr_matrix` from the `scipy.sparse` namespace, the `scipy.sparse.csr` namespace is deprecated.\n",
      "  if spsp is not None and isinstance(source_array, spsp.csr.csr_matrix):\n"
     ]
    },
    {
     "name": "stdout",
     "output_type": "stream",
     "text": [
      "Image saved at examples/results/id85-enhanced9/result_source3_target7.png\n",
      "input mean and std: 127.5 127.5\n",
      "find model: ./insightface_func/models/antelope/glintr100.onnx recognition\n",
      "find model: ./insightface_func/models/antelope/scrfd_10g_bnkps.onnx detection\n",
      "set det-size: (640, 640)\n",
      "loading ./coordinate_reg/model/2d106det 0\n"
     ]
    },
    {
     "name": "stderr",
     "output_type": "stream",
     "text": [
      "[02:17:55] /work/mxnet/src/nnvm/legacy_json_util.cc:208: Loading symbol saved by previous version v1.5.0. Attempting to upgrade...\n",
      "[02:17:55] /work/mxnet/src/nnvm/legacy_json_util.cc:216: Symbol successfully upgraded!\n"
     ]
    },
    {
     "name": "stdout",
     "output_type": "stream",
     "text": [
      "input mean and std: 127.5 127.5\n",
      "find model: ./insightface_func/models/antelope/glintr100.onnx recognition\n",
      "find model: ./insightface_func/models/antelope/scrfd_10g_bnkps.onnx detection\n",
      "set det-size: (640, 640)\n",
      "Everything is ok!\n",
      "1\n"
     ]
    },
    {
     "name": "stderr",
     "output_type": "stream",
     "text": [
      "100%|██████████| 1/1 [00:00<00:00, 17.79it/s]\n",
      "1it [00:00, 350.43it/s]\n",
      "1it [00:00, 5833.52it/s]\n",
      "100%|██████████| 1/1 [00:00<00:00, 14.23it/s]\n",
      "100%|██████████| 1/1 [00:00<00:00, 14463.12it/s]\n",
      "/home/ubuntu-gpu/project/laboratory/ghost-train/.venv/lib/python3.8/site-packages/mxnet/ndarray/utils.py:141: DeprecationWarning: Please use `csr_matrix` from the `scipy.sparse` namespace, the `scipy.sparse.csr` namespace is deprecated.\n",
      "  if spsp is not None and isinstance(source_array, spsp.csr.csr_matrix):\n",
      "/home/ubuntu-gpu/project/laboratory/ghost-train/.venv/lib/python3.8/site-packages/mxnet/ndarray/utils.py:141: DeprecationWarning: Please use `csr_matrix` from the `scipy.sparse` namespace, the `scipy.sparse.csr` namespace is deprecated.\n",
      "  if spsp is not None and isinstance(source_array, spsp.csr.csr_matrix):\n"
     ]
    },
    {
     "name": "stdout",
     "output_type": "stream",
     "text": [
      "Image saved at examples/results/id85-enhanced9/result_source3_target8.png\n",
      "input mean and std: 127.5 127.5\n",
      "find model: ./insightface_func/models/antelope/glintr100.onnx recognition\n",
      "find model: ./insightface_func/models/antelope/scrfd_10g_bnkps.onnx detection\n",
      "set det-size: (640, 640)\n",
      "loading ./coordinate_reg/model/2d106det 0\n"
     ]
    },
    {
     "name": "stderr",
     "output_type": "stream",
     "text": [
      "[02:17:58] /work/mxnet/src/nnvm/legacy_json_util.cc:208: Loading symbol saved by previous version v1.5.0. Attempting to upgrade...\n",
      "[02:17:58] /work/mxnet/src/nnvm/legacy_json_util.cc:216: Symbol successfully upgraded!\n"
     ]
    },
    {
     "name": "stdout",
     "output_type": "stream",
     "text": [
      "input mean and std: 127.5 127.5\n",
      "find model: ./insightface_func/models/antelope/glintr100.onnx recognition\n",
      "find model: ./insightface_func/models/antelope/scrfd_10g_bnkps.onnx detection\n",
      "set det-size: (640, 640)\n",
      "Everything is ok!\n",
      "1\n"
     ]
    },
    {
     "name": "stderr",
     "output_type": "stream",
     "text": [
      "100%|██████████| 1/1 [00:00<00:00, 20.33it/s]\n",
      "1it [00:00, 542.32it/s]\n",
      "1it [00:00, 5216.80it/s]\n",
      "100%|██████████| 1/1 [00:00<00:00, 57.29it/s]\n",
      "100%|██████████| 1/1 [00:00<00:00, 18236.10it/s]\n",
      "/home/ubuntu-gpu/project/laboratory/ghost-train/.venv/lib/python3.8/site-packages/mxnet/ndarray/utils.py:141: DeprecationWarning: Please use `csr_matrix` from the `scipy.sparse` namespace, the `scipy.sparse.csr` namespace is deprecated.\n",
      "  if spsp is not None and isinstance(source_array, spsp.csr.csr_matrix):\n",
      "/home/ubuntu-gpu/project/laboratory/ghost-train/.venv/lib/python3.8/site-packages/mxnet/ndarray/utils.py:141: DeprecationWarning: Please use `csr_matrix` from the `scipy.sparse` namespace, the `scipy.sparse.csr` namespace is deprecated.\n",
      "  if spsp is not None and isinstance(source_array, spsp.csr.csr_matrix):\n"
     ]
    },
    {
     "name": "stdout",
     "output_type": "stream",
     "text": [
      "Image saved at examples/results/id85-enhanced9/result_source3_target9.png\n",
      "input mean and std: 127.5 127.5\n",
      "find model: ./insightface_func/models/antelope/glintr100.onnx recognition\n",
      "find model: ./insightface_func/models/antelope/scrfd_10g_bnkps.onnx detection\n",
      "set det-size: (640, 640)\n",
      "loading ./coordinate_reg/model/2d106det 0\n",
      "input mean and std: 127.5 127.5\n",
      "find model: ./insightface_func/models/antelope/glintr100.onnx recognition\n",
      "find model: ./insightface_func/models/antelope/scrfd_10g_bnkps.onnx detection\n",
      "set det-size: (640, 640)\n",
      "Everything is ok!\n",
      "1\n"
     ]
    },
    {
     "name": "stderr",
     "output_type": "stream",
     "text": [
      "[02:18:01] /work/mxnet/src/nnvm/legacy_json_util.cc:208: Loading symbol saved by previous version v1.5.0. Attempting to upgrade...\n",
      "[02:18:01] /work/mxnet/src/nnvm/legacy_json_util.cc:216: Symbol successfully upgraded!\n",
      "100%|██████████| 1/1 [00:00<00:00, 18.82it/s]\n",
      "1it [00:00, 1022.25it/s]\n",
      "1it [00:00, 4837.72it/s]\n",
      "100%|██████████| 1/1 [00:00<00:00, 15.92it/s]\n",
      "100%|██████████| 1/1 [00:00<00:00, 16070.13it/s]\n",
      "/home/ubuntu-gpu/project/laboratory/ghost-train/.venv/lib/python3.8/site-packages/mxnet/ndarray/utils.py:141: DeprecationWarning: Please use `csr_matrix` from the `scipy.sparse` namespace, the `scipy.sparse.csr` namespace is deprecated.\n",
      "  if spsp is not None and isinstance(source_array, spsp.csr.csr_matrix):\n",
      "/home/ubuntu-gpu/project/laboratory/ghost-train/.venv/lib/python3.8/site-packages/mxnet/ndarray/utils.py:141: DeprecationWarning: Please use `csr_matrix` from the `scipy.sparse` namespace, the `scipy.sparse.csr` namespace is deprecated.\n",
      "  if spsp is not None and isinstance(source_array, spsp.csr.csr_matrix):\n"
     ]
    },
    {
     "name": "stdout",
     "output_type": "stream",
     "text": [
      "Image saved at examples/results/id85-enhanced9/result_source3_target10.png\n",
      "input mean and std: 127.5 127.5\n",
      "find model: ./insightface_func/models/antelope/glintr100.onnx recognition\n",
      "find model: ./insightface_func/models/antelope/scrfd_10g_bnkps.onnx detection\n",
      "set det-size: (640, 640)\n",
      "loading ./coordinate_reg/model/2d106det 0\n"
     ]
    },
    {
     "name": "stderr",
     "output_type": "stream",
     "text": [
      "[02:18:04] /work/mxnet/src/nnvm/legacy_json_util.cc:208: Loading symbol saved by previous version v1.5.0. Attempting to upgrade...\n",
      "[02:18:04] /work/mxnet/src/nnvm/legacy_json_util.cc:216: Symbol successfully upgraded!\n"
     ]
    },
    {
     "name": "stdout",
     "output_type": "stream",
     "text": [
      "input mean and std: 127.5 127.5\n",
      "find model: ./insightface_func/models/antelope/glintr100.onnx recognition\n",
      "find model: ./insightface_func/models/antelope/scrfd_10g_bnkps.onnx detection\n",
      "set det-size: (640, 640)\n",
      "Everything is ok!\n",
      "1\n"
     ]
    },
    {
     "name": "stderr",
     "output_type": "stream",
     "text": [
      "100%|██████████| 1/1 [00:00<00:00, 19.81it/s]\n",
      "1it [00:00, 1015.32it/s]\n",
      "1it [00:00, 5440.08it/s]\n",
      "100%|██████████| 1/1 [00:00<00:00, 46.01it/s]\n",
      "100%|██████████| 1/1 [00:00<00:00, 15477.14it/s]\n",
      "/home/ubuntu-gpu/project/laboratory/ghost-train/.venv/lib/python3.8/site-packages/mxnet/ndarray/utils.py:141: DeprecationWarning: Please use `csr_matrix` from the `scipy.sparse` namespace, the `scipy.sparse.csr` namespace is deprecated.\n",
      "  if spsp is not None and isinstance(source_array, spsp.csr.csr_matrix):\n",
      "/home/ubuntu-gpu/project/laboratory/ghost-train/.venv/lib/python3.8/site-packages/mxnet/ndarray/utils.py:141: DeprecationWarning: Please use `csr_matrix` from the `scipy.sparse` namespace, the `scipy.sparse.csr` namespace is deprecated.\n",
      "  if spsp is not None and isinstance(source_array, spsp.csr.csr_matrix):\n"
     ]
    },
    {
     "name": "stdout",
     "output_type": "stream",
     "text": [
      "Image saved at examples/results/id85-enhanced9/result_source3_target11.png\n",
      "input mean and std: 127.5 127.5\n",
      "find model: ./insightface_func/models/antelope/glintr100.onnx recognition\n",
      "find model: ./insightface_func/models/antelope/scrfd_10g_bnkps.onnx detection\n",
      "set det-size: (640, 640)\n",
      "loading ./coordinate_reg/model/2d106det 0\n",
      "input mean and std: 127.5 127.5\n",
      "find model: ./insightface_func/models/antelope/glintr100.onnx recognition\n",
      "find model: ./insightface_func/models/antelope/scrfd_10g_bnkps.onnx detection\n",
      "set det-size: (640, 640)\n",
      "Everything is ok!\n",
      "1\n"
     ]
    },
    {
     "name": "stderr",
     "output_type": "stream",
     "text": [
      "[02:18:08] /work/mxnet/src/nnvm/legacy_json_util.cc:208: Loading symbol saved by previous version v1.5.0. Attempting to upgrade...\n",
      "[02:18:08] /work/mxnet/src/nnvm/legacy_json_util.cc:216: Symbol successfully upgraded!\n",
      "100%|██████████| 1/1 [00:00<00:00, 13.10it/s]\n",
      "1it [00:00, 671.52it/s]\n",
      "1it [00:00, 3366.22it/s]\n",
      "100%|██████████| 1/1 [00:00<00:00, 13.57it/s]\n",
      "100%|██████████| 1/1 [00:00<00:00, 18641.35it/s]\n",
      "/home/ubuntu-gpu/project/laboratory/ghost-train/.venv/lib/python3.8/site-packages/mxnet/ndarray/utils.py:141: DeprecationWarning: Please use `csr_matrix` from the `scipy.sparse` namespace, the `scipy.sparse.csr` namespace is deprecated.\n",
      "  if spsp is not None and isinstance(source_array, spsp.csr.csr_matrix):\n",
      "/home/ubuntu-gpu/project/laboratory/ghost-train/.venv/lib/python3.8/site-packages/mxnet/ndarray/utils.py:141: DeprecationWarning: Please use `csr_matrix` from the `scipy.sparse` namespace, the `scipy.sparse.csr` namespace is deprecated.\n",
      "  if spsp is not None and isinstance(source_array, spsp.csr.csr_matrix):\n"
     ]
    },
    {
     "name": "stdout",
     "output_type": "stream",
     "text": [
      "Image saved at examples/results/id85-enhanced9/result_source3_target12.png\n",
      "input mean and std: 127.5 127.5\n",
      "find model: ./insightface_func/models/antelope/glintr100.onnx recognition\n",
      "find model: ./insightface_func/models/antelope/scrfd_10g_bnkps.onnx detection\n",
      "set det-size: (640, 640)\n",
      "loading ./coordinate_reg/model/2d106det 0\n"
     ]
    },
    {
     "name": "stderr",
     "output_type": "stream",
     "text": [
      "[02:18:11] /work/mxnet/src/nnvm/legacy_json_util.cc:208: Loading symbol saved by previous version v1.5.0. Attempting to upgrade...\n",
      "[02:18:11] /work/mxnet/src/nnvm/legacy_json_util.cc:216: Symbol successfully upgraded!\n"
     ]
    },
    {
     "name": "stdout",
     "output_type": "stream",
     "text": [
      "input mean and std: 127.5 127.5\n",
      "find model: ./insightface_func/models/antelope/glintr100.onnx recognition\n",
      "find model: ./insightface_func/models/antelope/scrfd_10g_bnkps.onnx detection\n",
      "set det-size: (640, 640)\n",
      "Everything is ok!\n",
      "1\n"
     ]
    },
    {
     "name": "stderr",
     "output_type": "stream",
     "text": [
      "100%|██████████| 1/1 [00:00<00:00, 18.29it/s]\n",
      "1it [00:00, 197.17it/s]\n",
      "1it [00:00, 6533.18it/s]\n",
      "100%|██████████| 1/1 [00:00<00:00, 14.34it/s]\n",
      "100%|██████████| 1/1 [00:00<00:00, 13025.79it/s]\n",
      "/home/ubuntu-gpu/project/laboratory/ghost-train/.venv/lib/python3.8/site-packages/mxnet/ndarray/utils.py:141: DeprecationWarning: Please use `csr_matrix` from the `scipy.sparse` namespace, the `scipy.sparse.csr` namespace is deprecated.\n",
      "  if spsp is not None and isinstance(source_array, spsp.csr.csr_matrix):\n",
      "/home/ubuntu-gpu/project/laboratory/ghost-train/.venv/lib/python3.8/site-packages/mxnet/ndarray/utils.py:141: DeprecationWarning: Please use `csr_matrix` from the `scipy.sparse` namespace, the `scipy.sparse.csr` namespace is deprecated.\n",
      "  if spsp is not None and isinstance(source_array, spsp.csr.csr_matrix):\n"
     ]
    },
    {
     "name": "stdout",
     "output_type": "stream",
     "text": [
      "Image saved at examples/results/id85-enhanced9/result_source3_target13.png\n",
      "input mean and std: 127.5 127.5\n",
      "find model: ./insightface_func/models/antelope/glintr100.onnx recognition\n",
      "find model: ./insightface_func/models/antelope/scrfd_10g_bnkps.onnx detection\n",
      "set det-size: (640, 640)\n",
      "loading ./coordinate_reg/model/2d106det 0\n"
     ]
    },
    {
     "name": "stderr",
     "output_type": "stream",
     "text": [
      "[02:18:14] /work/mxnet/src/nnvm/legacy_json_util.cc:208: Loading symbol saved by previous version v1.5.0. Attempting to upgrade...\n",
      "[02:18:14] /work/mxnet/src/nnvm/legacy_json_util.cc:216: Symbol successfully upgraded!\n"
     ]
    },
    {
     "name": "stdout",
     "output_type": "stream",
     "text": [
      "input mean and std: 127.5 127.5\n",
      "find model: ./insightface_func/models/antelope/glintr100.onnx recognition\n",
      "find model: ./insightface_func/models/antelope/scrfd_10g_bnkps.onnx detection\n",
      "set det-size: (640, 640)\n",
      "Everything is ok!\n",
      "1\n"
     ]
    },
    {
     "name": "stderr",
     "output_type": "stream",
     "text": [
      "100%|██████████| 1/1 [00:00<00:00, 19.39it/s]\n",
      "1it [00:00, 577.97it/s]\n",
      "1it [00:00, 5398.07it/s]\n",
      "100%|██████████| 1/1 [00:00<00:00, 14.35it/s]\n",
      "100%|██████████| 1/1 [00:00<00:00, 14979.66it/s]\n",
      "/home/ubuntu-gpu/project/laboratory/ghost-train/.venv/lib/python3.8/site-packages/mxnet/ndarray/utils.py:141: DeprecationWarning: Please use `csr_matrix` from the `scipy.sparse` namespace, the `scipy.sparse.csr` namespace is deprecated.\n",
      "  if spsp is not None and isinstance(source_array, spsp.csr.csr_matrix):\n",
      "/home/ubuntu-gpu/project/laboratory/ghost-train/.venv/lib/python3.8/site-packages/mxnet/ndarray/utils.py:141: DeprecationWarning: Please use `csr_matrix` from the `scipy.sparse` namespace, the `scipy.sparse.csr` namespace is deprecated.\n",
      "  if spsp is not None and isinstance(source_array, spsp.csr.csr_matrix):\n"
     ]
    },
    {
     "name": "stdout",
     "output_type": "stream",
     "text": [
      "Image saved at examples/results/id85-enhanced9/result_source3_target14.png\n",
      "input mean and std: 127.5 127.5\n",
      "find model: ./insightface_func/models/antelope/glintr100.onnx recognition\n",
      "find model: ./insightface_func/models/antelope/scrfd_10g_bnkps.onnx detection\n",
      "set det-size: (640, 640)\n",
      "loading ./coordinate_reg/model/2d106det 0\n"
     ]
    },
    {
     "name": "stderr",
     "output_type": "stream",
     "text": [
      "[02:18:17] /work/mxnet/src/nnvm/legacy_json_util.cc:208: Loading symbol saved by previous version v1.5.0. Attempting to upgrade...\n",
      "[02:18:17] /work/mxnet/src/nnvm/legacy_json_util.cc:216: Symbol successfully upgraded!\n"
     ]
    },
    {
     "name": "stdout",
     "output_type": "stream",
     "text": [
      "input mean and std: 127.5 127.5\n",
      "find model: ./insightface_func/models/antelope/glintr100.onnx recognition\n",
      "find model: ./insightface_func/models/antelope/scrfd_10g_bnkps.onnx detection\n",
      "set det-size: (640, 640)\n",
      "Everything is ok!\n",
      "1\n"
     ]
    },
    {
     "name": "stderr",
     "output_type": "stream",
     "text": [
      "100%|██████████| 1/1 [00:00<00:00, 18.76it/s]\n",
      "1it [00:00, 150.27it/s]\n",
      "1it [00:00, 5592.41it/s]\n",
      "100%|██████████| 1/1 [00:00<00:00, 12.86it/s]\n",
      "100%|██████████| 1/1 [00:00<00:00, 22671.91it/s]\n",
      "/home/ubuntu-gpu/project/laboratory/ghost-train/.venv/lib/python3.8/site-packages/mxnet/ndarray/utils.py:141: DeprecationWarning: Please use `csr_matrix` from the `scipy.sparse` namespace, the `scipy.sparse.csr` namespace is deprecated.\n",
      "  if spsp is not None and isinstance(source_array, spsp.csr.csr_matrix):\n",
      "/home/ubuntu-gpu/project/laboratory/ghost-train/.venv/lib/python3.8/site-packages/mxnet/ndarray/utils.py:141: DeprecationWarning: Please use `csr_matrix` from the `scipy.sparse` namespace, the `scipy.sparse.csr` namespace is deprecated.\n",
      "  if spsp is not None and isinstance(source_array, spsp.csr.csr_matrix):\n"
     ]
    },
    {
     "name": "stdout",
     "output_type": "stream",
     "text": [
      "Image saved at examples/results/id85-enhanced9/result_source3_target15.png\n",
      "input mean and std: 127.5 127.5\n",
      "find model: ./insightface_func/models/antelope/glintr100.onnx recognition\n",
      "find model: ./insightface_func/models/antelope/scrfd_10g_bnkps.onnx detection\n",
      "set det-size: (640, 640)\n",
      "loading ./coordinate_reg/model/2d106det 0\n"
     ]
    },
    {
     "name": "stderr",
     "output_type": "stream",
     "text": [
      "[02:18:20] /work/mxnet/src/nnvm/legacy_json_util.cc:208: Loading symbol saved by previous version v1.5.0. Attempting to upgrade...\n",
      "[02:18:20] /work/mxnet/src/nnvm/legacy_json_util.cc:216: Symbol successfully upgraded!\n"
     ]
    },
    {
     "name": "stdout",
     "output_type": "stream",
     "text": [
      "input mean and std: 127.5 127.5\n",
      "find model: ./insightface_func/models/antelope/glintr100.onnx recognition\n",
      "find model: ./insightface_func/models/antelope/scrfd_10g_bnkps.onnx detection\n",
      "set det-size: (640, 640)\n",
      "Everything is ok!\n",
      "1\n"
     ]
    },
    {
     "name": "stderr",
     "output_type": "stream",
     "text": [
      "100%|██████████| 1/1 [00:00<00:00, 18.24it/s]\n",
      "1it [00:00, 401.64it/s]\n",
      "1it [00:00, 5737.76it/s]\n",
      "100%|██████████| 1/1 [00:00<00:00, 46.04it/s]\n",
      "100%|██████████| 1/1 [00:00<00:00, 13842.59it/s]\n",
      "/home/ubuntu-gpu/project/laboratory/ghost-train/.venv/lib/python3.8/site-packages/mxnet/ndarray/utils.py:141: DeprecationWarning: Please use `csr_matrix` from the `scipy.sparse` namespace, the `scipy.sparse.csr` namespace is deprecated.\n",
      "  if spsp is not None and isinstance(source_array, spsp.csr.csr_matrix):\n",
      "/home/ubuntu-gpu/project/laboratory/ghost-train/.venv/lib/python3.8/site-packages/mxnet/ndarray/utils.py:141: DeprecationWarning: Please use `csr_matrix` from the `scipy.sparse` namespace, the `scipy.sparse.csr` namespace is deprecated.\n",
      "  if spsp is not None and isinstance(source_array, spsp.csr.csr_matrix):\n"
     ]
    },
    {
     "name": "stdout",
     "output_type": "stream",
     "text": [
      "Image saved at examples/results/id85-enhanced9/result_source3_target16.png\n",
      "input mean and std: 127.5 127.5\n",
      "find model: ./insightface_func/models/antelope/glintr100.onnx recognition\n",
      "find model: ./insightface_func/models/antelope/scrfd_10g_bnkps.onnx detection\n",
      "set det-size: (640, 640)\n",
      "loading ./coordinate_reg/model/2d106det 0\n"
     ]
    },
    {
     "name": "stderr",
     "output_type": "stream",
     "text": [
      "[02:18:24] /work/mxnet/src/nnvm/legacy_json_util.cc:208: Loading symbol saved by previous version v1.5.0. Attempting to upgrade...\n",
      "[02:18:24] /work/mxnet/src/nnvm/legacy_json_util.cc:216: Symbol successfully upgraded!\n"
     ]
    },
    {
     "name": "stdout",
     "output_type": "stream",
     "text": [
      "input mean and std: 127.5 127.5\n",
      "find model: ./insightface_func/models/antelope/glintr100.onnx recognition\n",
      "find model: ./insightface_func/models/antelope/scrfd_10g_bnkps.onnx detection\n",
      "set det-size: (640, 640)\n",
      "Everything is ok!\n",
      "1\n"
     ]
    },
    {
     "name": "stderr",
     "output_type": "stream",
     "text": [
      "100%|██████████| 1/1 [00:00<00:00, 16.46it/s]\n",
      "1it [00:00, 395.95it/s]\n",
      "1it [00:00, 5915.80it/s]\n",
      "100%|██████████| 1/1 [00:00<00:00, 13.88it/s]\n",
      "100%|██████████| 1/1 [00:00<00:00, 18001.30it/s]\n",
      "/home/ubuntu-gpu/project/laboratory/ghost-train/.venv/lib/python3.8/site-packages/mxnet/ndarray/utils.py:141: DeprecationWarning: Please use `csr_matrix` from the `scipy.sparse` namespace, the `scipy.sparse.csr` namespace is deprecated.\n",
      "  if spsp is not None and isinstance(source_array, spsp.csr.csr_matrix):\n",
      "/home/ubuntu-gpu/project/laboratory/ghost-train/.venv/lib/python3.8/site-packages/mxnet/ndarray/utils.py:141: DeprecationWarning: Please use `csr_matrix` from the `scipy.sparse` namespace, the `scipy.sparse.csr` namespace is deprecated.\n",
      "  if spsp is not None and isinstance(source_array, spsp.csr.csr_matrix):\n"
     ]
    },
    {
     "name": "stdout",
     "output_type": "stream",
     "text": [
      "Image saved at examples/results/id85-enhanced9/result_source4_target0.png\n",
      "input mean and std: 127.5 127.5\n",
      "find model: ./insightface_func/models/antelope/glintr100.onnx recognition\n",
      "find model: ./insightface_func/models/antelope/scrfd_10g_bnkps.onnx detection\n",
      "set det-size: (640, 640)\n",
      "loading ./coordinate_reg/model/2d106det 0\n"
     ]
    },
    {
     "name": "stderr",
     "output_type": "stream",
     "text": [
      "[02:18:27] /work/mxnet/src/nnvm/legacy_json_util.cc:208: Loading symbol saved by previous version v1.5.0. Attempting to upgrade...\n",
      "[02:18:27] /work/mxnet/src/nnvm/legacy_json_util.cc:216: Symbol successfully upgraded!\n"
     ]
    },
    {
     "name": "stdout",
     "output_type": "stream",
     "text": [
      "input mean and std: 127.5 127.5\n",
      "find model: ./insightface_func/models/antelope/glintr100.onnx recognition\n",
      "find model: ./insightface_func/models/antelope/scrfd_10g_bnkps.onnx detection\n",
      "set det-size: (640, 640)\n",
      "Everything is ok!\n",
      "1\n"
     ]
    },
    {
     "name": "stderr",
     "output_type": "stream",
     "text": [
      "100%|██████████| 1/1 [00:00<00:00, 19.40it/s]\n",
      "1it [00:00, 375.93it/s]\n",
      "1it [00:00, 6168.09it/s]\n",
      "100%|██████████| 1/1 [00:00<00:00, 51.24it/s]\n",
      "100%|██████████| 1/1 [00:00<00:00, 19065.02it/s]\n",
      "/home/ubuntu-gpu/project/laboratory/ghost-train/.venv/lib/python3.8/site-packages/mxnet/ndarray/utils.py:141: DeprecationWarning: Please use `csr_matrix` from the `scipy.sparse` namespace, the `scipy.sparse.csr` namespace is deprecated.\n",
      "  if spsp is not None and isinstance(source_array, spsp.csr.csr_matrix):\n",
      "/home/ubuntu-gpu/project/laboratory/ghost-train/.venv/lib/python3.8/site-packages/mxnet/ndarray/utils.py:141: DeprecationWarning: Please use `csr_matrix` from the `scipy.sparse` namespace, the `scipy.sparse.csr` namespace is deprecated.\n",
      "  if spsp is not None and isinstance(source_array, spsp.csr.csr_matrix):\n"
     ]
    },
    {
     "name": "stdout",
     "output_type": "stream",
     "text": [
      "Image saved at examples/results/id85-enhanced9/result_source4_target1.png\n",
      "input mean and std: 127.5 127.5\n",
      "find model: ./insightface_func/models/antelope/glintr100.onnx recognition\n",
      "find model: ./insightface_func/models/antelope/scrfd_10g_bnkps.onnx detection\n",
      "set det-size: (640, 640)\n",
      "loading ./coordinate_reg/model/2d106det 0\n"
     ]
    },
    {
     "name": "stderr",
     "output_type": "stream",
     "text": [
      "[02:18:30] /work/mxnet/src/nnvm/legacy_json_util.cc:208: Loading symbol saved by previous version v1.5.0. Attempting to upgrade...\n",
      "[02:18:30] /work/mxnet/src/nnvm/legacy_json_util.cc:216: Symbol successfully upgraded!\n"
     ]
    },
    {
     "name": "stdout",
     "output_type": "stream",
     "text": [
      "input mean and std: 127.5 127.5\n",
      "find model: ./insightface_func/models/antelope/glintr100.onnx recognition\n",
      "find model: ./insightface_func/models/antelope/scrfd_10g_bnkps.onnx detection\n",
      "set det-size: (640, 640)\n",
      "Everything is ok!\n",
      "1\n"
     ]
    },
    {
     "name": "stderr",
     "output_type": "stream",
     "text": [
      "100%|██████████| 1/1 [00:00<00:00, 14.06it/s]\n",
      "1it [00:00, 684.45it/s]\n",
      "1it [00:00, 4821.04it/s]\n",
      "100%|██████████| 1/1 [00:00<00:00, 56.95it/s]\n",
      "100%|██████████| 1/1 [00:00<00:00, 22310.13it/s]\n",
      "/home/ubuntu-gpu/project/laboratory/ghost-train/.venv/lib/python3.8/site-packages/mxnet/ndarray/utils.py:141: DeprecationWarning: Please use `csr_matrix` from the `scipy.sparse` namespace, the `scipy.sparse.csr` namespace is deprecated.\n",
      "  if spsp is not None and isinstance(source_array, spsp.csr.csr_matrix):\n",
      "/home/ubuntu-gpu/project/laboratory/ghost-train/.venv/lib/python3.8/site-packages/mxnet/ndarray/utils.py:141: DeprecationWarning: Please use `csr_matrix` from the `scipy.sparse` namespace, the `scipy.sparse.csr` namespace is deprecated.\n",
      "  if spsp is not None and isinstance(source_array, spsp.csr.csr_matrix):\n"
     ]
    },
    {
     "name": "stdout",
     "output_type": "stream",
     "text": [
      "Image saved at examples/results/id85-enhanced9/result_source4_target2.png\n",
      "input mean and std: 127.5 127.5\n",
      "find model: ./insightface_func/models/antelope/glintr100.onnx recognition\n",
      "find model: ./insightface_func/models/antelope/scrfd_10g_bnkps.onnx detection\n",
      "set det-size: (640, 640)\n",
      "loading ./coordinate_reg/model/2d106det 0\n"
     ]
    },
    {
     "name": "stderr",
     "output_type": "stream",
     "text": [
      "[02:18:33] /work/mxnet/src/nnvm/legacy_json_util.cc:208: Loading symbol saved by previous version v1.5.0. Attempting to upgrade...\n",
      "[02:18:33] /work/mxnet/src/nnvm/legacy_json_util.cc:216: Symbol successfully upgraded!\n"
     ]
    },
    {
     "name": "stdout",
     "output_type": "stream",
     "text": [
      "input mean and std: 127.5 127.5\n",
      "find model: ./insightface_func/models/antelope/glintr100.onnx recognition\n",
      "find model: ./insightface_func/models/antelope/scrfd_10g_bnkps.onnx detection\n",
      "set det-size: (640, 640)\n",
      "Everything is ok!\n",
      "1\n"
     ]
    },
    {
     "name": "stderr",
     "output_type": "stream",
     "text": [
      "100%|██████████| 1/1 [00:00<00:00, 17.76it/s]\n",
      "1it [00:00, 567.95it/s]\n",
      "1it [00:00, 6492.73it/s]\n",
      "100%|██████████| 1/1 [00:00<00:00, 13.77it/s]\n",
      "100%|██████████| 1/1 [00:00<00:00, 10837.99it/s]\n",
      "/home/ubuntu-gpu/project/laboratory/ghost-train/.venv/lib/python3.8/site-packages/mxnet/ndarray/utils.py:141: DeprecationWarning: Please use `csr_matrix` from the `scipy.sparse` namespace, the `scipy.sparse.csr` namespace is deprecated.\n",
      "  if spsp is not None and isinstance(source_array, spsp.csr.csr_matrix):\n",
      "/home/ubuntu-gpu/project/laboratory/ghost-train/.venv/lib/python3.8/site-packages/mxnet/ndarray/utils.py:141: DeprecationWarning: Please use `csr_matrix` from the `scipy.sparse` namespace, the `scipy.sparse.csr` namespace is deprecated.\n",
      "  if spsp is not None and isinstance(source_array, spsp.csr.csr_matrix):\n"
     ]
    },
    {
     "name": "stdout",
     "output_type": "stream",
     "text": [
      "Image saved at examples/results/id85-enhanced9/result_source4_target3.png\n",
      "input mean and std: 127.5 127.5\n",
      "find model: ./insightface_func/models/antelope/glintr100.onnx recognition\n",
      "find model: ./insightface_func/models/antelope/scrfd_10g_bnkps.onnx detection\n",
      "set det-size: (640, 640)\n",
      "loading ./coordinate_reg/model/2d106det 0\n"
     ]
    },
    {
     "name": "stderr",
     "output_type": "stream",
     "text": [
      "[02:18:36] /work/mxnet/src/nnvm/legacy_json_util.cc:208: Loading symbol saved by previous version v1.5.0. Attempting to upgrade...\n",
      "[02:18:36] /work/mxnet/src/nnvm/legacy_json_util.cc:216: Symbol successfully upgraded!\n"
     ]
    },
    {
     "name": "stdout",
     "output_type": "stream",
     "text": [
      "input mean and std: 127.5 127.5\n",
      "find model: ./insightface_func/models/antelope/glintr100.onnx recognition\n",
      "find model: ./insightface_func/models/antelope/scrfd_10g_bnkps.onnx detection\n",
      "set det-size: (640, 640)\n",
      "Everything is ok!\n",
      "1\n"
     ]
    },
    {
     "name": "stderr",
     "output_type": "stream",
     "text": [
      "100%|██████████| 1/1 [00:00<00:00, 19.54it/s]\n",
      "1it [00:00, 528.92it/s]\n",
      "1it [00:00, 4419.71it/s]\n",
      "100%|██████████| 1/1 [00:00<00:00, 14.00it/s]\n",
      "100%|██████████| 1/1 [00:00<00:00, 15033.35it/s]\n",
      "/home/ubuntu-gpu/project/laboratory/ghost-train/.venv/lib/python3.8/site-packages/mxnet/ndarray/utils.py:141: DeprecationWarning: Please use `csr_matrix` from the `scipy.sparse` namespace, the `scipy.sparse.csr` namespace is deprecated.\n",
      "  if spsp is not None and isinstance(source_array, spsp.csr.csr_matrix):\n",
      "/home/ubuntu-gpu/project/laboratory/ghost-train/.venv/lib/python3.8/site-packages/mxnet/ndarray/utils.py:141: DeprecationWarning: Please use `csr_matrix` from the `scipy.sparse` namespace, the `scipy.sparse.csr` namespace is deprecated.\n",
      "  if spsp is not None and isinstance(source_array, spsp.csr.csr_matrix):\n"
     ]
    },
    {
     "name": "stdout",
     "output_type": "stream",
     "text": [
      "Image saved at examples/results/id85-enhanced9/result_source4_target4.png\n",
      "input mean and std: 127.5 127.5\n",
      "find model: ./insightface_func/models/antelope/glintr100.onnx recognition\n",
      "find model: ./insightface_func/models/antelope/scrfd_10g_bnkps.onnx detection\n",
      "set det-size: (640, 640)\n",
      "loading ./coordinate_reg/model/2d106det 0\n",
      "input mean and std: 127.5 127.5\n",
      "find model: ./insightface_func/models/antelope/glintr100.onnx recognition\n",
      "find model: ./insightface_func/models/antelope/scrfd_10g_bnkps.onnx detection\n",
      "set det-size: (640, 640)\n",
      "Everything is ok!\n",
      "1\n"
     ]
    },
    {
     "name": "stderr",
     "output_type": "stream",
     "text": [
      "[02:18:39] /work/mxnet/src/nnvm/legacy_json_util.cc:208: Loading symbol saved by previous version v1.5.0. Attempting to upgrade...\n",
      "[02:18:39] /work/mxnet/src/nnvm/legacy_json_util.cc:216: Symbol successfully upgraded!\n",
      "100%|██████████| 1/1 [00:00<00:00, 16.26it/s]\n",
      "1it [00:00, 328.14it/s]\n",
      "1it [00:00, 3837.42it/s]\n",
      "100%|██████████| 1/1 [00:00<00:00, 14.22it/s]\n",
      "100%|██████████| 1/1 [00:00<00:00, 21183.35it/s]\n",
      "/home/ubuntu-gpu/project/laboratory/ghost-train/.venv/lib/python3.8/site-packages/mxnet/ndarray/utils.py:141: DeprecationWarning: Please use `csr_matrix` from the `scipy.sparse` namespace, the `scipy.sparse.csr` namespace is deprecated.\n",
      "  if spsp is not None and isinstance(source_array, spsp.csr.csr_matrix):\n",
      "/home/ubuntu-gpu/project/laboratory/ghost-train/.venv/lib/python3.8/site-packages/mxnet/ndarray/utils.py:141: DeprecationWarning: Please use `csr_matrix` from the `scipy.sparse` namespace, the `scipy.sparse.csr` namespace is deprecated.\n",
      "  if spsp is not None and isinstance(source_array, spsp.csr.csr_matrix):\n"
     ]
    },
    {
     "name": "stdout",
     "output_type": "stream",
     "text": [
      "Image saved at examples/results/id85-enhanced9/result_source4_target5.png\n",
      "input mean and std: 127.5 127.5\n",
      "find model: ./insightface_func/models/antelope/glintr100.onnx recognition\n",
      "find model: ./insightface_func/models/antelope/scrfd_10g_bnkps.onnx detection\n",
      "set det-size: (640, 640)\n",
      "loading ./coordinate_reg/model/2d106det 0\n"
     ]
    },
    {
     "name": "stderr",
     "output_type": "stream",
     "text": [
      "[02:18:43] /work/mxnet/src/nnvm/legacy_json_util.cc:208: Loading symbol saved by previous version v1.5.0. Attempting to upgrade...\n",
      "[02:18:43] /work/mxnet/src/nnvm/legacy_json_util.cc:216: Symbol successfully upgraded!\n"
     ]
    },
    {
     "name": "stdout",
     "output_type": "stream",
     "text": [
      "input mean and std: 127.5 127.5\n",
      "find model: ./insightface_func/models/antelope/glintr100.onnx recognition\n",
      "find model: ./insightface_func/models/antelope/scrfd_10g_bnkps.onnx detection\n",
      "set det-size: (640, 640)\n",
      "Everything is ok!\n",
      "1\n"
     ]
    },
    {
     "name": "stderr",
     "output_type": "stream",
     "text": [
      "100%|██████████| 1/1 [00:00<00:00, 15.81it/s]\n",
      "1it [00:00, 1055.44it/s]\n",
      "1it [00:00, 5419.00it/s]\n",
      "100%|██████████| 1/1 [00:00<00:00, 14.23it/s]\n",
      "100%|██████████| 1/1 [00:00<00:00, 19328.59it/s]\n",
      "/home/ubuntu-gpu/project/laboratory/ghost-train/.venv/lib/python3.8/site-packages/mxnet/ndarray/utils.py:141: DeprecationWarning: Please use `csr_matrix` from the `scipy.sparse` namespace, the `scipy.sparse.csr` namespace is deprecated.\n",
      "  if spsp is not None and isinstance(source_array, spsp.csr.csr_matrix):\n",
      "/home/ubuntu-gpu/project/laboratory/ghost-train/.venv/lib/python3.8/site-packages/mxnet/ndarray/utils.py:141: DeprecationWarning: Please use `csr_matrix` from the `scipy.sparse` namespace, the `scipy.sparse.csr` namespace is deprecated.\n",
      "  if spsp is not None and isinstance(source_array, spsp.csr.csr_matrix):\n"
     ]
    },
    {
     "name": "stdout",
     "output_type": "stream",
     "text": [
      "Image saved at examples/results/id85-enhanced9/result_source4_target6.png\n",
      "input mean and std: 127.5 127.5\n",
      "find model: ./insightface_func/models/antelope/glintr100.onnx recognition\n",
      "find model: ./insightface_func/models/antelope/scrfd_10g_bnkps.onnx detection\n",
      "set det-size: (640, 640)\n",
      "loading ./coordinate_reg/model/2d106det 0\n",
      "input mean and std: 127.5 127.5\n",
      "find model: ./insightface_func/models/antelope/glintr100.onnx recognition\n",
      "find model: ./insightface_func/models/antelope/scrfd_10g_bnkps.onnx detection\n",
      "set det-size: (640, 640)\n",
      "Everything is ok!\n",
      "1\n"
     ]
    },
    {
     "name": "stderr",
     "output_type": "stream",
     "text": [
      "[02:18:46] /work/mxnet/src/nnvm/legacy_json_util.cc:208: Loading symbol saved by previous version v1.5.0. Attempting to upgrade...\n",
      "[02:18:46] /work/mxnet/src/nnvm/legacy_json_util.cc:216: Symbol successfully upgraded!\n",
      "100%|██████████| 1/1 [00:00<00:00, 17.69it/s]\n",
      "1it [00:00, 407.06it/s]\n",
      "1it [00:00, 5737.76it/s]\n",
      "100%|██████████| 1/1 [00:00<00:00, 48.90it/s]\n",
      "100%|██████████| 1/1 [00:00<00:00, 20867.18it/s]\n",
      "/home/ubuntu-gpu/project/laboratory/ghost-train/.venv/lib/python3.8/site-packages/mxnet/ndarray/utils.py:141: DeprecationWarning: Please use `csr_matrix` from the `scipy.sparse` namespace, the `scipy.sparse.csr` namespace is deprecated.\n",
      "  if spsp is not None and isinstance(source_array, spsp.csr.csr_matrix):\n",
      "/home/ubuntu-gpu/project/laboratory/ghost-train/.venv/lib/python3.8/site-packages/mxnet/ndarray/utils.py:141: DeprecationWarning: Please use `csr_matrix` from the `scipy.sparse` namespace, the `scipy.sparse.csr` namespace is deprecated.\n",
      "  if spsp is not None and isinstance(source_array, spsp.csr.csr_matrix):\n"
     ]
    },
    {
     "name": "stdout",
     "output_type": "stream",
     "text": [
      "Image saved at examples/results/id85-enhanced9/result_source4_target7.png\n",
      "input mean and std: 127.5 127.5\n",
      "find model: ./insightface_func/models/antelope/glintr100.onnx recognition\n",
      "find model: ./insightface_func/models/antelope/scrfd_10g_bnkps.onnx detection\n",
      "set det-size: (640, 640)\n",
      "loading ./coordinate_reg/model/2d106det 0\n"
     ]
    },
    {
     "name": "stderr",
     "output_type": "stream",
     "text": [
      "[02:18:49] /work/mxnet/src/nnvm/legacy_json_util.cc:208: Loading symbol saved by previous version v1.5.0. Attempting to upgrade...\n",
      "[02:18:49] /work/mxnet/src/nnvm/legacy_json_util.cc:216: Symbol successfully upgraded!\n"
     ]
    },
    {
     "name": "stdout",
     "output_type": "stream",
     "text": [
      "input mean and std: 127.5 127.5\n",
      "find model: ./insightface_func/models/antelope/glintr100.onnx recognition\n",
      "find model: ./insightface_func/models/antelope/scrfd_10g_bnkps.onnx detection\n",
      "set det-size: (640, 640)\n",
      "Everything is ok!\n",
      "1\n"
     ]
    },
    {
     "name": "stderr",
     "output_type": "stream",
     "text": [
      "100%|██████████| 1/1 [00:00<00:00, 19.40it/s]\n",
      "1it [00:00, 258.16it/s]\n",
      "1it [00:00, 5722.11it/s]\n",
      "100%|██████████| 1/1 [00:00<00:00, 13.19it/s]\n",
      "100%|██████████| 1/1 [00:00<00:00, 16070.13it/s]\n",
      "/home/ubuntu-gpu/project/laboratory/ghost-train/.venv/lib/python3.8/site-packages/mxnet/ndarray/utils.py:141: DeprecationWarning: Please use `csr_matrix` from the `scipy.sparse` namespace, the `scipy.sparse.csr` namespace is deprecated.\n",
      "  if spsp is not None and isinstance(source_array, spsp.csr.csr_matrix):\n",
      "/home/ubuntu-gpu/project/laboratory/ghost-train/.venv/lib/python3.8/site-packages/mxnet/ndarray/utils.py:141: DeprecationWarning: Please use `csr_matrix` from the `scipy.sparse` namespace, the `scipy.sparse.csr` namespace is deprecated.\n",
      "  if spsp is not None and isinstance(source_array, spsp.csr.csr_matrix):\n"
     ]
    },
    {
     "name": "stdout",
     "output_type": "stream",
     "text": [
      "Image saved at examples/results/id85-enhanced9/result_source4_target8.png\n",
      "input mean and std: 127.5 127.5\n",
      "find model: ./insightface_func/models/antelope/glintr100.onnx recognition\n",
      "find model: ./insightface_func/models/antelope/scrfd_10g_bnkps.onnx detection\n",
      "set det-size: (640, 640)\n",
      "loading ./coordinate_reg/model/2d106det 0\n"
     ]
    },
    {
     "name": "stderr",
     "output_type": "stream",
     "text": [
      "[02:18:52] /work/mxnet/src/nnvm/legacy_json_util.cc:208: Loading symbol saved by previous version v1.5.0. Attempting to upgrade...\n",
      "[02:18:52] /work/mxnet/src/nnvm/legacy_json_util.cc:216: Symbol successfully upgraded!\n"
     ]
    },
    {
     "name": "stdout",
     "output_type": "stream",
     "text": [
      "input mean and std: 127.5 127.5\n",
      "find model: ./insightface_func/models/antelope/glintr100.onnx recognition\n",
      "find model: ./insightface_func/models/antelope/scrfd_10g_bnkps.onnx detection\n",
      "set det-size: (640, 640)\n",
      "Everything is ok!\n",
      "1\n"
     ]
    },
    {
     "name": "stderr",
     "output_type": "stream",
     "text": [
      "100%|██████████| 1/1 [00:00<00:00, 20.79it/s]\n",
      "1it [00:00, 605.94it/s]\n",
      "1it [00:00, 5433.04it/s]\n",
      "100%|██████████| 1/1 [00:00<00:00, 44.37it/s]\n",
      "100%|██████████| 1/1 [00:00<00:00, 19152.07it/s]\n",
      "/home/ubuntu-gpu/project/laboratory/ghost-train/.venv/lib/python3.8/site-packages/mxnet/ndarray/utils.py:141: DeprecationWarning: Please use `csr_matrix` from the `scipy.sparse` namespace, the `scipy.sparse.csr` namespace is deprecated.\n",
      "  if spsp is not None and isinstance(source_array, spsp.csr.csr_matrix):\n",
      "/home/ubuntu-gpu/project/laboratory/ghost-train/.venv/lib/python3.8/site-packages/mxnet/ndarray/utils.py:141: DeprecationWarning: Please use `csr_matrix` from the `scipy.sparse` namespace, the `scipy.sparse.csr` namespace is deprecated.\n",
      "  if spsp is not None and isinstance(source_array, spsp.csr.csr_matrix):\n"
     ]
    },
    {
     "name": "stdout",
     "output_type": "stream",
     "text": [
      "Image saved at examples/results/id85-enhanced9/result_source4_target9.png\n",
      "input mean and std: 127.5 127.5\n",
      "find model: ./insightface_func/models/antelope/glintr100.onnx recognition\n",
      "find model: ./insightface_func/models/antelope/scrfd_10g_bnkps.onnx detection\n",
      "set det-size: (640, 640)\n",
      "loading ./coordinate_reg/model/2d106det 0\n"
     ]
    },
    {
     "name": "stderr",
     "output_type": "stream",
     "text": [
      "[02:18:55] /work/mxnet/src/nnvm/legacy_json_util.cc:208: Loading symbol saved by previous version v1.5.0. Attempting to upgrade...\n",
      "[02:18:55] /work/mxnet/src/nnvm/legacy_json_util.cc:216: Symbol successfully upgraded!\n"
     ]
    },
    {
     "name": "stdout",
     "output_type": "stream",
     "text": [
      "input mean and std: 127.5 127.5\n",
      "find model: ./insightface_func/models/antelope/glintr100.onnx recognition\n",
      "find model: ./insightface_func/models/antelope/scrfd_10g_bnkps.onnx detection\n",
      "set det-size: (640, 640)\n",
      "Everything is ok!\n",
      "1\n"
     ]
    },
    {
     "name": "stderr",
     "output_type": "stream",
     "text": [
      "100%|██████████| 1/1 [00:00<00:00, 13.87it/s]\n",
      "1it [00:00, 555.83it/s]\n",
      "1it [00:00, 4750.06it/s]\n",
      "100%|██████████| 1/1 [00:00<00:00, 52.63it/s]\n",
      "100%|██████████| 1/1 [00:00<00:00, 12336.19it/s]\n",
      "/home/ubuntu-gpu/project/laboratory/ghost-train/.venv/lib/python3.8/site-packages/mxnet/ndarray/utils.py:141: DeprecationWarning: Please use `csr_matrix` from the `scipy.sparse` namespace, the `scipy.sparse.csr` namespace is deprecated.\n",
      "  if spsp is not None and isinstance(source_array, spsp.csr.csr_matrix):\n",
      "/home/ubuntu-gpu/project/laboratory/ghost-train/.venv/lib/python3.8/site-packages/mxnet/ndarray/utils.py:141: DeprecationWarning: Please use `csr_matrix` from the `scipy.sparse` namespace, the `scipy.sparse.csr` namespace is deprecated.\n",
      "  if spsp is not None and isinstance(source_array, spsp.csr.csr_matrix):\n"
     ]
    },
    {
     "name": "stdout",
     "output_type": "stream",
     "text": [
      "Image saved at examples/results/id85-enhanced9/result_source4_target10.png\n",
      "input mean and std: 127.5 127.5\n",
      "find model: ./insightface_func/models/antelope/glintr100.onnx recognition\n",
      "find model: ./insightface_func/models/antelope/scrfd_10g_bnkps.onnx detection\n",
      "set det-size: (640, 640)\n",
      "loading ./coordinate_reg/model/2d106det 0\n",
      "input mean and std: 127.5 127.5\n",
      "find model: ./insightface_func/models/antelope/glintr100.onnx recognition\n",
      "find model: ./insightface_func/models/antelope/scrfd_10g_bnkps.onnx detection\n",
      "set det-size: (640, 640)\n",
      "Everything is ok!\n",
      "1\n"
     ]
    },
    {
     "name": "stderr",
     "output_type": "stream",
     "text": [
      "[02:18:59] /work/mxnet/src/nnvm/legacy_json_util.cc:208: Loading symbol saved by previous version v1.5.0. Attempting to upgrade...\n",
      "[02:18:59] /work/mxnet/src/nnvm/legacy_json_util.cc:216: Symbol successfully upgraded!\n",
      "100%|██████████| 1/1 [00:00<00:00, 17.58it/s]\n",
      "1it [00:00, 528.18it/s]\n",
      "1it [00:00, 6250.83it/s]\n",
      "100%|██████████| 1/1 [00:00<00:00, 13.57it/s]\n",
      "100%|██████████| 1/1 [00:00<00:00, 2855.21it/s]\n",
      "/home/ubuntu-gpu/project/laboratory/ghost-train/.venv/lib/python3.8/site-packages/mxnet/ndarray/utils.py:141: DeprecationWarning: Please use `csr_matrix` from the `scipy.sparse` namespace, the `scipy.sparse.csr` namespace is deprecated.\n",
      "  if spsp is not None and isinstance(source_array, spsp.csr.csr_matrix):\n",
      "/home/ubuntu-gpu/project/laboratory/ghost-train/.venv/lib/python3.8/site-packages/mxnet/ndarray/utils.py:141: DeprecationWarning: Please use `csr_matrix` from the `scipy.sparse` namespace, the `scipy.sparse.csr` namespace is deprecated.\n",
      "  if spsp is not None and isinstance(source_array, spsp.csr.csr_matrix):\n"
     ]
    },
    {
     "name": "stdout",
     "output_type": "stream",
     "text": [
      "Image saved at examples/results/id85-enhanced9/result_source4_target11.png\n",
      "input mean and std: 127.5 127.5\n",
      "find model: ./insightface_func/models/antelope/glintr100.onnx recognition\n",
      "find model: ./insightface_func/models/antelope/scrfd_10g_bnkps.onnx detection\n",
      "set det-size: (640, 640)\n",
      "loading ./coordinate_reg/model/2d106det 0\n",
      "input mean and std: 127.5 127.5\n",
      "find model: ./insightface_func/models/antelope/glintr100.onnx recognition\n",
      "find model: ./insightface_func/models/antelope/scrfd_10g_bnkps.onnx detection\n",
      "set det-size: (640, 640)\n",
      "Everything is ok!\n",
      "1\n"
     ]
    },
    {
     "name": "stderr",
     "output_type": "stream",
     "text": [
      "[02:19:02] /work/mxnet/src/nnvm/legacy_json_util.cc:208: Loading symbol saved by previous version v1.5.0. Attempting to upgrade...\n",
      "[02:19:02] /work/mxnet/src/nnvm/legacy_json_util.cc:216: Symbol successfully upgraded!\n",
      "100%|██████████| 1/1 [00:00<00:00, 18.73it/s]\n",
      "1it [00:00, 203.60it/s]\n",
      "1it [00:00, 6636.56it/s]\n",
      "100%|██████████| 1/1 [00:00<00:00, 51.31it/s]\n",
      "100%|██████████| 1/1 [00:00<00:00, 17549.39it/s]\n",
      "/home/ubuntu-gpu/project/laboratory/ghost-train/.venv/lib/python3.8/site-packages/mxnet/ndarray/utils.py:141: DeprecationWarning: Please use `csr_matrix` from the `scipy.sparse` namespace, the `scipy.sparse.csr` namespace is deprecated.\n",
      "  if spsp is not None and isinstance(source_array, spsp.csr.csr_matrix):\n",
      "/home/ubuntu-gpu/project/laboratory/ghost-train/.venv/lib/python3.8/site-packages/mxnet/ndarray/utils.py:141: DeprecationWarning: Please use `csr_matrix` from the `scipy.sparse` namespace, the `scipy.sparse.csr` namespace is deprecated.\n",
      "  if spsp is not None and isinstance(source_array, spsp.csr.csr_matrix):\n"
     ]
    },
    {
     "name": "stdout",
     "output_type": "stream",
     "text": [
      "Image saved at examples/results/id85-enhanced9/result_source4_target12.png\n",
      "input mean and std: 127.5 127.5\n",
      "find model: ./insightface_func/models/antelope/glintr100.onnx recognition\n",
      "find model: ./insightface_func/models/antelope/scrfd_10g_bnkps.onnx detection\n",
      "set det-size: (640, 640)\n",
      "loading ./coordinate_reg/model/2d106det 0\n"
     ]
    },
    {
     "name": "stderr",
     "output_type": "stream",
     "text": [
      "[02:19:05] /work/mxnet/src/nnvm/legacy_json_util.cc:208: Loading symbol saved by previous version v1.5.0. Attempting to upgrade...\n",
      "[02:19:05] /work/mxnet/src/nnvm/legacy_json_util.cc:216: Symbol successfully upgraded!\n"
     ]
    },
    {
     "name": "stdout",
     "output_type": "stream",
     "text": [
      "input mean and std: 127.5 127.5\n",
      "find model: ./insightface_func/models/antelope/glintr100.onnx recognition\n",
      "find model: ./insightface_func/models/antelope/scrfd_10g_bnkps.onnx detection\n",
      "set det-size: (640, 640)\n",
      "Everything is ok!\n",
      "1\n"
     ]
    },
    {
     "name": "stderr",
     "output_type": "stream",
     "text": [
      "100%|██████████| 1/1 [00:00<00:00, 20.17it/s]\n",
      "1it [00:00, 312.49it/s]\n",
      "1it [00:00, 5882.61it/s]\n",
      "100%|██████████| 1/1 [00:00<00:00, 13.15it/s]\n",
      "100%|██████████| 1/1 [00:00<00:00, 15650.39it/s]\n",
      "/home/ubuntu-gpu/project/laboratory/ghost-train/.venv/lib/python3.8/site-packages/mxnet/ndarray/utils.py:141: DeprecationWarning: Please use `csr_matrix` from the `scipy.sparse` namespace, the `scipy.sparse.csr` namespace is deprecated.\n",
      "  if spsp is not None and isinstance(source_array, spsp.csr.csr_matrix):\n",
      "/home/ubuntu-gpu/project/laboratory/ghost-train/.venv/lib/python3.8/site-packages/mxnet/ndarray/utils.py:141: DeprecationWarning: Please use `csr_matrix` from the `scipy.sparse` namespace, the `scipy.sparse.csr` namespace is deprecated.\n",
      "  if spsp is not None and isinstance(source_array, spsp.csr.csr_matrix):\n"
     ]
    },
    {
     "name": "stdout",
     "output_type": "stream",
     "text": [
      "Image saved at examples/results/id85-enhanced9/result_source4_target13.png\n",
      "input mean and std: 127.5 127.5\n",
      "find model: ./insightface_func/models/antelope/glintr100.onnx recognition\n",
      "find model: ./insightface_func/models/antelope/scrfd_10g_bnkps.onnx detection\n",
      "set det-size: (640, 640)\n",
      "loading ./coordinate_reg/model/2d106det 0\n",
      "input mean and std: 127.5 127.5\n",
      "find model: ./insightface_func/models/antelope/glintr100.onnx recognition\n",
      "find model: ./insightface_func/models/antelope/scrfd_10g_bnkps.onnx detection\n",
      "set det-size: (640, 640)\n",
      "Everything is ok!\n",
      "1\n"
     ]
    },
    {
     "name": "stderr",
     "output_type": "stream",
     "text": [
      "[02:19:08] /work/mxnet/src/nnvm/legacy_json_util.cc:208: Loading symbol saved by previous version v1.5.0. Attempting to upgrade...\n",
      "[02:19:08] /work/mxnet/src/nnvm/legacy_json_util.cc:216: Symbol successfully upgraded!\n",
      "100%|██████████| 1/1 [00:00<00:00, 17.33it/s]\n",
      "1it [00:00, 581.25it/s]\n",
      "1it [00:00, 5949.37it/s]\n",
      "100%|██████████| 1/1 [00:00<00:00, 59.90it/s]\n",
      "100%|██████████| 1/1 [00:00<00:00, 21290.88it/s]\n",
      "/home/ubuntu-gpu/project/laboratory/ghost-train/.venv/lib/python3.8/site-packages/mxnet/ndarray/utils.py:141: DeprecationWarning: Please use `csr_matrix` from the `scipy.sparse` namespace, the `scipy.sparse.csr` namespace is deprecated.\n",
      "  if spsp is not None and isinstance(source_array, spsp.csr.csr_matrix):\n",
      "/home/ubuntu-gpu/project/laboratory/ghost-train/.venv/lib/python3.8/site-packages/mxnet/ndarray/utils.py:141: DeprecationWarning: Please use `csr_matrix` from the `scipy.sparse` namespace, the `scipy.sparse.csr` namespace is deprecated.\n",
      "  if spsp is not None and isinstance(source_array, spsp.csr.csr_matrix):\n"
     ]
    },
    {
     "name": "stdout",
     "output_type": "stream",
     "text": [
      "Image saved at examples/results/id85-enhanced9/result_source4_target14.png\n",
      "input mean and std: 127.5 127.5\n",
      "find model: ./insightface_func/models/antelope/glintr100.onnx recognition\n",
      "find model: ./insightface_func/models/antelope/scrfd_10g_bnkps.onnx detection\n",
      "set det-size: (640, 640)\n",
      "loading ./coordinate_reg/model/2d106det 0\n",
      "input mean and std: 127.5 127.5\n",
      "find model: ./insightface_func/models/antelope/glintr100.onnx recognition\n",
      "find model: ./insightface_func/models/antelope/scrfd_10g_bnkps.onnx detection\n",
      "set det-size: (640, 640)\n",
      "Everything is ok!\n",
      "1\n"
     ]
    },
    {
     "name": "stderr",
     "output_type": "stream",
     "text": [
      "[02:19:11] /work/mxnet/src/nnvm/legacy_json_util.cc:208: Loading symbol saved by previous version v1.5.0. Attempting to upgrade...\n",
      "[02:19:11] /work/mxnet/src/nnvm/legacy_json_util.cc:216: Symbol successfully upgraded!\n",
      "100%|██████████| 1/1 [00:00<00:00, 19.54it/s]\n",
      "1it [00:00, 583.51it/s]\n",
      "1it [00:00, 6502.80it/s]\n",
      "100%|██████████| 1/1 [00:00<00:00, 14.23it/s]\n",
      "100%|██████████| 1/1 [00:00<00:00, 16070.13it/s]\n",
      "/home/ubuntu-gpu/project/laboratory/ghost-train/.venv/lib/python3.8/site-packages/mxnet/ndarray/utils.py:141: DeprecationWarning: Please use `csr_matrix` from the `scipy.sparse` namespace, the `scipy.sparse.csr` namespace is deprecated.\n",
      "  if spsp is not None and isinstance(source_array, spsp.csr.csr_matrix):\n",
      "/home/ubuntu-gpu/project/laboratory/ghost-train/.venv/lib/python3.8/site-packages/mxnet/ndarray/utils.py:141: DeprecationWarning: Please use `csr_matrix` from the `scipy.sparse` namespace, the `scipy.sparse.csr` namespace is deprecated.\n",
      "  if spsp is not None and isinstance(source_array, spsp.csr.csr_matrix):\n"
     ]
    },
    {
     "name": "stdout",
     "output_type": "stream",
     "text": [
      "Image saved at examples/results/id85-enhanced9/result_source4_target15.png\n",
      "input mean and std: 127.5 127.5\n",
      "find model: ./insightface_func/models/antelope/glintr100.onnx recognition\n",
      "find model: ./insightface_func/models/antelope/scrfd_10g_bnkps.onnx detection\n",
      "set det-size: (640, 640)\n",
      "loading ./coordinate_reg/model/2d106det 0\n",
      "input mean and std: 127.5 127.5\n",
      "find model: ./insightface_func/models/antelope/glintr100.onnx recognition\n",
      "find model: ./insightface_func/models/antelope/scrfd_10g_bnkps.onnx detection\n",
      "set det-size: (640, 640)\n",
      "Everything is ok!\n",
      "1\n"
     ]
    },
    {
     "name": "stderr",
     "output_type": "stream",
     "text": [
      "[02:19:14] /work/mxnet/src/nnvm/legacy_json_util.cc:208: Loading symbol saved by previous version v1.5.0. Attempting to upgrade...\n",
      "[02:19:14] /work/mxnet/src/nnvm/legacy_json_util.cc:216: Symbol successfully upgraded!\n",
      "100%|██████████| 1/1 [00:00<00:00, 17.89it/s]\n",
      "1it [00:00, 412.22it/s]\n",
      "1it [00:00, 5102.56it/s]\n",
      "100%|██████████| 1/1 [00:00<00:00, 13.46it/s]\n",
      "100%|██████████| 1/1 [00:00<00:00, 11491.24it/s]\n",
      "/home/ubuntu-gpu/project/laboratory/ghost-train/.venv/lib/python3.8/site-packages/mxnet/ndarray/utils.py:141: DeprecationWarning: Please use `csr_matrix` from the `scipy.sparse` namespace, the `scipy.sparse.csr` namespace is deprecated.\n",
      "  if spsp is not None and isinstance(source_array, spsp.csr.csr_matrix):\n",
      "/home/ubuntu-gpu/project/laboratory/ghost-train/.venv/lib/python3.8/site-packages/mxnet/ndarray/utils.py:141: DeprecationWarning: Please use `csr_matrix` from the `scipy.sparse` namespace, the `scipy.sparse.csr` namespace is deprecated.\n",
      "  if spsp is not None and isinstance(source_array, spsp.csr.csr_matrix):\n"
     ]
    },
    {
     "name": "stdout",
     "output_type": "stream",
     "text": [
      "Image saved at examples/results/id85-enhanced9/result_source4_target16.png\n",
      "input mean and std: 127.5 127.5\n",
      "find model: ./insightface_func/models/antelope/glintr100.onnx recognition\n",
      "find model: ./insightface_func/models/antelope/scrfd_10g_bnkps.onnx detection\n",
      "set det-size: (640, 640)\n",
      "loading ./coordinate_reg/model/2d106det 0\n"
     ]
    },
    {
     "name": "stderr",
     "output_type": "stream",
     "text": [
      "[02:19:18] /work/mxnet/src/nnvm/legacy_json_util.cc:208: Loading symbol saved by previous version v1.5.0. Attempting to upgrade...\n",
      "[02:19:18] /work/mxnet/src/nnvm/legacy_json_util.cc:216: Symbol successfully upgraded!\n"
     ]
    },
    {
     "name": "stdout",
     "output_type": "stream",
     "text": [
      "input mean and std: 127.5 127.5\n",
      "find model: ./insightface_func/models/antelope/glintr100.onnx recognition\n",
      "find model: ./insightface_func/models/antelope/scrfd_10g_bnkps.onnx detection\n",
      "set det-size: (640, 640)\n",
      "Everything is ok!\n",
      "1\n"
     ]
    },
    {
     "name": "stderr",
     "output_type": "stream",
     "text": [
      "100%|██████████| 1/1 [00:00<00:00, 17.17it/s]\n",
      "1it [00:00, 1023.25it/s]\n",
      "1it [00:00, 3622.02it/s]\n",
      "100%|██████████| 1/1 [00:00<00:00, 57.19it/s]\n",
      "100%|██████████| 1/1 [00:00<00:00, 20971.52it/s]\n",
      "/home/ubuntu-gpu/project/laboratory/ghost-train/.venv/lib/python3.8/site-packages/mxnet/ndarray/utils.py:141: DeprecationWarning: Please use `csr_matrix` from the `scipy.sparse` namespace, the `scipy.sparse.csr` namespace is deprecated.\n",
      "  if spsp is not None and isinstance(source_array, spsp.csr.csr_matrix):\n",
      "/home/ubuntu-gpu/project/laboratory/ghost-train/.venv/lib/python3.8/site-packages/mxnet/ndarray/utils.py:141: DeprecationWarning: Please use `csr_matrix` from the `scipy.sparse` namespace, the `scipy.sparse.csr` namespace is deprecated.\n",
      "  if spsp is not None and isinstance(source_array, spsp.csr.csr_matrix):\n"
     ]
    },
    {
     "name": "stdout",
     "output_type": "stream",
     "text": [
      "Image saved at examples/results/id85-enhanced9/result_source5_target0.png\n",
      "input mean and std: 127.5 127.5\n",
      "find model: ./insightface_func/models/antelope/glintr100.onnx recognition\n",
      "find model: ./insightface_func/models/antelope/scrfd_10g_bnkps.onnx detection\n",
      "set det-size: (640, 640)\n",
      "loading ./coordinate_reg/model/2d106det 0\n"
     ]
    },
    {
     "name": "stderr",
     "output_type": "stream",
     "text": [
      "[02:19:21] /work/mxnet/src/nnvm/legacy_json_util.cc:208: Loading symbol saved by previous version v1.5.0. Attempting to upgrade...\n",
      "[02:19:21] /work/mxnet/src/nnvm/legacy_json_util.cc:216: Symbol successfully upgraded!\n"
     ]
    },
    {
     "name": "stdout",
     "output_type": "stream",
     "text": [
      "input mean and std: 127.5 127.5\n",
      "find model: ./insightface_func/models/antelope/glintr100.onnx recognition\n",
      "find model: ./insightface_func/models/antelope/scrfd_10g_bnkps.onnx detection\n",
      "set det-size: (640, 640)\n",
      "Everything is ok!\n",
      "1\n"
     ]
    },
    {
     "name": "stderr",
     "output_type": "stream",
     "text": [
      "100%|██████████| 1/1 [00:00<00:00, 18.26it/s]\n",
      "1it [00:00, 209.11it/s]\n",
      "1it [00:00, 6743.25it/s]\n",
      "100%|██████████| 1/1 [00:00<00:00, 13.41it/s]\n",
      "100%|██████████| 1/1 [00:00<00:00, 12122.27it/s]\n",
      "/home/ubuntu-gpu/project/laboratory/ghost-train/.venv/lib/python3.8/site-packages/mxnet/ndarray/utils.py:141: DeprecationWarning: Please use `csr_matrix` from the `scipy.sparse` namespace, the `scipy.sparse.csr` namespace is deprecated.\n",
      "  if spsp is not None and isinstance(source_array, spsp.csr.csr_matrix):\n",
      "/home/ubuntu-gpu/project/laboratory/ghost-train/.venv/lib/python3.8/site-packages/mxnet/ndarray/utils.py:141: DeprecationWarning: Please use `csr_matrix` from the `scipy.sparse` namespace, the `scipy.sparse.csr` namespace is deprecated.\n",
      "  if spsp is not None and isinstance(source_array, spsp.csr.csr_matrix):\n"
     ]
    },
    {
     "name": "stdout",
     "output_type": "stream",
     "text": [
      "Image saved at examples/results/id85-enhanced9/result_source5_target1.png\n",
      "input mean and std: 127.5 127.5\n",
      "find model: ./insightface_func/models/antelope/glintr100.onnx recognition\n",
      "find model: ./insightface_func/models/antelope/scrfd_10g_bnkps.onnx detection\n",
      "set det-size: (640, 640)\n",
      "loading ./coordinate_reg/model/2d106det 0\n",
      "input mean and std: 127.5 127.5\n",
      "find model: ./insightface_func/models/antelope/glintr100.onnx recognition\n",
      "find model: ./insightface_func/models/antelope/scrfd_10g_bnkps.onnx detection\n",
      "set det-size: (640, 640)\n",
      "Everything is ok!\n",
      "1\n"
     ]
    },
    {
     "name": "stderr",
     "output_type": "stream",
     "text": [
      "[02:19:24] /work/mxnet/src/nnvm/legacy_json_util.cc:208: Loading symbol saved by previous version v1.5.0. Attempting to upgrade...\n",
      "[02:19:24] /work/mxnet/src/nnvm/legacy_json_util.cc:216: Symbol successfully upgraded!\n",
      "100%|██████████| 1/1 [00:00<00:00, 20.28it/s]\n",
      "1it [00:00, 625.36it/s]\n",
      "1it [00:00, 5511.57it/s]\n",
      "100%|██████████| 1/1 [00:00<00:00, 44.39it/s]\n",
      "100%|██████████| 1/1 [00:00<00:00, 20360.70it/s]\n",
      "/home/ubuntu-gpu/project/laboratory/ghost-train/.venv/lib/python3.8/site-packages/mxnet/ndarray/utils.py:141: DeprecationWarning: Please use `csr_matrix` from the `scipy.sparse` namespace, the `scipy.sparse.csr` namespace is deprecated.\n",
      "  if spsp is not None and isinstance(source_array, spsp.csr.csr_matrix):\n",
      "/home/ubuntu-gpu/project/laboratory/ghost-train/.venv/lib/python3.8/site-packages/mxnet/ndarray/utils.py:141: DeprecationWarning: Please use `csr_matrix` from the `scipy.sparse` namespace, the `scipy.sparse.csr` namespace is deprecated.\n",
      "  if spsp is not None and isinstance(source_array, spsp.csr.csr_matrix):\n"
     ]
    },
    {
     "name": "stdout",
     "output_type": "stream",
     "text": [
      "Image saved at examples/results/id85-enhanced9/result_source5_target2.png\n",
      "input mean and std: 127.5 127.5\n",
      "find model: ./insightface_func/models/antelope/glintr100.onnx recognition\n",
      "find model: ./insightface_func/models/antelope/scrfd_10g_bnkps.onnx detection\n",
      "set det-size: (640, 640)\n",
      "loading ./coordinate_reg/model/2d106det 0\n"
     ]
    },
    {
     "name": "stderr",
     "output_type": "stream",
     "text": [
      "[02:19:27] /work/mxnet/src/nnvm/legacy_json_util.cc:208: Loading symbol saved by previous version v1.5.0. Attempting to upgrade...\n",
      "[02:19:27] /work/mxnet/src/nnvm/legacy_json_util.cc:216: Symbol successfully upgraded!\n"
     ]
    },
    {
     "name": "stdout",
     "output_type": "stream",
     "text": [
      "input mean and std: 127.5 127.5\n",
      "find model: ./insightface_func/models/antelope/glintr100.onnx recognition\n",
      "find model: ./insightface_func/models/antelope/scrfd_10g_bnkps.onnx detection\n",
      "set det-size: (640, 640)\n",
      "Everything is ok!\n",
      "1\n"
     ]
    },
    {
     "name": "stderr",
     "output_type": "stream",
     "text": [
      "100%|██████████| 1/1 [00:00<00:00, 19.60it/s]\n",
      "1it [00:00, 435.05it/s]\n",
      "1it [00:00, 5262.61it/s]\n",
      "100%|██████████| 1/1 [00:00<00:00, 13.87it/s]\n",
      "100%|██████████| 1/1 [00:00<00:00, 17848.10it/s]\n",
      "/home/ubuntu-gpu/project/laboratory/ghost-train/.venv/lib/python3.8/site-packages/mxnet/ndarray/utils.py:141: DeprecationWarning: Please use `csr_matrix` from the `scipy.sparse` namespace, the `scipy.sparse.csr` namespace is deprecated.\n",
      "  if spsp is not None and isinstance(source_array, spsp.csr.csr_matrix):\n",
      "/home/ubuntu-gpu/project/laboratory/ghost-train/.venv/lib/python3.8/site-packages/mxnet/ndarray/utils.py:141: DeprecationWarning: Please use `csr_matrix` from the `scipy.sparse` namespace, the `scipy.sparse.csr` namespace is deprecated.\n",
      "  if spsp is not None and isinstance(source_array, spsp.csr.csr_matrix):\n"
     ]
    },
    {
     "name": "stdout",
     "output_type": "stream",
     "text": [
      "Image saved at examples/results/id85-enhanced9/result_source5_target3.png\n",
      "input mean and std: 127.5 127.5\n",
      "find model: ./insightface_func/models/antelope/glintr100.onnx recognition\n",
      "find model: ./insightface_func/models/antelope/scrfd_10g_bnkps.onnx detection\n",
      "set det-size: (640, 640)\n",
      "loading ./coordinate_reg/model/2d106det 0\n"
     ]
    },
    {
     "name": "stderr",
     "output_type": "stream",
     "text": [
      "[02:19:30] /work/mxnet/src/nnvm/legacy_json_util.cc:208: Loading symbol saved by previous version v1.5.0. Attempting to upgrade...\n",
      "[02:19:30] /work/mxnet/src/nnvm/legacy_json_util.cc:216: Symbol successfully upgraded!\n"
     ]
    },
    {
     "name": "stdout",
     "output_type": "stream",
     "text": [
      "input mean and std: 127.5 127.5\n",
      "find model: ./insightface_func/models/antelope/glintr100.onnx recognition\n",
      "find model: ./insightface_func/models/antelope/scrfd_10g_bnkps.onnx detection\n",
      "set det-size: (640, 640)\n",
      "Everything is ok!\n",
      "1\n"
     ]
    },
    {
     "name": "stderr",
     "output_type": "stream",
     "text": [
      "100%|██████████| 1/1 [00:00<00:00, 18.74it/s]\n",
      "1it [00:00, 197.70it/s]\n",
      "1it [00:00, 6061.13it/s]\n",
      "100%|██████████| 1/1 [00:00<00:00, 13.33it/s]\n",
      "100%|██████████| 1/1 [00:00<00:00, 14074.85it/s]\n",
      "/home/ubuntu-gpu/project/laboratory/ghost-train/.venv/lib/python3.8/site-packages/mxnet/ndarray/utils.py:141: DeprecationWarning: Please use `csr_matrix` from the `scipy.sparse` namespace, the `scipy.sparse.csr` namespace is deprecated.\n",
      "  if spsp is not None and isinstance(source_array, spsp.csr.csr_matrix):\n",
      "/home/ubuntu-gpu/project/laboratory/ghost-train/.venv/lib/python3.8/site-packages/mxnet/ndarray/utils.py:141: DeprecationWarning: Please use `csr_matrix` from the `scipy.sparse` namespace, the `scipy.sparse.csr` namespace is deprecated.\n",
      "  if spsp is not None and isinstance(source_array, spsp.csr.csr_matrix):\n"
     ]
    },
    {
     "name": "stdout",
     "output_type": "stream",
     "text": [
      "Image saved at examples/results/id85-enhanced9/result_source5_target4.png\n",
      "input mean and std: 127.5 127.5\n",
      "find model: ./insightface_func/models/antelope/glintr100.onnx recognition\n",
      "find model: ./insightface_func/models/antelope/scrfd_10g_bnkps.onnx detection\n",
      "set det-size: (640, 640)\n",
      "loading ./coordinate_reg/model/2d106det 0\n",
      "input mean and std: 127.5 127.5\n",
      "find model: ./insightface_func/models/antelope/glintr100.onnx recognition\n",
      "find model: ./insightface_func/models/antelope/scrfd_10g_bnkps.onnx detection\n",
      "set det-size: (640, 640)\n",
      "Everything is ok!\n",
      "1\n"
     ]
    },
    {
     "name": "stderr",
     "output_type": "stream",
     "text": [
      "[02:19:33] /work/mxnet/src/nnvm/legacy_json_util.cc:208: Loading symbol saved by previous version v1.5.0. Attempting to upgrade...\n",
      "[02:19:33] /work/mxnet/src/nnvm/legacy_json_util.cc:216: Symbol successfully upgraded!\n",
      "100%|██████████| 1/1 [00:00<00:00, 19.85it/s]\n",
      "1it [00:00, 257.11it/s]\n",
      "1it [00:00, 5384.22it/s]\n",
      "100%|██████████| 1/1 [00:00<00:00, 14.58it/s]\n",
      "100%|██████████| 1/1 [00:00<00:00, 15420.24it/s]\n",
      "/home/ubuntu-gpu/project/laboratory/ghost-train/.venv/lib/python3.8/site-packages/mxnet/ndarray/utils.py:141: DeprecationWarning: Please use `csr_matrix` from the `scipy.sparse` namespace, the `scipy.sparse.csr` namespace is deprecated.\n",
      "  if spsp is not None and isinstance(source_array, spsp.csr.csr_matrix):\n",
      "/home/ubuntu-gpu/project/laboratory/ghost-train/.venv/lib/python3.8/site-packages/mxnet/ndarray/utils.py:141: DeprecationWarning: Please use `csr_matrix` from the `scipy.sparse` namespace, the `scipy.sparse.csr` namespace is deprecated.\n",
      "  if spsp is not None and isinstance(source_array, spsp.csr.csr_matrix):\n"
     ]
    },
    {
     "name": "stdout",
     "output_type": "stream",
     "text": [
      "Image saved at examples/results/id85-enhanced9/result_source5_target5.png\n",
      "input mean and std: 127.5 127.5\n",
      "find model: ./insightface_func/models/antelope/glintr100.onnx recognition\n",
      "find model: ./insightface_func/models/antelope/scrfd_10g_bnkps.onnx detection\n",
      "set det-size: (640, 640)\n",
      "loading ./coordinate_reg/model/2d106det 0\n",
      "input mean and std: 127.5 127.5\n",
      "find model: ./insightface_func/models/antelope/glintr100.onnx recognition\n",
      "find model: ./insightface_func/models/antelope/scrfd_10g_bnkps.onnx detection\n",
      "set det-size: (640, 640)\n",
      "Everything is ok!\n",
      "1\n"
     ]
    },
    {
     "name": "stderr",
     "output_type": "stream",
     "text": [
      "[02:19:37] /work/mxnet/src/nnvm/legacy_json_util.cc:208: Loading symbol saved by previous version v1.5.0. Attempting to upgrade...\n",
      "[02:19:37] /work/mxnet/src/nnvm/legacy_json_util.cc:216: Symbol successfully upgraded!\n",
      "100%|██████████| 1/1 [00:00<00:00, 18.53it/s]\n",
      "1it [00:00, 728.05it/s]\n",
      "1it [00:00, 5769.33it/s]\n",
      "100%|██████████| 1/1 [00:00<00:00, 14.53it/s]\n",
      "100%|██████████| 1/1 [00:00<00:00, 18724.57it/s]\n",
      "/home/ubuntu-gpu/project/laboratory/ghost-train/.venv/lib/python3.8/site-packages/mxnet/ndarray/utils.py:141: DeprecationWarning: Please use `csr_matrix` from the `scipy.sparse` namespace, the `scipy.sparse.csr` namespace is deprecated.\n",
      "  if spsp is not None and isinstance(source_array, spsp.csr.csr_matrix):\n",
      "/home/ubuntu-gpu/project/laboratory/ghost-train/.venv/lib/python3.8/site-packages/mxnet/ndarray/utils.py:141: DeprecationWarning: Please use `csr_matrix` from the `scipy.sparse` namespace, the `scipy.sparse.csr` namespace is deprecated.\n",
      "  if spsp is not None and isinstance(source_array, spsp.csr.csr_matrix):\n"
     ]
    },
    {
     "name": "stdout",
     "output_type": "stream",
     "text": [
      "Image saved at examples/results/id85-enhanced9/result_source5_target6.png\n",
      "input mean and std: 127.5 127.5\n",
      "find model: ./insightface_func/models/antelope/glintr100.onnx recognition\n",
      "find model: ./insightface_func/models/antelope/scrfd_10g_bnkps.onnx detection\n",
      "set det-size: (640, 640)\n",
      "loading ./coordinate_reg/model/2d106det 0\n",
      "input mean and std: 127.5 127.5\n",
      "find model: ./insightface_func/models/antelope/glintr100.onnx recognition\n",
      "find model: ./insightface_func/models/antelope/scrfd_10g_bnkps.onnx detection\n",
      "set det-size: (640, 640)\n",
      "Everything is ok!\n",
      "1\n"
     ]
    },
    {
     "name": "stderr",
     "output_type": "stream",
     "text": [
      "[02:19:40] /work/mxnet/src/nnvm/legacy_json_util.cc:208: Loading symbol saved by previous version v1.5.0. Attempting to upgrade...\n",
      "[02:19:40] /work/mxnet/src/nnvm/legacy_json_util.cc:216: Symbol successfully upgraded!\n",
      "100%|██████████| 1/1 [00:00<00:00, 18.62it/s]\n",
      "1it [00:00, 370.82it/s]\n",
      "1it [00:00, 5966.29it/s]\n",
      "100%|██████████| 1/1 [00:00<00:00, 13.35it/s]\n",
      "100%|██████████| 1/1 [00:00<00:00, 17476.27it/s]\n",
      "/home/ubuntu-gpu/project/laboratory/ghost-train/.venv/lib/python3.8/site-packages/mxnet/ndarray/utils.py:141: DeprecationWarning: Please use `csr_matrix` from the `scipy.sparse` namespace, the `scipy.sparse.csr` namespace is deprecated.\n",
      "  if spsp is not None and isinstance(source_array, spsp.csr.csr_matrix):\n",
      "/home/ubuntu-gpu/project/laboratory/ghost-train/.venv/lib/python3.8/site-packages/mxnet/ndarray/utils.py:141: DeprecationWarning: Please use `csr_matrix` from the `scipy.sparse` namespace, the `scipy.sparse.csr` namespace is deprecated.\n",
      "  if spsp is not None and isinstance(source_array, spsp.csr.csr_matrix):\n"
     ]
    },
    {
     "name": "stdout",
     "output_type": "stream",
     "text": [
      "Image saved at examples/results/id85-enhanced9/result_source5_target7.png\n",
      "input mean and std: 127.5 127.5\n",
      "find model: ./insightface_func/models/antelope/glintr100.onnx recognition\n",
      "find model: ./insightface_func/models/antelope/scrfd_10g_bnkps.onnx detection\n",
      "set det-size: (640, 640)\n",
      "loading ./coordinate_reg/model/2d106det 0\n"
     ]
    },
    {
     "name": "stderr",
     "output_type": "stream",
     "text": [
      "[02:19:43] /work/mxnet/src/nnvm/legacy_json_util.cc:208: Loading symbol saved by previous version v1.5.0. Attempting to upgrade...\n",
      "[02:19:43] /work/mxnet/src/nnvm/legacy_json_util.cc:216: Symbol successfully upgraded!\n"
     ]
    },
    {
     "name": "stdout",
     "output_type": "stream",
     "text": [
      "input mean and std: 127.5 127.5\n",
      "find model: ./insightface_func/models/antelope/glintr100.onnx recognition\n",
      "find model: ./insightface_func/models/antelope/scrfd_10g_bnkps.onnx detection\n",
      "set det-size: (640, 640)\n",
      "Everything is ok!\n",
      "1\n"
     ]
    },
    {
     "name": "stderr",
     "output_type": "stream",
     "text": [
      "100%|██████████| 1/1 [00:00<00:00, 18.98it/s]\n",
      "1it [00:00, 250.47it/s]\n",
      "1it [00:00, 5667.98it/s]\n",
      "100%|██████████| 1/1 [00:00<00:00, 14.14it/s]\n",
      "100%|██████████| 1/1 [00:00<00:00, 19239.93it/s]\n",
      "/home/ubuntu-gpu/project/laboratory/ghost-train/.venv/lib/python3.8/site-packages/mxnet/ndarray/utils.py:141: DeprecationWarning: Please use `csr_matrix` from the `scipy.sparse` namespace, the `scipy.sparse.csr` namespace is deprecated.\n",
      "  if spsp is not None and isinstance(source_array, spsp.csr.csr_matrix):\n",
      "/home/ubuntu-gpu/project/laboratory/ghost-train/.venv/lib/python3.8/site-packages/mxnet/ndarray/utils.py:141: DeprecationWarning: Please use `csr_matrix` from the `scipy.sparse` namespace, the `scipy.sparse.csr` namespace is deprecated.\n",
      "  if spsp is not None and isinstance(source_array, spsp.csr.csr_matrix):\n"
     ]
    },
    {
     "name": "stdout",
     "output_type": "stream",
     "text": [
      "Image saved at examples/results/id85-enhanced9/result_source5_target8.png\n",
      "input mean and std: 127.5 127.5\n",
      "find model: ./insightface_func/models/antelope/glintr100.onnx recognition\n",
      "find model: ./insightface_func/models/antelope/scrfd_10g_bnkps.onnx detection\n",
      "set det-size: (640, 640)\n",
      "loading ./coordinate_reg/model/2d106det 0\n"
     ]
    },
    {
     "name": "stderr",
     "output_type": "stream",
     "text": [
      "[02:19:46] /work/mxnet/src/nnvm/legacy_json_util.cc:208: Loading symbol saved by previous version v1.5.0. Attempting to upgrade...\n",
      "[02:19:46] /work/mxnet/src/nnvm/legacy_json_util.cc:216: Symbol successfully upgraded!\n"
     ]
    },
    {
     "name": "stdout",
     "output_type": "stream",
     "text": [
      "input mean and std: 127.5 127.5\n",
      "find model: ./insightface_func/models/antelope/glintr100.onnx recognition\n",
      "find model: ./insightface_func/models/antelope/scrfd_10g_bnkps.onnx detection\n",
      "set det-size: (640, 640)\n",
      "Everything is ok!\n",
      "1\n"
     ]
    },
    {
     "name": "stderr",
     "output_type": "stream",
     "text": [
      "100%|██████████| 1/1 [00:00<00:00, 17.16it/s]\n",
      "1it [00:00, 299.96it/s]\n",
      "1it [00:00, 5405.03it/s]\n",
      "100%|██████████| 1/1 [00:00<00:00, 13.77it/s]\n",
      "100%|██████████| 1/1 [00:00<00:00, 20262.34it/s]\n",
      "/home/ubuntu-gpu/project/laboratory/ghost-train/.venv/lib/python3.8/site-packages/mxnet/ndarray/utils.py:141: DeprecationWarning: Please use `csr_matrix` from the `scipy.sparse` namespace, the `scipy.sparse.csr` namespace is deprecated.\n",
      "  if spsp is not None and isinstance(source_array, spsp.csr.csr_matrix):\n",
      "/home/ubuntu-gpu/project/laboratory/ghost-train/.venv/lib/python3.8/site-packages/mxnet/ndarray/utils.py:141: DeprecationWarning: Please use `csr_matrix` from the `scipy.sparse` namespace, the `scipy.sparse.csr` namespace is deprecated.\n",
      "  if spsp is not None and isinstance(source_array, spsp.csr.csr_matrix):\n"
     ]
    },
    {
     "name": "stdout",
     "output_type": "stream",
     "text": [
      "Image saved at examples/results/id85-enhanced9/result_source5_target9.png\n",
      "input mean and std: 127.5 127.5\n",
      "find model: ./insightface_func/models/antelope/glintr100.onnx recognition\n",
      "find model: ./insightface_func/models/antelope/scrfd_10g_bnkps.onnx detection\n",
      "set det-size: (640, 640)\n",
      "loading ./coordinate_reg/model/2d106det 0\n"
     ]
    },
    {
     "name": "stderr",
     "output_type": "stream",
     "text": [
      "[02:19:49] /work/mxnet/src/nnvm/legacy_json_util.cc:208: Loading symbol saved by previous version v1.5.0. Attempting to upgrade...\n",
      "[02:19:49] /work/mxnet/src/nnvm/legacy_json_util.cc:216: Symbol successfully upgraded!\n"
     ]
    },
    {
     "name": "stdout",
     "output_type": "stream",
     "text": [
      "input mean and std: 127.5 127.5\n",
      "find model: ./insightface_func/models/antelope/glintr100.onnx recognition\n",
      "find model: ./insightface_func/models/antelope/scrfd_10g_bnkps.onnx detection\n",
      "set det-size: (640, 640)\n",
      "Everything is ok!\n",
      "1\n"
     ]
    },
    {
     "name": "stderr",
     "output_type": "stream",
     "text": [
      "100%|██████████| 1/1 [00:00<00:00, 17.46it/s]\n",
      "1it [00:00, 150.17it/s]\n",
      "1it [00:00, 6114.15it/s]\n",
      "100%|██████████| 1/1 [00:00<00:00, 14.01it/s]\n",
      "100%|██████████| 1/1 [00:00<00:00, 16256.99it/s]\n",
      "/home/ubuntu-gpu/project/laboratory/ghost-train/.venv/lib/python3.8/site-packages/mxnet/ndarray/utils.py:141: DeprecationWarning: Please use `csr_matrix` from the `scipy.sparse` namespace, the `scipy.sparse.csr` namespace is deprecated.\n",
      "  if spsp is not None and isinstance(source_array, spsp.csr.csr_matrix):\n",
      "/home/ubuntu-gpu/project/laboratory/ghost-train/.venv/lib/python3.8/site-packages/mxnet/ndarray/utils.py:141: DeprecationWarning: Please use `csr_matrix` from the `scipy.sparse` namespace, the `scipy.sparse.csr` namespace is deprecated.\n",
      "  if spsp is not None and isinstance(source_array, spsp.csr.csr_matrix):\n"
     ]
    },
    {
     "name": "stdout",
     "output_type": "stream",
     "text": [
      "Image saved at examples/results/id85-enhanced9/result_source5_target10.png\n",
      "input mean and std: 127.5 127.5\n",
      "find model: ./insightface_func/models/antelope/glintr100.onnx recognition\n",
      "find model: ./insightface_func/models/antelope/scrfd_10g_bnkps.onnx detection\n",
      "set det-size: (640, 640)\n",
      "loading ./coordinate_reg/model/2d106det 0\n",
      "input mean and std: 127.5 127.5\n",
      "find model: ./insightface_func/models/antelope/glintr100.onnx recognition\n",
      "find model: ./insightface_func/models/antelope/scrfd_10g_bnkps.onnx detection\n",
      "set det-size: (640, 640)\n",
      "Everything is ok!\n",
      "1\n"
     ]
    },
    {
     "name": "stderr",
     "output_type": "stream",
     "text": [
      "[02:19:53] /work/mxnet/src/nnvm/legacy_json_util.cc:208: Loading symbol saved by previous version v1.5.0. Attempting to upgrade...\n",
      "[02:19:53] /work/mxnet/src/nnvm/legacy_json_util.cc:216: Symbol successfully upgraded!\n",
      "100%|██████████| 1/1 [00:00<00:00, 18.16it/s]\n",
      "1it [00:00, 643.40it/s]\n",
      "1it [00:00, 5447.15it/s]\n",
      "100%|██████████| 1/1 [00:00<00:00, 14.22it/s]\n",
      "100%|██████████| 1/1 [00:00<00:00, 18315.74it/s]\n",
      "/home/ubuntu-gpu/project/laboratory/ghost-train/.venv/lib/python3.8/site-packages/mxnet/ndarray/utils.py:141: DeprecationWarning: Please use `csr_matrix` from the `scipy.sparse` namespace, the `scipy.sparse.csr` namespace is deprecated.\n",
      "  if spsp is not None and isinstance(source_array, spsp.csr.csr_matrix):\n",
      "/home/ubuntu-gpu/project/laboratory/ghost-train/.venv/lib/python3.8/site-packages/mxnet/ndarray/utils.py:141: DeprecationWarning: Please use `csr_matrix` from the `scipy.sparse` namespace, the `scipy.sparse.csr` namespace is deprecated.\n",
      "  if spsp is not None and isinstance(source_array, spsp.csr.csr_matrix):\n"
     ]
    },
    {
     "name": "stdout",
     "output_type": "stream",
     "text": [
      "Image saved at examples/results/id85-enhanced9/result_source5_target11.png\n",
      "input mean and std: 127.5 127.5\n",
      "find model: ./insightface_func/models/antelope/glintr100.onnx recognition\n",
      "find model: ./insightface_func/models/antelope/scrfd_10g_bnkps.onnx detection\n",
      "set det-size: (640, 640)\n",
      "loading ./coordinate_reg/model/2d106det 0\n"
     ]
    },
    {
     "name": "stderr",
     "output_type": "stream",
     "text": [
      "[02:19:56] /work/mxnet/src/nnvm/legacy_json_util.cc:208: Loading symbol saved by previous version v1.5.0. Attempting to upgrade...\n",
      "[02:19:56] /work/mxnet/src/nnvm/legacy_json_util.cc:216: Symbol successfully upgraded!\n"
     ]
    },
    {
     "name": "stdout",
     "output_type": "stream",
     "text": [
      "input mean and std: 127.5 127.5\n",
      "find model: ./insightface_func/models/antelope/glintr100.onnx recognition\n",
      "find model: ./insightface_func/models/antelope/scrfd_10g_bnkps.onnx detection\n",
      "set det-size: (640, 640)\n",
      "Everything is ok!\n",
      "1\n"
     ]
    },
    {
     "name": "stderr",
     "output_type": "stream",
     "text": [
      "100%|██████████| 1/1 [00:00<00:00, 19.85it/s]\n",
      "1it [00:00, 227.91it/s]\n",
      "1it [00:00, 5622.39it/s]\n",
      "100%|██████████| 1/1 [00:00<00:00, 13.71it/s]\n",
      "100%|██████████| 1/1 [00:00<00:00, 14926.35it/s]\n",
      "/home/ubuntu-gpu/project/laboratory/ghost-train/.venv/lib/python3.8/site-packages/mxnet/ndarray/utils.py:141: DeprecationWarning: Please use `csr_matrix` from the `scipy.sparse` namespace, the `scipy.sparse.csr` namespace is deprecated.\n",
      "  if spsp is not None and isinstance(source_array, spsp.csr.csr_matrix):\n",
      "/home/ubuntu-gpu/project/laboratory/ghost-train/.venv/lib/python3.8/site-packages/mxnet/ndarray/utils.py:141: DeprecationWarning: Please use `csr_matrix` from the `scipy.sparse` namespace, the `scipy.sparse.csr` namespace is deprecated.\n",
      "  if spsp is not None and isinstance(source_array, spsp.csr.csr_matrix):\n"
     ]
    },
    {
     "name": "stdout",
     "output_type": "stream",
     "text": [
      "Image saved at examples/results/id85-enhanced9/result_source5_target12.png\n",
      "input mean and std: 127.5 127.5\n",
      "find model: ./insightface_func/models/antelope/glintr100.onnx recognition\n",
      "find model: ./insightface_func/models/antelope/scrfd_10g_bnkps.onnx detection\n",
      "set det-size: (640, 640)\n",
      "loading ./coordinate_reg/model/2d106det 0\n",
      "input mean and std: 127.5 127.5\n",
      "find model: ./insightface_func/models/antelope/glintr100.onnx recognition\n",
      "find model: ./insightface_func/models/antelope/scrfd_10g_bnkps.onnx detection\n",
      "set det-size: (640, 640)\n",
      "Everything is ok!\n",
      "1\n"
     ]
    },
    {
     "name": "stderr",
     "output_type": "stream",
     "text": [
      "[02:19:59] /work/mxnet/src/nnvm/legacy_json_util.cc:208: Loading symbol saved by previous version v1.5.0. Attempting to upgrade...\n",
      "[02:19:59] /work/mxnet/src/nnvm/legacy_json_util.cc:216: Symbol successfully upgraded!\n",
      "100%|██████████| 1/1 [00:00<00:00, 18.07it/s]\n",
      "1it [00:00, 757.23it/s]\n",
      "1it [00:00, 5691.05it/s]\n",
      "100%|██████████| 1/1 [00:00<00:00, 45.35it/s]\n",
      "100%|██████████| 1/1 [00:00<00:00, 20068.44it/s]\n",
      "/home/ubuntu-gpu/project/laboratory/ghost-train/.venv/lib/python3.8/site-packages/mxnet/ndarray/utils.py:141: DeprecationWarning: Please use `csr_matrix` from the `scipy.sparse` namespace, the `scipy.sparse.csr` namespace is deprecated.\n",
      "  if spsp is not None and isinstance(source_array, spsp.csr.csr_matrix):\n",
      "/home/ubuntu-gpu/project/laboratory/ghost-train/.venv/lib/python3.8/site-packages/mxnet/ndarray/utils.py:141: DeprecationWarning: Please use `csr_matrix` from the `scipy.sparse` namespace, the `scipy.sparse.csr` namespace is deprecated.\n",
      "  if spsp is not None and isinstance(source_array, spsp.csr.csr_matrix):\n"
     ]
    },
    {
     "name": "stdout",
     "output_type": "stream",
     "text": [
      "Image saved at examples/results/id85-enhanced9/result_source5_target13.png\n",
      "input mean and std: 127.5 127.5\n",
      "find model: ./insightface_func/models/antelope/glintr100.onnx recognition\n",
      "find model: ./insightface_func/models/antelope/scrfd_10g_bnkps.onnx detection\n",
      "set det-size: (640, 640)\n",
      "loading ./coordinate_reg/model/2d106det 0\n"
     ]
    },
    {
     "name": "stderr",
     "output_type": "stream",
     "text": [
      "[02:20:02] /work/mxnet/src/nnvm/legacy_json_util.cc:208: Loading symbol saved by previous version v1.5.0. Attempting to upgrade...\n",
      "[02:20:02] /work/mxnet/src/nnvm/legacy_json_util.cc:216: Symbol successfully upgraded!\n"
     ]
    },
    {
     "name": "stdout",
     "output_type": "stream",
     "text": [
      "input mean and std: 127.5 127.5\n",
      "find model: ./insightface_func/models/antelope/glintr100.onnx recognition\n",
      "find model: ./insightface_func/models/antelope/scrfd_10g_bnkps.onnx detection\n",
      "set det-size: (640, 640)\n",
      "Everything is ok!\n",
      "1\n"
     ]
    },
    {
     "name": "stderr",
     "output_type": "stream",
     "text": [
      "100%|██████████| 1/1 [00:00<00:00, 14.82it/s]\n",
      "1it [00:00, 874.18it/s]\n",
      "1it [00:00, 4500.33it/s]\n",
      "100%|██████████| 1/1 [00:00<00:00, 13.75it/s]\n",
      "100%|██████████| 1/1 [00:00<00:00, 16320.25it/s]\n",
      "/home/ubuntu-gpu/project/laboratory/ghost-train/.venv/lib/python3.8/site-packages/mxnet/ndarray/utils.py:141: DeprecationWarning: Please use `csr_matrix` from the `scipy.sparse` namespace, the `scipy.sparse.csr` namespace is deprecated.\n",
      "  if spsp is not None and isinstance(source_array, spsp.csr.csr_matrix):\n",
      "/home/ubuntu-gpu/project/laboratory/ghost-train/.venv/lib/python3.8/site-packages/mxnet/ndarray/utils.py:141: DeprecationWarning: Please use `csr_matrix` from the `scipy.sparse` namespace, the `scipy.sparse.csr` namespace is deprecated.\n",
      "  if spsp is not None and isinstance(source_array, spsp.csr.csr_matrix):\n"
     ]
    },
    {
     "name": "stdout",
     "output_type": "stream",
     "text": [
      "Image saved at examples/results/id85-enhanced9/result_source5_target14.png\n",
      "input mean and std: 127.5 127.5\n",
      "find model: ./insightface_func/models/antelope/glintr100.onnx recognition\n",
      "find model: ./insightface_func/models/antelope/scrfd_10g_bnkps.onnx detection\n",
      "set det-size: (640, 640)\n",
      "loading ./coordinate_reg/model/2d106det 0\n",
      "input mean and std: 127.5 127.5\n",
      "find model: ./insightface_func/models/antelope/glintr100.onnx recognition\n",
      "find model: ./insightface_func/models/antelope/scrfd_10g_bnkps.onnx detection\n",
      "set det-size: (640, 640)\n",
      "Everything is ok!\n",
      "1\n"
     ]
    },
    {
     "name": "stderr",
     "output_type": "stream",
     "text": [
      "[02:20:05] /work/mxnet/src/nnvm/legacy_json_util.cc:208: Loading symbol saved by previous version v1.5.0. Attempting to upgrade...\n",
      "[02:20:05] /work/mxnet/src/nnvm/legacy_json_util.cc:216: Symbol successfully upgraded!\n",
      "100%|██████████| 1/1 [00:00<00:00, 18.95it/s]\n",
      "1it [00:00, 743.28it/s]\n",
      "1it [00:00, 1754.94it/s]\n",
      "100%|██████████| 1/1 [00:00<00:00, 13.46it/s]\n",
      "100%|██████████| 1/1 [00:00<00:00, 5096.36it/s]\n",
      "/home/ubuntu-gpu/project/laboratory/ghost-train/.venv/lib/python3.8/site-packages/mxnet/ndarray/utils.py:141: DeprecationWarning: Please use `csr_matrix` from the `scipy.sparse` namespace, the `scipy.sparse.csr` namespace is deprecated.\n",
      "  if spsp is not None and isinstance(source_array, spsp.csr.csr_matrix):\n",
      "/home/ubuntu-gpu/project/laboratory/ghost-train/.venv/lib/python3.8/site-packages/mxnet/ndarray/utils.py:141: DeprecationWarning: Please use `csr_matrix` from the `scipy.sparse` namespace, the `scipy.sparse.csr` namespace is deprecated.\n",
      "  if spsp is not None and isinstance(source_array, spsp.csr.csr_matrix):\n"
     ]
    },
    {
     "name": "stdout",
     "output_type": "stream",
     "text": [
      "Image saved at examples/results/id85-enhanced9/result_source5_target15.png\n",
      "input mean and std: 127.5 127.5\n",
      "find model: ./insightface_func/models/antelope/glintr100.onnx recognition\n",
      "find model: ./insightface_func/models/antelope/scrfd_10g_bnkps.onnx detection\n",
      "set det-size: (640, 640)\n",
      "loading ./coordinate_reg/model/2d106det 0\n"
     ]
    },
    {
     "name": "stderr",
     "output_type": "stream",
     "text": [
      "[02:20:08] /work/mxnet/src/nnvm/legacy_json_util.cc:208: Loading symbol saved by previous version v1.5.0. Attempting to upgrade...\n",
      "[02:20:08] /work/mxnet/src/nnvm/legacy_json_util.cc:216: Symbol successfully upgraded!\n"
     ]
    },
    {
     "name": "stdout",
     "output_type": "stream",
     "text": [
      "input mean and std: 127.5 127.5\n",
      "find model: ./insightface_func/models/antelope/glintr100.onnx recognition\n",
      "find model: ./insightface_func/models/antelope/scrfd_10g_bnkps.onnx detection\n",
      "set det-size: (640, 640)\n",
      "Everything is ok!\n",
      "1\n"
     ]
    },
    {
     "name": "stderr",
     "output_type": "stream",
     "text": [
      "100%|██████████| 1/1 [00:00<00:00, 20.04it/s]\n",
      "1it [00:00, 290.32it/s]\n",
      "1it [00:00, 6105.25it/s]\n",
      "100%|██████████| 1/1 [00:00<00:00, 51.55it/s]\n",
      "100%|██████████| 1/1 [00:00<00:00, 19328.59it/s]\n",
      "/home/ubuntu-gpu/project/laboratory/ghost-train/.venv/lib/python3.8/site-packages/mxnet/ndarray/utils.py:141: DeprecationWarning: Please use `csr_matrix` from the `scipy.sparse` namespace, the `scipy.sparse.csr` namespace is deprecated.\n",
      "  if spsp is not None and isinstance(source_array, spsp.csr.csr_matrix):\n",
      "/home/ubuntu-gpu/project/laboratory/ghost-train/.venv/lib/python3.8/site-packages/mxnet/ndarray/utils.py:141: DeprecationWarning: Please use `csr_matrix` from the `scipy.sparse` namespace, the `scipy.sparse.csr` namespace is deprecated.\n",
      "  if spsp is not None and isinstance(source_array, spsp.csr.csr_matrix):\n"
     ]
    },
    {
     "name": "stdout",
     "output_type": "stream",
     "text": [
      "Image saved at examples/results/id85-enhanced9/result_source5_target16.png\n",
      "input mean and std: 127.5 127.5\n",
      "find model: ./insightface_func/models/antelope/glintr100.onnx recognition\n",
      "find model: ./insightface_func/models/antelope/scrfd_10g_bnkps.onnx detection\n",
      "set det-size: (640, 640)\n",
      "loading ./coordinate_reg/model/2d106det 0\n"
     ]
    },
    {
     "name": "stderr",
     "output_type": "stream",
     "text": [
      "[02:20:12] /work/mxnet/src/nnvm/legacy_json_util.cc:208: Loading symbol saved by previous version v1.5.0. Attempting to upgrade...\n",
      "[02:20:12] /work/mxnet/src/nnvm/legacy_json_util.cc:216: Symbol successfully upgraded!\n"
     ]
    },
    {
     "name": "stdout",
     "output_type": "stream",
     "text": [
      "input mean and std: 127.5 127.5\n",
      "find model: ./insightface_func/models/antelope/glintr100.onnx recognition\n",
      "find model: ./insightface_func/models/antelope/scrfd_10g_bnkps.onnx detection\n",
      "set det-size: (640, 640)\n",
      "Everything is ok!\n",
      "1\n"
     ]
    },
    {
     "name": "stderr",
     "output_type": "stream",
     "text": [
      "100%|██████████| 1/1 [00:00<00:00, 15.63it/s]\n",
      "1it [00:00, 556.94it/s]\n",
      "1it [00:00, 6307.22it/s]\n",
      "100%|██████████| 1/1 [00:00<00:00, 13.86it/s]\n",
      "100%|██████████| 1/1 [00:00<00:00, 22795.13it/s]\n",
      "/home/ubuntu-gpu/project/laboratory/ghost-train/.venv/lib/python3.8/site-packages/mxnet/ndarray/utils.py:141: DeprecationWarning: Please use `csr_matrix` from the `scipy.sparse` namespace, the `scipy.sparse.csr` namespace is deprecated.\n",
      "  if spsp is not None and isinstance(source_array, spsp.csr.csr_matrix):\n",
      "/home/ubuntu-gpu/project/laboratory/ghost-train/.venv/lib/python3.8/site-packages/mxnet/ndarray/utils.py:141: DeprecationWarning: Please use `csr_matrix` from the `scipy.sparse` namespace, the `scipy.sparse.csr` namespace is deprecated.\n",
      "  if spsp is not None and isinstance(source_array, spsp.csr.csr_matrix):\n"
     ]
    },
    {
     "name": "stdout",
     "output_type": "stream",
     "text": [
      "Image saved at examples/results/id85-enhanced9/result_source6_target0.png\n",
      "input mean and std: 127.5 127.5\n",
      "find model: ./insightface_func/models/antelope/glintr100.onnx recognition\n",
      "find model: ./insightface_func/models/antelope/scrfd_10g_bnkps.onnx detection\n",
      "set det-size: (640, 640)\n",
      "loading ./coordinate_reg/model/2d106det 0\n",
      "input mean and std: 127.5 127.5\n",
      "find model: ./insightface_func/models/antelope/glintr100.onnx recognition\n",
      "find model: ./insightface_func/models/antelope/scrfd_10g_bnkps.onnx detection\n",
      "set det-size: (640, 640)\n",
      "Everything is ok!\n",
      "1\n"
     ]
    },
    {
     "name": "stderr",
     "output_type": "stream",
     "text": [
      "[02:20:15] /work/mxnet/src/nnvm/legacy_json_util.cc:208: Loading symbol saved by previous version v1.5.0. Attempting to upgrade...\n",
      "[02:20:15] /work/mxnet/src/nnvm/legacy_json_util.cc:216: Symbol successfully upgraded!\n",
      "100%|██████████| 1/1 [00:00<00:00, 18.36it/s]\n",
      "1it [00:00, 540.36it/s]\n",
      "1it [00:00, 5874.38it/s]\n",
      "100%|██████████| 1/1 [00:00<00:00, 55.78it/s]\n",
      "100%|██████████| 1/1 [00:00<00:00, 15196.75it/s]\n",
      "/home/ubuntu-gpu/project/laboratory/ghost-train/.venv/lib/python3.8/site-packages/mxnet/ndarray/utils.py:141: DeprecationWarning: Please use `csr_matrix` from the `scipy.sparse` namespace, the `scipy.sparse.csr` namespace is deprecated.\n",
      "  if spsp is not None and isinstance(source_array, spsp.csr.csr_matrix):\n",
      "/home/ubuntu-gpu/project/laboratory/ghost-train/.venv/lib/python3.8/site-packages/mxnet/ndarray/utils.py:141: DeprecationWarning: Please use `csr_matrix` from the `scipy.sparse` namespace, the `scipy.sparse.csr` namespace is deprecated.\n",
      "  if spsp is not None and isinstance(source_array, spsp.csr.csr_matrix):\n"
     ]
    },
    {
     "name": "stdout",
     "output_type": "stream",
     "text": [
      "Image saved at examples/results/id85-enhanced9/result_source6_target1.png\n",
      "input mean and std: 127.5 127.5\n",
      "find model: ./insightface_func/models/antelope/glintr100.onnx recognition\n",
      "find model: ./insightface_func/models/antelope/scrfd_10g_bnkps.onnx detection\n",
      "set det-size: (640, 640)\n",
      "loading ./coordinate_reg/model/2d106det 0\n"
     ]
    },
    {
     "name": "stderr",
     "output_type": "stream",
     "text": [
      "[02:20:18] /work/mxnet/src/nnvm/legacy_json_util.cc:208: Loading symbol saved by previous version v1.5.0. Attempting to upgrade...\n",
      "[02:20:18] /work/mxnet/src/nnvm/legacy_json_util.cc:216: Symbol successfully upgraded!\n"
     ]
    },
    {
     "name": "stdout",
     "output_type": "stream",
     "text": [
      "input mean and std: 127.5 127.5\n",
      "find model: ./insightface_func/models/antelope/glintr100.onnx recognition\n",
      "find model: ./insightface_func/models/antelope/scrfd_10g_bnkps.onnx detection\n",
      "set det-size: (640, 640)\n",
      "Everything is ok!\n",
      "1\n"
     ]
    },
    {
     "name": "stderr",
     "output_type": "stream",
     "text": [
      "100%|██████████| 1/1 [00:00<00:00, 18.54it/s]\n",
      "1it [00:00, 535.53it/s]\n",
      "1it [00:00, 6204.59it/s]\n",
      "100%|██████████| 1/1 [00:00<00:00, 48.89it/s]\n",
      "100%|██████████| 1/1 [00:00<00:00, 22075.28it/s]\n",
      "/home/ubuntu-gpu/project/laboratory/ghost-train/.venv/lib/python3.8/site-packages/mxnet/ndarray/utils.py:141: DeprecationWarning: Please use `csr_matrix` from the `scipy.sparse` namespace, the `scipy.sparse.csr` namespace is deprecated.\n",
      "  if spsp is not None and isinstance(source_array, spsp.csr.csr_matrix):\n",
      "/home/ubuntu-gpu/project/laboratory/ghost-train/.venv/lib/python3.8/site-packages/mxnet/ndarray/utils.py:141: DeprecationWarning: Please use `csr_matrix` from the `scipy.sparse` namespace, the `scipy.sparse.csr` namespace is deprecated.\n",
      "  if spsp is not None and isinstance(source_array, spsp.csr.csr_matrix):\n"
     ]
    },
    {
     "name": "stdout",
     "output_type": "stream",
     "text": [
      "Image saved at examples/results/id85-enhanced9/result_source6_target2.png\n",
      "input mean and std: 127.5 127.5\n",
      "find model: ./insightface_func/models/antelope/glintr100.onnx recognition\n",
      "find model: ./insightface_func/models/antelope/scrfd_10g_bnkps.onnx detection\n",
      "set det-size: (640, 640)\n",
      "loading ./coordinate_reg/model/2d106det 0\n"
     ]
    },
    {
     "name": "stderr",
     "output_type": "stream",
     "text": [
      "[02:20:21] /work/mxnet/src/nnvm/legacy_json_util.cc:208: Loading symbol saved by previous version v1.5.0. Attempting to upgrade...\n",
      "[02:20:21] /work/mxnet/src/nnvm/legacy_json_util.cc:216: Symbol successfully upgraded!\n"
     ]
    },
    {
     "name": "stdout",
     "output_type": "stream",
     "text": [
      "input mean and std: 127.5 127.5\n",
      "find model: ./insightface_func/models/antelope/glintr100.onnx recognition\n",
      "find model: ./insightface_func/models/antelope/scrfd_10g_bnkps.onnx detection\n",
      "set det-size: (640, 640)\n",
      "Everything is ok!\n",
      "1\n"
     ]
    },
    {
     "name": "stderr",
     "output_type": "stream",
     "text": [
      "100%|██████████| 1/1 [00:00<00:00, 20.73it/s]\n",
      "1it [00:00, 523.37it/s]\n",
      "1it [00:00, 6615.62it/s]\n",
      "100%|██████████| 1/1 [00:00<00:00, 53.66it/s]\n",
      "100%|██████████| 1/1 [00:00<00:00, 21399.51it/s]\n",
      "/home/ubuntu-gpu/project/laboratory/ghost-train/.venv/lib/python3.8/site-packages/mxnet/ndarray/utils.py:141: DeprecationWarning: Please use `csr_matrix` from the `scipy.sparse` namespace, the `scipy.sparse.csr` namespace is deprecated.\n",
      "  if spsp is not None and isinstance(source_array, spsp.csr.csr_matrix):\n",
      "/home/ubuntu-gpu/project/laboratory/ghost-train/.venv/lib/python3.8/site-packages/mxnet/ndarray/utils.py:141: DeprecationWarning: Please use `csr_matrix` from the `scipy.sparse` namespace, the `scipy.sparse.csr` namespace is deprecated.\n",
      "  if spsp is not None and isinstance(source_array, spsp.csr.csr_matrix):\n"
     ]
    },
    {
     "name": "stdout",
     "output_type": "stream",
     "text": [
      "Image saved at examples/results/id85-enhanced9/result_source6_target3.png\n",
      "input mean and std: 127.5 127.5\n",
      "find model: ./insightface_func/models/antelope/glintr100.onnx recognition\n",
      "find model: ./insightface_func/models/antelope/scrfd_10g_bnkps.onnx detection\n",
      "set det-size: (640, 640)\n",
      "loading ./coordinate_reg/model/2d106det 0\n"
     ]
    },
    {
     "name": "stderr",
     "output_type": "stream",
     "text": [
      "[02:20:24] /work/mxnet/src/nnvm/legacy_json_util.cc:208: Loading symbol saved by previous version v1.5.0. Attempting to upgrade...\n",
      "[02:20:24] /work/mxnet/src/nnvm/legacy_json_util.cc:216: Symbol successfully upgraded!\n"
     ]
    },
    {
     "name": "stdout",
     "output_type": "stream",
     "text": [
      "input mean and std: 127.5 127.5\n",
      "find model: ./insightface_func/models/antelope/glintr100.onnx recognition\n",
      "find model: ./insightface_func/models/antelope/scrfd_10g_bnkps.onnx detection\n",
      "set det-size: (640, 640)\n",
      "Everything is ok!\n",
      "1\n"
     ]
    },
    {
     "name": "stderr",
     "output_type": "stream",
     "text": [
      "100%|██████████| 1/1 [00:00<00:00, 19.40it/s]\n",
      "1it [00:00, 303.50it/s]\n",
      "1it [00:00, 3983.19it/s]\n",
      "100%|██████████| 1/1 [00:00<00:00, 14.17it/s]\n",
      "100%|██████████| 1/1 [00:00<00:00, 15709.00it/s]\n",
      "/home/ubuntu-gpu/project/laboratory/ghost-train/.venv/lib/python3.8/site-packages/mxnet/ndarray/utils.py:141: DeprecationWarning: Please use `csr_matrix` from the `scipy.sparse` namespace, the `scipy.sparse.csr` namespace is deprecated.\n",
      "  if spsp is not None and isinstance(source_array, spsp.csr.csr_matrix):\n",
      "/home/ubuntu-gpu/project/laboratory/ghost-train/.venv/lib/python3.8/site-packages/mxnet/ndarray/utils.py:141: DeprecationWarning: Please use `csr_matrix` from the `scipy.sparse` namespace, the `scipy.sparse.csr` namespace is deprecated.\n",
      "  if spsp is not None and isinstance(source_array, spsp.csr.csr_matrix):\n"
     ]
    },
    {
     "name": "stdout",
     "output_type": "stream",
     "text": [
      "Image saved at examples/results/id85-enhanced9/result_source6_target4.png\n",
      "input mean and std: 127.5 127.5\n",
      "find model: ./insightface_func/models/antelope/glintr100.onnx recognition\n",
      "find model: ./insightface_func/models/antelope/scrfd_10g_bnkps.onnx detection\n",
      "set det-size: (640, 640)\n",
      "loading ./coordinate_reg/model/2d106det 0\n"
     ]
    },
    {
     "name": "stderr",
     "output_type": "stream",
     "text": [
      "[02:20:27] /work/mxnet/src/nnvm/legacy_json_util.cc:208: Loading symbol saved by previous version v1.5.0. Attempting to upgrade...\n",
      "[02:20:27] /work/mxnet/src/nnvm/legacy_json_util.cc:216: Symbol successfully upgraded!\n"
     ]
    },
    {
     "name": "stdout",
     "output_type": "stream",
     "text": [
      "input mean and std: 127.5 127.5\n",
      "find model: ./insightface_func/models/antelope/glintr100.onnx recognition\n",
      "find model: ./insightface_func/models/antelope/scrfd_10g_bnkps.onnx detection\n",
      "set det-size: (640, 640)\n",
      "Everything is ok!\n",
      "1\n"
     ]
    },
    {
     "name": "stderr",
     "output_type": "stream",
     "text": [
      "100%|██████████| 1/1 [00:00<00:00, 17.88it/s]\n",
      "1it [00:00, 260.19it/s]\n",
      "1it [00:00, 4017.53it/s]\n",
      "100%|██████████| 1/1 [00:00<00:00, 14.18it/s]\n",
      "100%|██████████| 1/1 [00:00<00:00, 20763.88it/s]\n",
      "/home/ubuntu-gpu/project/laboratory/ghost-train/.venv/lib/python3.8/site-packages/mxnet/ndarray/utils.py:141: DeprecationWarning: Please use `csr_matrix` from the `scipy.sparse` namespace, the `scipy.sparse.csr` namespace is deprecated.\n",
      "  if spsp is not None and isinstance(source_array, spsp.csr.csr_matrix):\n",
      "/home/ubuntu-gpu/project/laboratory/ghost-train/.venv/lib/python3.8/site-packages/mxnet/ndarray/utils.py:141: DeprecationWarning: Please use `csr_matrix` from the `scipy.sparse` namespace, the `scipy.sparse.csr` namespace is deprecated.\n",
      "  if spsp is not None and isinstance(source_array, spsp.csr.csr_matrix):\n"
     ]
    },
    {
     "name": "stdout",
     "output_type": "stream",
     "text": [
      "Image saved at examples/results/id85-enhanced9/result_source6_target5.png\n",
      "input mean and std: 127.5 127.5\n",
      "find model: ./insightface_func/models/antelope/glintr100.onnx recognition\n",
      "find model: ./insightface_func/models/antelope/scrfd_10g_bnkps.onnx detection\n",
      "set det-size: (640, 640)\n",
      "loading ./coordinate_reg/model/2d106det 0\n",
      "input mean and std: 127.5 127.5\n",
      "find model: ./insightface_func/models/antelope/glintr100.onnx recognition\n",
      "find model: ./insightface_func/models/antelope/scrfd_10g_bnkps.onnx detection\n",
      "set det-size: (640, 640)\n",
      "Everything is ok!\n",
      "1\n"
     ]
    },
    {
     "name": "stderr",
     "output_type": "stream",
     "text": [
      "[02:20:30] /work/mxnet/src/nnvm/legacy_json_util.cc:208: Loading symbol saved by previous version v1.5.0. Attempting to upgrade...\n",
      "[02:20:30] /work/mxnet/src/nnvm/legacy_json_util.cc:216: Symbol successfully upgraded!\n",
      "100%|██████████| 1/1 [00:00<00:00, 16.57it/s]\n",
      "1it [00:00, 349.70it/s]\n",
      "1it [00:00, 5849.80it/s]\n",
      "100%|██████████| 1/1 [00:00<00:00, 53.50it/s]\n",
      "100%|██████████| 1/1 [00:00<00:00, 15768.06it/s]\n",
      "/home/ubuntu-gpu/project/laboratory/ghost-train/.venv/lib/python3.8/site-packages/mxnet/ndarray/utils.py:141: DeprecationWarning: Please use `csr_matrix` from the `scipy.sparse` namespace, the `scipy.sparse.csr` namespace is deprecated.\n",
      "  if spsp is not None and isinstance(source_array, spsp.csr.csr_matrix):\n",
      "/home/ubuntu-gpu/project/laboratory/ghost-train/.venv/lib/python3.8/site-packages/mxnet/ndarray/utils.py:141: DeprecationWarning: Please use `csr_matrix` from the `scipy.sparse` namespace, the `scipy.sparse.csr` namespace is deprecated.\n",
      "  if spsp is not None and isinstance(source_array, spsp.csr.csr_matrix):\n"
     ]
    },
    {
     "name": "stdout",
     "output_type": "stream",
     "text": [
      "Image saved at examples/results/id85-enhanced9/result_source6_target6.png\n",
      "input mean and std: 127.5 127.5\n",
      "find model: ./insightface_func/models/antelope/glintr100.onnx recognition\n",
      "find model: ./insightface_func/models/antelope/scrfd_10g_bnkps.onnx detection\n",
      "set det-size: (640, 640)\n",
      "loading ./coordinate_reg/model/2d106det 0\n"
     ]
    },
    {
     "name": "stderr",
     "output_type": "stream",
     "text": [
      "[02:20:33] /work/mxnet/src/nnvm/legacy_json_util.cc:208: Loading symbol saved by previous version v1.5.0. Attempting to upgrade...\n",
      "[02:20:33] /work/mxnet/src/nnvm/legacy_json_util.cc:216: Symbol successfully upgraded!\n"
     ]
    },
    {
     "name": "stdout",
     "output_type": "stream",
     "text": [
      "input mean and std: 127.5 127.5\n",
      "find model: ./insightface_func/models/antelope/glintr100.onnx recognition\n",
      "find model: ./insightface_func/models/antelope/scrfd_10g_bnkps.onnx detection\n",
      "set det-size: (640, 640)\n",
      "Everything is ok!\n",
      "1\n"
     ]
    },
    {
     "name": "stderr",
     "output_type": "stream",
     "text": [
      "100%|██████████| 1/1 [00:00<00:00, 18.51it/s]\n",
      "1it [00:00, 820.32it/s]\n",
      "1it [00:00, 3521.67it/s]\n",
      "100%|██████████| 1/1 [00:00<00:00, 13.50it/s]\n",
      "100%|██████████| 1/1 [00:00<00:00, 14716.86it/s]\n",
      "/home/ubuntu-gpu/project/laboratory/ghost-train/.venv/lib/python3.8/site-packages/mxnet/ndarray/utils.py:141: DeprecationWarning: Please use `csr_matrix` from the `scipy.sparse` namespace, the `scipy.sparse.csr` namespace is deprecated.\n",
      "  if spsp is not None and isinstance(source_array, spsp.csr.csr_matrix):\n",
      "/home/ubuntu-gpu/project/laboratory/ghost-train/.venv/lib/python3.8/site-packages/mxnet/ndarray/utils.py:141: DeprecationWarning: Please use `csr_matrix` from the `scipy.sparse` namespace, the `scipy.sparse.csr` namespace is deprecated.\n",
      "  if spsp is not None and isinstance(source_array, spsp.csr.csr_matrix):\n"
     ]
    },
    {
     "name": "stdout",
     "output_type": "stream",
     "text": [
      "Image saved at examples/results/id85-enhanced9/result_source6_target7.png\n",
      "input mean and std: 127.5 127.5\n",
      "find model: ./insightface_func/models/antelope/glintr100.onnx recognition\n",
      "find model: ./insightface_func/models/antelope/scrfd_10g_bnkps.onnx detection\n",
      "set det-size: (640, 640)\n",
      "loading ./coordinate_reg/model/2d106det 0\n"
     ]
    },
    {
     "name": "stderr",
     "output_type": "stream",
     "text": [
      "[02:20:37] /work/mxnet/src/nnvm/legacy_json_util.cc:208: Loading symbol saved by previous version v1.5.0. Attempting to upgrade...\n",
      "[02:20:37] /work/mxnet/src/nnvm/legacy_json_util.cc:216: Symbol successfully upgraded!\n"
     ]
    },
    {
     "name": "stdout",
     "output_type": "stream",
     "text": [
      "input mean and std: 127.5 127.5\n",
      "find model: ./insightface_func/models/antelope/glintr100.onnx recognition\n",
      "find model: ./insightface_func/models/antelope/scrfd_10g_bnkps.onnx detection\n",
      "set det-size: (640, 640)\n",
      "Everything is ok!\n",
      "1\n"
     ]
    },
    {
     "name": "stderr",
     "output_type": "stream",
     "text": [
      "100%|██████████| 1/1 [00:00<00:00, 19.53it/s]\n",
      "1it [00:00, 514.51it/s]\n",
      "1it [00:00, 5433.04it/s]\n",
      "100%|██████████| 1/1 [00:00<00:00, 45.89it/s]\n",
      "100%|██████████| 1/1 [00:00<00:00, 18558.87it/s]\n",
      "/home/ubuntu-gpu/project/laboratory/ghost-train/.venv/lib/python3.8/site-packages/mxnet/ndarray/utils.py:141: DeprecationWarning: Please use `csr_matrix` from the `scipy.sparse` namespace, the `scipy.sparse.csr` namespace is deprecated.\n",
      "  if spsp is not None and isinstance(source_array, spsp.csr.csr_matrix):\n",
      "/home/ubuntu-gpu/project/laboratory/ghost-train/.venv/lib/python3.8/site-packages/mxnet/ndarray/utils.py:141: DeprecationWarning: Please use `csr_matrix` from the `scipy.sparse` namespace, the `scipy.sparse.csr` namespace is deprecated.\n",
      "  if spsp is not None and isinstance(source_array, spsp.csr.csr_matrix):\n"
     ]
    },
    {
     "name": "stdout",
     "output_type": "stream",
     "text": [
      "Image saved at examples/results/id85-enhanced9/result_source6_target8.png\n",
      "input mean and std: 127.5 127.5\n",
      "find model: ./insightface_func/models/antelope/glintr100.onnx recognition\n",
      "find model: ./insightface_func/models/antelope/scrfd_10g_bnkps.onnx detection\n",
      "set det-size: (640, 640)\n",
      "loading ./coordinate_reg/model/2d106det 0\n"
     ]
    },
    {
     "name": "stderr",
     "output_type": "stream",
     "text": [
      "[02:20:40] /work/mxnet/src/nnvm/legacy_json_util.cc:208: Loading symbol saved by previous version v1.5.0. Attempting to upgrade...\n",
      "[02:20:40] /work/mxnet/src/nnvm/legacy_json_util.cc:216: Symbol successfully upgraded!\n"
     ]
    },
    {
     "name": "stdout",
     "output_type": "stream",
     "text": [
      "input mean and std: 127.5 127.5\n",
      "find model: ./insightface_func/models/antelope/glintr100.onnx recognition\n",
      "find model: ./insightface_func/models/antelope/scrfd_10g_bnkps.onnx detection\n",
      "set det-size: (640, 640)\n",
      "Everything is ok!\n",
      "1\n"
     ]
    },
    {
     "name": "stderr",
     "output_type": "stream",
     "text": [
      "100%|██████████| 1/1 [00:00<00:00, 17.89it/s]\n",
      "1it [00:00, 437.96it/s]\n",
      "1it [00:00, 4355.46it/s]\n",
      "100%|██████████| 1/1 [00:00<00:00, 13.57it/s]\n",
      "100%|██████████| 1/1 [00:00<00:00, 19152.07it/s]\n",
      "/home/ubuntu-gpu/project/laboratory/ghost-train/.venv/lib/python3.8/site-packages/mxnet/ndarray/utils.py:141: DeprecationWarning: Please use `csr_matrix` from the `scipy.sparse` namespace, the `scipy.sparse.csr` namespace is deprecated.\n",
      "  if spsp is not None and isinstance(source_array, spsp.csr.csr_matrix):\n",
      "/home/ubuntu-gpu/project/laboratory/ghost-train/.venv/lib/python3.8/site-packages/mxnet/ndarray/utils.py:141: DeprecationWarning: Please use `csr_matrix` from the `scipy.sparse` namespace, the `scipy.sparse.csr` namespace is deprecated.\n",
      "  if spsp is not None and isinstance(source_array, spsp.csr.csr_matrix):\n"
     ]
    },
    {
     "name": "stdout",
     "output_type": "stream",
     "text": [
      "Image saved at examples/results/id85-enhanced9/result_source6_target9.png\n",
      "input mean and std: 127.5 127.5\n",
      "find model: ./insightface_func/models/antelope/glintr100.onnx recognition\n",
      "find model: ./insightface_func/models/antelope/scrfd_10g_bnkps.onnx detection\n",
      "set det-size: (640, 640)\n",
      "loading ./coordinate_reg/model/2d106det 0\n"
     ]
    },
    {
     "name": "stderr",
     "output_type": "stream",
     "text": [
      "[02:20:43] /work/mxnet/src/nnvm/legacy_json_util.cc:208: Loading symbol saved by previous version v1.5.0. Attempting to upgrade...\n",
      "[02:20:43] /work/mxnet/src/nnvm/legacy_json_util.cc:216: Symbol successfully upgraded!\n"
     ]
    },
    {
     "name": "stdout",
     "output_type": "stream",
     "text": [
      "input mean and std: 127.5 127.5\n",
      "find model: ./insightface_func/models/antelope/glintr100.onnx recognition\n",
      "find model: ./insightface_func/models/antelope/scrfd_10g_bnkps.onnx detection\n",
      "set det-size: (640, 640)\n",
      "Everything is ok!\n",
      "1\n"
     ]
    },
    {
     "name": "stderr",
     "output_type": "stream",
     "text": [
      "100%|██████████| 1/1 [00:00<00:00, 18.35it/s]\n",
      "1it [00:00, 733.14it/s]\n",
      "1it [00:00, 5660.33it/s]\n",
      "100%|██████████| 1/1 [00:00<00:00, 46.33it/s]\n",
      "100%|██████████| 1/1 [00:00<00:00, 14820.86it/s]\n",
      "/home/ubuntu-gpu/project/laboratory/ghost-train/.venv/lib/python3.8/site-packages/mxnet/ndarray/utils.py:141: DeprecationWarning: Please use `csr_matrix` from the `scipy.sparse` namespace, the `scipy.sparse.csr` namespace is deprecated.\n",
      "  if spsp is not None and isinstance(source_array, spsp.csr.csr_matrix):\n",
      "/home/ubuntu-gpu/project/laboratory/ghost-train/.venv/lib/python3.8/site-packages/mxnet/ndarray/utils.py:141: DeprecationWarning: Please use `csr_matrix` from the `scipy.sparse` namespace, the `scipy.sparse.csr` namespace is deprecated.\n",
      "  if spsp is not None and isinstance(source_array, spsp.csr.csr_matrix):\n"
     ]
    },
    {
     "name": "stdout",
     "output_type": "stream",
     "text": [
      "Image saved at examples/results/id85-enhanced9/result_source6_target10.png\n",
      "input mean and std: 127.5 127.5\n",
      "find model: ./insightface_func/models/antelope/glintr100.onnx recognition\n",
      "find model: ./insightface_func/models/antelope/scrfd_10g_bnkps.onnx detection\n",
      "set det-size: (640, 640)\n",
      "loading ./coordinate_reg/model/2d106det 0\n",
      "input mean and std: 127.5 127.5\n",
      "find model: ./insightface_func/models/antelope/glintr100.onnx recognition\n",
      "find model: ./insightface_func/models/antelope/scrfd_10g_bnkps.onnx detection\n",
      "set det-size: (640, 640)\n",
      "Everything is ok!\n",
      "1\n"
     ]
    },
    {
     "name": "stderr",
     "output_type": "stream",
     "text": [
      "[02:20:46] /work/mxnet/src/nnvm/legacy_json_util.cc:208: Loading symbol saved by previous version v1.5.0. Attempting to upgrade...\n",
      "[02:20:46] /work/mxnet/src/nnvm/legacy_json_util.cc:216: Symbol successfully upgraded!\n",
      "100%|██████████| 1/1 [00:00<00:00, 17.51it/s]\n",
      "1it [00:00, 772.15it/s]\n",
      "1it [00:00, 5907.47it/s]\n",
      "100%|██████████| 1/1 [00:00<00:00, 12.91it/s]\n",
      "100%|██████████| 1/1 [00:00<00:00, 9576.04it/s]\n",
      "/home/ubuntu-gpu/project/laboratory/ghost-train/.venv/lib/python3.8/site-packages/mxnet/ndarray/utils.py:141: DeprecationWarning: Please use `csr_matrix` from the `scipy.sparse` namespace, the `scipy.sparse.csr` namespace is deprecated.\n",
      "  if spsp is not None and isinstance(source_array, spsp.csr.csr_matrix):\n",
      "/home/ubuntu-gpu/project/laboratory/ghost-train/.venv/lib/python3.8/site-packages/mxnet/ndarray/utils.py:141: DeprecationWarning: Please use `csr_matrix` from the `scipy.sparse` namespace, the `scipy.sparse.csr` namespace is deprecated.\n",
      "  if spsp is not None and isinstance(source_array, spsp.csr.csr_matrix):\n"
     ]
    },
    {
     "name": "stdout",
     "output_type": "stream",
     "text": [
      "Image saved at examples/results/id85-enhanced9/result_source6_target11.png\n",
      "input mean and std: 127.5 127.5\n",
      "find model: ./insightface_func/models/antelope/glintr100.onnx recognition\n",
      "find model: ./insightface_func/models/antelope/scrfd_10g_bnkps.onnx detection\n",
      "set det-size: (640, 640)\n",
      "loading ./coordinate_reg/model/2d106det 0\n"
     ]
    },
    {
     "name": "stderr",
     "output_type": "stream",
     "text": [
      "[02:20:49] /work/mxnet/src/nnvm/legacy_json_util.cc:208: Loading symbol saved by previous version v1.5.0. Attempting to upgrade...\n",
      "[02:20:49] /work/mxnet/src/nnvm/legacy_json_util.cc:216: Symbol successfully upgraded!\n"
     ]
    },
    {
     "name": "stdout",
     "output_type": "stream",
     "text": [
      "input mean and std: 127.5 127.5\n",
      "find model: ./insightface_func/models/antelope/glintr100.onnx recognition\n",
      "find model: ./insightface_func/models/antelope/scrfd_10g_bnkps.onnx detection\n",
      "set det-size: (640, 640)\n",
      "Everything is ok!\n",
      "1\n"
     ]
    },
    {
     "name": "stderr",
     "output_type": "stream",
     "text": [
      "100%|██████████| 1/1 [00:00<00:00, 15.93it/s]\n",
      "1it [00:00, 557.60it/s]\n",
      "1it [00:00, 5890.88it/s]\n",
      "100%|██████████| 1/1 [00:00<00:00, 46.34it/s]\n",
      "100%|██████████| 1/1 [00:00<00:00, 10894.30it/s]\n",
      "/home/ubuntu-gpu/project/laboratory/ghost-train/.venv/lib/python3.8/site-packages/mxnet/ndarray/utils.py:141: DeprecationWarning: Please use `csr_matrix` from the `scipy.sparse` namespace, the `scipy.sparse.csr` namespace is deprecated.\n",
      "  if spsp is not None and isinstance(source_array, spsp.csr.csr_matrix):\n",
      "/home/ubuntu-gpu/project/laboratory/ghost-train/.venv/lib/python3.8/site-packages/mxnet/ndarray/utils.py:141: DeprecationWarning: Please use `csr_matrix` from the `scipy.sparse` namespace, the `scipy.sparse.csr` namespace is deprecated.\n",
      "  if spsp is not None and isinstance(source_array, spsp.csr.csr_matrix):\n"
     ]
    },
    {
     "name": "stdout",
     "output_type": "stream",
     "text": [
      "Image saved at examples/results/id85-enhanced9/result_source6_target12.png\n",
      "input mean and std: 127.5 127.5\n",
      "find model: ./insightface_func/models/antelope/glintr100.onnx recognition\n",
      "find model: ./insightface_func/models/antelope/scrfd_10g_bnkps.onnx detection\n",
      "set det-size: (640, 640)\n",
      "loading ./coordinate_reg/model/2d106det 0\n"
     ]
    },
    {
     "name": "stderr",
     "output_type": "stream",
     "text": [
      "[02:20:52] /work/mxnet/src/nnvm/legacy_json_util.cc:208: Loading symbol saved by previous version v1.5.0. Attempting to upgrade...\n",
      "[02:20:52] /work/mxnet/src/nnvm/legacy_json_util.cc:216: Symbol successfully upgraded!\n"
     ]
    },
    {
     "name": "stdout",
     "output_type": "stream",
     "text": [
      "input mean and std: 127.5 127.5\n",
      "find model: ./insightface_func/models/antelope/glintr100.onnx recognition\n",
      "find model: ./insightface_func/models/antelope/scrfd_10g_bnkps.onnx detection\n",
      "set det-size: (640, 640)\n",
      "Everything is ok!\n",
      "1\n"
     ]
    },
    {
     "name": "stderr",
     "output_type": "stream",
     "text": [
      "100%|██████████| 1/1 [00:00<00:00, 13.45it/s]\n",
      "1it [00:00, 380.95it/s]\n",
      "1it [00:00, 3855.06it/s]\n",
      "100%|██████████| 1/1 [00:00<00:00, 14.09it/s]\n",
      "100%|██████████| 1/1 [00:00<00:00, 22192.08it/s]\n",
      "/home/ubuntu-gpu/project/laboratory/ghost-train/.venv/lib/python3.8/site-packages/mxnet/ndarray/utils.py:141: DeprecationWarning: Please use `csr_matrix` from the `scipy.sparse` namespace, the `scipy.sparse.csr` namespace is deprecated.\n",
      "  if spsp is not None and isinstance(source_array, spsp.csr.csr_matrix):\n",
      "/home/ubuntu-gpu/project/laboratory/ghost-train/.venv/lib/python3.8/site-packages/mxnet/ndarray/utils.py:141: DeprecationWarning: Please use `csr_matrix` from the `scipy.sparse` namespace, the `scipy.sparse.csr` namespace is deprecated.\n",
      "  if spsp is not None and isinstance(source_array, spsp.csr.csr_matrix):\n"
     ]
    },
    {
     "name": "stdout",
     "output_type": "stream",
     "text": [
      "Image saved at examples/results/id85-enhanced9/result_source6_target13.png\n",
      "input mean and std: 127.5 127.5\n",
      "find model: ./insightface_func/models/antelope/glintr100.onnx recognition\n",
      "find model: ./insightface_func/models/antelope/scrfd_10g_bnkps.onnx detection\n",
      "set det-size: (640, 640)\n",
      "loading ./coordinate_reg/model/2d106det 0\n"
     ]
    },
    {
     "name": "stderr",
     "output_type": "stream",
     "text": [
      "[02:20:55] /work/mxnet/src/nnvm/legacy_json_util.cc:208: Loading symbol saved by previous version v1.5.0. Attempting to upgrade...\n",
      "[02:20:55] /work/mxnet/src/nnvm/legacy_json_util.cc:216: Symbol successfully upgraded!\n"
     ]
    },
    {
     "name": "stdout",
     "output_type": "stream",
     "text": [
      "input mean and std: 127.5 127.5\n",
      "find model: ./insightface_func/models/antelope/glintr100.onnx recognition\n",
      "find model: ./insightface_func/models/antelope/scrfd_10g_bnkps.onnx detection\n",
      "set det-size: (640, 640)\n",
      "Everything is ok!\n",
      "1\n"
     ]
    },
    {
     "name": "stderr",
     "output_type": "stream",
     "text": [
      "100%|██████████| 1/1 [00:00<00:00, 19.79it/s]\n",
      "1it [00:00, 449.94it/s]\n",
      "1it [00:00, 6563.86it/s]\n",
      "100%|██████████| 1/1 [00:00<00:00, 43.81it/s]\n",
      "100%|██████████| 1/1 [00:00<00:00, 16256.99it/s]\n",
      "/home/ubuntu-gpu/project/laboratory/ghost-train/.venv/lib/python3.8/site-packages/mxnet/ndarray/utils.py:141: DeprecationWarning: Please use `csr_matrix` from the `scipy.sparse` namespace, the `scipy.sparse.csr` namespace is deprecated.\n",
      "  if spsp is not None and isinstance(source_array, spsp.csr.csr_matrix):\n",
      "/home/ubuntu-gpu/project/laboratory/ghost-train/.venv/lib/python3.8/site-packages/mxnet/ndarray/utils.py:141: DeprecationWarning: Please use `csr_matrix` from the `scipy.sparse` namespace, the `scipy.sparse.csr` namespace is deprecated.\n",
      "  if spsp is not None and isinstance(source_array, spsp.csr.csr_matrix):\n"
     ]
    },
    {
     "name": "stdout",
     "output_type": "stream",
     "text": [
      "Image saved at examples/results/id85-enhanced9/result_source6_target14.png\n",
      "input mean and std: 127.5 127.5\n",
      "find model: ./insightface_func/models/antelope/glintr100.onnx recognition\n",
      "find model: ./insightface_func/models/antelope/scrfd_10g_bnkps.onnx detection\n",
      "set det-size: (640, 640)\n",
      "loading ./coordinate_reg/model/2d106det 0\n",
      "input mean and std: 127.5 127.5\n",
      "find model: ./insightface_func/models/antelope/glintr100.onnx recognition\n",
      "find model: ./insightface_func/models/antelope/scrfd_10g_bnkps.onnx detection\n",
      "set det-size: (640, 640)\n",
      "Everything is ok!\n",
      "1\n"
     ]
    },
    {
     "name": "stderr",
     "output_type": "stream",
     "text": [
      "[02:20:59] /work/mxnet/src/nnvm/legacy_json_util.cc:208: Loading symbol saved by previous version v1.5.0. Attempting to upgrade...\n",
      "[02:20:59] /work/mxnet/src/nnvm/legacy_json_util.cc:216: Symbol successfully upgraded!\n",
      "100%|██████████| 1/1 [00:00<00:00, 17.25it/s]\n",
      "1it [00:00, 463.25it/s]\n",
      "1it [00:00, 6689.48it/s]\n",
      "100%|██████████| 1/1 [00:00<00:00, 13.92it/s]\n",
      "100%|██████████| 1/1 [00:00<00:00, 19152.07it/s]\n",
      "/home/ubuntu-gpu/project/laboratory/ghost-train/.venv/lib/python3.8/site-packages/mxnet/ndarray/utils.py:141: DeprecationWarning: Please use `csr_matrix` from the `scipy.sparse` namespace, the `scipy.sparse.csr` namespace is deprecated.\n",
      "  if spsp is not None and isinstance(source_array, spsp.csr.csr_matrix):\n",
      "/home/ubuntu-gpu/project/laboratory/ghost-train/.venv/lib/python3.8/site-packages/mxnet/ndarray/utils.py:141: DeprecationWarning: Please use `csr_matrix` from the `scipy.sparse` namespace, the `scipy.sparse.csr` namespace is deprecated.\n",
      "  if spsp is not None and isinstance(source_array, spsp.csr.csr_matrix):\n"
     ]
    },
    {
     "name": "stdout",
     "output_type": "stream",
     "text": [
      "Image saved at examples/results/id85-enhanced9/result_source6_target15.png\n",
      "input mean and std: 127.5 127.5\n",
      "find model: ./insightface_func/models/antelope/glintr100.onnx recognition\n",
      "find model: ./insightface_func/models/antelope/scrfd_10g_bnkps.onnx detection\n",
      "set det-size: (640, 640)\n",
      "loading ./coordinate_reg/model/2d106det 0\n"
     ]
    },
    {
     "name": "stderr",
     "output_type": "stream",
     "text": [
      "[02:21:02] /work/mxnet/src/nnvm/legacy_json_util.cc:208: Loading symbol saved by previous version v1.5.0. Attempting to upgrade...\n",
      "[02:21:02] /work/mxnet/src/nnvm/legacy_json_util.cc:216: Symbol successfully upgraded!\n"
     ]
    },
    {
     "name": "stdout",
     "output_type": "stream",
     "text": [
      "input mean and std: 127.5 127.5\n",
      "find model: ./insightface_func/models/antelope/glintr100.onnx recognition\n",
      "find model: ./insightface_func/models/antelope/scrfd_10g_bnkps.onnx detection\n",
      "set det-size: (640, 640)\n",
      "Everything is ok!\n",
      "1\n"
     ]
    },
    {
     "name": "stderr",
     "output_type": "stream",
     "text": [
      "100%|██████████| 1/1 [00:00<00:00, 19.48it/s]\n",
      "1it [00:00, 994.62it/s]\n",
      "1it [00:00, 6168.09it/s]\n",
      "100%|██████████| 1/1 [00:00<00:00, 41.80it/s]\n",
      "100%|██████████| 1/1 [00:00<00:00, 20763.88it/s]\n",
      "/home/ubuntu-gpu/project/laboratory/ghost-train/.venv/lib/python3.8/site-packages/mxnet/ndarray/utils.py:141: DeprecationWarning: Please use `csr_matrix` from the `scipy.sparse` namespace, the `scipy.sparse.csr` namespace is deprecated.\n",
      "  if spsp is not None and isinstance(source_array, spsp.csr.csr_matrix):\n",
      "/home/ubuntu-gpu/project/laboratory/ghost-train/.venv/lib/python3.8/site-packages/mxnet/ndarray/utils.py:141: DeprecationWarning: Please use `csr_matrix` from the `scipy.sparse` namespace, the `scipy.sparse.csr` namespace is deprecated.\n",
      "  if spsp is not None and isinstance(source_array, spsp.csr.csr_matrix):\n"
     ]
    },
    {
     "name": "stdout",
     "output_type": "stream",
     "text": [
      "Image saved at examples/results/id85-enhanced9/result_source6_target16.png\n",
      "input mean and std: 127.5 127.5\n",
      "find model: ./insightface_func/models/antelope/glintr100.onnx recognition\n",
      "find model: ./insightface_func/models/antelope/scrfd_10g_bnkps.onnx detection\n",
      "set det-size: (640, 640)\n",
      "loading ./coordinate_reg/model/2d106det 0\n"
     ]
    },
    {
     "name": "stderr",
     "output_type": "stream",
     "text": [
      "[02:21:05] /work/mxnet/src/nnvm/legacy_json_util.cc:208: Loading symbol saved by previous version v1.5.0. Attempting to upgrade...\n",
      "[02:21:05] /work/mxnet/src/nnvm/legacy_json_util.cc:216: Symbol successfully upgraded!\n"
     ]
    },
    {
     "name": "stdout",
     "output_type": "stream",
     "text": [
      "input mean and std: 127.5 127.5\n",
      "find model: ./insightface_func/models/antelope/glintr100.onnx recognition\n",
      "find model: ./insightface_func/models/antelope/scrfd_10g_bnkps.onnx detection\n",
      "set det-size: (640, 640)\n",
      "Everything is ok!\n",
      "1\n"
     ]
    },
    {
     "name": "stderr",
     "output_type": "stream",
     "text": [
      "100%|██████████| 1/1 [00:00<00:00, 19.89it/s]\n",
      "1it [00:00, 562.31it/s]\n",
      "1it [00:00, 5983.32it/s]\n",
      "100%|██████████| 1/1 [00:00<00:00, 12.77it/s]\n",
      "100%|██████████| 1/1 [00:00<00:00, 14979.66it/s]\n",
      "/home/ubuntu-gpu/project/laboratory/ghost-train/.venv/lib/python3.8/site-packages/mxnet/ndarray/utils.py:141: DeprecationWarning: Please use `csr_matrix` from the `scipy.sparse` namespace, the `scipy.sparse.csr` namespace is deprecated.\n",
      "  if spsp is not None and isinstance(source_array, spsp.csr.csr_matrix):\n",
      "/home/ubuntu-gpu/project/laboratory/ghost-train/.venv/lib/python3.8/site-packages/mxnet/ndarray/utils.py:141: DeprecationWarning: Please use `csr_matrix` from the `scipy.sparse` namespace, the `scipy.sparse.csr` namespace is deprecated.\n",
      "  if spsp is not None and isinstance(source_array, spsp.csr.csr_matrix):\n"
     ]
    },
    {
     "name": "stdout",
     "output_type": "stream",
     "text": [
      "Image saved at examples/results/id85-enhanced9/result_source7_target0.png\n",
      "input mean and std: 127.5 127.5\n",
      "find model: ./insightface_func/models/antelope/glintr100.onnx recognition\n",
      "find model: ./insightface_func/models/antelope/scrfd_10g_bnkps.onnx detection\n",
      "set det-size: (640, 640)\n",
      "loading ./coordinate_reg/model/2d106det 0\n",
      "input mean and std: 127.5 127.5\n",
      "find model: ./insightface_func/models/antelope/glintr100.onnx recognition\n",
      "find model: ./insightface_func/models/antelope/scrfd_10g_bnkps.onnx detection\n",
      "set det-size: (640, 640)\n",
      "Everything is ok!\n",
      "1\n"
     ]
    },
    {
     "name": "stderr",
     "output_type": "stream",
     "text": [
      "[02:21:08] /work/mxnet/src/nnvm/legacy_json_util.cc:208: Loading symbol saved by previous version v1.5.0. Attempting to upgrade...\n",
      "[02:21:08] /work/mxnet/src/nnvm/legacy_json_util.cc:216: Symbol successfully upgraded!\n",
      "100%|██████████| 1/1 [00:00<00:00, 18.35it/s]\n",
      "1it [00:00, 243.13it/s]\n",
      "1it [00:00, 6605.20it/s]\n",
      "100%|██████████| 1/1 [00:00<00:00, 55.54it/s]\n",
      "100%|██████████| 1/1 [00:00<00:00, 23172.95it/s]\n",
      "/home/ubuntu-gpu/project/laboratory/ghost-train/.venv/lib/python3.8/site-packages/mxnet/ndarray/utils.py:141: DeprecationWarning: Please use `csr_matrix` from the `scipy.sparse` namespace, the `scipy.sparse.csr` namespace is deprecated.\n",
      "  if spsp is not None and isinstance(source_array, spsp.csr.csr_matrix):\n",
      "/home/ubuntu-gpu/project/laboratory/ghost-train/.venv/lib/python3.8/site-packages/mxnet/ndarray/utils.py:141: DeprecationWarning: Please use `csr_matrix` from the `scipy.sparse` namespace, the `scipy.sparse.csr` namespace is deprecated.\n",
      "  if spsp is not None and isinstance(source_array, spsp.csr.csr_matrix):\n"
     ]
    },
    {
     "name": "stdout",
     "output_type": "stream",
     "text": [
      "Image saved at examples/results/id85-enhanced9/result_source7_target1.png\n",
      "input mean and std: 127.5 127.5\n",
      "find model: ./insightface_func/models/antelope/glintr100.onnx recognition\n",
      "find model: ./insightface_func/models/antelope/scrfd_10g_bnkps.onnx detection\n",
      "set det-size: (640, 640)\n",
      "loading ./coordinate_reg/model/2d106det 0\n",
      "input mean and std: 127.5 127.5\n",
      "find model: ./insightface_func/models/antelope/glintr100.onnx recognition\n",
      "find model: ./insightface_func/models/antelope/scrfd_10g_bnkps.onnx detection\n",
      "set det-size: (640, 640)\n",
      "Everything is ok!\n",
      "1\n"
     ]
    },
    {
     "name": "stderr",
     "output_type": "stream",
     "text": [
      "[02:21:11] /work/mxnet/src/nnvm/legacy_json_util.cc:208: Loading symbol saved by previous version v1.5.0. Attempting to upgrade...\n",
      "[02:21:11] /work/mxnet/src/nnvm/legacy_json_util.cc:216: Symbol successfully upgraded!\n",
      "100%|██████████| 1/1 [00:00<00:00, 19.62it/s]\n",
      "1it [00:00, 278.65it/s]\n",
      "1it [00:00, 6909.89it/s]\n",
      "100%|██████████| 1/1 [00:00<00:00, 14.30it/s]\n",
      "100%|██████████| 1/1 [00:00<00:00, 15420.24it/s]\n",
      "/home/ubuntu-gpu/project/laboratory/ghost-train/.venv/lib/python3.8/site-packages/mxnet/ndarray/utils.py:141: DeprecationWarning: Please use `csr_matrix` from the `scipy.sparse` namespace, the `scipy.sparse.csr` namespace is deprecated.\n",
      "  if spsp is not None and isinstance(source_array, spsp.csr.csr_matrix):\n",
      "/home/ubuntu-gpu/project/laboratory/ghost-train/.venv/lib/python3.8/site-packages/mxnet/ndarray/utils.py:141: DeprecationWarning: Please use `csr_matrix` from the `scipy.sparse` namespace, the `scipy.sparse.csr` namespace is deprecated.\n",
      "  if spsp is not None and isinstance(source_array, spsp.csr.csr_matrix):\n"
     ]
    },
    {
     "name": "stdout",
     "output_type": "stream",
     "text": [
      "Image saved at examples/results/id85-enhanced9/result_source7_target2.png\n",
      "input mean and std: 127.5 127.5\n",
      "find model: ./insightface_func/models/antelope/glintr100.onnx recognition\n",
      "find model: ./insightface_func/models/antelope/scrfd_10g_bnkps.onnx detection\n",
      "set det-size: (640, 640)\n",
      "loading ./coordinate_reg/model/2d106det 0\n",
      "input mean and std: 127.5 127.5\n",
      "find model: ./insightface_func/models/antelope/glintr100.onnx recognition\n",
      "find model: ./insightface_func/models/antelope/scrfd_10g_bnkps.onnx detection\n",
      "set det-size: (640, 640)\n",
      "Everything is ok!\n",
      "1\n"
     ]
    },
    {
     "name": "stderr",
     "output_type": "stream",
     "text": [
      "[02:21:14] /work/mxnet/src/nnvm/legacy_json_util.cc:208: Loading symbol saved by previous version v1.5.0. Attempting to upgrade...\n",
      "[02:21:14] /work/mxnet/src/nnvm/legacy_json_util.cc:216: Symbol successfully upgraded!\n",
      "100%|██████████| 1/1 [00:00<00:00, 16.21it/s]\n",
      "1it [00:00, 892.60it/s]\n",
      "1it [00:00, 5504.34it/s]\n",
      "100%|██████████| 1/1 [00:00<00:00, 56.47it/s]\n",
      "100%|██████████| 1/1 [00:00<00:00, 14315.03it/s]\n",
      "/home/ubuntu-gpu/project/laboratory/ghost-train/.venv/lib/python3.8/site-packages/mxnet/ndarray/utils.py:141: DeprecationWarning: Please use `csr_matrix` from the `scipy.sparse` namespace, the `scipy.sparse.csr` namespace is deprecated.\n",
      "  if spsp is not None and isinstance(source_array, spsp.csr.csr_matrix):\n",
      "/home/ubuntu-gpu/project/laboratory/ghost-train/.venv/lib/python3.8/site-packages/mxnet/ndarray/utils.py:141: DeprecationWarning: Please use `csr_matrix` from the `scipy.sparse` namespace, the `scipy.sparse.csr` namespace is deprecated.\n",
      "  if spsp is not None and isinstance(source_array, spsp.csr.csr_matrix):\n"
     ]
    },
    {
     "name": "stdout",
     "output_type": "stream",
     "text": [
      "Image saved at examples/results/id85-enhanced9/result_source7_target3.png\n",
      "input mean and std: 127.5 127.5\n",
      "find model: ./insightface_func/models/antelope/glintr100.onnx recognition\n",
      "find model: ./insightface_func/models/antelope/scrfd_10g_bnkps.onnx detection\n",
      "set det-size: (640, 640)\n",
      "loading ./coordinate_reg/model/2d106det 0\n"
     ]
    },
    {
     "name": "stderr",
     "output_type": "stream",
     "text": [
      "[02:21:17] /work/mxnet/src/nnvm/legacy_json_util.cc:208: Loading symbol saved by previous version v1.5.0. Attempting to upgrade...\n",
      "[02:21:17] /work/mxnet/src/nnvm/legacy_json_util.cc:216: Symbol successfully upgraded!\n"
     ]
    },
    {
     "name": "stdout",
     "output_type": "stream",
     "text": [
      "input mean and std: 127.5 127.5\n",
      "find model: ./insightface_func/models/antelope/glintr100.onnx recognition\n",
      "find model: ./insightface_func/models/antelope/scrfd_10g_bnkps.onnx detection\n",
      "set det-size: (640, 640)\n",
      "Everything is ok!\n",
      "1\n"
     ]
    },
    {
     "name": "stderr",
     "output_type": "stream",
     "text": [
      "100%|██████████| 1/1 [00:00<00:00, 18.45it/s]\n",
      "1it [00:00, 650.18it/s]\n",
      "1it [00:00, 3761.71it/s]\n",
      "100%|██████████| 1/1 [00:00<00:00, 13.75it/s]\n",
      "100%|██████████| 1/1 [00:00<00:00, 16070.13it/s]\n",
      "/home/ubuntu-gpu/project/laboratory/ghost-train/.venv/lib/python3.8/site-packages/mxnet/ndarray/utils.py:141: DeprecationWarning: Please use `csr_matrix` from the `scipy.sparse` namespace, the `scipy.sparse.csr` namespace is deprecated.\n",
      "  if spsp is not None and isinstance(source_array, spsp.csr.csr_matrix):\n",
      "/home/ubuntu-gpu/project/laboratory/ghost-train/.venv/lib/python3.8/site-packages/mxnet/ndarray/utils.py:141: DeprecationWarning: Please use `csr_matrix` from the `scipy.sparse` namespace, the `scipy.sparse.csr` namespace is deprecated.\n",
      "  if spsp is not None and isinstance(source_array, spsp.csr.csr_matrix):\n"
     ]
    },
    {
     "name": "stdout",
     "output_type": "stream",
     "text": [
      "Image saved at examples/results/id85-enhanced9/result_source7_target4.png\n",
      "input mean and std: 127.5 127.5\n",
      "find model: ./insightface_func/models/antelope/glintr100.onnx recognition\n",
      "find model: ./insightface_func/models/antelope/scrfd_10g_bnkps.onnx detection\n",
      "set det-size: (640, 640)\n",
      "loading ./coordinate_reg/model/2d106det 0\n"
     ]
    },
    {
     "name": "stderr",
     "output_type": "stream",
     "text": [
      "[02:21:21] /work/mxnet/src/nnvm/legacy_json_util.cc:208: Loading symbol saved by previous version v1.5.0. Attempting to upgrade...\n",
      "[02:21:21] /work/mxnet/src/nnvm/legacy_json_util.cc:216: Symbol successfully upgraded!\n"
     ]
    },
    {
     "name": "stdout",
     "output_type": "stream",
     "text": [
      "input mean and std: 127.5 127.5\n",
      "find model: ./insightface_func/models/antelope/glintr100.onnx recognition\n",
      "find model: ./insightface_func/models/antelope/scrfd_10g_bnkps.onnx detection\n",
      "set det-size: (640, 640)\n",
      "Everything is ok!\n",
      "1\n"
     ]
    },
    {
     "name": "stderr",
     "output_type": "stream",
     "text": [
      "100%|██████████| 1/1 [00:00<00:00, 18.76it/s]\n",
      "1it [00:00, 714.17it/s]\n",
      "1it [00:00, 6990.51it/s]\n",
      "100%|██████████| 1/1 [00:00<00:00, 14.11it/s]\n",
      "100%|██████████| 1/1 [00:00<00:00, 11096.04it/s]\n",
      "/home/ubuntu-gpu/project/laboratory/ghost-train/.venv/lib/python3.8/site-packages/mxnet/ndarray/utils.py:141: DeprecationWarning: Please use `csr_matrix` from the `scipy.sparse` namespace, the `scipy.sparse.csr` namespace is deprecated.\n",
      "  if spsp is not None and isinstance(source_array, spsp.csr.csr_matrix):\n",
      "/home/ubuntu-gpu/project/laboratory/ghost-train/.venv/lib/python3.8/site-packages/mxnet/ndarray/utils.py:141: DeprecationWarning: Please use `csr_matrix` from the `scipy.sparse` namespace, the `scipy.sparse.csr` namespace is deprecated.\n",
      "  if spsp is not None and isinstance(source_array, spsp.csr.csr_matrix):\n"
     ]
    },
    {
     "name": "stdout",
     "output_type": "stream",
     "text": [
      "Image saved at examples/results/id85-enhanced9/result_source7_target5.png\n",
      "input mean and std: 127.5 127.5\n",
      "find model: ./insightface_func/models/antelope/glintr100.onnx recognition\n",
      "find model: ./insightface_func/models/antelope/scrfd_10g_bnkps.onnx detection\n",
      "set det-size: (640, 640)\n",
      "loading ./coordinate_reg/model/2d106det 0\n"
     ]
    },
    {
     "name": "stderr",
     "output_type": "stream",
     "text": [
      "[02:21:24] /work/mxnet/src/nnvm/legacy_json_util.cc:208: Loading symbol saved by previous version v1.5.0. Attempting to upgrade...\n",
      "[02:21:24] /work/mxnet/src/nnvm/legacy_json_util.cc:216: Symbol successfully upgraded!\n"
     ]
    },
    {
     "name": "stdout",
     "output_type": "stream",
     "text": [
      "input mean and std: 127.5 127.5\n",
      "find model: ./insightface_func/models/antelope/glintr100.onnx recognition\n",
      "find model: ./insightface_func/models/antelope/scrfd_10g_bnkps.onnx detection\n",
      "set det-size: (640, 640)\n",
      "Everything is ok!\n",
      "1\n"
     ]
    },
    {
     "name": "stderr",
     "output_type": "stream",
     "text": [
      "100%|██████████| 1/1 [00:00<00:00, 13.77it/s]\n",
      "1it [00:00, 944.88it/s]\n",
      "1it [00:00, 3578.76it/s]\n",
      "100%|██████████| 1/1 [00:00<00:00, 15.10it/s]\n",
      "100%|██████████| 1/1 [00:00<00:00, 22795.13it/s]\n",
      "/home/ubuntu-gpu/project/laboratory/ghost-train/.venv/lib/python3.8/site-packages/mxnet/ndarray/utils.py:141: DeprecationWarning: Please use `csr_matrix` from the `scipy.sparse` namespace, the `scipy.sparse.csr` namespace is deprecated.\n",
      "  if spsp is not None and isinstance(source_array, spsp.csr.csr_matrix):\n",
      "/home/ubuntu-gpu/project/laboratory/ghost-train/.venv/lib/python3.8/site-packages/mxnet/ndarray/utils.py:141: DeprecationWarning: Please use `csr_matrix` from the `scipy.sparse` namespace, the `scipy.sparse.csr` namespace is deprecated.\n",
      "  if spsp is not None and isinstance(source_array, spsp.csr.csr_matrix):\n"
     ]
    },
    {
     "name": "stdout",
     "output_type": "stream",
     "text": [
      "Image saved at examples/results/id85-enhanced9/result_source7_target6.png\n",
      "input mean and std: 127.5 127.5\n",
      "find model: ./insightface_func/models/antelope/glintr100.onnx recognition\n",
      "find model: ./insightface_func/models/antelope/scrfd_10g_bnkps.onnx detection\n",
      "set det-size: (640, 640)\n",
      "loading ./coordinate_reg/model/2d106det 0\n"
     ]
    },
    {
     "name": "stderr",
     "output_type": "stream",
     "text": [
      "[02:21:27] /work/mxnet/src/nnvm/legacy_json_util.cc:208: Loading symbol saved by previous version v1.5.0. Attempting to upgrade...\n",
      "[02:21:27] /work/mxnet/src/nnvm/legacy_json_util.cc:216: Symbol successfully upgraded!\n"
     ]
    },
    {
     "name": "stdout",
     "output_type": "stream",
     "text": [
      "input mean and std: 127.5 127.5\n",
      "find model: ./insightface_func/models/antelope/glintr100.onnx recognition\n",
      "find model: ./insightface_func/models/antelope/scrfd_10g_bnkps.onnx detection\n",
      "set det-size: (640, 640)\n",
      "Everything is ok!\n",
      "1\n"
     ]
    },
    {
     "name": "stderr",
     "output_type": "stream",
     "text": [
      "100%|██████████| 1/1 [00:00<00:00, 16.96it/s]\n",
      "1it [00:00, 593.17it/s]\n",
      "1it [00:00, 5165.40it/s]\n",
      "100%|██████████| 1/1 [00:00<00:00, 13.99it/s]\n",
      "100%|██████████| 1/1 [00:00<00:00, 13934.56it/s]\n",
      "/home/ubuntu-gpu/project/laboratory/ghost-train/.venv/lib/python3.8/site-packages/mxnet/ndarray/utils.py:141: DeprecationWarning: Please use `csr_matrix` from the `scipy.sparse` namespace, the `scipy.sparse.csr` namespace is deprecated.\n",
      "  if spsp is not None and isinstance(source_array, spsp.csr.csr_matrix):\n",
      "/home/ubuntu-gpu/project/laboratory/ghost-train/.venv/lib/python3.8/site-packages/mxnet/ndarray/utils.py:141: DeprecationWarning: Please use `csr_matrix` from the `scipy.sparse` namespace, the `scipy.sparse.csr` namespace is deprecated.\n",
      "  if spsp is not None and isinstance(source_array, spsp.csr.csr_matrix):\n"
     ]
    },
    {
     "name": "stdout",
     "output_type": "stream",
     "text": [
      "Image saved at examples/results/id85-enhanced9/result_source7_target7.png\n",
      "input mean and std: 127.5 127.5\n",
      "find model: ./insightface_func/models/antelope/glintr100.onnx recognition\n",
      "find model: ./insightface_func/models/antelope/scrfd_10g_bnkps.onnx detection\n",
      "set det-size: (640, 640)\n",
      "loading ./coordinate_reg/model/2d106det 0\n"
     ]
    },
    {
     "name": "stderr",
     "output_type": "stream",
     "text": [
      "[02:21:30] /work/mxnet/src/nnvm/legacy_json_util.cc:208: Loading symbol saved by previous version v1.5.0. Attempting to upgrade...\n",
      "[02:21:30] /work/mxnet/src/nnvm/legacy_json_util.cc:216: Symbol successfully upgraded!\n"
     ]
    },
    {
     "name": "stdout",
     "output_type": "stream",
     "text": [
      "input mean and std: 127.5 127.5\n",
      "find model: ./insightface_func/models/antelope/glintr100.onnx recognition\n",
      "find model: ./insightface_func/models/antelope/scrfd_10g_bnkps.onnx detection\n",
      "set det-size: (640, 640)\n",
      "Everything is ok!\n",
      "1\n"
     ]
    },
    {
     "name": "stderr",
     "output_type": "stream",
     "text": [
      "100%|██████████| 1/1 [00:00<00:00, 20.93it/s]\n",
      "1it [00:00, 811.12it/s]\n",
      "1it [00:00, 6078.70it/s]\n",
      "100%|██████████| 1/1 [00:00<00:00, 55.30it/s]\n",
      "100%|██████████| 1/1 [00:00<00:00, 19972.88it/s]\n",
      "/home/ubuntu-gpu/project/laboratory/ghost-train/.venv/lib/python3.8/site-packages/mxnet/ndarray/utils.py:141: DeprecationWarning: Please use `csr_matrix` from the `scipy.sparse` namespace, the `scipy.sparse.csr` namespace is deprecated.\n",
      "  if spsp is not None and isinstance(source_array, spsp.csr.csr_matrix):\n",
      "/home/ubuntu-gpu/project/laboratory/ghost-train/.venv/lib/python3.8/site-packages/mxnet/ndarray/utils.py:141: DeprecationWarning: Please use `csr_matrix` from the `scipy.sparse` namespace, the `scipy.sparse.csr` namespace is deprecated.\n",
      "  if spsp is not None and isinstance(source_array, spsp.csr.csr_matrix):\n"
     ]
    },
    {
     "name": "stdout",
     "output_type": "stream",
     "text": [
      "Image saved at examples/results/id85-enhanced9/result_source7_target8.png\n",
      "input mean and std: 127.5 127.5\n",
      "find model: ./insightface_func/models/antelope/glintr100.onnx recognition\n",
      "find model: ./insightface_func/models/antelope/scrfd_10g_bnkps.onnx detection\n",
      "set det-size: (640, 640)\n",
      "loading ./coordinate_reg/model/2d106det 0\n"
     ]
    },
    {
     "name": "stderr",
     "output_type": "stream",
     "text": [
      "[02:21:33] /work/mxnet/src/nnvm/legacy_json_util.cc:208: Loading symbol saved by previous version v1.5.0. Attempting to upgrade...\n",
      "[02:21:33] /work/mxnet/src/nnvm/legacy_json_util.cc:216: Symbol successfully upgraded!\n"
     ]
    },
    {
     "name": "stdout",
     "output_type": "stream",
     "text": [
      "input mean and std: 127.5 127.5\n",
      "find model: ./insightface_func/models/antelope/glintr100.onnx recognition\n",
      "find model: ./insightface_func/models/antelope/scrfd_10g_bnkps.onnx detection\n",
      "set det-size: (640, 640)\n",
      "Everything is ok!\n",
      "1\n"
     ]
    },
    {
     "name": "stderr",
     "output_type": "stream",
     "text": [
      "100%|██████████| 1/1 [00:00<00:00, 19.25it/s]\n",
      "1it [00:00, 478.31it/s]\n",
      "1it [00:00, 4987.28it/s]\n",
      "100%|██████████| 1/1 [00:00<00:00, 13.70it/s]\n",
      "100%|██████████| 1/1 [00:00<00:00, 18641.35it/s]\n",
      "/home/ubuntu-gpu/project/laboratory/ghost-train/.venv/lib/python3.8/site-packages/mxnet/ndarray/utils.py:141: DeprecationWarning: Please use `csr_matrix` from the `scipy.sparse` namespace, the `scipy.sparse.csr` namespace is deprecated.\n",
      "  if spsp is not None and isinstance(source_array, spsp.csr.csr_matrix):\n",
      "/home/ubuntu-gpu/project/laboratory/ghost-train/.venv/lib/python3.8/site-packages/mxnet/ndarray/utils.py:141: DeprecationWarning: Please use `csr_matrix` from the `scipy.sparse` namespace, the `scipy.sparse.csr` namespace is deprecated.\n",
      "  if spsp is not None and isinstance(source_array, spsp.csr.csr_matrix):\n"
     ]
    },
    {
     "name": "stdout",
     "output_type": "stream",
     "text": [
      "Image saved at examples/results/id85-enhanced9/result_source7_target9.png\n",
      "input mean and std: 127.5 127.5\n",
      "find model: ./insightface_func/models/antelope/glintr100.onnx recognition\n",
      "find model: ./insightface_func/models/antelope/scrfd_10g_bnkps.onnx detection\n",
      "set det-size: (640, 640)\n",
      "loading ./coordinate_reg/model/2d106det 0\n"
     ]
    },
    {
     "name": "stderr",
     "output_type": "stream",
     "text": [
      "[02:21:36] /work/mxnet/src/nnvm/legacy_json_util.cc:208: Loading symbol saved by previous version v1.5.0. Attempting to upgrade...\n",
      "[02:21:36] /work/mxnet/src/nnvm/legacy_json_util.cc:216: Symbol successfully upgraded!\n"
     ]
    },
    {
     "name": "stdout",
     "output_type": "stream",
     "text": [
      "input mean and std: 127.5 127.5\n",
      "find model: ./insightface_func/models/antelope/glintr100.onnx recognition\n",
      "find model: ./insightface_func/models/antelope/scrfd_10g_bnkps.onnx detection\n",
      "set det-size: (640, 640)\n",
      "Everything is ok!\n",
      "1\n"
     ]
    },
    {
     "name": "stderr",
     "output_type": "stream",
     "text": [
      "100%|██████████| 1/1 [00:00<00:00, 16.59it/s]\n",
      "1it [00:00, 235.69it/s]\n",
      "1it [00:00, 6204.59it/s]\n",
      "100%|██████████| 1/1 [00:00<00:00, 56.10it/s]\n",
      "100%|██████████| 1/1 [00:00<00:00, 15887.52it/s]\n",
      "/home/ubuntu-gpu/project/laboratory/ghost-train/.venv/lib/python3.8/site-packages/mxnet/ndarray/utils.py:141: DeprecationWarning: Please use `csr_matrix` from the `scipy.sparse` namespace, the `scipy.sparse.csr` namespace is deprecated.\n",
      "  if spsp is not None and isinstance(source_array, spsp.csr.csr_matrix):\n",
      "/home/ubuntu-gpu/project/laboratory/ghost-train/.venv/lib/python3.8/site-packages/mxnet/ndarray/utils.py:141: DeprecationWarning: Please use `csr_matrix` from the `scipy.sparse` namespace, the `scipy.sparse.csr` namespace is deprecated.\n",
      "  if spsp is not None and isinstance(source_array, spsp.csr.csr_matrix):\n"
     ]
    },
    {
     "name": "stdout",
     "output_type": "stream",
     "text": [
      "Image saved at examples/results/id85-enhanced9/result_source7_target10.png\n",
      "input mean and std: 127.5 127.5\n",
      "find model: ./insightface_func/models/antelope/glintr100.onnx recognition\n",
      "find model: ./insightface_func/models/antelope/scrfd_10g_bnkps.onnx detection\n",
      "set det-size: (640, 640)\n",
      "loading ./coordinate_reg/model/2d106det 0\n",
      "input mean and std: 127.5 127.5\n",
      "find model: ./insightface_func/models/antelope/glintr100.onnx recognition\n",
      "find model: ./insightface_func/models/antelope/scrfd_10g_bnkps.onnx detection\n",
      "set det-size: (640, 640)\n",
      "Everything is ok!\n",
      "1\n"
     ]
    },
    {
     "name": "stderr",
     "output_type": "stream",
     "text": [
      "[02:21:39] /work/mxnet/src/nnvm/legacy_json_util.cc:208: Loading symbol saved by previous version v1.5.0. Attempting to upgrade...\n",
      "[02:21:39] /work/mxnet/src/nnvm/legacy_json_util.cc:216: Symbol successfully upgraded!\n",
      "100%|██████████| 1/1 [00:00<00:00, 12.15it/s]\n",
      "1it [00:00, 208.99it/s]\n",
      "1it [00:00, 5570.12it/s]\n",
      "100%|██████████| 1/1 [00:00<00:00, 13.40it/s]\n",
      "100%|██████████| 1/1 [00:00<00:00, 15307.68it/s]\n",
      "/home/ubuntu-gpu/project/laboratory/ghost-train/.venv/lib/python3.8/site-packages/mxnet/ndarray/utils.py:141: DeprecationWarning: Please use `csr_matrix` from the `scipy.sparse` namespace, the `scipy.sparse.csr` namespace is deprecated.\n",
      "  if spsp is not None and isinstance(source_array, spsp.csr.csr_matrix):\n",
      "/home/ubuntu-gpu/project/laboratory/ghost-train/.venv/lib/python3.8/site-packages/mxnet/ndarray/utils.py:141: DeprecationWarning: Please use `csr_matrix` from the `scipy.sparse` namespace, the `scipy.sparse.csr` namespace is deprecated.\n",
      "  if spsp is not None and isinstance(source_array, spsp.csr.csr_matrix):\n"
     ]
    },
    {
     "name": "stdout",
     "output_type": "stream",
     "text": [
      "Image saved at examples/results/id85-enhanced9/result_source7_target11.png\n",
      "input mean and std: 127.5 127.5\n",
      "find model: ./insightface_func/models/antelope/glintr100.onnx recognition\n",
      "find model: ./insightface_func/models/antelope/scrfd_10g_bnkps.onnx detection\n",
      "set det-size: (640, 640)\n",
      "loading ./coordinate_reg/model/2d106det 0\n"
     ]
    },
    {
     "name": "stderr",
     "output_type": "stream",
     "text": [
      "[02:21:43] /work/mxnet/src/nnvm/legacy_json_util.cc:208: Loading symbol saved by previous version v1.5.0. Attempting to upgrade...\n",
      "[02:21:43] /work/mxnet/src/nnvm/legacy_json_util.cc:216: Symbol successfully upgraded!\n"
     ]
    },
    {
     "name": "stdout",
     "output_type": "stream",
     "text": [
      "input mean and std: 127.5 127.5\n",
      "find model: ./insightface_func/models/antelope/glintr100.onnx recognition\n",
      "find model: ./insightface_func/models/antelope/scrfd_10g_bnkps.onnx detection\n",
      "set det-size: (640, 640)\n",
      "Everything is ok!\n",
      "1\n"
     ]
    },
    {
     "name": "stderr",
     "output_type": "stream",
     "text": [
      "100%|██████████| 1/1 [00:00<00:00, 16.42it/s]\n",
      "1it [00:00, 894.50it/s]\n",
      "1it [00:00, 5468.45it/s]\n",
      "100%|██████████| 1/1 [00:00<00:00, 46.30it/s]\n",
      "100%|██████████| 1/1 [00:00<00:00, 18808.54it/s]\n",
      "/home/ubuntu-gpu/project/laboratory/ghost-train/.venv/lib/python3.8/site-packages/mxnet/ndarray/utils.py:141: DeprecationWarning: Please use `csr_matrix` from the `scipy.sparse` namespace, the `scipy.sparse.csr` namespace is deprecated.\n",
      "  if spsp is not None and isinstance(source_array, spsp.csr.csr_matrix):\n",
      "/home/ubuntu-gpu/project/laboratory/ghost-train/.venv/lib/python3.8/site-packages/mxnet/ndarray/utils.py:141: DeprecationWarning: Please use `csr_matrix` from the `scipy.sparse` namespace, the `scipy.sparse.csr` namespace is deprecated.\n",
      "  if spsp is not None and isinstance(source_array, spsp.csr.csr_matrix):\n"
     ]
    },
    {
     "name": "stdout",
     "output_type": "stream",
     "text": [
      "Image saved at examples/results/id85-enhanced9/result_source7_target12.png\n",
      "input mean and std: 127.5 127.5\n",
      "find model: ./insightface_func/models/antelope/glintr100.onnx recognition\n",
      "find model: ./insightface_func/models/antelope/scrfd_10g_bnkps.onnx detection\n",
      "set det-size: (640, 640)\n",
      "loading ./coordinate_reg/model/2d106det 0\n"
     ]
    },
    {
     "name": "stderr",
     "output_type": "stream",
     "text": [
      "[02:21:46] /work/mxnet/src/nnvm/legacy_json_util.cc:208: Loading symbol saved by previous version v1.5.0. Attempting to upgrade...\n",
      "[02:21:46] /work/mxnet/src/nnvm/legacy_json_util.cc:216: Symbol successfully upgraded!\n"
     ]
    },
    {
     "name": "stdout",
     "output_type": "stream",
     "text": [
      "input mean and std: 127.5 127.5\n",
      "find model: ./insightface_func/models/antelope/glintr100.onnx recognition\n",
      "find model: ./insightface_func/models/antelope/scrfd_10g_bnkps.onnx detection\n",
      "set det-size: (640, 640)\n",
      "Everything is ok!\n",
      "1\n"
     ]
    },
    {
     "name": "stderr",
     "output_type": "stream",
     "text": [
      "100%|██████████| 1/1 [00:00<00:00, 19.75it/s]\n",
      "1it [00:00, 178.75it/s]\n",
      "1it [00:00, 3109.19it/s]\n",
      "100%|██████████| 1/1 [00:00<00:00, 55.56it/s]\n",
      "100%|██████████| 1/1 [00:00<00:00, 22795.13it/s]\n",
      "/home/ubuntu-gpu/project/laboratory/ghost-train/.venv/lib/python3.8/site-packages/mxnet/ndarray/utils.py:141: DeprecationWarning: Please use `csr_matrix` from the `scipy.sparse` namespace, the `scipy.sparse.csr` namespace is deprecated.\n",
      "  if spsp is not None and isinstance(source_array, spsp.csr.csr_matrix):\n",
      "/home/ubuntu-gpu/project/laboratory/ghost-train/.venv/lib/python3.8/site-packages/mxnet/ndarray/utils.py:141: DeprecationWarning: Please use `csr_matrix` from the `scipy.sparse` namespace, the `scipy.sparse.csr` namespace is deprecated.\n",
      "  if spsp is not None and isinstance(source_array, spsp.csr.csr_matrix):\n"
     ]
    },
    {
     "name": "stdout",
     "output_type": "stream",
     "text": [
      "Image saved at examples/results/id85-enhanced9/result_source7_target13.png\n",
      "input mean and std: 127.5 127.5\n",
      "find model: ./insightface_func/models/antelope/glintr100.onnx recognition\n",
      "find model: ./insightface_func/models/antelope/scrfd_10g_bnkps.onnx detection\n",
      "set det-size: (640, 640)\n",
      "loading ./coordinate_reg/model/2d106det 0\n",
      "input mean and std: 127.5 127.5\n",
      "find model: ./insightface_func/models/antelope/glintr100.onnx recognition\n",
      "find model: ./insightface_func/models/antelope/scrfd_10g_bnkps.onnx detection\n",
      "set det-size: (640, 640)\n",
      "Everything is ok!\n",
      "1\n"
     ]
    },
    {
     "name": "stderr",
     "output_type": "stream",
     "text": [
      "[02:21:49] /work/mxnet/src/nnvm/legacy_json_util.cc:208: Loading symbol saved by previous version v1.5.0. Attempting to upgrade...\n",
      "[02:21:49] /work/mxnet/src/nnvm/legacy_json_util.cc:216: Symbol successfully upgraded!\n",
      "100%|██████████| 1/1 [00:00<00:00, 19.96it/s]\n",
      "1it [00:00, 930.21it/s]\n",
      "1it [00:00, 6316.72it/s]\n",
      "100%|██████████| 1/1 [00:00<00:00, 14.52it/s]\n",
      "100%|██████████| 1/1 [00:00<00:00, 18724.57it/s]\n",
      "/home/ubuntu-gpu/project/laboratory/ghost-train/.venv/lib/python3.8/site-packages/mxnet/ndarray/utils.py:141: DeprecationWarning: Please use `csr_matrix` from the `scipy.sparse` namespace, the `scipy.sparse.csr` namespace is deprecated.\n",
      "  if spsp is not None and isinstance(source_array, spsp.csr.csr_matrix):\n",
      "/home/ubuntu-gpu/project/laboratory/ghost-train/.venv/lib/python3.8/site-packages/mxnet/ndarray/utils.py:141: DeprecationWarning: Please use `csr_matrix` from the `scipy.sparse` namespace, the `scipy.sparse.csr` namespace is deprecated.\n",
      "  if spsp is not None and isinstance(source_array, spsp.csr.csr_matrix):\n"
     ]
    },
    {
     "name": "stdout",
     "output_type": "stream",
     "text": [
      "Image saved at examples/results/id85-enhanced9/result_source7_target14.png\n",
      "input mean and std: 127.5 127.5\n",
      "find model: ./insightface_func/models/antelope/glintr100.onnx recognition\n",
      "find model: ./insightface_func/models/antelope/scrfd_10g_bnkps.onnx detection\n",
      "set det-size: (640, 640)\n",
      "loading ./coordinate_reg/model/2d106det 0\n",
      "input mean and std: 127.5 127.5\n",
      "find model: ./insightface_func/models/antelope/glintr100.onnx recognition\n",
      "find model: ./insightface_func/models/antelope/scrfd_10g_bnkps.onnx detection\n",
      "set det-size: (640, 640)\n",
      "Everything is ok!\n",
      "1\n"
     ]
    },
    {
     "name": "stderr",
     "output_type": "stream",
     "text": [
      "[02:21:52] /work/mxnet/src/nnvm/legacy_json_util.cc:208: Loading symbol saved by previous version v1.5.0. Attempting to upgrade...\n",
      "[02:21:52] /work/mxnet/src/nnvm/legacy_json_util.cc:216: Symbol successfully upgraded!\n",
      "100%|██████████| 1/1 [00:00<00:00, 20.17it/s]\n",
      "1it [00:00, 532.75it/s]\n",
      "1it [00:00, 6384.02it/s]\n",
      "100%|██████████| 1/1 [00:00<00:00, 14.36it/s]\n",
      "100%|██████████| 1/1 [00:00<00:00, 17924.38it/s]\n",
      "/home/ubuntu-gpu/project/laboratory/ghost-train/.venv/lib/python3.8/site-packages/mxnet/ndarray/utils.py:141: DeprecationWarning: Please use `csr_matrix` from the `scipy.sparse` namespace, the `scipy.sparse.csr` namespace is deprecated.\n",
      "  if spsp is not None and isinstance(source_array, spsp.csr.csr_matrix):\n",
      "/home/ubuntu-gpu/project/laboratory/ghost-train/.venv/lib/python3.8/site-packages/mxnet/ndarray/utils.py:141: DeprecationWarning: Please use `csr_matrix` from the `scipy.sparse` namespace, the `scipy.sparse.csr` namespace is deprecated.\n",
      "  if spsp is not None and isinstance(source_array, spsp.csr.csr_matrix):\n"
     ]
    },
    {
     "name": "stdout",
     "output_type": "stream",
     "text": [
      "Image saved at examples/results/id85-enhanced9/result_source7_target15.png\n",
      "input mean and std: 127.5 127.5\n",
      "find model: ./insightface_func/models/antelope/glintr100.onnx recognition\n",
      "find model: ./insightface_func/models/antelope/scrfd_10g_bnkps.onnx detection\n",
      "set det-size: (640, 640)\n",
      "loading ./coordinate_reg/model/2d106det 0\n",
      "input mean and std: 127.5 127.5\n",
      "find model: ./insightface_func/models/antelope/glintr100.onnx recognition\n",
      "find model: ./insightface_func/models/antelope/scrfd_10g_bnkps.onnx detection\n",
      "set det-size: (640, 640)\n",
      "Everything is ok!\n",
      "1\n"
     ]
    },
    {
     "name": "stderr",
     "output_type": "stream",
     "text": [
      "[02:21:55] /work/mxnet/src/nnvm/legacy_json_util.cc:208: Loading symbol saved by previous version v1.5.0. Attempting to upgrade...\n",
      "[02:21:55] /work/mxnet/src/nnvm/legacy_json_util.cc:216: Symbol successfully upgraded!\n",
      "100%|██████████| 1/1 [00:00<00:00, 20.57it/s]\n",
      "1it [00:00, 853.89it/s]\n",
      "1it [00:00, 5599.87it/s]\n",
      "100%|██████████| 1/1 [00:00<00:00, 14.00it/s]\n",
      "100%|██████████| 1/1 [00:00<00:00, 20763.88it/s]\n",
      "/home/ubuntu-gpu/project/laboratory/ghost-train/.venv/lib/python3.8/site-packages/mxnet/ndarray/utils.py:141: DeprecationWarning: Please use `csr_matrix` from the `scipy.sparse` namespace, the `scipy.sparse.csr` namespace is deprecated.\n",
      "  if spsp is not None and isinstance(source_array, spsp.csr.csr_matrix):\n",
      "/home/ubuntu-gpu/project/laboratory/ghost-train/.venv/lib/python3.8/site-packages/mxnet/ndarray/utils.py:141: DeprecationWarning: Please use `csr_matrix` from the `scipy.sparse` namespace, the `scipy.sparse.csr` namespace is deprecated.\n",
      "  if spsp is not None and isinstance(source_array, spsp.csr.csr_matrix):\n"
     ]
    },
    {
     "name": "stdout",
     "output_type": "stream",
     "text": [
      "Image saved at examples/results/id85-enhanced9/result_source7_target16.png\n",
      "input mean and std: 127.5 127.5\n",
      "find model: ./insightface_func/models/antelope/glintr100.onnx recognition\n",
      "find model: ./insightface_func/models/antelope/scrfd_10g_bnkps.onnx detection\n",
      "set det-size: (640, 640)\n",
      "loading ./coordinate_reg/model/2d106det 0\n"
     ]
    },
    {
     "name": "stderr",
     "output_type": "stream",
     "text": [
      "[02:21:58] /work/mxnet/src/nnvm/legacy_json_util.cc:208: Loading symbol saved by previous version v1.5.0. Attempting to upgrade...\n",
      "[02:21:58] /work/mxnet/src/nnvm/legacy_json_util.cc:216: Symbol successfully upgraded!\n"
     ]
    },
    {
     "name": "stdout",
     "output_type": "stream",
     "text": [
      "input mean and std: 127.5 127.5\n",
      "find model: ./insightface_func/models/antelope/glintr100.onnx recognition\n",
      "find model: ./insightface_func/models/antelope/scrfd_10g_bnkps.onnx detection\n",
      "set det-size: (640, 640)\n",
      "Everything is ok!\n",
      "1\n"
     ]
    },
    {
     "name": "stderr",
     "output_type": "stream",
     "text": [
      "100%|██████████| 1/1 [00:00<00:00, 16.58it/s]\n",
      "1it [00:00, 961.78it/s]\n",
      "1it [00:00, 5761.41it/s]\n",
      "100%|██████████| 1/1 [00:00<00:00, 48.72it/s]\n",
      "100%|██████████| 1/1 [00:00<00:00, 20460.02it/s]\n",
      "/home/ubuntu-gpu/project/laboratory/ghost-train/.venv/lib/python3.8/site-packages/mxnet/ndarray/utils.py:141: DeprecationWarning: Please use `csr_matrix` from the `scipy.sparse` namespace, the `scipy.sparse.csr` namespace is deprecated.\n",
      "  if spsp is not None and isinstance(source_array, spsp.csr.csr_matrix):\n",
      "/home/ubuntu-gpu/project/laboratory/ghost-train/.venv/lib/python3.8/site-packages/mxnet/ndarray/utils.py:141: DeprecationWarning: Please use `csr_matrix` from the `scipy.sparse` namespace, the `scipy.sparse.csr` namespace is deprecated.\n",
      "  if spsp is not None and isinstance(source_array, spsp.csr.csr_matrix):\n"
     ]
    },
    {
     "name": "stdout",
     "output_type": "stream",
     "text": [
      "Image saved at examples/results/id85-enhanced9/result_source8_target0.png\n",
      "input mean and std: 127.5 127.5\n",
      "find model: ./insightface_func/models/antelope/glintr100.onnx recognition\n",
      "find model: ./insightface_func/models/antelope/scrfd_10g_bnkps.onnx detection\n",
      "set det-size: (640, 640)\n",
      "loading ./coordinate_reg/model/2d106det 0\n"
     ]
    },
    {
     "name": "stderr",
     "output_type": "stream",
     "text": [
      "[02:22:01] /work/mxnet/src/nnvm/legacy_json_util.cc:208: Loading symbol saved by previous version v1.5.0. Attempting to upgrade...\n",
      "[02:22:01] /work/mxnet/src/nnvm/legacy_json_util.cc:216: Symbol successfully upgraded!\n"
     ]
    },
    {
     "name": "stdout",
     "output_type": "stream",
     "text": [
      "input mean and std: 127.5 127.5\n",
      "find model: ./insightface_func/models/antelope/glintr100.onnx recognition\n",
      "find model: ./insightface_func/models/antelope/scrfd_10g_bnkps.onnx detection\n",
      "set det-size: (640, 640)\n",
      "Everything is ok!\n",
      "1\n"
     ]
    },
    {
     "name": "stderr",
     "output_type": "stream",
     "text": [
      "100%|██████████| 1/1 [00:00<00:00, 13.90it/s]\n",
      "1it [00:00, 215.30it/s]\n",
      "1it [00:00, 4116.10it/s]\n",
      "100%|██████████| 1/1 [00:00<00:00, 38.10it/s]\n",
      "100%|██████████| 1/1 [00:00<00:00, 14463.12it/s]\n",
      "/home/ubuntu-gpu/project/laboratory/ghost-train/.venv/lib/python3.8/site-packages/mxnet/ndarray/utils.py:141: DeprecationWarning: Please use `csr_matrix` from the `scipy.sparse` namespace, the `scipy.sparse.csr` namespace is deprecated.\n",
      "  if spsp is not None and isinstance(source_array, spsp.csr.csr_matrix):\n",
      "/home/ubuntu-gpu/project/laboratory/ghost-train/.venv/lib/python3.8/site-packages/mxnet/ndarray/utils.py:141: DeprecationWarning: Please use `csr_matrix` from the `scipy.sparse` namespace, the `scipy.sparse.csr` namespace is deprecated.\n",
      "  if spsp is not None and isinstance(source_array, spsp.csr.csr_matrix):\n"
     ]
    },
    {
     "name": "stdout",
     "output_type": "stream",
     "text": [
      "Image saved at examples/results/id85-enhanced9/result_source8_target1.png\n",
      "input mean and std: 127.5 127.5\n",
      "find model: ./insightface_func/models/antelope/glintr100.onnx recognition\n",
      "find model: ./insightface_func/models/antelope/scrfd_10g_bnkps.onnx detection\n",
      "set det-size: (640, 640)\n",
      "loading ./coordinate_reg/model/2d106det 0\n",
      "input mean and std: 127.5 127.5\n",
      "find model: ./insightface_func/models/antelope/glintr100.onnx recognition\n",
      "find model: ./insightface_func/models/antelope/scrfd_10g_bnkps.onnx detection\n",
      "set det-size: (640, 640)\n",
      "Everything is ok!\n",
      "1\n"
     ]
    },
    {
     "name": "stderr",
     "output_type": "stream",
     "text": [
      "[02:22:05] /work/mxnet/src/nnvm/legacy_json_util.cc:208: Loading symbol saved by previous version v1.5.0. Attempting to upgrade...\n",
      "[02:22:05] /work/mxnet/src/nnvm/legacy_json_util.cc:216: Symbol successfully upgraded!\n",
      "100%|██████████| 1/1 [00:00<00:00, 18.75it/s]\n",
      "1it [00:00, 494.55it/s]\n",
      "1it [00:00, 4755.45it/s]\n",
      "100%|██████████| 1/1 [00:00<00:00, 13.63it/s]\n",
      "100%|██████████| 1/1 [00:00<00:00, 13357.66it/s]\n",
      "/home/ubuntu-gpu/project/laboratory/ghost-train/.venv/lib/python3.8/site-packages/mxnet/ndarray/utils.py:141: DeprecationWarning: Please use `csr_matrix` from the `scipy.sparse` namespace, the `scipy.sparse.csr` namespace is deprecated.\n",
      "  if spsp is not None and isinstance(source_array, spsp.csr.csr_matrix):\n",
      "/home/ubuntu-gpu/project/laboratory/ghost-train/.venv/lib/python3.8/site-packages/mxnet/ndarray/utils.py:141: DeprecationWarning: Please use `csr_matrix` from the `scipy.sparse` namespace, the `scipy.sparse.csr` namespace is deprecated.\n",
      "  if spsp is not None and isinstance(source_array, spsp.csr.csr_matrix):\n"
     ]
    },
    {
     "name": "stdout",
     "output_type": "stream",
     "text": [
      "Image saved at examples/results/id85-enhanced9/result_source8_target2.png\n",
      "input mean and std: 127.5 127.5\n",
      "find model: ./insightface_func/models/antelope/glintr100.onnx recognition\n",
      "find model: ./insightface_func/models/antelope/scrfd_10g_bnkps.onnx detection\n",
      "set det-size: (640, 640)\n",
      "loading ./coordinate_reg/model/2d106det 0\n"
     ]
    },
    {
     "name": "stderr",
     "output_type": "stream",
     "text": [
      "[02:22:08] /work/mxnet/src/nnvm/legacy_json_util.cc:208: Loading symbol saved by previous version v1.5.0. Attempting to upgrade...\n",
      "[02:22:08] /work/mxnet/src/nnvm/legacy_json_util.cc:216: Symbol successfully upgraded!\n"
     ]
    },
    {
     "name": "stdout",
     "output_type": "stream",
     "text": [
      "input mean and std: 127.5 127.5\n",
      "find model: ./insightface_func/models/antelope/glintr100.onnx recognition\n",
      "find model: ./insightface_func/models/antelope/scrfd_10g_bnkps.onnx detection\n",
      "set det-size: (640, 640)\n",
      "Everything is ok!\n",
      "1\n"
     ]
    },
    {
     "name": "stderr",
     "output_type": "stream",
     "text": [
      "100%|██████████| 1/1 [00:00<00:00, 19.46it/s]\n",
      "1it [00:00, 740.26it/s]\n",
      "1it [00:00, 4405.78it/s]\n",
      "100%|██████████| 1/1 [00:00<00:00, 42.79it/s]\n",
      "100%|██████████| 1/1 [00:00<00:00, 19418.07it/s]\n",
      "/home/ubuntu-gpu/project/laboratory/ghost-train/.venv/lib/python3.8/site-packages/mxnet/ndarray/utils.py:141: DeprecationWarning: Please use `csr_matrix` from the `scipy.sparse` namespace, the `scipy.sparse.csr` namespace is deprecated.\n",
      "  if spsp is not None and isinstance(source_array, spsp.csr.csr_matrix):\n",
      "/home/ubuntu-gpu/project/laboratory/ghost-train/.venv/lib/python3.8/site-packages/mxnet/ndarray/utils.py:141: DeprecationWarning: Please use `csr_matrix` from the `scipy.sparse` namespace, the `scipy.sparse.csr` namespace is deprecated.\n",
      "  if spsp is not None and isinstance(source_array, spsp.csr.csr_matrix):\n"
     ]
    },
    {
     "name": "stdout",
     "output_type": "stream",
     "text": [
      "Image saved at examples/results/id85-enhanced9/result_source8_target3.png\n",
      "input mean and std: 127.5 127.5\n",
      "find model: ./insightface_func/models/antelope/glintr100.onnx recognition\n",
      "find model: ./insightface_func/models/antelope/scrfd_10g_bnkps.onnx detection\n",
      "set det-size: (640, 640)\n",
      "loading ./coordinate_reg/model/2d106det 0\n",
      "input mean and std: 127.5 127.5\n",
      "find model: ./insightface_func/models/antelope/glintr100.onnx recognition\n",
      "find model: ./insightface_func/models/antelope/scrfd_10g_bnkps.onnx detection\n",
      "set det-size: (640, 640)\n",
      "Everything is ok!\n",
      "1\n"
     ]
    },
    {
     "name": "stderr",
     "output_type": "stream",
     "text": [
      "[02:22:11] /work/mxnet/src/nnvm/legacy_json_util.cc:208: Loading symbol saved by previous version v1.5.0. Attempting to upgrade...\n",
      "[02:22:11] /work/mxnet/src/nnvm/legacy_json_util.cc:216: Symbol successfully upgraded!\n",
      "100%|██████████| 1/1 [00:00<00:00, 19.59it/s]\n",
      "1it [00:00, 338.14it/s]\n",
      "1it [00:00, 5302.53it/s]\n",
      "100%|██████████| 1/1 [00:00<00:00, 14.12it/s]\n",
      "100%|██████████| 1/1 [00:00<00:00, 15420.24it/s]\n",
      "/home/ubuntu-gpu/project/laboratory/ghost-train/.venv/lib/python3.8/site-packages/mxnet/ndarray/utils.py:141: DeprecationWarning: Please use `csr_matrix` from the `scipy.sparse` namespace, the `scipy.sparse.csr` namespace is deprecated.\n",
      "  if spsp is not None and isinstance(source_array, spsp.csr.csr_matrix):\n",
      "/home/ubuntu-gpu/project/laboratory/ghost-train/.venv/lib/python3.8/site-packages/mxnet/ndarray/utils.py:141: DeprecationWarning: Please use `csr_matrix` from the `scipy.sparse` namespace, the `scipy.sparse.csr` namespace is deprecated.\n",
      "  if spsp is not None and isinstance(source_array, spsp.csr.csr_matrix):\n"
     ]
    },
    {
     "name": "stdout",
     "output_type": "stream",
     "text": [
      "Image saved at examples/results/id85-enhanced9/result_source8_target4.png\n",
      "input mean and std: 127.5 127.5\n",
      "find model: ./insightface_func/models/antelope/glintr100.onnx recognition\n",
      "find model: ./insightface_func/models/antelope/scrfd_10g_bnkps.onnx detection\n",
      "set det-size: (640, 640)\n",
      "loading ./coordinate_reg/model/2d106det 0\n",
      "input mean and std: 127.5 127.5\n",
      "find model: ./insightface_func/models/antelope/glintr100.onnx recognition\n",
      "find model: ./insightface_func/models/antelope/scrfd_10g_bnkps.onnx detection\n",
      "set det-size: (640, 640)\n",
      "Everything is ok!\n",
      "1\n"
     ]
    },
    {
     "name": "stderr",
     "output_type": "stream",
     "text": [
      "[02:22:14] /work/mxnet/src/nnvm/legacy_json_util.cc:208: Loading symbol saved by previous version v1.5.0. Attempting to upgrade...\n",
      "[02:22:14] /work/mxnet/src/nnvm/legacy_json_util.cc:216: Symbol successfully upgraded!\n",
      "100%|██████████| 1/1 [00:00<00:00, 13.86it/s]\n",
      "1it [00:00, 458.14it/s]\n",
      "1it [00:00, 4021.38it/s]\n",
      "100%|██████████| 1/1 [00:00<00:00, 13.59it/s]\n",
      "100%|██████████| 1/1 [00:00<00:00, 18978.75it/s]\n",
      "/home/ubuntu-gpu/project/laboratory/ghost-train/.venv/lib/python3.8/site-packages/mxnet/ndarray/utils.py:141: DeprecationWarning: Please use `csr_matrix` from the `scipy.sparse` namespace, the `scipy.sparse.csr` namespace is deprecated.\n",
      "  if spsp is not None and isinstance(source_array, spsp.csr.csr_matrix):\n",
      "/home/ubuntu-gpu/project/laboratory/ghost-train/.venv/lib/python3.8/site-packages/mxnet/ndarray/utils.py:141: DeprecationWarning: Please use `csr_matrix` from the `scipy.sparse` namespace, the `scipy.sparse.csr` namespace is deprecated.\n",
      "  if spsp is not None and isinstance(source_array, spsp.csr.csr_matrix):\n"
     ]
    },
    {
     "name": "stdout",
     "output_type": "stream",
     "text": [
      "Image saved at examples/results/id85-enhanced9/result_source8_target5.png\n",
      "input mean and std: 127.5 127.5\n",
      "find model: ./insightface_func/models/antelope/glintr100.onnx recognition\n",
      "find model: ./insightface_func/models/antelope/scrfd_10g_bnkps.onnx detection\n",
      "set det-size: (640, 640)\n",
      "loading ./coordinate_reg/model/2d106det 0\n",
      "input mean and std: 127.5 127.5\n",
      "find model: ./insightface_func/models/antelope/glintr100.onnx recognition\n",
      "find model: ./insightface_func/models/antelope/scrfd_10g_bnkps.onnx detection\n",
      "set det-size: (640, 640)\n",
      "Everything is ok!\n",
      "1\n"
     ]
    },
    {
     "name": "stderr",
     "output_type": "stream",
     "text": [
      "[02:22:17] /work/mxnet/src/nnvm/legacy_json_util.cc:208: Loading symbol saved by previous version v1.5.0. Attempting to upgrade...\n",
      "[02:22:17] /work/mxnet/src/nnvm/legacy_json_util.cc:216: Symbol successfully upgraded!\n",
      "100%|██████████| 1/1 [00:00<00:00, 19.08it/s]\n",
      "1it [00:00, 386.32it/s]\n",
      "1it [00:00, 5295.84it/s]\n",
      "100%|██████████| 1/1 [00:00<00:00, 38.45it/s]\n",
      "100%|██████████| 1/1 [00:00<00:00, 2878.73it/s]\n",
      "/home/ubuntu-gpu/project/laboratory/ghost-train/.venv/lib/python3.8/site-packages/mxnet/ndarray/utils.py:141: DeprecationWarning: Please use `csr_matrix` from the `scipy.sparse` namespace, the `scipy.sparse.csr` namespace is deprecated.\n",
      "  if spsp is not None and isinstance(source_array, spsp.csr.csr_matrix):\n",
      "/home/ubuntu-gpu/project/laboratory/ghost-train/.venv/lib/python3.8/site-packages/mxnet/ndarray/utils.py:141: DeprecationWarning: Please use `csr_matrix` from the `scipy.sparse` namespace, the `scipy.sparse.csr` namespace is deprecated.\n",
      "  if spsp is not None and isinstance(source_array, spsp.csr.csr_matrix):\n"
     ]
    },
    {
     "name": "stdout",
     "output_type": "stream",
     "text": [
      "Image saved at examples/results/id85-enhanced9/result_source8_target6.png\n",
      "input mean and std: 127.5 127.5\n",
      "find model: ./insightface_func/models/antelope/glintr100.onnx recognition\n",
      "find model: ./insightface_func/models/antelope/scrfd_10g_bnkps.onnx detection\n",
      "set det-size: (640, 640)\n",
      "loading ./coordinate_reg/model/2d106det 0\n"
     ]
    },
    {
     "name": "stderr",
     "output_type": "stream",
     "text": [
      "[02:22:20] /work/mxnet/src/nnvm/legacy_json_util.cc:208: Loading symbol saved by previous version v1.5.0. Attempting to upgrade...\n",
      "[02:22:20] /work/mxnet/src/nnvm/legacy_json_util.cc:216: Symbol successfully upgraded!\n"
     ]
    },
    {
     "name": "stdout",
     "output_type": "stream",
     "text": [
      "input mean and std: 127.5 127.5\n",
      "find model: ./insightface_func/models/antelope/glintr100.onnx recognition\n",
      "find model: ./insightface_func/models/antelope/scrfd_10g_bnkps.onnx detection\n",
      "set det-size: (640, 640)\n",
      "Everything is ok!\n",
      "1\n"
     ]
    },
    {
     "name": "stderr",
     "output_type": "stream",
     "text": [
      "100%|██████████| 1/1 [00:00<00:00, 17.15it/s]\n",
      "1it [00:00, 185.31it/s]\n",
      "1it [00:00, 6141.00it/s]\n",
      "100%|██████████| 1/1 [00:00<00:00, 13.59it/s]\n",
      "100%|██████████| 1/1 [00:00<00:00, 12018.06it/s]\n",
      "/home/ubuntu-gpu/project/laboratory/ghost-train/.venv/lib/python3.8/site-packages/mxnet/ndarray/utils.py:141: DeprecationWarning: Please use `csr_matrix` from the `scipy.sparse` namespace, the `scipy.sparse.csr` namespace is deprecated.\n",
      "  if spsp is not None and isinstance(source_array, spsp.csr.csr_matrix):\n",
      "/home/ubuntu-gpu/project/laboratory/ghost-train/.venv/lib/python3.8/site-packages/mxnet/ndarray/utils.py:141: DeprecationWarning: Please use `csr_matrix` from the `scipy.sparse` namespace, the `scipy.sparse.csr` namespace is deprecated.\n",
      "  if spsp is not None and isinstance(source_array, spsp.csr.csr_matrix):\n"
     ]
    },
    {
     "name": "stdout",
     "output_type": "stream",
     "text": [
      "Image saved at examples/results/id85-enhanced9/result_source8_target7.png\n",
      "input mean and std: 127.5 127.5\n",
      "find model: ./insightface_func/models/antelope/glintr100.onnx recognition\n",
      "find model: ./insightface_func/models/antelope/scrfd_10g_bnkps.onnx detection\n",
      "set det-size: (640, 640)\n",
      "loading ./coordinate_reg/model/2d106det 0\n"
     ]
    },
    {
     "name": "stderr",
     "output_type": "stream",
     "text": [
      "[02:22:24] /work/mxnet/src/nnvm/legacy_json_util.cc:208: Loading symbol saved by previous version v1.5.0. Attempting to upgrade...\n",
      "[02:22:24] /work/mxnet/src/nnvm/legacy_json_util.cc:216: Symbol successfully upgraded!\n"
     ]
    },
    {
     "name": "stdout",
     "output_type": "stream",
     "text": [
      "input mean and std: 127.5 127.5\n",
      "find model: ./insightface_func/models/antelope/glintr100.onnx recognition\n",
      "find model: ./insightface_func/models/antelope/scrfd_10g_bnkps.onnx detection\n",
      "set det-size: (640, 640)\n",
      "Everything is ok!\n",
      "1\n"
     ]
    },
    {
     "name": "stderr",
     "output_type": "stream",
     "text": [
      "100%|██████████| 1/1 [00:00<00:00, 19.01it/s]\n",
      "1it [00:00, 414.01it/s]\n",
      "1it [00:00, 6797.90it/s]\n",
      "100%|██████████| 1/1 [00:00<00:00, 13.81it/s]\n",
      "100%|██████████| 1/1 [00:00<00:00, 13148.29it/s]\n",
      "/home/ubuntu-gpu/project/laboratory/ghost-train/.venv/lib/python3.8/site-packages/mxnet/ndarray/utils.py:141: DeprecationWarning: Please use `csr_matrix` from the `scipy.sparse` namespace, the `scipy.sparse.csr` namespace is deprecated.\n",
      "  if spsp is not None and isinstance(source_array, spsp.csr.csr_matrix):\n",
      "/home/ubuntu-gpu/project/laboratory/ghost-train/.venv/lib/python3.8/site-packages/mxnet/ndarray/utils.py:141: DeprecationWarning: Please use `csr_matrix` from the `scipy.sparse` namespace, the `scipy.sparse.csr` namespace is deprecated.\n",
      "  if spsp is not None and isinstance(source_array, spsp.csr.csr_matrix):\n"
     ]
    },
    {
     "name": "stdout",
     "output_type": "stream",
     "text": [
      "Image saved at examples/results/id85-enhanced9/result_source8_target8.png\n",
      "input mean and std: 127.5 127.5\n",
      "find model: ./insightface_func/models/antelope/glintr100.onnx recognition\n",
      "find model: ./insightface_func/models/antelope/scrfd_10g_bnkps.onnx detection\n",
      "set det-size: (640, 640)\n",
      "loading ./coordinate_reg/model/2d106det 0\n"
     ]
    },
    {
     "name": "stderr",
     "output_type": "stream",
     "text": [
      "[02:22:27] /work/mxnet/src/nnvm/legacy_json_util.cc:208: Loading symbol saved by previous version v1.5.0. Attempting to upgrade...\n",
      "[02:22:27] /work/mxnet/src/nnvm/legacy_json_util.cc:216: Symbol successfully upgraded!\n"
     ]
    },
    {
     "name": "stdout",
     "output_type": "stream",
     "text": [
      "input mean and std: 127.5 127.5\n",
      "find model: ./insightface_func/models/antelope/glintr100.onnx recognition\n",
      "find model: ./insightface_func/models/antelope/scrfd_10g_bnkps.onnx detection\n",
      "set det-size: (640, 640)\n",
      "Everything is ok!\n",
      "1\n"
     ]
    },
    {
     "name": "stderr",
     "output_type": "stream",
     "text": [
      "100%|██████████| 1/1 [00:00<00:00, 17.24it/s]\n",
      "1it [00:00, 555.54it/s]\n",
      "1it [00:00, 4036.87it/s]\n",
      "100%|██████████| 1/1 [00:00<00:00, 14.01it/s]\n",
      "100%|██████████| 1/1 [00:00<00:00, 12483.05it/s]\n",
      "/home/ubuntu-gpu/project/laboratory/ghost-train/.venv/lib/python3.8/site-packages/mxnet/ndarray/utils.py:141: DeprecationWarning: Please use `csr_matrix` from the `scipy.sparse` namespace, the `scipy.sparse.csr` namespace is deprecated.\n",
      "  if spsp is not None and isinstance(source_array, spsp.csr.csr_matrix):\n",
      "/home/ubuntu-gpu/project/laboratory/ghost-train/.venv/lib/python3.8/site-packages/mxnet/ndarray/utils.py:141: DeprecationWarning: Please use `csr_matrix` from the `scipy.sparse` namespace, the `scipy.sparse.csr` namespace is deprecated.\n",
      "  if spsp is not None and isinstance(source_array, spsp.csr.csr_matrix):\n"
     ]
    },
    {
     "name": "stdout",
     "output_type": "stream",
     "text": [
      "Image saved at examples/results/id85-enhanced9/result_source8_target9.png\n",
      "input mean and std: 127.5 127.5\n",
      "find model: ./insightface_func/models/antelope/glintr100.onnx recognition\n",
      "find model: ./insightface_func/models/antelope/scrfd_10g_bnkps.onnx detection\n",
      "set det-size: (640, 640)\n",
      "loading ./coordinate_reg/model/2d106det 0\n"
     ]
    },
    {
     "name": "stderr",
     "output_type": "stream",
     "text": [
      "[02:22:30] /work/mxnet/src/nnvm/legacy_json_util.cc:208: Loading symbol saved by previous version v1.5.0. Attempting to upgrade...\n",
      "[02:22:30] /work/mxnet/src/nnvm/legacy_json_util.cc:216: Symbol successfully upgraded!\n"
     ]
    },
    {
     "name": "stdout",
     "output_type": "stream",
     "text": [
      "input mean and std: 127.5 127.5\n",
      "find model: ./insightface_func/models/antelope/glintr100.onnx recognition\n",
      "find model: ./insightface_func/models/antelope/scrfd_10g_bnkps.onnx detection\n",
      "set det-size: (640, 640)\n",
      "Everything is ok!\n",
      "1\n"
     ]
    },
    {
     "name": "stderr",
     "output_type": "stream",
     "text": [
      "100%|██████████| 1/1 [00:00<00:00, 20.05it/s]\n",
      "1it [00:00, 300.75it/s]\n",
      "1it [00:00, 4476.31it/s]\n",
      "100%|██████████| 1/1 [00:00<00:00, 13.94it/s]\n",
      "100%|██████████| 1/1 [00:00<00:00, 19508.39it/s]\n",
      "/home/ubuntu-gpu/project/laboratory/ghost-train/.venv/lib/python3.8/site-packages/mxnet/ndarray/utils.py:141: DeprecationWarning: Please use `csr_matrix` from the `scipy.sparse` namespace, the `scipy.sparse.csr` namespace is deprecated.\n",
      "  if spsp is not None and isinstance(source_array, spsp.csr.csr_matrix):\n",
      "/home/ubuntu-gpu/project/laboratory/ghost-train/.venv/lib/python3.8/site-packages/mxnet/ndarray/utils.py:141: DeprecationWarning: Please use `csr_matrix` from the `scipy.sparse` namespace, the `scipy.sparse.csr` namespace is deprecated.\n",
      "  if spsp is not None and isinstance(source_array, spsp.csr.csr_matrix):\n"
     ]
    },
    {
     "name": "stdout",
     "output_type": "stream",
     "text": [
      "Image saved at examples/results/id85-enhanced9/result_source8_target10.png\n",
      "input mean and std: 127.5 127.5\n",
      "find model: ./insightface_func/models/antelope/glintr100.onnx recognition\n",
      "find model: ./insightface_func/models/antelope/scrfd_10g_bnkps.onnx detection\n",
      "set det-size: (640, 640)\n",
      "loading ./coordinate_reg/model/2d106det 0\n"
     ]
    },
    {
     "name": "stderr",
     "output_type": "stream",
     "text": [
      "[02:22:33] /work/mxnet/src/nnvm/legacy_json_util.cc:208: Loading symbol saved by previous version v1.5.0. Attempting to upgrade...\n",
      "[02:22:33] /work/mxnet/src/nnvm/legacy_json_util.cc:216: Symbol successfully upgraded!\n"
     ]
    },
    {
     "name": "stdout",
     "output_type": "stream",
     "text": [
      "input mean and std: 127.5 127.5\n",
      "find model: ./insightface_func/models/antelope/glintr100.onnx recognition\n",
      "find model: ./insightface_func/models/antelope/scrfd_10g_bnkps.onnx detection\n",
      "set det-size: (640, 640)\n",
      "Everything is ok!\n",
      "1\n"
     ]
    },
    {
     "name": "stderr",
     "output_type": "stream",
     "text": [
      "100%|██████████| 1/1 [00:00<00:00, 18.03it/s]\n",
      "1it [00:00, 641.33it/s]\n",
      "1it [00:00, 4539.29it/s]\n",
      "100%|██████████| 1/1 [00:00<00:00, 14.41it/s]\n",
      "100%|██████████| 1/1 [00:00<00:00, 21076.90it/s]\n",
      "/home/ubuntu-gpu/project/laboratory/ghost-train/.venv/lib/python3.8/site-packages/mxnet/ndarray/utils.py:141: DeprecationWarning: Please use `csr_matrix` from the `scipy.sparse` namespace, the `scipy.sparse.csr` namespace is deprecated.\n",
      "  if spsp is not None and isinstance(source_array, spsp.csr.csr_matrix):\n",
      "/home/ubuntu-gpu/project/laboratory/ghost-train/.venv/lib/python3.8/site-packages/mxnet/ndarray/utils.py:141: DeprecationWarning: Please use `csr_matrix` from the `scipy.sparse` namespace, the `scipy.sparse.csr` namespace is deprecated.\n",
      "  if spsp is not None and isinstance(source_array, spsp.csr.csr_matrix):\n"
     ]
    },
    {
     "name": "stdout",
     "output_type": "stream",
     "text": [
      "Image saved at examples/results/id85-enhanced9/result_source8_target11.png\n",
      "input mean and std: 127.5 127.5\n",
      "find model: ./insightface_func/models/antelope/glintr100.onnx recognition\n",
      "find model: ./insightface_func/models/antelope/scrfd_10g_bnkps.onnx detection\n",
      "set det-size: (640, 640)\n",
      "loading ./coordinate_reg/model/2d106det 0\n"
     ]
    },
    {
     "name": "stderr",
     "output_type": "stream",
     "text": [
      "[02:22:36] /work/mxnet/src/nnvm/legacy_json_util.cc:208: Loading symbol saved by previous version v1.5.0. Attempting to upgrade...\n",
      "[02:22:36] /work/mxnet/src/nnvm/legacy_json_util.cc:216: Symbol successfully upgraded!\n"
     ]
    },
    {
     "name": "stdout",
     "output_type": "stream",
     "text": [
      "input mean and std: 127.5 127.5\n",
      "find model: ./insightface_func/models/antelope/glintr100.onnx recognition\n",
      "find model: ./insightface_func/models/antelope/scrfd_10g_bnkps.onnx detection\n",
      "set det-size: (640, 640)\n",
      "Everything is ok!\n",
      "1\n"
     ]
    },
    {
     "name": "stderr",
     "output_type": "stream",
     "text": [
      "100%|██████████| 1/1 [00:00<00:00, 15.43it/s]\n",
      "1it [00:00, 717.83it/s]\n",
      "1it [00:00, 5023.12it/s]\n",
      "100%|██████████| 1/1 [00:00<00:00, 56.63it/s]\n",
      "100%|██████████| 1/1 [00:00<00:00, 20460.02it/s]\n",
      "/home/ubuntu-gpu/project/laboratory/ghost-train/.venv/lib/python3.8/site-packages/mxnet/ndarray/utils.py:141: DeprecationWarning: Please use `csr_matrix` from the `scipy.sparse` namespace, the `scipy.sparse.csr` namespace is deprecated.\n",
      "  if spsp is not None and isinstance(source_array, spsp.csr.csr_matrix):\n",
      "/home/ubuntu-gpu/project/laboratory/ghost-train/.venv/lib/python3.8/site-packages/mxnet/ndarray/utils.py:141: DeprecationWarning: Please use `csr_matrix` from the `scipy.sparse` namespace, the `scipy.sparse.csr` namespace is deprecated.\n",
      "  if spsp is not None and isinstance(source_array, spsp.csr.csr_matrix):\n"
     ]
    },
    {
     "name": "stdout",
     "output_type": "stream",
     "text": [
      "Image saved at examples/results/id85-enhanced9/result_source8_target12.png\n",
      "input mean and std: 127.5 127.5\n",
      "find model: ./insightface_func/models/antelope/glintr100.onnx recognition\n",
      "find model: ./insightface_func/models/antelope/scrfd_10g_bnkps.onnx detection\n",
      "set det-size: (640, 640)\n",
      "loading ./coordinate_reg/model/2d106det 0\n",
      "input mean and std: 127.5 127.5\n",
      "find model: ./insightface_func/models/antelope/glintr100.onnx recognition\n",
      "find model: ./insightface_func/models/antelope/scrfd_10g_bnkps.onnx detection\n",
      "set det-size: (640, 640)\n",
      "Everything is ok!\n",
      "1\n"
     ]
    },
    {
     "name": "stderr",
     "output_type": "stream",
     "text": [
      "[02:22:40] /work/mxnet/src/nnvm/legacy_json_util.cc:208: Loading symbol saved by previous version v1.5.0. Attempting to upgrade...\n",
      "[02:22:40] /work/mxnet/src/nnvm/legacy_json_util.cc:216: Symbol successfully upgraded!\n",
      "100%|██████████| 1/1 [00:00<00:00, 20.29it/s]\n",
      "1it [00:00, 258.08it/s]\n",
      "1it [00:00, 5932.54it/s]\n",
      "100%|██████████| 1/1 [00:00<00:00, 14.46it/s]\n",
      "100%|██████████| 1/1 [00:00<00:00, 16194.22it/s]\n",
      "/home/ubuntu-gpu/project/laboratory/ghost-train/.venv/lib/python3.8/site-packages/mxnet/ndarray/utils.py:141: DeprecationWarning: Please use `csr_matrix` from the `scipy.sparse` namespace, the `scipy.sparse.csr` namespace is deprecated.\n",
      "  if spsp is not None and isinstance(source_array, spsp.csr.csr_matrix):\n",
      "/home/ubuntu-gpu/project/laboratory/ghost-train/.venv/lib/python3.8/site-packages/mxnet/ndarray/utils.py:141: DeprecationWarning: Please use `csr_matrix` from the `scipy.sparse` namespace, the `scipy.sparse.csr` namespace is deprecated.\n",
      "  if spsp is not None and isinstance(source_array, spsp.csr.csr_matrix):\n"
     ]
    },
    {
     "name": "stdout",
     "output_type": "stream",
     "text": [
      "Image saved at examples/results/id85-enhanced9/result_source8_target13.png\n",
      "input mean and std: 127.5 127.5\n",
      "find model: ./insightface_func/models/antelope/glintr100.onnx recognition\n",
      "find model: ./insightface_func/models/antelope/scrfd_10g_bnkps.onnx detection\n",
      "set det-size: (640, 640)\n",
      "loading ./coordinate_reg/model/2d106det 0\n"
     ]
    },
    {
     "name": "stderr",
     "output_type": "stream",
     "text": [
      "[02:22:43] /work/mxnet/src/nnvm/legacy_json_util.cc:208: Loading symbol saved by previous version v1.5.0. Attempting to upgrade...\n",
      "[02:22:43] /work/mxnet/src/nnvm/legacy_json_util.cc:216: Symbol successfully upgraded!\n"
     ]
    },
    {
     "name": "stdout",
     "output_type": "stream",
     "text": [
      "input mean and std: 127.5 127.5\n",
      "find model: ./insightface_func/models/antelope/glintr100.onnx recognition\n",
      "find model: ./insightface_func/models/antelope/scrfd_10g_bnkps.onnx detection\n",
      "set det-size: (640, 640)\n",
      "Everything is ok!\n",
      "1\n"
     ]
    },
    {
     "name": "stderr",
     "output_type": "stream",
     "text": [
      "100%|██████████| 1/1 [00:00<00:00, 18.50it/s]\n",
      "1it [00:00, 627.89it/s]\n",
      "1it [00:00, 6452.78it/s]\n",
      "100%|██████████| 1/1 [00:00<00:00, 47.72it/s]\n",
      "100%|██████████| 1/1 [00:00<00:00, 18978.75it/s]\n",
      "/home/ubuntu-gpu/project/laboratory/ghost-train/.venv/lib/python3.8/site-packages/mxnet/ndarray/utils.py:141: DeprecationWarning: Please use `csr_matrix` from the `scipy.sparse` namespace, the `scipy.sparse.csr` namespace is deprecated.\n",
      "  if spsp is not None and isinstance(source_array, spsp.csr.csr_matrix):\n",
      "/home/ubuntu-gpu/project/laboratory/ghost-train/.venv/lib/python3.8/site-packages/mxnet/ndarray/utils.py:141: DeprecationWarning: Please use `csr_matrix` from the `scipy.sparse` namespace, the `scipy.sparse.csr` namespace is deprecated.\n",
      "  if spsp is not None and isinstance(source_array, spsp.csr.csr_matrix):\n"
     ]
    },
    {
     "name": "stdout",
     "output_type": "stream",
     "text": [
      "Image saved at examples/results/id85-enhanced9/result_source8_target14.png\n",
      "input mean and std: 127.5 127.5\n",
      "find model: ./insightface_func/models/antelope/glintr100.onnx recognition\n",
      "find model: ./insightface_func/models/antelope/scrfd_10g_bnkps.onnx detection\n",
      "set det-size: (640, 640)\n",
      "loading ./coordinate_reg/model/2d106det 0\n"
     ]
    },
    {
     "name": "stderr",
     "output_type": "stream",
     "text": [
      "[02:22:46] /work/mxnet/src/nnvm/legacy_json_util.cc:208: Loading symbol saved by previous version v1.5.0. Attempting to upgrade...\n",
      "[02:22:46] /work/mxnet/src/nnvm/legacy_json_util.cc:216: Symbol successfully upgraded!\n"
     ]
    },
    {
     "name": "stdout",
     "output_type": "stream",
     "text": [
      "input mean and std: 127.5 127.5\n",
      "find model: ./insightface_func/models/antelope/glintr100.onnx recognition\n",
      "find model: ./insightface_func/models/antelope/scrfd_10g_bnkps.onnx detection\n",
      "set det-size: (640, 640)\n",
      "Everything is ok!\n",
      "1\n"
     ]
    },
    {
     "name": "stderr",
     "output_type": "stream",
     "text": [
      "100%|██████████| 1/1 [00:00<00:00, 20.16it/s]\n",
      "1it [00:00, 455.95it/s]\n",
      "1it [00:00, 4306.27it/s]\n",
      "100%|██████████| 1/1 [00:00<00:00, 12.71it/s]\n",
      "100%|██████████| 1/1 [00:00<00:00, 20867.18it/s]\n",
      "/home/ubuntu-gpu/project/laboratory/ghost-train/.venv/lib/python3.8/site-packages/mxnet/ndarray/utils.py:141: DeprecationWarning: Please use `csr_matrix` from the `scipy.sparse` namespace, the `scipy.sparse.csr` namespace is deprecated.\n",
      "  if spsp is not None and isinstance(source_array, spsp.csr.csr_matrix):\n",
      "/home/ubuntu-gpu/project/laboratory/ghost-train/.venv/lib/python3.8/site-packages/mxnet/ndarray/utils.py:141: DeprecationWarning: Please use `csr_matrix` from the `scipy.sparse` namespace, the `scipy.sparse.csr` namespace is deprecated.\n",
      "  if spsp is not None and isinstance(source_array, spsp.csr.csr_matrix):\n"
     ]
    },
    {
     "name": "stdout",
     "output_type": "stream",
     "text": [
      "Image saved at examples/results/id85-enhanced9/result_source8_target15.png\n",
      "input mean and std: 127.5 127.5\n",
      "find model: ./insightface_func/models/antelope/glintr100.onnx recognition\n",
      "find model: ./insightface_func/models/antelope/scrfd_10g_bnkps.onnx detection\n",
      "set det-size: (640, 640)\n",
      "loading ./coordinate_reg/model/2d106det 0\n",
      "input mean and std: 127.5 127.5\n",
      "find model: ./insightface_func/models/antelope/glintr100.onnx recognition\n",
      "find model: ./insightface_func/models/antelope/scrfd_10g_bnkps.onnx detection\n",
      "set det-size: (640, 640)\n",
      "Everything is ok!\n",
      "1\n"
     ]
    },
    {
     "name": "stderr",
     "output_type": "stream",
     "text": [
      "[02:22:49] /work/mxnet/src/nnvm/legacy_json_util.cc:208: Loading symbol saved by previous version v1.5.0. Attempting to upgrade...\n",
      "[02:22:49] /work/mxnet/src/nnvm/legacy_json_util.cc:216: Symbol successfully upgraded!\n",
      "100%|██████████| 1/1 [00:00<00:00, 18.96it/s]\n",
      "1it [00:00, 437.23it/s]\n",
      "1it [00:00, 5599.87it/s]\n",
      "100%|██████████| 1/1 [00:00<00:00, 54.03it/s]\n",
      "100%|██████████| 1/1 [00:00<00:00, 20068.44it/s]\n",
      "/home/ubuntu-gpu/project/laboratory/ghost-train/.venv/lib/python3.8/site-packages/mxnet/ndarray/utils.py:141: DeprecationWarning: Please use `csr_matrix` from the `scipy.sparse` namespace, the `scipy.sparse.csr` namespace is deprecated.\n",
      "  if spsp is not None and isinstance(source_array, spsp.csr.csr_matrix):\n",
      "/home/ubuntu-gpu/project/laboratory/ghost-train/.venv/lib/python3.8/site-packages/mxnet/ndarray/utils.py:141: DeprecationWarning: Please use `csr_matrix` from the `scipy.sparse` namespace, the `scipy.sparse.csr` namespace is deprecated.\n",
      "  if spsp is not None and isinstance(source_array, spsp.csr.csr_matrix):\n"
     ]
    },
    {
     "name": "stdout",
     "output_type": "stream",
     "text": [
      "Image saved at examples/results/id85-enhanced9/result_source8_target16.png\n",
      "input mean and std: 127.5 127.5\n",
      "find model: ./insightface_func/models/antelope/glintr100.onnx recognition\n",
      "find model: ./insightface_func/models/antelope/scrfd_10g_bnkps.onnx detection\n",
      "set det-size: (640, 640)\n",
      "loading ./coordinate_reg/model/2d106det 0\n",
      "input mean and std: 127.5 127.5\n",
      "find model: ./insightface_func/models/antelope/glintr100.onnx recognition\n",
      "find model: ./insightface_func/models/antelope/scrfd_10g_bnkps.onnx detection\n",
      "set det-size: (640, 640)\n",
      "Everything is ok!\n",
      "1\n"
     ]
    },
    {
     "name": "stderr",
     "output_type": "stream",
     "text": [
      "[02:22:52] /work/mxnet/src/nnvm/legacy_json_util.cc:208: Loading symbol saved by previous version v1.5.0. Attempting to upgrade...\n",
      "[02:22:52] /work/mxnet/src/nnvm/legacy_json_util.cc:216: Symbol successfully upgraded!\n",
      "100%|██████████| 1/1 [00:00<00:00, 16.04it/s]\n",
      "1it [00:00, 785.16it/s]\n",
      "1it [00:00, 3734.91it/s]\n",
      "100%|██████████| 1/1 [00:00<00:00, 14.93it/s]\n",
      "100%|██████████| 1/1 [00:00<00:00, 20560.31it/s]\n",
      "/home/ubuntu-gpu/project/laboratory/ghost-train/.venv/lib/python3.8/site-packages/mxnet/ndarray/utils.py:141: DeprecationWarning: Please use `csr_matrix` from the `scipy.sparse` namespace, the `scipy.sparse.csr` namespace is deprecated.\n",
      "  if spsp is not None and isinstance(source_array, spsp.csr.csr_matrix):\n",
      "/home/ubuntu-gpu/project/laboratory/ghost-train/.venv/lib/python3.8/site-packages/mxnet/ndarray/utils.py:141: DeprecationWarning: Please use `csr_matrix` from the `scipy.sparse` namespace, the `scipy.sparse.csr` namespace is deprecated.\n",
      "  if spsp is not None and isinstance(source_array, spsp.csr.csr_matrix):\n"
     ]
    },
    {
     "name": "stdout",
     "output_type": "stream",
     "text": [
      "Image saved at examples/results/id85-enhanced9/result_source9_target0.png\n",
      "input mean and std: 127.5 127.5\n",
      "find model: ./insightface_func/models/antelope/glintr100.onnx recognition\n",
      "find model: ./insightface_func/models/antelope/scrfd_10g_bnkps.onnx detection\n",
      "set det-size: (640, 640)\n",
      "loading ./coordinate_reg/model/2d106det 0\n"
     ]
    },
    {
     "name": "stderr",
     "output_type": "stream",
     "text": [
      "[02:22:55] /work/mxnet/src/nnvm/legacy_json_util.cc:208: Loading symbol saved by previous version v1.5.0. Attempting to upgrade...\n",
      "[02:22:55] /work/mxnet/src/nnvm/legacy_json_util.cc:216: Symbol successfully upgraded!\n"
     ]
    },
    {
     "name": "stdout",
     "output_type": "stream",
     "text": [
      "input mean and std: 127.5 127.5\n",
      "find model: ./insightface_func/models/antelope/glintr100.onnx recognition\n",
      "find model: ./insightface_func/models/antelope/scrfd_10g_bnkps.onnx detection\n",
      "set det-size: (640, 640)\n",
      "Everything is ok!\n",
      "1\n"
     ]
    },
    {
     "name": "stderr",
     "output_type": "stream",
     "text": [
      "100%|██████████| 1/1 [00:00<00:00, 20.41it/s]\n",
      "1it [00:00, 560.59it/s]\n",
      "1it [00:00, 3728.27it/s]\n",
      "100%|██████████| 1/1 [00:00<00:00, 44.39it/s]\n",
      "100%|██████████| 1/1 [00:00<00:00, 15592.21it/s]\n",
      "/home/ubuntu-gpu/project/laboratory/ghost-train/.venv/lib/python3.8/site-packages/mxnet/ndarray/utils.py:141: DeprecationWarning: Please use `csr_matrix` from the `scipy.sparse` namespace, the `scipy.sparse.csr` namespace is deprecated.\n",
      "  if spsp is not None and isinstance(source_array, spsp.csr.csr_matrix):\n",
      "/home/ubuntu-gpu/project/laboratory/ghost-train/.venv/lib/python3.8/site-packages/mxnet/ndarray/utils.py:141: DeprecationWarning: Please use `csr_matrix` from the `scipy.sparse` namespace, the `scipy.sparse.csr` namespace is deprecated.\n",
      "  if spsp is not None and isinstance(source_array, spsp.csr.csr_matrix):\n"
     ]
    },
    {
     "name": "stdout",
     "output_type": "stream",
     "text": [
      "Image saved at examples/results/id85-enhanced9/result_source9_target1.png\n",
      "input mean and std: 127.5 127.5\n",
      "find model: ./insightface_func/models/antelope/glintr100.onnx recognition\n",
      "find model: ./insightface_func/models/antelope/scrfd_10g_bnkps.onnx detection\n",
      "set det-size: (640, 640)\n",
      "loading ./coordinate_reg/model/2d106det 0\n"
     ]
    },
    {
     "name": "stderr",
     "output_type": "stream",
     "text": [
      "[02:22:58] /work/mxnet/src/nnvm/legacy_json_util.cc:208: Loading symbol saved by previous version v1.5.0. Attempting to upgrade...\n",
      "[02:22:58] /work/mxnet/src/nnvm/legacy_json_util.cc:216: Symbol successfully upgraded!\n"
     ]
    },
    {
     "name": "stdout",
     "output_type": "stream",
     "text": [
      "input mean and std: 127.5 127.5\n",
      "find model: ./insightface_func/models/antelope/glintr100.onnx recognition\n",
      "find model: ./insightface_func/models/antelope/scrfd_10g_bnkps.onnx detection\n",
      "set det-size: (640, 640)\n",
      "Everything is ok!\n",
      "1\n"
     ]
    },
    {
     "name": "stderr",
     "output_type": "stream",
     "text": [
      "100%|██████████| 1/1 [00:00<00:00, 18.12it/s]\n",
      "1it [00:00, 788.70it/s]\n",
      "1it [00:00, 5071.71it/s]\n",
      "100%|██████████| 1/1 [00:00<00:00, 53.48it/s]\n",
      "100%|██████████| 1/1 [00:00<00:00, 21076.90it/s]\n",
      "/home/ubuntu-gpu/project/laboratory/ghost-train/.venv/lib/python3.8/site-packages/mxnet/ndarray/utils.py:141: DeprecationWarning: Please use `csr_matrix` from the `scipy.sparse` namespace, the `scipy.sparse.csr` namespace is deprecated.\n",
      "  if spsp is not None and isinstance(source_array, spsp.csr.csr_matrix):\n",
      "/home/ubuntu-gpu/project/laboratory/ghost-train/.venv/lib/python3.8/site-packages/mxnet/ndarray/utils.py:141: DeprecationWarning: Please use `csr_matrix` from the `scipy.sparse` namespace, the `scipy.sparse.csr` namespace is deprecated.\n",
      "  if spsp is not None and isinstance(source_array, spsp.csr.csr_matrix):\n"
     ]
    },
    {
     "name": "stdout",
     "output_type": "stream",
     "text": [
      "Image saved at examples/results/id85-enhanced9/result_source9_target2.png\n",
      "input mean and std: 127.5 127.5\n",
      "find model: ./insightface_func/models/antelope/glintr100.onnx recognition\n",
      "find model: ./insightface_func/models/antelope/scrfd_10g_bnkps.onnx detection\n",
      "set det-size: (640, 640)\n",
      "loading ./coordinate_reg/model/2d106det 0\n",
      "input mean and std: 127.5 127.5\n",
      "find model: ./insightface_func/models/antelope/glintr100.onnx recognition\n",
      "find model: ./insightface_func/models/antelope/scrfd_10g_bnkps.onnx detection\n",
      "set det-size: (640, 640)\n",
      "Everything is ok!\n",
      "1\n"
     ]
    },
    {
     "name": "stderr",
     "output_type": "stream",
     "text": [
      "[02:23:01] /work/mxnet/src/nnvm/legacy_json_util.cc:208: Loading symbol saved by previous version v1.5.0. Attempting to upgrade...\n",
      "[02:23:01] /work/mxnet/src/nnvm/legacy_json_util.cc:216: Symbol successfully upgraded!\n",
      "100%|██████████| 1/1 [00:00<00:00, 18.88it/s]\n",
      "1it [00:00, 1067.25it/s]\n",
      "1it [00:00, 6269.51it/s]\n",
      "100%|██████████| 1/1 [00:00<00:00, 53.86it/s]\n",
      "100%|██████████| 1/1 [00:00<00:00, 11554.56it/s]\n",
      "/home/ubuntu-gpu/project/laboratory/ghost-train/.venv/lib/python3.8/site-packages/mxnet/ndarray/utils.py:141: DeprecationWarning: Please use `csr_matrix` from the `scipy.sparse` namespace, the `scipy.sparse.csr` namespace is deprecated.\n",
      "  if spsp is not None and isinstance(source_array, spsp.csr.csr_matrix):\n",
      "/home/ubuntu-gpu/project/laboratory/ghost-train/.venv/lib/python3.8/site-packages/mxnet/ndarray/utils.py:141: DeprecationWarning: Please use `csr_matrix` from the `scipy.sparse` namespace, the `scipy.sparse.csr` namespace is deprecated.\n",
      "  if spsp is not None and isinstance(source_array, spsp.csr.csr_matrix):\n"
     ]
    },
    {
     "name": "stdout",
     "output_type": "stream",
     "text": [
      "Image saved at examples/results/id85-enhanced9/result_source9_target3.png\n",
      "input mean and std: 127.5 127.5\n",
      "find model: ./insightface_func/models/antelope/glintr100.onnx recognition\n",
      "find model: ./insightface_func/models/antelope/scrfd_10g_bnkps.onnx detection\n",
      "set det-size: (640, 640)\n",
      "loading ./coordinate_reg/model/2d106det 0\n"
     ]
    },
    {
     "name": "stderr",
     "output_type": "stream",
     "text": [
      "[02:23:04] /work/mxnet/src/nnvm/legacy_json_util.cc:208: Loading symbol saved by previous version v1.5.0. Attempting to upgrade...\n",
      "[02:23:04] /work/mxnet/src/nnvm/legacy_json_util.cc:216: Symbol successfully upgraded!\n"
     ]
    },
    {
     "name": "stdout",
     "output_type": "stream",
     "text": [
      "input mean and std: 127.5 127.5\n",
      "find model: ./insightface_func/models/antelope/glintr100.onnx recognition\n",
      "find model: ./insightface_func/models/antelope/scrfd_10g_bnkps.onnx detection\n",
      "set det-size: (640, 640)\n",
      "Everything is ok!\n",
      "1\n"
     ]
    },
    {
     "name": "stderr",
     "output_type": "stream",
     "text": [
      "100%|██████████| 1/1 [00:00<00:00, 18.70it/s]\n",
      "1it [00:00, 219.77it/s]\n",
      "1it [00:00, 5540.69it/s]\n",
      "100%|██████████| 1/1 [00:00<00:00, 14.40it/s]\n",
      "100%|██████████| 1/1 [00:00<00:00, 13107.20it/s]\n",
      "/home/ubuntu-gpu/project/laboratory/ghost-train/.venv/lib/python3.8/site-packages/mxnet/ndarray/utils.py:141: DeprecationWarning: Please use `csr_matrix` from the `scipy.sparse` namespace, the `scipy.sparse.csr` namespace is deprecated.\n",
      "  if spsp is not None and isinstance(source_array, spsp.csr.csr_matrix):\n",
      "/home/ubuntu-gpu/project/laboratory/ghost-train/.venv/lib/python3.8/site-packages/mxnet/ndarray/utils.py:141: DeprecationWarning: Please use `csr_matrix` from the `scipy.sparse` namespace, the `scipy.sparse.csr` namespace is deprecated.\n",
      "  if spsp is not None and isinstance(source_array, spsp.csr.csr_matrix):\n"
     ]
    },
    {
     "name": "stdout",
     "output_type": "stream",
     "text": [
      "Image saved at examples/results/id85-enhanced9/result_source9_target4.png\n",
      "input mean and std: 127.5 127.5\n",
      "find model: ./insightface_func/models/antelope/glintr100.onnx recognition\n",
      "find model: ./insightface_func/models/antelope/scrfd_10g_bnkps.onnx detection\n",
      "set det-size: (640, 640)\n",
      "loading ./coordinate_reg/model/2d106det 0\n"
     ]
    },
    {
     "name": "stderr",
     "output_type": "stream",
     "text": [
      "[02:23:07] /work/mxnet/src/nnvm/legacy_json_util.cc:208: Loading symbol saved by previous version v1.5.0. Attempting to upgrade...\n",
      "[02:23:07] /work/mxnet/src/nnvm/legacy_json_util.cc:216: Symbol successfully upgraded!\n"
     ]
    },
    {
     "name": "stdout",
     "output_type": "stream",
     "text": [
      "input mean and std: 127.5 127.5\n",
      "find model: ./insightface_func/models/antelope/glintr100.onnx recognition\n",
      "find model: ./insightface_func/models/antelope/scrfd_10g_bnkps.onnx detection\n",
      "set det-size: (640, 640)\n",
      "Everything is ok!\n",
      "1\n"
     ]
    },
    {
     "name": "stderr",
     "output_type": "stream",
     "text": [
      "100%|██████████| 1/1 [00:00<00:00, 20.12it/s]\n",
      "1it [00:00, 346.49it/s]\n",
      "1it [00:00, 3802.63it/s]\n",
      "100%|██████████| 1/1 [00:00<00:00, 51.44it/s]\n",
      "100%|██████████| 1/1 [00:00<00:00, 20661.60it/s]\n",
      "/home/ubuntu-gpu/project/laboratory/ghost-train/.venv/lib/python3.8/site-packages/mxnet/ndarray/utils.py:141: DeprecationWarning: Please use `csr_matrix` from the `scipy.sparse` namespace, the `scipy.sparse.csr` namespace is deprecated.\n",
      "  if spsp is not None and isinstance(source_array, spsp.csr.csr_matrix):\n",
      "/home/ubuntu-gpu/project/laboratory/ghost-train/.venv/lib/python3.8/site-packages/mxnet/ndarray/utils.py:141: DeprecationWarning: Please use `csr_matrix` from the `scipy.sparse` namespace, the `scipy.sparse.csr` namespace is deprecated.\n",
      "  if spsp is not None and isinstance(source_array, spsp.csr.csr_matrix):\n"
     ]
    },
    {
     "name": "stdout",
     "output_type": "stream",
     "text": [
      "Image saved at examples/results/id85-enhanced9/result_source9_target5.png\n",
      "input mean and std: 127.5 127.5\n",
      "find model: ./insightface_func/models/antelope/glintr100.onnx recognition\n",
      "find model: ./insightface_func/models/antelope/scrfd_10g_bnkps.onnx detection\n",
      "set det-size: (640, 640)\n",
      "loading ./coordinate_reg/model/2d106det 0\n",
      "input mean and std: 127.5 127.5\n",
      "find model: ./insightface_func/models/antelope/glintr100.onnx recognition\n",
      "find model: ./insightface_func/models/antelope/scrfd_10g_bnkps.onnx detection\n",
      "set det-size: (640, 640)\n",
      "Everything is ok!\n",
      "1\n"
     ]
    },
    {
     "name": "stderr",
     "output_type": "stream",
     "text": [
      "[02:23:11] /work/mxnet/src/nnvm/legacy_json_util.cc:208: Loading symbol saved by previous version v1.5.0. Attempting to upgrade...\n",
      "[02:23:11] /work/mxnet/src/nnvm/legacy_json_util.cc:216: Symbol successfully upgraded!\n",
      "100%|██████████| 1/1 [00:00<00:00, 19.94it/s]\n",
      "1it [00:00, 214.58it/s]\n",
      "1it [00:00, 3466.37it/s]\n",
      "100%|██████████| 1/1 [00:00<00:00, 13.65it/s]\n",
      "100%|██████████| 1/1 [00:00<00:00, 21076.90it/s]\n",
      "/home/ubuntu-gpu/project/laboratory/ghost-train/.venv/lib/python3.8/site-packages/mxnet/ndarray/utils.py:141: DeprecationWarning: Please use `csr_matrix` from the `scipy.sparse` namespace, the `scipy.sparse.csr` namespace is deprecated.\n",
      "  if spsp is not None and isinstance(source_array, spsp.csr.csr_matrix):\n",
      "/home/ubuntu-gpu/project/laboratory/ghost-train/.venv/lib/python3.8/site-packages/mxnet/ndarray/utils.py:141: DeprecationWarning: Please use `csr_matrix` from the `scipy.sparse` namespace, the `scipy.sparse.csr` namespace is deprecated.\n",
      "  if spsp is not None and isinstance(source_array, spsp.csr.csr_matrix):\n"
     ]
    },
    {
     "name": "stdout",
     "output_type": "stream",
     "text": [
      "Image saved at examples/results/id85-enhanced9/result_source9_target6.png\n",
      "input mean and std: 127.5 127.5\n",
      "find model: ./insightface_func/models/antelope/glintr100.onnx recognition\n",
      "find model: ./insightface_func/models/antelope/scrfd_10g_bnkps.onnx detection\n",
      "set det-size: (640, 640)\n",
      "loading ./coordinate_reg/model/2d106det 0\n"
     ]
    },
    {
     "name": "stderr",
     "output_type": "stream",
     "text": [
      "[02:23:14] /work/mxnet/src/nnvm/legacy_json_util.cc:208: Loading symbol saved by previous version v1.5.0. Attempting to upgrade...\n",
      "[02:23:14] /work/mxnet/src/nnvm/legacy_json_util.cc:216: Symbol successfully upgraded!\n"
     ]
    },
    {
     "name": "stdout",
     "output_type": "stream",
     "text": [
      "input mean and std: 127.5 127.5\n",
      "find model: ./insightface_func/models/antelope/glintr100.onnx recognition\n",
      "find model: ./insightface_func/models/antelope/scrfd_10g_bnkps.onnx detection\n",
      "set det-size: (640, 640)\n",
      "Everything is ok!\n",
      "1\n"
     ]
    },
    {
     "name": "stderr",
     "output_type": "stream",
     "text": [
      "100%|██████████| 1/1 [00:00<00:00, 20.33it/s]\n",
      "1it [00:00, 275.83it/s]\n",
      "1it [00:00, 3968.12it/s]\n",
      "100%|██████████| 1/1 [00:00<00:00, 42.73it/s]\n",
      "100%|██████████| 1/1 [00:00<00:00, 9000.65it/s]\n",
      "/home/ubuntu-gpu/project/laboratory/ghost-train/.venv/lib/python3.8/site-packages/mxnet/ndarray/utils.py:141: DeprecationWarning: Please use `csr_matrix` from the `scipy.sparse` namespace, the `scipy.sparse.csr` namespace is deprecated.\n",
      "  if spsp is not None and isinstance(source_array, spsp.csr.csr_matrix):\n",
      "/home/ubuntu-gpu/project/laboratory/ghost-train/.venv/lib/python3.8/site-packages/mxnet/ndarray/utils.py:141: DeprecationWarning: Please use `csr_matrix` from the `scipy.sparse` namespace, the `scipy.sparse.csr` namespace is deprecated.\n",
      "  if spsp is not None and isinstance(source_array, spsp.csr.csr_matrix):\n"
     ]
    },
    {
     "name": "stdout",
     "output_type": "stream",
     "text": [
      "Image saved at examples/results/id85-enhanced9/result_source9_target7.png\n",
      "input mean and std: 127.5 127.5\n",
      "find model: ./insightface_func/models/antelope/glintr100.onnx recognition\n",
      "find model: ./insightface_func/models/antelope/scrfd_10g_bnkps.onnx detection\n",
      "set det-size: (640, 640)\n",
      "loading ./coordinate_reg/model/2d106det 0\n"
     ]
    },
    {
     "name": "stderr",
     "output_type": "stream",
     "text": [
      "[02:23:17] /work/mxnet/src/nnvm/legacy_json_util.cc:208: Loading symbol saved by previous version v1.5.0. Attempting to upgrade...\n",
      "[02:23:17] /work/mxnet/src/nnvm/legacy_json_util.cc:216: Symbol successfully upgraded!\n"
     ]
    },
    {
     "name": "stdout",
     "output_type": "stream",
     "text": [
      "input mean and std: 127.5 127.5\n",
      "find model: ./insightface_func/models/antelope/glintr100.onnx recognition\n",
      "find model: ./insightface_func/models/antelope/scrfd_10g_bnkps.onnx detection\n",
      "set det-size: (640, 640)\n",
      "Everything is ok!\n",
      "1\n"
     ]
    },
    {
     "name": "stderr",
     "output_type": "stream",
     "text": [
      "100%|██████████| 1/1 [00:00<00:00, 20.35it/s]\n",
      "1it [00:00, 654.54it/s]\n",
      "1it [00:00, 2737.80it/s]\n",
      "100%|██████████| 1/1 [00:00<00:00, 30.26it/s]\n",
      "100%|██████████| 1/1 [00:00<00:00, 21620.12it/s]\n",
      "/home/ubuntu-gpu/project/laboratory/ghost-train/.venv/lib/python3.8/site-packages/mxnet/ndarray/utils.py:141: DeprecationWarning: Please use `csr_matrix` from the `scipy.sparse` namespace, the `scipy.sparse.csr` namespace is deprecated.\n",
      "  if spsp is not None and isinstance(source_array, spsp.csr.csr_matrix):\n",
      "/home/ubuntu-gpu/project/laboratory/ghost-train/.venv/lib/python3.8/site-packages/mxnet/ndarray/utils.py:141: DeprecationWarning: Please use `csr_matrix` from the `scipy.sparse` namespace, the `scipy.sparse.csr` namespace is deprecated.\n",
      "  if spsp is not None and isinstance(source_array, spsp.csr.csr_matrix):\n"
     ]
    },
    {
     "name": "stdout",
     "output_type": "stream",
     "text": [
      "Image saved at examples/results/id85-enhanced9/result_source9_target8.png\n",
      "input mean and std: 127.5 127.5\n",
      "find model: ./insightface_func/models/antelope/glintr100.onnx recognition\n",
      "find model: ./insightface_func/models/antelope/scrfd_10g_bnkps.onnx detection\n",
      "set det-size: (640, 640)\n",
      "loading ./coordinate_reg/model/2d106det 0\n"
     ]
    },
    {
     "name": "stderr",
     "output_type": "stream",
     "text": [
      "[02:23:20] /work/mxnet/src/nnvm/legacy_json_util.cc:208: Loading symbol saved by previous version v1.5.0. Attempting to upgrade...\n",
      "[02:23:20] /work/mxnet/src/nnvm/legacy_json_util.cc:216: Symbol successfully upgraded!\n"
     ]
    },
    {
     "name": "stdout",
     "output_type": "stream",
     "text": [
      "input mean and std: 127.5 127.5\n",
      "find model: ./insightface_func/models/antelope/glintr100.onnx recognition\n",
      "find model: ./insightface_func/models/antelope/scrfd_10g_bnkps.onnx detection\n",
      "set det-size: (640, 640)\n",
      "Everything is ok!\n",
      "1\n"
     ]
    },
    {
     "name": "stderr",
     "output_type": "stream",
     "text": [
      "100%|██████████| 1/1 [00:00<00:00, 19.64it/s]\n",
      "1it [00:00, 660.83it/s]\n",
      "1it [00:00, 3175.10it/s]\n",
      "100%|██████████| 1/1 [00:00<00:00, 14.92it/s]\n",
      "100%|██████████| 1/1 [00:00<00:00, 21845.33it/s]\n",
      "/home/ubuntu-gpu/project/laboratory/ghost-train/.venv/lib/python3.8/site-packages/mxnet/ndarray/utils.py:141: DeprecationWarning: Please use `csr_matrix` from the `scipy.sparse` namespace, the `scipy.sparse.csr` namespace is deprecated.\n",
      "  if spsp is not None and isinstance(source_array, spsp.csr.csr_matrix):\n",
      "/home/ubuntu-gpu/project/laboratory/ghost-train/.venv/lib/python3.8/site-packages/mxnet/ndarray/utils.py:141: DeprecationWarning: Please use `csr_matrix` from the `scipy.sparse` namespace, the `scipy.sparse.csr` namespace is deprecated.\n",
      "  if spsp is not None and isinstance(source_array, spsp.csr.csr_matrix):\n"
     ]
    },
    {
     "name": "stdout",
     "output_type": "stream",
     "text": [
      "Image saved at examples/results/id85-enhanced9/result_source9_target9.png\n",
      "input mean and std: 127.5 127.5\n",
      "find model: ./insightface_func/models/antelope/glintr100.onnx recognition\n",
      "find model: ./insightface_func/models/antelope/scrfd_10g_bnkps.onnx detection\n",
      "set det-size: (640, 640)\n",
      "loading ./coordinate_reg/model/2d106det 0\n",
      "input mean and std: 127.5 127.5\n",
      "find model: ./insightface_func/models/antelope/glintr100.onnx recognition\n",
      "find model: ./insightface_func/models/antelope/scrfd_10g_bnkps.onnx detection\n",
      "set det-size: (640, 640)\n",
      "Everything is ok!\n",
      "1\n"
     ]
    },
    {
     "name": "stderr",
     "output_type": "stream",
     "text": [
      "[02:23:23] /work/mxnet/src/nnvm/legacy_json_util.cc:208: Loading symbol saved by previous version v1.5.0. Attempting to upgrade...\n",
      "[02:23:23] /work/mxnet/src/nnvm/legacy_json_util.cc:216: Symbol successfully upgraded!\n",
      "100%|██████████| 1/1 [00:00<00:00, 21.22it/s]\n",
      "1it [00:00, 680.01it/s]\n",
      "1it [00:00, 2809.31it/s]\n",
      "100%|██████████| 1/1 [00:00<00:00, 42.11it/s]\n",
      "100%|██████████| 1/1 [00:00<00:00, 14413.42it/s]\n",
      "/home/ubuntu-gpu/project/laboratory/ghost-train/.venv/lib/python3.8/site-packages/mxnet/ndarray/utils.py:141: DeprecationWarning: Please use `csr_matrix` from the `scipy.sparse` namespace, the `scipy.sparse.csr` namespace is deprecated.\n",
      "  if spsp is not None and isinstance(source_array, spsp.csr.csr_matrix):\n",
      "/home/ubuntu-gpu/project/laboratory/ghost-train/.venv/lib/python3.8/site-packages/mxnet/ndarray/utils.py:141: DeprecationWarning: Please use `csr_matrix` from the `scipy.sparse` namespace, the `scipy.sparse.csr` namespace is deprecated.\n",
      "  if spsp is not None and isinstance(source_array, spsp.csr.csr_matrix):\n"
     ]
    },
    {
     "name": "stdout",
     "output_type": "stream",
     "text": [
      "Image saved at examples/results/id85-enhanced9/result_source9_target10.png\n",
      "input mean and std: 127.5 127.5\n",
      "find model: ./insightface_func/models/antelope/glintr100.onnx recognition\n",
      "find model: ./insightface_func/models/antelope/scrfd_10g_bnkps.onnx detection\n",
      "set det-size: (640, 640)\n",
      "loading ./coordinate_reg/model/2d106det 0\n",
      "input mean and std: 127.5 127.5\n",
      "find model: ./insightface_func/models/antelope/glintr100.onnx recognition\n",
      "find model: ./insightface_func/models/antelope/scrfd_10g_bnkps.onnx detection\n",
      "set det-size: (640, 640)\n",
      "Everything is ok!\n",
      "1\n"
     ]
    },
    {
     "name": "stderr",
     "output_type": "stream",
     "text": [
      "[02:23:26] /work/mxnet/src/nnvm/legacy_json_util.cc:208: Loading symbol saved by previous version v1.5.0. Attempting to upgrade...\n",
      "[02:23:26] /work/mxnet/src/nnvm/legacy_json_util.cc:216: Symbol successfully upgraded!\n",
      "100%|██████████| 1/1 [00:00<00:00, 17.94it/s]\n",
      "1it [00:00, 659.79it/s]\n",
      "1it [00:00, 7384.34it/s]\n",
      "100%|██████████| 1/1 [00:00<00:00, 13.53it/s]\n",
      "100%|██████████| 1/1 [00:00<00:00, 23431.87it/s]\n",
      "/home/ubuntu-gpu/project/laboratory/ghost-train/.venv/lib/python3.8/site-packages/mxnet/ndarray/utils.py:141: DeprecationWarning: Please use `csr_matrix` from the `scipy.sparse` namespace, the `scipy.sparse.csr` namespace is deprecated.\n",
      "  if spsp is not None and isinstance(source_array, spsp.csr.csr_matrix):\n",
      "/home/ubuntu-gpu/project/laboratory/ghost-train/.venv/lib/python3.8/site-packages/mxnet/ndarray/utils.py:141: DeprecationWarning: Please use `csr_matrix` from the `scipy.sparse` namespace, the `scipy.sparse.csr` namespace is deprecated.\n",
      "  if spsp is not None and isinstance(source_array, spsp.csr.csr_matrix):\n"
     ]
    },
    {
     "name": "stdout",
     "output_type": "stream",
     "text": [
      "Image saved at examples/results/id85-enhanced9/result_source9_target11.png\n",
      "input mean and std: 127.5 127.5\n",
      "find model: ./insightface_func/models/antelope/glintr100.onnx recognition\n",
      "find model: ./insightface_func/models/antelope/scrfd_10g_bnkps.onnx detection\n",
      "set det-size: (640, 640)\n",
      "loading ./coordinate_reg/model/2d106det 0\n",
      "input mean and std: 127.5 127.5\n",
      "find model: ./insightface_func/models/antelope/glintr100.onnx recognition\n",
      "find model: ./insightface_func/models/antelope/scrfd_10g_bnkps.onnx detection\n",
      "set det-size: (640, 640)\n",
      "Everything is ok!\n",
      "1\n"
     ]
    },
    {
     "name": "stderr",
     "output_type": "stream",
     "text": [
      "[02:23:29] /work/mxnet/src/nnvm/legacy_json_util.cc:208: Loading symbol saved by previous version v1.5.0. Attempting to upgrade...\n",
      "[02:23:29] /work/mxnet/src/nnvm/legacy_json_util.cc:216: Symbol successfully upgraded!\n",
      "100%|██████████| 1/1 [00:00<00:00, 17.36it/s]\n",
      "1it [00:00, 261.16it/s]\n",
      "1it [00:00, 6615.62it/s]\n",
      "100%|██████████| 1/1 [00:00<00:00, 13.47it/s]\n",
      "100%|██████████| 1/1 [00:00<00:00, 22192.08it/s]\n",
      "/home/ubuntu-gpu/project/laboratory/ghost-train/.venv/lib/python3.8/site-packages/mxnet/ndarray/utils.py:141: DeprecationWarning: Please use `csr_matrix` from the `scipy.sparse` namespace, the `scipy.sparse.csr` namespace is deprecated.\n",
      "  if spsp is not None and isinstance(source_array, spsp.csr.csr_matrix):\n",
      "/home/ubuntu-gpu/project/laboratory/ghost-train/.venv/lib/python3.8/site-packages/mxnet/ndarray/utils.py:141: DeprecationWarning: Please use `csr_matrix` from the `scipy.sparse` namespace, the `scipy.sparse.csr` namespace is deprecated.\n",
      "  if spsp is not None and isinstance(source_array, spsp.csr.csr_matrix):\n"
     ]
    },
    {
     "name": "stdout",
     "output_type": "stream",
     "text": [
      "Image saved at examples/results/id85-enhanced9/result_source9_target12.png\n",
      "input mean and std: 127.5 127.5\n",
      "find model: ./insightface_func/models/antelope/glintr100.onnx recognition\n",
      "find model: ./insightface_func/models/antelope/scrfd_10g_bnkps.onnx detection\n",
      "set det-size: (640, 640)\n",
      "loading ./coordinate_reg/model/2d106det 0\n"
     ]
    },
    {
     "name": "stderr",
     "output_type": "stream",
     "text": [
      "[02:23:32] /work/mxnet/src/nnvm/legacy_json_util.cc:208: Loading symbol saved by previous version v1.5.0. Attempting to upgrade...\n",
      "[02:23:32] /work/mxnet/src/nnvm/legacy_json_util.cc:216: Symbol successfully upgraded!\n"
     ]
    },
    {
     "name": "stdout",
     "output_type": "stream",
     "text": [
      "input mean and std: 127.5 127.5\n",
      "find model: ./insightface_func/models/antelope/glintr100.onnx recognition\n",
      "find model: ./insightface_func/models/antelope/scrfd_10g_bnkps.onnx detection\n",
      "set det-size: (640, 640)\n",
      "Everything is ok!\n",
      "1\n"
     ]
    },
    {
     "name": "stderr",
     "output_type": "stream",
     "text": [
      "100%|██████████| 1/1 [00:00<00:00, 18.12it/s]\n",
      "1it [00:00, 281.99it/s]\n",
      "1it [00:00, 5629.94it/s]\n",
      "100%|██████████| 1/1 [00:00<00:00, 49.98it/s]\n",
      "100%|██████████| 1/1 [00:00<00:00, 20360.70it/s]\n",
      "/home/ubuntu-gpu/project/laboratory/ghost-train/.venv/lib/python3.8/site-packages/mxnet/ndarray/utils.py:141: DeprecationWarning: Please use `csr_matrix` from the `scipy.sparse` namespace, the `scipy.sparse.csr` namespace is deprecated.\n",
      "  if spsp is not None and isinstance(source_array, spsp.csr.csr_matrix):\n",
      "/home/ubuntu-gpu/project/laboratory/ghost-train/.venv/lib/python3.8/site-packages/mxnet/ndarray/utils.py:141: DeprecationWarning: Please use `csr_matrix` from the `scipy.sparse` namespace, the `scipy.sparse.csr` namespace is deprecated.\n",
      "  if spsp is not None and isinstance(source_array, spsp.csr.csr_matrix):\n"
     ]
    },
    {
     "name": "stdout",
     "output_type": "stream",
     "text": [
      "Image saved at examples/results/id85-enhanced9/result_source9_target13.png\n",
      "input mean and std: 127.5 127.5\n",
      "find model: ./insightface_func/models/antelope/glintr100.onnx recognition\n",
      "find model: ./insightface_func/models/antelope/scrfd_10g_bnkps.onnx detection\n",
      "set det-size: (640, 640)\n",
      "loading ./coordinate_reg/model/2d106det 0\n"
     ]
    },
    {
     "name": "stderr",
     "output_type": "stream",
     "text": [
      "[02:23:35] /work/mxnet/src/nnvm/legacy_json_util.cc:208: Loading symbol saved by previous version v1.5.0. Attempting to upgrade...\n",
      "[02:23:35] /work/mxnet/src/nnvm/legacy_json_util.cc:216: Symbol successfully upgraded!\n"
     ]
    },
    {
     "name": "stdout",
     "output_type": "stream",
     "text": [
      "input mean and std: 127.5 127.5\n",
      "find model: ./insightface_func/models/antelope/glintr100.onnx recognition\n",
      "find model: ./insightface_func/models/antelope/scrfd_10g_bnkps.onnx detection\n",
      "set det-size: (640, 640)\n",
      "Everything is ok!\n",
      "1\n"
     ]
    },
    {
     "name": "stderr",
     "output_type": "stream",
     "text": [
      "100%|██████████| 1/1 [00:00<00:00, 19.60it/s]\n",
      "1it [00:00, 334.07it/s]\n",
      "1it [00:00, 6241.52it/s]\n",
      "100%|██████████| 1/1 [00:00<00:00, 14.29it/s]\n",
      "100%|██████████| 1/1 [00:00<00:00, 18978.75it/s]\n",
      "/home/ubuntu-gpu/project/laboratory/ghost-train/.venv/lib/python3.8/site-packages/mxnet/ndarray/utils.py:141: DeprecationWarning: Please use `csr_matrix` from the `scipy.sparse` namespace, the `scipy.sparse.csr` namespace is deprecated.\n",
      "  if spsp is not None and isinstance(source_array, spsp.csr.csr_matrix):\n",
      "/home/ubuntu-gpu/project/laboratory/ghost-train/.venv/lib/python3.8/site-packages/mxnet/ndarray/utils.py:141: DeprecationWarning: Please use `csr_matrix` from the `scipy.sparse` namespace, the `scipy.sparse.csr` namespace is deprecated.\n",
      "  if spsp is not None and isinstance(source_array, spsp.csr.csr_matrix):\n"
     ]
    },
    {
     "name": "stdout",
     "output_type": "stream",
     "text": [
      "Image saved at examples/results/id85-enhanced9/result_source9_target14.png\n",
      "input mean and std: 127.5 127.5\n",
      "find model: ./insightface_func/models/antelope/glintr100.onnx recognition\n",
      "find model: ./insightface_func/models/antelope/scrfd_10g_bnkps.onnx detection\n",
      "set det-size: (640, 640)\n",
      "loading ./coordinate_reg/model/2d106det 0\n"
     ]
    },
    {
     "name": "stderr",
     "output_type": "stream",
     "text": [
      "[02:23:39] /work/mxnet/src/nnvm/legacy_json_util.cc:208: Loading symbol saved by previous version v1.5.0. Attempting to upgrade...\n",
      "[02:23:39] /work/mxnet/src/nnvm/legacy_json_util.cc:216: Symbol successfully upgraded!\n"
     ]
    },
    {
     "name": "stdout",
     "output_type": "stream",
     "text": [
      "input mean and std: 127.5 127.5\n",
      "find model: ./insightface_func/models/antelope/glintr100.onnx recognition\n",
      "find model: ./insightface_func/models/antelope/scrfd_10g_bnkps.onnx detection\n",
      "set det-size: (640, 640)\n",
      "Everything is ok!\n",
      "1\n"
     ]
    },
    {
     "name": "stderr",
     "output_type": "stream",
     "text": [
      "100%|██████████| 1/1 [00:00<00:00, 17.60it/s]\n",
      "1it [00:00, 455.11it/s]\n",
      "1it [00:00, 6096.37it/s]\n",
      "100%|██████████| 1/1 [00:00<00:00, 14.48it/s]\n",
      "100%|██████████| 1/1 [00:00<00:00, 21183.35it/s]\n",
      "/home/ubuntu-gpu/project/laboratory/ghost-train/.venv/lib/python3.8/site-packages/mxnet/ndarray/utils.py:141: DeprecationWarning: Please use `csr_matrix` from the `scipy.sparse` namespace, the `scipy.sparse.csr` namespace is deprecated.\n",
      "  if spsp is not None and isinstance(source_array, spsp.csr.csr_matrix):\n",
      "/home/ubuntu-gpu/project/laboratory/ghost-train/.venv/lib/python3.8/site-packages/mxnet/ndarray/utils.py:141: DeprecationWarning: Please use `csr_matrix` from the `scipy.sparse` namespace, the `scipy.sparse.csr` namespace is deprecated.\n",
      "  if spsp is not None and isinstance(source_array, spsp.csr.csr_matrix):\n"
     ]
    },
    {
     "name": "stdout",
     "output_type": "stream",
     "text": [
      "Image saved at examples/results/id85-enhanced9/result_source9_target15.png\n",
      "input mean and std: 127.5 127.5\n",
      "find model: ./insightface_func/models/antelope/glintr100.onnx recognition\n",
      "find model: ./insightface_func/models/antelope/scrfd_10g_bnkps.onnx detection\n",
      "set det-size: (640, 640)\n",
      "loading ./coordinate_reg/model/2d106det 0\n"
     ]
    },
    {
     "name": "stderr",
     "output_type": "stream",
     "text": [
      "[02:23:42] /work/mxnet/src/nnvm/legacy_json_util.cc:208: Loading symbol saved by previous version v1.5.0. Attempting to upgrade...\n",
      "[02:23:42] /work/mxnet/src/nnvm/legacy_json_util.cc:216: Symbol successfully upgraded!\n"
     ]
    },
    {
     "name": "stdout",
     "output_type": "stream",
     "text": [
      "input mean and std: 127.5 127.5\n",
      "find model: ./insightface_func/models/antelope/glintr100.onnx recognition\n",
      "find model: ./insightface_func/models/antelope/scrfd_10g_bnkps.onnx detection\n",
      "set det-size: (640, 640)\n",
      "Everything is ok!\n",
      "1\n"
     ]
    },
    {
     "name": "stderr",
     "output_type": "stream",
     "text": [
      "100%|██████████| 1/1 [00:00<00:00, 19.86it/s]\n",
      "1it [00:00, 325.64it/s]\n",
      "1it [00:00, 5096.36it/s]\n",
      "100%|██████████| 1/1 [00:00<00:00, 30.00it/s]\n",
      "100%|██████████| 1/1 [00:00<00:00, 21290.88it/s]\n",
      "/home/ubuntu-gpu/project/laboratory/ghost-train/.venv/lib/python3.8/site-packages/mxnet/ndarray/utils.py:141: DeprecationWarning: Please use `csr_matrix` from the `scipy.sparse` namespace, the `scipy.sparse.csr` namespace is deprecated.\n",
      "  if spsp is not None and isinstance(source_array, spsp.csr.csr_matrix):\n",
      "/home/ubuntu-gpu/project/laboratory/ghost-train/.venv/lib/python3.8/site-packages/mxnet/ndarray/utils.py:141: DeprecationWarning: Please use `csr_matrix` from the `scipy.sparse` namespace, the `scipy.sparse.csr` namespace is deprecated.\n",
      "  if spsp is not None and isinstance(source_array, spsp.csr.csr_matrix):\n"
     ]
    },
    {
     "name": "stdout",
     "output_type": "stream",
     "text": [
      "Image saved at examples/results/id85-enhanced9/result_source9_target16.png\n",
      "input mean and std: 127.5 127.5\n",
      "find model: ./insightface_func/models/antelope/glintr100.onnx recognition\n",
      "find model: ./insightface_func/models/antelope/scrfd_10g_bnkps.onnx detection\n",
      "set det-size: (640, 640)\n",
      "loading ./coordinate_reg/model/2d106det 0\n"
     ]
    },
    {
     "name": "stderr",
     "output_type": "stream",
     "text": [
      "[02:23:45] /work/mxnet/src/nnvm/legacy_json_util.cc:208: Loading symbol saved by previous version v1.5.0. Attempting to upgrade...\n",
      "[02:23:45] /work/mxnet/src/nnvm/legacy_json_util.cc:216: Symbol successfully upgraded!\n"
     ]
    },
    {
     "name": "stdout",
     "output_type": "stream",
     "text": [
      "input mean and std: 127.5 127.5\n",
      "find model: ./insightface_func/models/antelope/glintr100.onnx recognition\n",
      "find model: ./insightface_func/models/antelope/scrfd_10g_bnkps.onnx detection\n",
      "set det-size: (640, 640)\n",
      "Everything is ok!\n",
      "1\n"
     ]
    },
    {
     "name": "stderr",
     "output_type": "stream",
     "text": [
      "100%|██████████| 1/1 [00:00<00:00, 20.52it/s]\n",
      "1it [00:00, 706.11it/s]\n",
      "1it [00:00, 5315.97it/s]\n",
      "100%|██████████| 1/1 [00:00<00:00, 14.28it/s]\n",
      "100%|██████████| 1/1 [00:00<00:00, 12985.46it/s]\n",
      "/home/ubuntu-gpu/project/laboratory/ghost-train/.venv/lib/python3.8/site-packages/mxnet/ndarray/utils.py:141: DeprecationWarning: Please use `csr_matrix` from the `scipy.sparse` namespace, the `scipy.sparse.csr` namespace is deprecated.\n",
      "  if spsp is not None and isinstance(source_array, spsp.csr.csr_matrix):\n",
      "/home/ubuntu-gpu/project/laboratory/ghost-train/.venv/lib/python3.8/site-packages/mxnet/ndarray/utils.py:141: DeprecationWarning: Please use `csr_matrix` from the `scipy.sparse` namespace, the `scipy.sparse.csr` namespace is deprecated.\n",
      "  if spsp is not None and isinstance(source_array, spsp.csr.csr_matrix):\n"
     ]
    },
    {
     "name": "stdout",
     "output_type": "stream",
     "text": [
      "Image saved at examples/results/id85-enhanced9/result_source10_target0.png\n",
      "input mean and std: 127.5 127.5\n",
      "find model: ./insightface_func/models/antelope/glintr100.onnx recognition\n",
      "find model: ./insightface_func/models/antelope/scrfd_10g_bnkps.onnx detection\n",
      "set det-size: (640, 640)\n",
      "loading ./coordinate_reg/model/2d106det 0\n",
      "input mean and std: 127.5 127.5\n",
      "find model: ./insightface_func/models/antelope/glintr100.onnx recognition\n",
      "find model: ./insightface_func/models/antelope/scrfd_10g_bnkps.onnx detection\n",
      "set det-size: (640, 640)\n",
      "Everything is ok!\n",
      "1\n"
     ]
    },
    {
     "name": "stderr",
     "output_type": "stream",
     "text": [
      "[02:23:48] /work/mxnet/src/nnvm/legacy_json_util.cc:208: Loading symbol saved by previous version v1.5.0. Attempting to upgrade...\n",
      "[02:23:48] /work/mxnet/src/nnvm/legacy_json_util.cc:216: Symbol successfully upgraded!\n",
      "100%|██████████| 1/1 [00:00<00:00, 19.11it/s]\n",
      "1it [00:00, 366.12it/s]\n",
      "1it [00:00, 5675.65it/s]\n",
      "100%|██████████| 1/1 [00:00<00:00, 51.23it/s]\n",
      "100%|██████████| 1/1 [00:00<00:00, 12483.05it/s]\n",
      "/home/ubuntu-gpu/project/laboratory/ghost-train/.venv/lib/python3.8/site-packages/mxnet/ndarray/utils.py:141: DeprecationWarning: Please use `csr_matrix` from the `scipy.sparse` namespace, the `scipy.sparse.csr` namespace is deprecated.\n",
      "  if spsp is not None and isinstance(source_array, spsp.csr.csr_matrix):\n",
      "/home/ubuntu-gpu/project/laboratory/ghost-train/.venv/lib/python3.8/site-packages/mxnet/ndarray/utils.py:141: DeprecationWarning: Please use `csr_matrix` from the `scipy.sparse` namespace, the `scipy.sparse.csr` namespace is deprecated.\n",
      "  if spsp is not None and isinstance(source_array, spsp.csr.csr_matrix):\n"
     ]
    },
    {
     "name": "stdout",
     "output_type": "stream",
     "text": [
      "Image saved at examples/results/id85-enhanced9/result_source10_target1.png\n",
      "input mean and std: 127.5 127.5\n",
      "find model: ./insightface_func/models/antelope/glintr100.onnx recognition\n",
      "find model: ./insightface_func/models/antelope/scrfd_10g_bnkps.onnx detection\n",
      "set det-size: (640, 640)\n",
      "loading ./coordinate_reg/model/2d106det 0\n",
      "input mean and std: 127.5 127.5\n",
      "find model: ./insightface_func/models/antelope/glintr100.onnx recognition\n",
      "find model: ./insightface_func/models/antelope/scrfd_10g_bnkps.onnx detection\n",
      "set det-size: (640, 640)\n",
      "Everything is ok!\n",
      "1\n"
     ]
    },
    {
     "name": "stderr",
     "output_type": "stream",
     "text": [
      "[02:23:51] /work/mxnet/src/nnvm/legacy_json_util.cc:208: Loading symbol saved by previous version v1.5.0. Attempting to upgrade...\n",
      "[02:23:51] /work/mxnet/src/nnvm/legacy_json_util.cc:216: Symbol successfully upgraded!\n",
      "100%|██████████| 1/1 [00:00<00:00, 19.56it/s]\n",
      "1it [00:00, 973.38it/s]\n",
      "1it [00:00, 4963.67it/s]\n",
      "100%|██████████| 1/1 [00:00<00:00, 13.83it/s]\n",
      "100%|██████████| 1/1 [00:00<00:00, 18396.07it/s]\n",
      "/home/ubuntu-gpu/project/laboratory/ghost-train/.venv/lib/python3.8/site-packages/mxnet/ndarray/utils.py:141: DeprecationWarning: Please use `csr_matrix` from the `scipy.sparse` namespace, the `scipy.sparse.csr` namespace is deprecated.\n",
      "  if spsp is not None and isinstance(source_array, spsp.csr.csr_matrix):\n",
      "/home/ubuntu-gpu/project/laboratory/ghost-train/.venv/lib/python3.8/site-packages/mxnet/ndarray/utils.py:141: DeprecationWarning: Please use `csr_matrix` from the `scipy.sparse` namespace, the `scipy.sparse.csr` namespace is deprecated.\n",
      "  if spsp is not None and isinstance(source_array, spsp.csr.csr_matrix):\n"
     ]
    },
    {
     "name": "stdout",
     "output_type": "stream",
     "text": [
      "Image saved at examples/results/id85-enhanced9/result_source10_target2.png\n",
      "input mean and std: 127.5 127.5\n",
      "find model: ./insightface_func/models/antelope/glintr100.onnx recognition\n",
      "find model: ./insightface_func/models/antelope/scrfd_10g_bnkps.onnx detection\n",
      "set det-size: (640, 640)\n",
      "loading ./coordinate_reg/model/2d106det 0\n"
     ]
    },
    {
     "name": "stderr",
     "output_type": "stream",
     "text": [
      "[02:23:54] /work/mxnet/src/nnvm/legacy_json_util.cc:208: Loading symbol saved by previous version v1.5.0. Attempting to upgrade...\n",
      "[02:23:54] /work/mxnet/src/nnvm/legacy_json_util.cc:216: Symbol successfully upgraded!\n"
     ]
    },
    {
     "name": "stdout",
     "output_type": "stream",
     "text": [
      "input mean and std: 127.5 127.5\n",
      "find model: ./insightface_func/models/antelope/glintr100.onnx recognition\n",
      "find model: ./insightface_func/models/antelope/scrfd_10g_bnkps.onnx detection\n",
      "set det-size: (640, 640)\n",
      "Everything is ok!\n",
      "1\n"
     ]
    },
    {
     "name": "stderr",
     "output_type": "stream",
     "text": [
      "100%|██████████| 1/1 [00:00<00:00, 20.15it/s]\n",
      "1it [00:00, 317.82it/s]\n",
      "1it [00:00, 6786.90it/s]\n",
      "100%|██████████| 1/1 [00:00<00:00, 57.93it/s]\n",
      "100%|██████████| 1/1 [00:00<00:00, 14266.34it/s]\n",
      "/home/ubuntu-gpu/project/laboratory/ghost-train/.venv/lib/python3.8/site-packages/mxnet/ndarray/utils.py:141: DeprecationWarning: Please use `csr_matrix` from the `scipy.sparse` namespace, the `scipy.sparse.csr` namespace is deprecated.\n",
      "  if spsp is not None and isinstance(source_array, spsp.csr.csr_matrix):\n",
      "/home/ubuntu-gpu/project/laboratory/ghost-train/.venv/lib/python3.8/site-packages/mxnet/ndarray/utils.py:141: DeprecationWarning: Please use `csr_matrix` from the `scipy.sparse` namespace, the `scipy.sparse.csr` namespace is deprecated.\n",
      "  if spsp is not None and isinstance(source_array, spsp.csr.csr_matrix):\n"
     ]
    },
    {
     "name": "stdout",
     "output_type": "stream",
     "text": [
      "Image saved at examples/results/id85-enhanced9/result_source10_target3.png\n",
      "input mean and std: 127.5 127.5\n",
      "find model: ./insightface_func/models/antelope/glintr100.onnx recognition\n",
      "find model: ./insightface_func/models/antelope/scrfd_10g_bnkps.onnx detection\n",
      "set det-size: (640, 640)\n",
      "loading ./coordinate_reg/model/2d106det 0\n"
     ]
    },
    {
     "name": "stderr",
     "output_type": "stream",
     "text": [
      "[02:23:57] /work/mxnet/src/nnvm/legacy_json_util.cc:208: Loading symbol saved by previous version v1.5.0. Attempting to upgrade...\n",
      "[02:23:57] /work/mxnet/src/nnvm/legacy_json_util.cc:216: Symbol successfully upgraded!\n"
     ]
    },
    {
     "name": "stdout",
     "output_type": "stream",
     "text": [
      "input mean and std: 127.5 127.5\n",
      "find model: ./insightface_func/models/antelope/glintr100.onnx recognition\n",
      "find model: ./insightface_func/models/antelope/scrfd_10g_bnkps.onnx detection\n",
      "set det-size: (640, 640)\n",
      "Everything is ok!\n",
      "1\n"
     ]
    },
    {
     "name": "stderr",
     "output_type": "stream",
     "text": [
      "100%|██████████| 1/1 [00:00<00:00, 18.42it/s]\n",
      "1it [00:00, 1102.31it/s]\n",
      "1it [00:00, 6009.03it/s]\n",
      "100%|██████████| 1/1 [00:00<00:00, 13.63it/s]\n",
      "100%|██████████| 1/1 [00:00<00:00, 22075.28it/s]\n",
      "/home/ubuntu-gpu/project/laboratory/ghost-train/.venv/lib/python3.8/site-packages/mxnet/ndarray/utils.py:141: DeprecationWarning: Please use `csr_matrix` from the `scipy.sparse` namespace, the `scipy.sparse.csr` namespace is deprecated.\n",
      "  if spsp is not None and isinstance(source_array, spsp.csr.csr_matrix):\n",
      "/home/ubuntu-gpu/project/laboratory/ghost-train/.venv/lib/python3.8/site-packages/mxnet/ndarray/utils.py:141: DeprecationWarning: Please use `csr_matrix` from the `scipy.sparse` namespace, the `scipy.sparse.csr` namespace is deprecated.\n",
      "  if spsp is not None and isinstance(source_array, spsp.csr.csr_matrix):\n"
     ]
    },
    {
     "name": "stdout",
     "output_type": "stream",
     "text": [
      "Image saved at examples/results/id85-enhanced9/result_source10_target4.png\n",
      "input mean and std: 127.5 127.5\n",
      "find model: ./insightface_func/models/antelope/glintr100.onnx recognition\n",
      "find model: ./insightface_func/models/antelope/scrfd_10g_bnkps.onnx detection\n",
      "set det-size: (640, 640)\n",
      "loading ./coordinate_reg/model/2d106det 0\n",
      "input mean and std: 127.5 127.5\n",
      "find model: ./insightface_func/models/antelope/glintr100.onnx recognition\n",
      "find model: ./insightface_func/models/antelope/scrfd_10g_bnkps.onnx detection\n",
      "set det-size: (640, 640)\n",
      "Everything is ok!\n",
      "1\n"
     ]
    },
    {
     "name": "stderr",
     "output_type": "stream",
     "text": [
      "[02:24:00] /work/mxnet/src/nnvm/legacy_json_util.cc:208: Loading symbol saved by previous version v1.5.0. Attempting to upgrade...\n",
      "[02:24:00] /work/mxnet/src/nnvm/legacy_json_util.cc:216: Symbol successfully upgraded!\n",
      "100%|██████████| 1/1 [00:00<00:00, 19.76it/s]\n",
      "1it [00:00, 158.94it/s]\n",
      "1it [00:00, 6512.89it/s]\n",
      "100%|██████████| 1/1 [00:00<00:00, 14.28it/s]\n",
      "100%|██████████| 1/1 [00:00<00:00, 20661.60it/s]\n",
      "/home/ubuntu-gpu/project/laboratory/ghost-train/.venv/lib/python3.8/site-packages/mxnet/ndarray/utils.py:141: DeprecationWarning: Please use `csr_matrix` from the `scipy.sparse` namespace, the `scipy.sparse.csr` namespace is deprecated.\n",
      "  if spsp is not None and isinstance(source_array, spsp.csr.csr_matrix):\n",
      "/home/ubuntu-gpu/project/laboratory/ghost-train/.venv/lib/python3.8/site-packages/mxnet/ndarray/utils.py:141: DeprecationWarning: Please use `csr_matrix` from the `scipy.sparse` namespace, the `scipy.sparse.csr` namespace is deprecated.\n",
      "  if spsp is not None and isinstance(source_array, spsp.csr.csr_matrix):\n"
     ]
    },
    {
     "name": "stdout",
     "output_type": "stream",
     "text": [
      "Image saved at examples/results/id85-enhanced9/result_source10_target5.png\n",
      "input mean and std: 127.5 127.5\n",
      "find model: ./insightface_func/models/antelope/glintr100.onnx recognition\n",
      "find model: ./insightface_func/models/antelope/scrfd_10g_bnkps.onnx detection\n",
      "set det-size: (640, 640)\n",
      "loading ./coordinate_reg/model/2d106det 0\n"
     ]
    },
    {
     "name": "stderr",
     "output_type": "stream",
     "text": [
      "[02:24:03] /work/mxnet/src/nnvm/legacy_json_util.cc:208: Loading symbol saved by previous version v1.5.0. Attempting to upgrade...\n",
      "[02:24:03] /work/mxnet/src/nnvm/legacy_json_util.cc:216: Symbol successfully upgraded!\n"
     ]
    },
    {
     "name": "stdout",
     "output_type": "stream",
     "text": [
      "input mean and std: 127.5 127.5\n",
      "find model: ./insightface_func/models/antelope/glintr100.onnx recognition\n",
      "find model: ./insightface_func/models/antelope/scrfd_10g_bnkps.onnx detection\n",
      "set det-size: (640, 640)\n",
      "Everything is ok!\n",
      "1\n"
     ]
    },
    {
     "name": "stderr",
     "output_type": "stream",
     "text": [
      "100%|██████████| 1/1 [00:00<00:00, 14.81it/s]\n",
      "1it [00:00, 514.51it/s]\n",
      "1it [00:00, 5607.36it/s]\n",
      "100%|██████████| 1/1 [00:00<00:00, 14.86it/s]\n",
      "100%|██████████| 1/1 [00:00<00:00, 21509.25it/s]\n",
      "/home/ubuntu-gpu/project/laboratory/ghost-train/.venv/lib/python3.8/site-packages/mxnet/ndarray/utils.py:141: DeprecationWarning: Please use `csr_matrix` from the `scipy.sparse` namespace, the `scipy.sparse.csr` namespace is deprecated.\n",
      "  if spsp is not None and isinstance(source_array, spsp.csr.csr_matrix):\n",
      "/home/ubuntu-gpu/project/laboratory/ghost-train/.venv/lib/python3.8/site-packages/mxnet/ndarray/utils.py:141: DeprecationWarning: Please use `csr_matrix` from the `scipy.sparse` namespace, the `scipy.sparse.csr` namespace is deprecated.\n",
      "  if spsp is not None and isinstance(source_array, spsp.csr.csr_matrix):\n"
     ]
    },
    {
     "name": "stdout",
     "output_type": "stream",
     "text": [
      "Image saved at examples/results/id85-enhanced9/result_source10_target6.png\n",
      "input mean and std: 127.5 127.5\n",
      "find model: ./insightface_func/models/antelope/glintr100.onnx recognition\n",
      "find model: ./insightface_func/models/antelope/scrfd_10g_bnkps.onnx detection\n",
      "set det-size: (640, 640)\n",
      "loading ./coordinate_reg/model/2d106det 0\n"
     ]
    },
    {
     "name": "stderr",
     "output_type": "stream",
     "text": [
      "[02:24:06] /work/mxnet/src/nnvm/legacy_json_util.cc:208: Loading symbol saved by previous version v1.5.0. Attempting to upgrade...\n",
      "[02:24:06] /work/mxnet/src/nnvm/legacy_json_util.cc:216: Symbol successfully upgraded!\n"
     ]
    },
    {
     "name": "stdout",
     "output_type": "stream",
     "text": [
      "input mean and std: 127.5 127.5\n",
      "find model: ./insightface_func/models/antelope/glintr100.onnx recognition\n",
      "find model: ./insightface_func/models/antelope/scrfd_10g_bnkps.onnx detection\n",
      "set det-size: (640, 640)\n",
      "Everything is ok!\n",
      "1\n"
     ]
    },
    {
     "name": "stderr",
     "output_type": "stream",
     "text": [
      "100%|██████████| 1/1 [00:00<00:00, 17.39it/s]\n",
      "1it [00:00, 371.64it/s]\n",
      "1it [00:00, 6413.31it/s]\n",
      "100%|██████████| 1/1 [00:00<00:00, 14.80it/s]\n",
      "100%|██████████| 1/1 [00:00<00:00, 19784.45it/s]\n",
      "/home/ubuntu-gpu/project/laboratory/ghost-train/.venv/lib/python3.8/site-packages/mxnet/ndarray/utils.py:141: DeprecationWarning: Please use `csr_matrix` from the `scipy.sparse` namespace, the `scipy.sparse.csr` namespace is deprecated.\n",
      "  if spsp is not None and isinstance(source_array, spsp.csr.csr_matrix):\n",
      "/home/ubuntu-gpu/project/laboratory/ghost-train/.venv/lib/python3.8/site-packages/mxnet/ndarray/utils.py:141: DeprecationWarning: Please use `csr_matrix` from the `scipy.sparse` namespace, the `scipy.sparse.csr` namespace is deprecated.\n",
      "  if spsp is not None and isinstance(source_array, spsp.csr.csr_matrix):\n"
     ]
    },
    {
     "name": "stdout",
     "output_type": "stream",
     "text": [
      "Image saved at examples/results/id85-enhanced9/result_source10_target7.png\n",
      "input mean and std: 127.5 127.5\n",
      "find model: ./insightface_func/models/antelope/glintr100.onnx recognition\n",
      "find model: ./insightface_func/models/antelope/scrfd_10g_bnkps.onnx detection\n",
      "set det-size: (640, 640)\n",
      "loading ./coordinate_reg/model/2d106det 0\n"
     ]
    },
    {
     "name": "stderr",
     "output_type": "stream",
     "text": [
      "[02:24:10] /work/mxnet/src/nnvm/legacy_json_util.cc:208: Loading symbol saved by previous version v1.5.0. Attempting to upgrade...\n",
      "[02:24:10] /work/mxnet/src/nnvm/legacy_json_util.cc:216: Symbol successfully upgraded!\n"
     ]
    },
    {
     "name": "stdout",
     "output_type": "stream",
     "text": [
      "input mean and std: 127.5 127.5\n",
      "find model: ./insightface_func/models/antelope/glintr100.onnx recognition\n",
      "find model: ./insightface_func/models/antelope/scrfd_10g_bnkps.onnx detection\n",
      "set det-size: (640, 640)\n",
      "Everything is ok!\n",
      "1\n"
     ]
    },
    {
     "name": "stderr",
     "output_type": "stream",
     "text": [
      "100%|██████████| 1/1 [00:00<00:00, 14.74it/s]\n",
      "1it [00:00, 1042.06it/s]\n",
      "1it [00:00, 5645.09it/s]\n",
      "100%|██████████| 1/1 [00:00<00:00, 45.23it/s]\n",
      "100%|██████████| 1/1 [00:00<00:00, 22075.28it/s]\n",
      "/home/ubuntu-gpu/project/laboratory/ghost-train/.venv/lib/python3.8/site-packages/mxnet/ndarray/utils.py:141: DeprecationWarning: Please use `csr_matrix` from the `scipy.sparse` namespace, the `scipy.sparse.csr` namespace is deprecated.\n",
      "  if spsp is not None and isinstance(source_array, spsp.csr.csr_matrix):\n",
      "/home/ubuntu-gpu/project/laboratory/ghost-train/.venv/lib/python3.8/site-packages/mxnet/ndarray/utils.py:141: DeprecationWarning: Please use `csr_matrix` from the `scipy.sparse` namespace, the `scipy.sparse.csr` namespace is deprecated.\n",
      "  if spsp is not None and isinstance(source_array, spsp.csr.csr_matrix):\n"
     ]
    },
    {
     "name": "stdout",
     "output_type": "stream",
     "text": [
      "Image saved at examples/results/id85-enhanced9/result_source10_target8.png\n",
      "input mean and std: 127.5 127.5\n",
      "find model: ./insightface_func/models/antelope/glintr100.onnx recognition\n",
      "find model: ./insightface_func/models/antelope/scrfd_10g_bnkps.onnx detection\n",
      "set det-size: (640, 640)\n",
      "loading ./coordinate_reg/model/2d106det 0\n"
     ]
    },
    {
     "name": "stderr",
     "output_type": "stream",
     "text": [
      "[02:24:13] /work/mxnet/src/nnvm/legacy_json_util.cc:208: Loading symbol saved by previous version v1.5.0. Attempting to upgrade...\n",
      "[02:24:13] /work/mxnet/src/nnvm/legacy_json_util.cc:216: Symbol successfully upgraded!\n"
     ]
    },
    {
     "name": "stdout",
     "output_type": "stream",
     "text": [
      "input mean and std: 127.5 127.5\n",
      "find model: ./insightface_func/models/antelope/glintr100.onnx recognition\n",
      "find model: ./insightface_func/models/antelope/scrfd_10g_bnkps.onnx detection\n",
      "set det-size: (640, 640)\n",
      "Everything is ok!\n",
      "1\n"
     ]
    },
    {
     "name": "stderr",
     "output_type": "stream",
     "text": [
      "100%|██████████| 1/1 [00:00<00:00, 19.90it/s]\n",
      "1it [00:00, 446.63it/s]\n",
      "1it [00:00, 6297.75it/s]\n",
      "100%|██████████| 1/1 [00:00<00:00, 13.39it/s]\n",
      "100%|██████████| 1/1 [00:00<00:00, 17189.77it/s]\n",
      "/home/ubuntu-gpu/project/laboratory/ghost-train/.venv/lib/python3.8/site-packages/mxnet/ndarray/utils.py:141: DeprecationWarning: Please use `csr_matrix` from the `scipy.sparse` namespace, the `scipy.sparse.csr` namespace is deprecated.\n",
      "  if spsp is not None and isinstance(source_array, spsp.csr.csr_matrix):\n",
      "/home/ubuntu-gpu/project/laboratory/ghost-train/.venv/lib/python3.8/site-packages/mxnet/ndarray/utils.py:141: DeprecationWarning: Please use `csr_matrix` from the `scipy.sparse` namespace, the `scipy.sparse.csr` namespace is deprecated.\n",
      "  if spsp is not None and isinstance(source_array, spsp.csr.csr_matrix):\n"
     ]
    },
    {
     "name": "stdout",
     "output_type": "stream",
     "text": [
      "Image saved at examples/results/id85-enhanced9/result_source10_target9.png\n",
      "input mean and std: 127.5 127.5\n",
      "find model: ./insightface_func/models/antelope/glintr100.onnx recognition\n",
      "find model: ./insightface_func/models/antelope/scrfd_10g_bnkps.onnx detection\n",
      "set det-size: (640, 640)\n",
      "loading ./coordinate_reg/model/2d106det 0\n"
     ]
    },
    {
     "name": "stderr",
     "output_type": "stream",
     "text": [
      "[02:24:16] /work/mxnet/src/nnvm/legacy_json_util.cc:208: Loading symbol saved by previous version v1.5.0. Attempting to upgrade...\n",
      "[02:24:16] /work/mxnet/src/nnvm/legacy_json_util.cc:216: Symbol successfully upgraded!\n"
     ]
    },
    {
     "name": "stdout",
     "output_type": "stream",
     "text": [
      "input mean and std: 127.5 127.5\n",
      "find model: ./insightface_func/models/antelope/glintr100.onnx recognition\n",
      "find model: ./insightface_func/models/antelope/scrfd_10g_bnkps.onnx detection\n",
      "set det-size: (640, 640)\n",
      "Everything is ok!\n",
      "1\n"
     ]
    },
    {
     "name": "stderr",
     "output_type": "stream",
     "text": [
      "100%|██████████| 1/1 [00:00<00:00, 20.72it/s]\n",
      "1it [00:00, 457.19it/s]\n",
      "1it [00:00, 5817.34it/s]\n",
      "100%|██████████| 1/1 [00:00<00:00, 13.15it/s]\n",
      "100%|██████████| 1/1 [00:00<00:00, 14364.05it/s]\n",
      "/home/ubuntu-gpu/project/laboratory/ghost-train/.venv/lib/python3.8/site-packages/mxnet/ndarray/utils.py:141: DeprecationWarning: Please use `csr_matrix` from the `scipy.sparse` namespace, the `scipy.sparse.csr` namespace is deprecated.\n",
      "  if spsp is not None and isinstance(source_array, spsp.csr.csr_matrix):\n",
      "/home/ubuntu-gpu/project/laboratory/ghost-train/.venv/lib/python3.8/site-packages/mxnet/ndarray/utils.py:141: DeprecationWarning: Please use `csr_matrix` from the `scipy.sparse` namespace, the `scipy.sparse.csr` namespace is deprecated.\n",
      "  if spsp is not None and isinstance(source_array, spsp.csr.csr_matrix):\n"
     ]
    },
    {
     "name": "stdout",
     "output_type": "stream",
     "text": [
      "Image saved at examples/results/id85-enhanced9/result_source10_target10.png\n",
      "input mean and std: 127.5 127.5\n",
      "find model: ./insightface_func/models/antelope/glintr100.onnx recognition\n",
      "find model: ./insightface_func/models/antelope/scrfd_10g_bnkps.onnx detection\n",
      "set det-size: (640, 640)\n",
      "loading ./coordinate_reg/model/2d106det 0\n",
      "input mean and std: 127.5 127.5\n",
      "find model: ./insightface_func/models/antelope/glintr100.onnx recognition\n",
      "find model: ./insightface_func/models/antelope/scrfd_10g_bnkps.onnx detection\n",
      "set det-size: (640, 640)\n",
      "Everything is ok!\n",
      "1\n"
     ]
    },
    {
     "name": "stderr",
     "output_type": "stream",
     "text": [
      "[02:24:19] /work/mxnet/src/nnvm/legacy_json_util.cc:208: Loading symbol saved by previous version v1.5.0. Attempting to upgrade...\n",
      "[02:24:19] /work/mxnet/src/nnvm/legacy_json_util.cc:216: Symbol successfully upgraded!\n",
      "100%|██████████| 1/1 [00:00<00:00, 20.00it/s]\n",
      "1it [00:00, 357.72it/s]\n",
      "1it [00:00, 6078.70it/s]\n",
      "100%|██████████| 1/1 [00:00<00:00, 58.66it/s]\n",
      "100%|██████████| 1/1 [00:00<00:00, 21183.35it/s]\n",
      "/home/ubuntu-gpu/project/laboratory/ghost-train/.venv/lib/python3.8/site-packages/mxnet/ndarray/utils.py:141: DeprecationWarning: Please use `csr_matrix` from the `scipy.sparse` namespace, the `scipy.sparse.csr` namespace is deprecated.\n",
      "  if spsp is not None and isinstance(source_array, spsp.csr.csr_matrix):\n",
      "/home/ubuntu-gpu/project/laboratory/ghost-train/.venv/lib/python3.8/site-packages/mxnet/ndarray/utils.py:141: DeprecationWarning: Please use `csr_matrix` from the `scipy.sparse` namespace, the `scipy.sparse.csr` namespace is deprecated.\n",
      "  if spsp is not None and isinstance(source_array, spsp.csr.csr_matrix):\n"
     ]
    },
    {
     "name": "stdout",
     "output_type": "stream",
     "text": [
      "Image saved at examples/results/id85-enhanced9/result_source10_target11.png\n",
      "input mean and std: 127.5 127.5\n",
      "find model: ./insightface_func/models/antelope/glintr100.onnx recognition\n",
      "find model: ./insightface_func/models/antelope/scrfd_10g_bnkps.onnx detection\n",
      "set det-size: (640, 640)\n",
      "loading ./coordinate_reg/model/2d106det 0\n",
      "input mean and std: 127.5 127.5\n",
      "find model: ./insightface_func/models/antelope/glintr100.onnx recognition\n",
      "find model: ./insightface_func/models/antelope/scrfd_10g_bnkps.onnx detection\n",
      "set det-size: (640, 640)\n",
      "Everything is ok!\n",
      "1\n"
     ]
    },
    {
     "name": "stderr",
     "output_type": "stream",
     "text": [
      "[02:24:22] /work/mxnet/src/nnvm/legacy_json_util.cc:208: Loading symbol saved by previous version v1.5.0. Attempting to upgrade...\n",
      "[02:24:22] /work/mxnet/src/nnvm/legacy_json_util.cc:216: Symbol successfully upgraded!\n",
      "100%|██████████| 1/1 [00:00<00:00, 18.36it/s]\n",
      "1it [00:00, 1045.44it/s]\n",
      "1it [00:00, 6364.65it/s]\n",
      "100%|██████████| 1/1 [00:00<00:00, 13.58it/s]\n",
      "100%|██████████| 1/1 [00:00<00:00, 17697.49it/s]\n",
      "/home/ubuntu-gpu/project/laboratory/ghost-train/.venv/lib/python3.8/site-packages/mxnet/ndarray/utils.py:141: DeprecationWarning: Please use `csr_matrix` from the `scipy.sparse` namespace, the `scipy.sparse.csr` namespace is deprecated.\n",
      "  if spsp is not None and isinstance(source_array, spsp.csr.csr_matrix):\n",
      "/home/ubuntu-gpu/project/laboratory/ghost-train/.venv/lib/python3.8/site-packages/mxnet/ndarray/utils.py:141: DeprecationWarning: Please use `csr_matrix` from the `scipy.sparse` namespace, the `scipy.sparse.csr` namespace is deprecated.\n",
      "  if spsp is not None and isinstance(source_array, spsp.csr.csr_matrix):\n"
     ]
    },
    {
     "name": "stdout",
     "output_type": "stream",
     "text": [
      "Image saved at examples/results/id85-enhanced9/result_source10_target12.png\n",
      "input mean and std: 127.5 127.5\n",
      "find model: ./insightface_func/models/antelope/glintr100.onnx recognition\n",
      "find model: ./insightface_func/models/antelope/scrfd_10g_bnkps.onnx detection\n",
      "set det-size: (640, 640)\n",
      "loading ./coordinate_reg/model/2d106det 0\n"
     ]
    },
    {
     "name": "stderr",
     "output_type": "stream",
     "text": [
      "[02:24:25] /work/mxnet/src/nnvm/legacy_json_util.cc:208: Loading symbol saved by previous version v1.5.0. Attempting to upgrade...\n",
      "[02:24:25] /work/mxnet/src/nnvm/legacy_json_util.cc:216: Symbol successfully upgraded!\n"
     ]
    },
    {
     "name": "stdout",
     "output_type": "stream",
     "text": [
      "input mean and std: 127.5 127.5\n",
      "find model: ./insightface_func/models/antelope/glintr100.onnx recognition\n",
      "find model: ./insightface_func/models/antelope/scrfd_10g_bnkps.onnx detection\n",
      "set det-size: (640, 640)\n",
      "Everything is ok!\n",
      "1\n"
     ]
    },
    {
     "name": "stderr",
     "output_type": "stream",
     "text": [
      "100%|██████████| 1/1 [00:00<00:00, 20.82it/s]\n",
      "1it [00:00, 398.77it/s]\n",
      "1it [00:00, 5622.39it/s]\n",
      "100%|██████████| 1/1 [00:00<00:00, 13.18it/s]\n",
      "100%|██████████| 1/1 [00:00<00:00, 18724.57it/s]\n",
      "/home/ubuntu-gpu/project/laboratory/ghost-train/.venv/lib/python3.8/site-packages/mxnet/ndarray/utils.py:141: DeprecationWarning: Please use `csr_matrix` from the `scipy.sparse` namespace, the `scipy.sparse.csr` namespace is deprecated.\n",
      "  if spsp is not None and isinstance(source_array, spsp.csr.csr_matrix):\n",
      "/home/ubuntu-gpu/project/laboratory/ghost-train/.venv/lib/python3.8/site-packages/mxnet/ndarray/utils.py:141: DeprecationWarning: Please use `csr_matrix` from the `scipy.sparse` namespace, the `scipy.sparse.csr` namespace is deprecated.\n",
      "  if spsp is not None and isinstance(source_array, spsp.csr.csr_matrix):\n"
     ]
    },
    {
     "name": "stdout",
     "output_type": "stream",
     "text": [
      "Image saved at examples/results/id85-enhanced9/result_source10_target13.png\n",
      "input mean and std: 127.5 127.5\n",
      "find model: ./insightface_func/models/antelope/glintr100.onnx recognition\n",
      "find model: ./insightface_func/models/antelope/scrfd_10g_bnkps.onnx detection\n",
      "set det-size: (640, 640)\n",
      "loading ./coordinate_reg/model/2d106det 0\n"
     ]
    },
    {
     "name": "stderr",
     "output_type": "stream",
     "text": [
      "[02:24:28] /work/mxnet/src/nnvm/legacy_json_util.cc:208: Loading symbol saved by previous version v1.5.0. Attempting to upgrade...\n",
      "[02:24:28] /work/mxnet/src/nnvm/legacy_json_util.cc:216: Symbol successfully upgraded!\n"
     ]
    },
    {
     "name": "stdout",
     "output_type": "stream",
     "text": [
      "input mean and std: 127.5 127.5\n",
      "find model: ./insightface_func/models/antelope/glintr100.onnx recognition\n",
      "find model: ./insightface_func/models/antelope/scrfd_10g_bnkps.onnx detection\n",
      "set det-size: (640, 640)\n",
      "Everything is ok!\n",
      "1\n"
     ]
    },
    {
     "name": "stderr",
     "output_type": "stream",
     "text": [
      "100%|██████████| 1/1 [00:00<00:00, 19.04it/s]\n",
      "1it [00:00, 269.66it/s]\n",
      "1it [00:00, 5932.54it/s]\n",
      "100%|██████████| 1/1 [00:00<00:00, 13.86it/s]\n",
      "100%|██████████| 1/1 [00:00<00:00, 13934.56it/s]\n",
      "/home/ubuntu-gpu/project/laboratory/ghost-train/.venv/lib/python3.8/site-packages/mxnet/ndarray/utils.py:141: DeprecationWarning: Please use `csr_matrix` from the `scipy.sparse` namespace, the `scipy.sparse.csr` namespace is deprecated.\n",
      "  if spsp is not None and isinstance(source_array, spsp.csr.csr_matrix):\n",
      "/home/ubuntu-gpu/project/laboratory/ghost-train/.venv/lib/python3.8/site-packages/mxnet/ndarray/utils.py:141: DeprecationWarning: Please use `csr_matrix` from the `scipy.sparse` namespace, the `scipy.sparse.csr` namespace is deprecated.\n",
      "  if spsp is not None and isinstance(source_array, spsp.csr.csr_matrix):\n"
     ]
    },
    {
     "name": "stdout",
     "output_type": "stream",
     "text": [
      "Image saved at examples/results/id85-enhanced9/result_source10_target14.png\n",
      "input mean and std: 127.5 127.5\n",
      "find model: ./insightface_func/models/antelope/glintr100.onnx recognition\n",
      "find model: ./insightface_func/models/antelope/scrfd_10g_bnkps.onnx detection\n",
      "set det-size: (640, 640)\n",
      "loading ./coordinate_reg/model/2d106det 0\n",
      "input mean and std: 127.5 127.5\n",
      "find model: ./insightface_func/models/antelope/glintr100.onnx recognition\n",
      "find model: ./insightface_func/models/antelope/scrfd_10g_bnkps.onnx detection\n",
      "set det-size: (640, 640)\n",
      "Everything is ok!\n",
      "1\n"
     ]
    },
    {
     "name": "stderr",
     "output_type": "stream",
     "text": [
      "[02:24:31] /work/mxnet/src/nnvm/legacy_json_util.cc:208: Loading symbol saved by previous version v1.5.0. Attempting to upgrade...\n",
      "[02:24:31] /work/mxnet/src/nnvm/legacy_json_util.cc:216: Symbol successfully upgraded!\n",
      "100%|██████████| 1/1 [00:00<00:00, 19.51it/s]\n",
      "1it [00:00, 246.78it/s]\n",
      "1it [00:00, 6668.21it/s]\n",
      "100%|██████████| 1/1 [00:00<00:00, 47.91it/s]\n",
      "100%|██████████| 1/1 [00:00<00:00, 22919.69it/s]\n",
      "/home/ubuntu-gpu/project/laboratory/ghost-train/.venv/lib/python3.8/site-packages/mxnet/ndarray/utils.py:141: DeprecationWarning: Please use `csr_matrix` from the `scipy.sparse` namespace, the `scipy.sparse.csr` namespace is deprecated.\n",
      "  if spsp is not None and isinstance(source_array, spsp.csr.csr_matrix):\n",
      "/home/ubuntu-gpu/project/laboratory/ghost-train/.venv/lib/python3.8/site-packages/mxnet/ndarray/utils.py:141: DeprecationWarning: Please use `csr_matrix` from the `scipy.sparse` namespace, the `scipy.sparse.csr` namespace is deprecated.\n",
      "  if spsp is not None and isinstance(source_array, spsp.csr.csr_matrix):\n"
     ]
    },
    {
     "name": "stdout",
     "output_type": "stream",
     "text": [
      "Image saved at examples/results/id85-enhanced9/result_source10_target15.png\n",
      "input mean and std: 127.5 127.5\n",
      "find model: ./insightface_func/models/antelope/glintr100.onnx recognition\n",
      "find model: ./insightface_func/models/antelope/scrfd_10g_bnkps.onnx detection\n",
      "set det-size: (640, 640)\n",
      "loading ./coordinate_reg/model/2d106det 0\n"
     ]
    },
    {
     "name": "stderr",
     "output_type": "stream",
     "text": [
      "[02:24:34] /work/mxnet/src/nnvm/legacy_json_util.cc:208: Loading symbol saved by previous version v1.5.0. Attempting to upgrade...\n",
      "[02:24:34] /work/mxnet/src/nnvm/legacy_json_util.cc:216: Symbol successfully upgraded!\n"
     ]
    },
    {
     "name": "stdout",
     "output_type": "stream",
     "text": [
      "input mean and std: 127.5 127.5\n",
      "find model: ./insightface_func/models/antelope/glintr100.onnx recognition\n",
      "find model: ./insightface_func/models/antelope/scrfd_10g_bnkps.onnx detection\n",
      "set det-size: (640, 640)\n",
      "Everything is ok!\n",
      "1\n"
     ]
    },
    {
     "name": "stderr",
     "output_type": "stream",
     "text": [
      "100%|██████████| 1/1 [00:00<00:00, 19.55it/s]\n",
      "1it [00:00, 403.45it/s]\n",
      "1it [00:00, 6186.29it/s]\n",
      "100%|██████████| 1/1 [00:00<00:00, 14.15it/s]\n",
      "100%|██████████| 1/1 [00:00<00:00, 2423.05it/s]\n",
      "/home/ubuntu-gpu/project/laboratory/ghost-train/.venv/lib/python3.8/site-packages/mxnet/ndarray/utils.py:141: DeprecationWarning: Please use `csr_matrix` from the `scipy.sparse` namespace, the `scipy.sparse.csr` namespace is deprecated.\n",
      "  if spsp is not None and isinstance(source_array, spsp.csr.csr_matrix):\n",
      "/home/ubuntu-gpu/project/laboratory/ghost-train/.venv/lib/python3.8/site-packages/mxnet/ndarray/utils.py:141: DeprecationWarning: Please use `csr_matrix` from the `scipy.sparse` namespace, the `scipy.sparse.csr` namespace is deprecated.\n",
      "  if spsp is not None and isinstance(source_array, spsp.csr.csr_matrix):\n"
     ]
    },
    {
     "name": "stdout",
     "output_type": "stream",
     "text": [
      "Image saved at examples/results/id85-enhanced9/result_source10_target16.png\n",
      "input mean and std: 127.5 127.5\n",
      "find model: ./insightface_func/models/antelope/glintr100.onnx recognition\n",
      "find model: ./insightface_func/models/antelope/scrfd_10g_bnkps.onnx detection\n",
      "set det-size: (640, 640)\n",
      "loading ./coordinate_reg/model/2d106det 0\n"
     ]
    },
    {
     "name": "stderr",
     "output_type": "stream",
     "text": [
      "[02:24:37] /work/mxnet/src/nnvm/legacy_json_util.cc:208: Loading symbol saved by previous version v1.5.0. Attempting to upgrade...\n",
      "[02:24:37] /work/mxnet/src/nnvm/legacy_json_util.cc:216: Symbol successfully upgraded!\n"
     ]
    },
    {
     "name": "stdout",
     "output_type": "stream",
     "text": [
      "input mean and std: 127.5 127.5\n",
      "find model: ./insightface_func/models/antelope/glintr100.onnx recognition\n",
      "find model: ./insightface_func/models/antelope/scrfd_10g_bnkps.onnx detection\n",
      "set det-size: (640, 640)\n",
      "Everything is ok!\n",
      "1\n"
     ]
    },
    {
     "name": "stderr",
     "output_type": "stream",
     "text": [
      "100%|██████████| 1/1 [00:00<00:00, 19.17it/s]\n",
      "1it [00:00, 588.59it/s]\n",
      "1it [00:00, 6543.38it/s]\n",
      "100%|██████████| 1/1 [00:00<00:00, 50.97it/s]\n",
      "100%|██████████| 1/1 [00:00<00:00, 20661.60it/s]\n",
      "/home/ubuntu-gpu/project/laboratory/ghost-train/.venv/lib/python3.8/site-packages/mxnet/ndarray/utils.py:141: DeprecationWarning: Please use `csr_matrix` from the `scipy.sparse` namespace, the `scipy.sparse.csr` namespace is deprecated.\n",
      "  if spsp is not None and isinstance(source_array, spsp.csr.csr_matrix):\n",
      "/home/ubuntu-gpu/project/laboratory/ghost-train/.venv/lib/python3.8/site-packages/mxnet/ndarray/utils.py:141: DeprecationWarning: Please use `csr_matrix` from the `scipy.sparse` namespace, the `scipy.sparse.csr` namespace is deprecated.\n",
      "  if spsp is not None and isinstance(source_array, spsp.csr.csr_matrix):\n"
     ]
    },
    {
     "name": "stdout",
     "output_type": "stream",
     "text": [
      "Image saved at examples/results/id85-enhanced9/result_source11_target0.png\n",
      "input mean and std: 127.5 127.5\n",
      "find model: ./insightface_func/models/antelope/glintr100.onnx recognition\n",
      "find model: ./insightface_func/models/antelope/scrfd_10g_bnkps.onnx detection\n",
      "set det-size: (640, 640)\n",
      "loading ./coordinate_reg/model/2d106det 0\n"
     ]
    },
    {
     "name": "stderr",
     "output_type": "stream",
     "text": [
      "[02:24:40] /work/mxnet/src/nnvm/legacy_json_util.cc:208: Loading symbol saved by previous version v1.5.0. Attempting to upgrade...\n",
      "[02:24:40] /work/mxnet/src/nnvm/legacy_json_util.cc:216: Symbol successfully upgraded!\n"
     ]
    },
    {
     "name": "stdout",
     "output_type": "stream",
     "text": [
      "input mean and std: 127.5 127.5\n",
      "find model: ./insightface_func/models/antelope/glintr100.onnx recognition\n",
      "find model: ./insightface_func/models/antelope/scrfd_10g_bnkps.onnx detection\n",
      "set det-size: (640, 640)\n",
      "Everything is ok!\n",
      "1\n"
     ]
    },
    {
     "name": "stderr",
     "output_type": "stream",
     "text": [
      "100%|██████████| 1/1 [00:00<00:00, 19.81it/s]\n",
      "1it [00:00, 412.54it/s]\n",
      "1it [00:00, 5841.65it/s]\n",
      "100%|██████████| 1/1 [00:00<00:00, 12.93it/s]\n",
      "100%|██████████| 1/1 [00:00<00:00, 21399.51it/s]\n",
      "/home/ubuntu-gpu/project/laboratory/ghost-train/.venv/lib/python3.8/site-packages/mxnet/ndarray/utils.py:141: DeprecationWarning: Please use `csr_matrix` from the `scipy.sparse` namespace, the `scipy.sparse.csr` namespace is deprecated.\n",
      "  if spsp is not None and isinstance(source_array, spsp.csr.csr_matrix):\n",
      "/home/ubuntu-gpu/project/laboratory/ghost-train/.venv/lib/python3.8/site-packages/mxnet/ndarray/utils.py:141: DeprecationWarning: Please use `csr_matrix` from the `scipy.sparse` namespace, the `scipy.sparse.csr` namespace is deprecated.\n",
      "  if spsp is not None and isinstance(source_array, spsp.csr.csr_matrix):\n"
     ]
    },
    {
     "name": "stdout",
     "output_type": "stream",
     "text": [
      "Image saved at examples/results/id85-enhanced9/result_source11_target1.png\n",
      "input mean and std: 127.5 127.5\n",
      "find model: ./insightface_func/models/antelope/glintr100.onnx recognition\n",
      "find model: ./insightface_func/models/antelope/scrfd_10g_bnkps.onnx detection\n",
      "set det-size: (640, 640)\n",
      "loading ./coordinate_reg/model/2d106det 0\n"
     ]
    },
    {
     "name": "stderr",
     "output_type": "stream",
     "text": [
      "[02:24:44] /work/mxnet/src/nnvm/legacy_json_util.cc:208: Loading symbol saved by previous version v1.5.0. Attempting to upgrade...\n",
      "[02:24:44] /work/mxnet/src/nnvm/legacy_json_util.cc:216: Symbol successfully upgraded!\n"
     ]
    },
    {
     "name": "stdout",
     "output_type": "stream",
     "text": [
      "input mean and std: 127.5 127.5\n",
      "find model: ./insightface_func/models/antelope/glintr100.onnx recognition\n",
      "find model: ./insightface_func/models/antelope/scrfd_10g_bnkps.onnx detection\n",
      "set det-size: (640, 640)\n",
      "Everything is ok!\n",
      "1\n"
     ]
    },
    {
     "name": "stderr",
     "output_type": "stream",
     "text": [
      "100%|██████████| 1/1 [00:00<00:00, 14.38it/s]\n",
      "1it [00:00, 991.80it/s]\n",
      "1it [00:00, 6186.29it/s]\n",
      "100%|██████████| 1/1 [00:00<00:00, 48.39it/s]\n",
      "100%|██████████| 1/1 [00:00<00:00, 15887.52it/s]\n",
      "/home/ubuntu-gpu/project/laboratory/ghost-train/.venv/lib/python3.8/site-packages/mxnet/ndarray/utils.py:141: DeprecationWarning: Please use `csr_matrix` from the `scipy.sparse` namespace, the `scipy.sparse.csr` namespace is deprecated.\n",
      "  if spsp is not None and isinstance(source_array, spsp.csr.csr_matrix):\n",
      "/home/ubuntu-gpu/project/laboratory/ghost-train/.venv/lib/python3.8/site-packages/mxnet/ndarray/utils.py:141: DeprecationWarning: Please use `csr_matrix` from the `scipy.sparse` namespace, the `scipy.sparse.csr` namespace is deprecated.\n",
      "  if spsp is not None and isinstance(source_array, spsp.csr.csr_matrix):\n"
     ]
    },
    {
     "name": "stdout",
     "output_type": "stream",
     "text": [
      "Image saved at examples/results/id85-enhanced9/result_source11_target2.png\n",
      "input mean and std: 127.5 127.5\n",
      "find model: ./insightface_func/models/antelope/glintr100.onnx recognition\n",
      "find model: ./insightface_func/models/antelope/scrfd_10g_bnkps.onnx detection\n",
      "set det-size: (640, 640)\n",
      "loading ./coordinate_reg/model/2d106det 0\n",
      "input mean and std: 127.5 127.5\n",
      "find model: ./insightface_func/models/antelope/glintr100.onnx recognition\n",
      "find model: ./insightface_func/models/antelope/scrfd_10g_bnkps.onnx detection\n",
      "set det-size: (640, 640)\n",
      "Everything is ok!\n",
      "1\n"
     ]
    },
    {
     "name": "stderr",
     "output_type": "stream",
     "text": [
      "[02:24:47] /work/mxnet/src/nnvm/legacy_json_util.cc:208: Loading symbol saved by previous version v1.5.0. Attempting to upgrade...\n",
      "[02:24:47] /work/mxnet/src/nnvm/legacy_json_util.cc:216: Symbol successfully upgraded!\n",
      "100%|██████████| 1/1 [00:00<00:00, 17.60it/s]\n",
      "1it [00:00, 314.16it/s]\n",
      "1it [00:00, 5454.23it/s]\n",
      "100%|██████████| 1/1 [00:00<00:00, 14.22it/s]\n",
      "100%|██████████| 1/1 [00:00<00:00, 22429.43it/s]\n",
      "/home/ubuntu-gpu/project/laboratory/ghost-train/.venv/lib/python3.8/site-packages/mxnet/ndarray/utils.py:141: DeprecationWarning: Please use `csr_matrix` from the `scipy.sparse` namespace, the `scipy.sparse.csr` namespace is deprecated.\n",
      "  if spsp is not None and isinstance(source_array, spsp.csr.csr_matrix):\n",
      "/home/ubuntu-gpu/project/laboratory/ghost-train/.venv/lib/python3.8/site-packages/mxnet/ndarray/utils.py:141: DeprecationWarning: Please use `csr_matrix` from the `scipy.sparse` namespace, the `scipy.sparse.csr` namespace is deprecated.\n",
      "  if spsp is not None and isinstance(source_array, spsp.csr.csr_matrix):\n"
     ]
    },
    {
     "name": "stdout",
     "output_type": "stream",
     "text": [
      "Image saved at examples/results/id85-enhanced9/result_source11_target3.png\n",
      "input mean and std: 127.5 127.5\n",
      "find model: ./insightface_func/models/antelope/glintr100.onnx recognition\n",
      "find model: ./insightface_func/models/antelope/scrfd_10g_bnkps.onnx detection\n",
      "set det-size: (640, 640)\n",
      "loading ./coordinate_reg/model/2d106det 0\n"
     ]
    },
    {
     "name": "stderr",
     "output_type": "stream",
     "text": [
      "[02:24:50] /work/mxnet/src/nnvm/legacy_json_util.cc:208: Loading symbol saved by previous version v1.5.0. Attempting to upgrade...\n",
      "[02:24:50] /work/mxnet/src/nnvm/legacy_json_util.cc:216: Symbol successfully upgraded!\n"
     ]
    },
    {
     "name": "stdout",
     "output_type": "stream",
     "text": [
      "input mean and std: 127.5 127.5\n",
      "find model: ./insightface_func/models/antelope/glintr100.onnx recognition\n",
      "find model: ./insightface_func/models/antelope/scrfd_10g_bnkps.onnx detection\n",
      "set det-size: (640, 640)\n",
      "Everything is ok!\n",
      "1\n"
     ]
    },
    {
     "name": "stderr",
     "output_type": "stream",
     "text": [
      "100%|██████████| 1/1 [00:00<00:00, 18.13it/s]\n",
      "1it [00:00, 448.35it/s]\n",
      "1it [00:00, 4798.97it/s]\n",
      "100%|██████████| 1/1 [00:00<00:00, 13.70it/s]\n",
      "100%|██████████| 1/1 [00:00<00:00, 17403.75it/s]\n",
      "/home/ubuntu-gpu/project/laboratory/ghost-train/.venv/lib/python3.8/site-packages/mxnet/ndarray/utils.py:141: DeprecationWarning: Please use `csr_matrix` from the `scipy.sparse` namespace, the `scipy.sparse.csr` namespace is deprecated.\n",
      "  if spsp is not None and isinstance(source_array, spsp.csr.csr_matrix):\n",
      "/home/ubuntu-gpu/project/laboratory/ghost-train/.venv/lib/python3.8/site-packages/mxnet/ndarray/utils.py:141: DeprecationWarning: Please use `csr_matrix` from the `scipy.sparse` namespace, the `scipy.sparse.csr` namespace is deprecated.\n",
      "  if spsp is not None and isinstance(source_array, spsp.csr.csr_matrix):\n"
     ]
    },
    {
     "name": "stdout",
     "output_type": "stream",
     "text": [
      "Image saved at examples/results/id85-enhanced9/result_source11_target4.png\n",
      "input mean and std: 127.5 127.5\n",
      "find model: ./insightface_func/models/antelope/glintr100.onnx recognition\n",
      "find model: ./insightface_func/models/antelope/scrfd_10g_bnkps.onnx detection\n",
      "set det-size: (640, 640)\n",
      "loading ./coordinate_reg/model/2d106det 0\n",
      "input mean and std: 127.5 127.5\n",
      "find model: ./insightface_func/models/antelope/glintr100.onnx recognition\n",
      "find model: ./insightface_func/models/antelope/scrfd_10g_bnkps.onnx detection\n",
      "set det-size: (640, 640)\n",
      "Everything is ok!\n",
      "1\n"
     ]
    },
    {
     "name": "stderr",
     "output_type": "stream",
     "text": [
      "[02:24:53] /work/mxnet/src/nnvm/legacy_json_util.cc:208: Loading symbol saved by previous version v1.5.0. Attempting to upgrade...\n",
      "[02:24:53] /work/mxnet/src/nnvm/legacy_json_util.cc:216: Symbol successfully upgraded!\n",
      "100%|██████████| 1/1 [00:00<00:00, 16.56it/s]\n",
      "1it [00:00, 680.56it/s]\n",
      "1it [00:00, 5817.34it/s]\n",
      "100%|██████████| 1/1 [00:00<00:00, 14.36it/s]\n",
      "100%|██████████| 1/1 [00:00<00:00, 21620.12it/s]\n",
      "/home/ubuntu-gpu/project/laboratory/ghost-train/.venv/lib/python3.8/site-packages/mxnet/ndarray/utils.py:141: DeprecationWarning: Please use `csr_matrix` from the `scipy.sparse` namespace, the `scipy.sparse.csr` namespace is deprecated.\n",
      "  if spsp is not None and isinstance(source_array, spsp.csr.csr_matrix):\n",
      "/home/ubuntu-gpu/project/laboratory/ghost-train/.venv/lib/python3.8/site-packages/mxnet/ndarray/utils.py:141: DeprecationWarning: Please use `csr_matrix` from the `scipy.sparse` namespace, the `scipy.sparse.csr` namespace is deprecated.\n",
      "  if spsp is not None and isinstance(source_array, spsp.csr.csr_matrix):\n"
     ]
    },
    {
     "name": "stdout",
     "output_type": "stream",
     "text": [
      "Image saved at examples/results/id85-enhanced9/result_source11_target5.png\n",
      "input mean and std: 127.5 127.5\n",
      "find model: ./insightface_func/models/antelope/glintr100.onnx recognition\n",
      "find model: ./insightface_func/models/antelope/scrfd_10g_bnkps.onnx detection\n",
      "set det-size: (640, 640)\n",
      "loading ./coordinate_reg/model/2d106det 0\n"
     ]
    },
    {
     "name": "stderr",
     "output_type": "stream",
     "text": [
      "[02:24:56] /work/mxnet/src/nnvm/legacy_json_util.cc:208: Loading symbol saved by previous version v1.5.0. Attempting to upgrade...\n",
      "[02:24:56] /work/mxnet/src/nnvm/legacy_json_util.cc:216: Symbol successfully upgraded!\n"
     ]
    },
    {
     "name": "stdout",
     "output_type": "stream",
     "text": [
      "input mean and std: 127.5 127.5\n",
      "find model: ./insightface_func/models/antelope/glintr100.onnx recognition\n",
      "find model: ./insightface_func/models/antelope/scrfd_10g_bnkps.onnx detection\n",
      "set det-size: (640, 640)\n",
      "Everything is ok!\n",
      "1\n"
     ]
    },
    {
     "name": "stderr",
     "output_type": "stream",
     "text": [
      "100%|██████████| 1/1 [00:00<00:00, 18.53it/s]\n",
      "1it [00:00, 482.44it/s]\n",
      "1it [00:00, 5769.33it/s]\n",
      "100%|██████████| 1/1 [00:00<00:00, 14.25it/s]\n",
      "100%|██████████| 1/1 [00:00<00:00, 15534.46it/s]\n",
      "/home/ubuntu-gpu/project/laboratory/ghost-train/.venv/lib/python3.8/site-packages/mxnet/ndarray/utils.py:141: DeprecationWarning: Please use `csr_matrix` from the `scipy.sparse` namespace, the `scipy.sparse.csr` namespace is deprecated.\n",
      "  if spsp is not None and isinstance(source_array, spsp.csr.csr_matrix):\n",
      "/home/ubuntu-gpu/project/laboratory/ghost-train/.venv/lib/python3.8/site-packages/mxnet/ndarray/utils.py:141: DeprecationWarning: Please use `csr_matrix` from the `scipy.sparse` namespace, the `scipy.sparse.csr` namespace is deprecated.\n",
      "  if spsp is not None and isinstance(source_array, spsp.csr.csr_matrix):\n"
     ]
    },
    {
     "name": "stdout",
     "output_type": "stream",
     "text": [
      "Image saved at examples/results/id85-enhanced9/result_source11_target6.png\n",
      "input mean and std: 127.5 127.5\n",
      "find model: ./insightface_func/models/antelope/glintr100.onnx recognition\n",
      "find model: ./insightface_func/models/antelope/scrfd_10g_bnkps.onnx detection\n",
      "set det-size: (640, 640)\n",
      "loading ./coordinate_reg/model/2d106det 0\n"
     ]
    },
    {
     "name": "stderr",
     "output_type": "stream",
     "text": [
      "[02:24:59] /work/mxnet/src/nnvm/legacy_json_util.cc:208: Loading symbol saved by previous version v1.5.0. Attempting to upgrade...\n",
      "[02:24:59] /work/mxnet/src/nnvm/legacy_json_util.cc:216: Symbol successfully upgraded!\n"
     ]
    },
    {
     "name": "stdout",
     "output_type": "stream",
     "text": [
      "input mean and std: 127.5 127.5\n",
      "find model: ./insightface_func/models/antelope/glintr100.onnx recognition\n",
      "find model: ./insightface_func/models/antelope/scrfd_10g_bnkps.onnx detection\n",
      "set det-size: (640, 640)\n",
      "Everything is ok!\n",
      "1\n"
     ]
    },
    {
     "name": "stderr",
     "output_type": "stream",
     "text": [
      "100%|██████████| 1/1 [00:00<00:00, 17.13it/s]\n",
      "1it [00:00, 286.83it/s]\n",
      "1it [00:00, 5924.16it/s]\n",
      "100%|██████████| 1/1 [00:00<00:00, 13.95it/s]\n",
      "100%|██████████| 1/1 [00:00<00:00, 16256.99it/s]\n",
      "/home/ubuntu-gpu/project/laboratory/ghost-train/.venv/lib/python3.8/site-packages/mxnet/ndarray/utils.py:141: DeprecationWarning: Please use `csr_matrix` from the `scipy.sparse` namespace, the `scipy.sparse.csr` namespace is deprecated.\n",
      "  if spsp is not None and isinstance(source_array, spsp.csr.csr_matrix):\n",
      "/home/ubuntu-gpu/project/laboratory/ghost-train/.venv/lib/python3.8/site-packages/mxnet/ndarray/utils.py:141: DeprecationWarning: Please use `csr_matrix` from the `scipy.sparse` namespace, the `scipy.sparse.csr` namespace is deprecated.\n",
      "  if spsp is not None and isinstance(source_array, spsp.csr.csr_matrix):\n"
     ]
    },
    {
     "name": "stdout",
     "output_type": "stream",
     "text": [
      "Image saved at examples/results/id85-enhanced9/result_source11_target7.png\n",
      "input mean and std: 127.5 127.5\n",
      "find model: ./insightface_func/models/antelope/glintr100.onnx recognition\n",
      "find model: ./insightface_func/models/antelope/scrfd_10g_bnkps.onnx detection\n",
      "set det-size: (640, 640)\n",
      "loading ./coordinate_reg/model/2d106det 0\n"
     ]
    },
    {
     "name": "stderr",
     "output_type": "stream",
     "text": [
      "[02:25:02] /work/mxnet/src/nnvm/legacy_json_util.cc:208: Loading symbol saved by previous version v1.5.0. Attempting to upgrade...\n",
      "[02:25:02] /work/mxnet/src/nnvm/legacy_json_util.cc:216: Symbol successfully upgraded!\n"
     ]
    },
    {
     "name": "stdout",
     "output_type": "stream",
     "text": [
      "input mean and std: 127.5 127.5\n",
      "find model: ./insightface_func/models/antelope/glintr100.onnx recognition\n",
      "find model: ./insightface_func/models/antelope/scrfd_10g_bnkps.onnx detection\n",
      "set det-size: (640, 640)\n",
      "Everything is ok!\n",
      "1\n"
     ]
    },
    {
     "name": "stderr",
     "output_type": "stream",
     "text": [
      "100%|██████████| 1/1 [00:00<00:00, 15.92it/s]\n",
      "1it [00:00, 202.51it/s]\n",
      "1it [00:00, 6078.70it/s]\n",
      "100%|██████████| 1/1 [00:00<00:00, 52.19it/s]\n",
      "100%|██████████| 1/1 [00:00<00:00, 16320.25it/s]\n",
      "/home/ubuntu-gpu/project/laboratory/ghost-train/.venv/lib/python3.8/site-packages/mxnet/ndarray/utils.py:141: DeprecationWarning: Please use `csr_matrix` from the `scipy.sparse` namespace, the `scipy.sparse.csr` namespace is deprecated.\n",
      "  if spsp is not None and isinstance(source_array, spsp.csr.csr_matrix):\n",
      "/home/ubuntu-gpu/project/laboratory/ghost-train/.venv/lib/python3.8/site-packages/mxnet/ndarray/utils.py:141: DeprecationWarning: Please use `csr_matrix` from the `scipy.sparse` namespace, the `scipy.sparse.csr` namespace is deprecated.\n",
      "  if spsp is not None and isinstance(source_array, spsp.csr.csr_matrix):\n"
     ]
    },
    {
     "name": "stdout",
     "output_type": "stream",
     "text": [
      "Image saved at examples/results/id85-enhanced9/result_source11_target8.png\n",
      "input mean and std: 127.5 127.5\n",
      "find model: ./insightface_func/models/antelope/glintr100.onnx recognition\n",
      "find model: ./insightface_func/models/antelope/scrfd_10g_bnkps.onnx detection\n",
      "set det-size: (640, 640)\n",
      "loading ./coordinate_reg/model/2d106det 0\n"
     ]
    },
    {
     "name": "stderr",
     "output_type": "stream",
     "text": [
      "[02:25:06] /work/mxnet/src/nnvm/legacy_json_util.cc:208: Loading symbol saved by previous version v1.5.0. Attempting to upgrade...\n",
      "[02:25:06] /work/mxnet/src/nnvm/legacy_json_util.cc:216: Symbol successfully upgraded!\n"
     ]
    },
    {
     "name": "stdout",
     "output_type": "stream",
     "text": [
      "input mean and std: 127.5 127.5\n",
      "find model: ./insightface_func/models/antelope/glintr100.onnx recognition\n",
      "find model: ./insightface_func/models/antelope/scrfd_10g_bnkps.onnx detection\n",
      "set det-size: (640, 640)\n",
      "Everything is ok!\n",
      "1\n"
     ]
    },
    {
     "name": "stderr",
     "output_type": "stream",
     "text": [
      "100%|██████████| 1/1 [00:00<00:00, 21.25it/s]\n",
      "1it [00:00, 675.96it/s]\n",
      "1it [00:00, 6482.70it/s]\n",
      "100%|██████████| 1/1 [00:00<00:00, 14.20it/s]\n",
      "100%|██████████| 1/1 [00:00<00:00, 22919.69it/s]\n",
      "/home/ubuntu-gpu/project/laboratory/ghost-train/.venv/lib/python3.8/site-packages/mxnet/ndarray/utils.py:141: DeprecationWarning: Please use `csr_matrix` from the `scipy.sparse` namespace, the `scipy.sparse.csr` namespace is deprecated.\n",
      "  if spsp is not None and isinstance(source_array, spsp.csr.csr_matrix):\n",
      "/home/ubuntu-gpu/project/laboratory/ghost-train/.venv/lib/python3.8/site-packages/mxnet/ndarray/utils.py:141: DeprecationWarning: Please use `csr_matrix` from the `scipy.sparse` namespace, the `scipy.sparse.csr` namespace is deprecated.\n",
      "  if spsp is not None and isinstance(source_array, spsp.csr.csr_matrix):\n"
     ]
    },
    {
     "name": "stdout",
     "output_type": "stream",
     "text": [
      "Image saved at examples/results/id85-enhanced9/result_source11_target9.png\n",
      "input mean and std: 127.5 127.5\n",
      "find model: ./insightface_func/models/antelope/glintr100.onnx recognition\n",
      "find model: ./insightface_func/models/antelope/scrfd_10g_bnkps.onnx detection\n",
      "set det-size: (640, 640)\n",
      "loading ./coordinate_reg/model/2d106det 0\n"
     ]
    },
    {
     "name": "stderr",
     "output_type": "stream",
     "text": [
      "[02:25:09] /work/mxnet/src/nnvm/legacy_json_util.cc:208: Loading symbol saved by previous version v1.5.0. Attempting to upgrade...\n",
      "[02:25:09] /work/mxnet/src/nnvm/legacy_json_util.cc:216: Symbol successfully upgraded!\n"
     ]
    },
    {
     "name": "stdout",
     "output_type": "stream",
     "text": [
      "input mean and std: 127.5 127.5\n",
      "find model: ./insightface_func/models/antelope/glintr100.onnx recognition\n",
      "find model: ./insightface_func/models/antelope/scrfd_10g_bnkps.onnx detection\n",
      "set det-size: (640, 640)\n",
      "Everything is ok!\n",
      "1\n"
     ]
    },
    {
     "name": "stderr",
     "output_type": "stream",
     "text": [
      "100%|██████████| 1/1 [00:00<00:00, 20.75it/s]\n",
      "1it [00:00, 407.45it/s]\n",
      "1it [00:00, 5785.25it/s]\n",
      "100%|██████████| 1/1 [00:00<00:00, 14.33it/s]\n",
      "100%|██████████| 1/1 [00:00<00:00, 16256.99it/s]\n",
      "/home/ubuntu-gpu/project/laboratory/ghost-train/.venv/lib/python3.8/site-packages/mxnet/ndarray/utils.py:141: DeprecationWarning: Please use `csr_matrix` from the `scipy.sparse` namespace, the `scipy.sparse.csr` namespace is deprecated.\n",
      "  if spsp is not None and isinstance(source_array, spsp.csr.csr_matrix):\n",
      "/home/ubuntu-gpu/project/laboratory/ghost-train/.venv/lib/python3.8/site-packages/mxnet/ndarray/utils.py:141: DeprecationWarning: Please use `csr_matrix` from the `scipy.sparse` namespace, the `scipy.sparse.csr` namespace is deprecated.\n",
      "  if spsp is not None and isinstance(source_array, spsp.csr.csr_matrix):\n"
     ]
    },
    {
     "name": "stdout",
     "output_type": "stream",
     "text": [
      "Image saved at examples/results/id85-enhanced9/result_source11_target10.png\n",
      "input mean and std: 127.5 127.5\n",
      "find model: ./insightface_func/models/antelope/glintr100.onnx recognition\n",
      "find model: ./insightface_func/models/antelope/scrfd_10g_bnkps.onnx detection\n",
      "set det-size: (640, 640)\n",
      "loading ./coordinate_reg/model/2d106det 0\n"
     ]
    },
    {
     "name": "stderr",
     "output_type": "stream",
     "text": [
      "[02:25:12] /work/mxnet/src/nnvm/legacy_json_util.cc:208: Loading symbol saved by previous version v1.5.0. Attempting to upgrade...\n",
      "[02:25:12] /work/mxnet/src/nnvm/legacy_json_util.cc:216: Symbol successfully upgraded!\n"
     ]
    },
    {
     "name": "stdout",
     "output_type": "stream",
     "text": [
      "input mean and std: 127.5 127.5\n",
      "find model: ./insightface_func/models/antelope/glintr100.onnx recognition\n",
      "find model: ./insightface_func/models/antelope/scrfd_10g_bnkps.onnx detection\n",
      "set det-size: (640, 640)\n",
      "Everything is ok!\n",
      "1\n"
     ]
    },
    {
     "name": "stderr",
     "output_type": "stream",
     "text": [
      "100%|██████████| 1/1 [00:00<00:00, 18.79it/s]\n",
      "1it [00:00, 275.13it/s]\n",
      "1it [00:00, 5777.28it/s]\n",
      "100%|██████████| 1/1 [00:00<00:00, 13.86it/s]\n",
      "100%|██████████| 1/1 [00:00<00:00, 14768.68it/s]\n",
      "/home/ubuntu-gpu/project/laboratory/ghost-train/.venv/lib/python3.8/site-packages/mxnet/ndarray/utils.py:141: DeprecationWarning: Please use `csr_matrix` from the `scipy.sparse` namespace, the `scipy.sparse.csr` namespace is deprecated.\n",
      "  if spsp is not None and isinstance(source_array, spsp.csr.csr_matrix):\n",
      "/home/ubuntu-gpu/project/laboratory/ghost-train/.venv/lib/python3.8/site-packages/mxnet/ndarray/utils.py:141: DeprecationWarning: Please use `csr_matrix` from the `scipy.sparse` namespace, the `scipy.sparse.csr` namespace is deprecated.\n",
      "  if spsp is not None and isinstance(source_array, spsp.csr.csr_matrix):\n"
     ]
    },
    {
     "name": "stdout",
     "output_type": "stream",
     "text": [
      "Image saved at examples/results/id85-enhanced9/result_source11_target11.png\n",
      "input mean and std: 127.5 127.5\n",
      "find model: ./insightface_func/models/antelope/glintr100.onnx recognition\n",
      "find model: ./insightface_func/models/antelope/scrfd_10g_bnkps.onnx detection\n",
      "set det-size: (640, 640)\n",
      "loading ./coordinate_reg/model/2d106det 0\n",
      "input mean and std: 127.5 127.5\n",
      "find model: ./insightface_func/models/antelope/glintr100.onnx recognition\n",
      "find model: ./insightface_func/models/antelope/scrfd_10g_bnkps.onnx detection\n",
      "set det-size: (640, 640)\n",
      "Everything is ok!\n",
      "1\n"
     ]
    },
    {
     "name": "stderr",
     "output_type": "stream",
     "text": [
      "[02:25:15] /work/mxnet/src/nnvm/legacy_json_util.cc:208: Loading symbol saved by previous version v1.5.0. Attempting to upgrade...\n",
      "[02:25:15] /work/mxnet/src/nnvm/legacy_json_util.cc:216: Symbol successfully upgraded!\n",
      "100%|██████████| 1/1 [00:00<00:00, 17.63it/s]\n",
      "1it [00:00, 464.02it/s]\n",
      "1it [00:00, 5433.04it/s]\n",
      "100%|██████████| 1/1 [00:00<00:00, 48.87it/s]\n",
      "100%|██████████| 1/1 [00:00<00:00, 21076.90it/s]\n",
      "/home/ubuntu-gpu/project/laboratory/ghost-train/.venv/lib/python3.8/site-packages/mxnet/ndarray/utils.py:141: DeprecationWarning: Please use `csr_matrix` from the `scipy.sparse` namespace, the `scipy.sparse.csr` namespace is deprecated.\n",
      "  if spsp is not None and isinstance(source_array, spsp.csr.csr_matrix):\n",
      "/home/ubuntu-gpu/project/laboratory/ghost-train/.venv/lib/python3.8/site-packages/mxnet/ndarray/utils.py:141: DeprecationWarning: Please use `csr_matrix` from the `scipy.sparse` namespace, the `scipy.sparse.csr` namespace is deprecated.\n",
      "  if spsp is not None and isinstance(source_array, spsp.csr.csr_matrix):\n"
     ]
    },
    {
     "name": "stdout",
     "output_type": "stream",
     "text": [
      "Image saved at examples/results/id85-enhanced9/result_source11_target12.png\n",
      "input mean and std: 127.5 127.5\n",
      "find model: ./insightface_func/models/antelope/glintr100.onnx recognition\n",
      "find model: ./insightface_func/models/antelope/scrfd_10g_bnkps.onnx detection\n",
      "set det-size: (640, 640)\n",
      "loading ./coordinate_reg/model/2d106det 0\n"
     ]
    },
    {
     "name": "stderr",
     "output_type": "stream",
     "text": [
      "[02:25:18] /work/mxnet/src/nnvm/legacy_json_util.cc:208: Loading symbol saved by previous version v1.5.0. Attempting to upgrade...\n",
      "[02:25:18] /work/mxnet/src/nnvm/legacy_json_util.cc:216: Symbol successfully upgraded!\n"
     ]
    },
    {
     "name": "stdout",
     "output_type": "stream",
     "text": [
      "input mean and std: 127.5 127.5\n",
      "find model: ./insightface_func/models/antelope/glintr100.onnx recognition\n",
      "find model: ./insightface_func/models/antelope/scrfd_10g_bnkps.onnx detection\n",
      "set det-size: (640, 640)\n",
      "Everything is ok!\n",
      "1\n"
     ]
    },
    {
     "name": "stderr",
     "output_type": "stream",
     "text": [
      "100%|██████████| 1/1 [00:00<00:00, 15.36it/s]\n",
      "1it [00:00, 496.07it/s]\n",
      "1it [00:00, 6626.07it/s]\n",
      "100%|██████████| 1/1 [00:00<00:00, 12.50it/s]\n",
      "100%|██████████| 1/1 [00:00<00:00, 23045.63it/s]\n",
      "/home/ubuntu-gpu/project/laboratory/ghost-train/.venv/lib/python3.8/site-packages/mxnet/ndarray/utils.py:141: DeprecationWarning: Please use `csr_matrix` from the `scipy.sparse` namespace, the `scipy.sparse.csr` namespace is deprecated.\n",
      "  if spsp is not None and isinstance(source_array, spsp.csr.csr_matrix):\n",
      "/home/ubuntu-gpu/project/laboratory/ghost-train/.venv/lib/python3.8/site-packages/mxnet/ndarray/utils.py:141: DeprecationWarning: Please use `csr_matrix` from the `scipy.sparse` namespace, the `scipy.sparse.csr` namespace is deprecated.\n",
      "  if spsp is not None and isinstance(source_array, spsp.csr.csr_matrix):\n"
     ]
    },
    {
     "name": "stdout",
     "output_type": "stream",
     "text": [
      "Image saved at examples/results/id85-enhanced9/result_source11_target13.png\n",
      "input mean and std: 127.5 127.5\n",
      "find model: ./insightface_func/models/antelope/glintr100.onnx recognition\n",
      "find model: ./insightface_func/models/antelope/scrfd_10g_bnkps.onnx detection\n",
      "set det-size: (640, 640)\n",
      "loading ./coordinate_reg/model/2d106det 0\n"
     ]
    },
    {
     "name": "stderr",
     "output_type": "stream",
     "text": [
      "[02:25:21] /work/mxnet/src/nnvm/legacy_json_util.cc:208: Loading symbol saved by previous version v1.5.0. Attempting to upgrade...\n",
      "[02:25:21] /work/mxnet/src/nnvm/legacy_json_util.cc:216: Symbol successfully upgraded!\n"
     ]
    },
    {
     "name": "stdout",
     "output_type": "stream",
     "text": [
      "input mean and std: 127.5 127.5\n",
      "find model: ./insightface_func/models/antelope/glintr100.onnx recognition\n",
      "find model: ./insightface_func/models/antelope/scrfd_10g_bnkps.onnx detection\n",
      "set det-size: (640, 640)\n",
      "Everything is ok!\n",
      "1\n"
     ]
    },
    {
     "name": "stderr",
     "output_type": "stream",
     "text": [
      "100%|██████████| 1/1 [00:00<00:00, 20.18it/s]\n",
      "1it [00:00, 401.45it/s]\n",
      "1it [00:00, 5809.29it/s]\n",
      "100%|██████████| 1/1 [00:00<00:00, 59.95it/s]\n",
      "100%|██████████| 1/1 [00:00<00:00, 20661.60it/s]\n",
      "/home/ubuntu-gpu/project/laboratory/ghost-train/.venv/lib/python3.8/site-packages/mxnet/ndarray/utils.py:141: DeprecationWarning: Please use `csr_matrix` from the `scipy.sparse` namespace, the `scipy.sparse.csr` namespace is deprecated.\n",
      "  if spsp is not None and isinstance(source_array, spsp.csr.csr_matrix):\n",
      "/home/ubuntu-gpu/project/laboratory/ghost-train/.venv/lib/python3.8/site-packages/mxnet/ndarray/utils.py:141: DeprecationWarning: Please use `csr_matrix` from the `scipy.sparse` namespace, the `scipy.sparse.csr` namespace is deprecated.\n",
      "  if spsp is not None and isinstance(source_array, spsp.csr.csr_matrix):\n"
     ]
    },
    {
     "name": "stdout",
     "output_type": "stream",
     "text": [
      "Image saved at examples/results/id85-enhanced9/result_source11_target14.png\n",
      "input mean and std: 127.5 127.5\n",
      "find model: ./insightface_func/models/antelope/glintr100.onnx recognition\n",
      "find model: ./insightface_func/models/antelope/scrfd_10g_bnkps.onnx detection\n",
      "set det-size: (640, 640)\n",
      "loading ./coordinate_reg/model/2d106det 0\n",
      "input mean and std: 127.5 127.5\n",
      "find model: ./insightface_func/models/antelope/glintr100.onnx recognition\n",
      "find model: ./insightface_func/models/antelope/scrfd_10g_bnkps.onnx detection\n",
      "set det-size: (640, 640)\n",
      "Everything is ok!\n",
      "1\n"
     ]
    },
    {
     "name": "stderr",
     "output_type": "stream",
     "text": [
      "[02:25:24] /work/mxnet/src/nnvm/legacy_json_util.cc:208: Loading symbol saved by previous version v1.5.0. Attempting to upgrade...\n",
      "[02:25:24] /work/mxnet/src/nnvm/legacy_json_util.cc:216: Symbol successfully upgraded!\n",
      "100%|██████████| 1/1 [00:00<00:00, 21.12it/s]\n",
      "1it [00:00, 578.29it/s]\n",
      "1it [00:00, 4728.64it/s]\n",
      "100%|██████████| 1/1 [00:00<00:00, 13.73it/s]\n",
      "100%|██████████| 1/1 [00:00<00:00, 17476.27it/s]\n",
      "/home/ubuntu-gpu/project/laboratory/ghost-train/.venv/lib/python3.8/site-packages/mxnet/ndarray/utils.py:141: DeprecationWarning: Please use `csr_matrix` from the `scipy.sparse` namespace, the `scipy.sparse.csr` namespace is deprecated.\n",
      "  if spsp is not None and isinstance(source_array, spsp.csr.csr_matrix):\n",
      "/home/ubuntu-gpu/project/laboratory/ghost-train/.venv/lib/python3.8/site-packages/mxnet/ndarray/utils.py:141: DeprecationWarning: Please use `csr_matrix` from the `scipy.sparse` namespace, the `scipy.sparse.csr` namespace is deprecated.\n",
      "  if spsp is not None and isinstance(source_array, spsp.csr.csr_matrix):\n"
     ]
    },
    {
     "name": "stdout",
     "output_type": "stream",
     "text": [
      "Image saved at examples/results/id85-enhanced9/result_source11_target15.png\n",
      "input mean and std: 127.5 127.5\n",
      "find model: ./insightface_func/models/antelope/glintr100.onnx recognition\n",
      "find model: ./insightface_func/models/antelope/scrfd_10g_bnkps.onnx detection\n",
      "set det-size: (640, 640)\n",
      "loading ./coordinate_reg/model/2d106det 0\n"
     ]
    },
    {
     "name": "stderr",
     "output_type": "stream",
     "text": [
      "[02:25:28] /work/mxnet/src/nnvm/legacy_json_util.cc:208: Loading symbol saved by previous version v1.5.0. Attempting to upgrade...\n",
      "[02:25:28] /work/mxnet/src/nnvm/legacy_json_util.cc:216: Symbol successfully upgraded!\n"
     ]
    },
    {
     "name": "stdout",
     "output_type": "stream",
     "text": [
      "input mean and std: 127.5 127.5\n",
      "find model: ./insightface_func/models/antelope/glintr100.onnx recognition\n",
      "find model: ./insightface_func/models/antelope/scrfd_10g_bnkps.onnx detection\n",
      "set det-size: (640, 640)\n",
      "Everything is ok!\n",
      "1\n"
     ]
    },
    {
     "name": "stderr",
     "output_type": "stream",
     "text": [
      "100%|██████████| 1/1 [00:00<00:00, 17.92it/s]\n",
      "1it [00:00, 173.48it/s]\n",
      "1it [00:00, 6297.75it/s]\n",
      "100%|██████████| 1/1 [00:00<00:00, 13.83it/s]\n",
      "100%|██████████| 1/1 [00:00<00:00, 22919.69it/s]\n"
     ]
    },
    {
     "name": "stdout",
     "output_type": "stream",
     "text": [
      "Image saved at examples/results/id85-enhanced9/result_source11_target16.png\n"
     ]
    },
    {
     "name": "stderr",
     "output_type": "stream",
     "text": [
      "/home/ubuntu-gpu/project/laboratory/ghost-train/.venv/lib/python3.8/site-packages/mxnet/ndarray/utils.py:141: DeprecationWarning: Please use `csr_matrix` from the `scipy.sparse` namespace, the `scipy.sparse.csr` namespace is deprecated.\n",
      "  if spsp is not None and isinstance(source_array, spsp.csr.csr_matrix):\n",
      "/home/ubuntu-gpu/project/laboratory/ghost-train/.venv/lib/python3.8/site-packages/mxnet/ndarray/utils.py:141: DeprecationWarning: Please use `csr_matrix` from the `scipy.sparse` namespace, the `scipy.sparse.csr` namespace is deprecated.\n",
      "  if spsp is not None and isinstance(source_array, spsp.csr.csr_matrix):\n"
     ]
    }
   ],
   "source": [
    "import os\n",
    "\n",
    "def get_image_list(folder_path):\n",
    "    # 指定フォルダ内のすべての画像ファイルのパスを取得\n",
    "    return [os.path.join(folder_path, f) for f in os.listdir(folder_path) if f.endswith(('.png', '.jpg', '.jpeg'))]\n",
    "\n",
    "# フォルダのパスを指定\n",
    "target_folder = 'examples/quantitative-evaluation/target_images/'\n",
    "source_folder = 'examples/quantitative-evaluation/source_images/'\n",
    "\n",
    "# フォルダ内のすべての画像をリストに取得\n",
    "target_list = get_image_list(target_folder)\n",
    "source_list = get_image_list(source_folder)\n",
    "\n",
    "save_path = \"examples/results/id85-enhanced9\"\n",
    "\n",
    "# G_path を指定\n",
    "G_path = 'saved_weights/current_models/stage3_identity_enhancesd_9/G_2_000000.pth'\n",
    "\n",
    "# source 画像を固定し、すべての target 画像との組み合わせを実行\n",
    "for j, source_path in enumerate(source_list):\n",
    "    for i, target_path in enumerate(target_list):\n",
    "        # G_path のみを使用して swap 処理を行う\n",
    "        result, source, target_full = swap(G_path, target_path, source_path, save_path)\n",
    "\n",
    "        # 生成結果の保存\n",
    "        result_image_path = f'{save_path}/result_source{j}_target{i}.png'\n",
    "        cv2.imwrite(result_image_path, result)\n",
    "        print(f\"Image saved at {result_image_path}\")\n",
    "        # 結果の画像表示\n",
    "        #noshow_images([source[0][:, :, ::-1], target_full, result], ['Source Image', 'Target Image', 'GHOST'], figsize=(20, 15))\n"
   ]
  },
  {
   "cell_type": "code",
   "execution_count": null,
   "metadata": {},
   "outputs": [],
   "source": []
  },
  {
   "cell_type": "code",
   "execution_count": null,
   "metadata": {},
   "outputs": [],
   "source": [
    "# １．顔のクローズアップ\n",
    "face_close_up = final_frames_list.copy()\n",
    "\n",
    "# 後処理\n",
    "#if True:\n",
    "#    final_frames_list = get_only_swaped_faceimage(final_frames_list, crop_frames_list, full_frames[0], tfm_array_list)\n",
    "\n",
    "# 表示するタイトルを指定します\n",
    "titles = [\"not processing\", \"processing\"]\n",
    "face_close_up.append(final_frames_list[0])\n",
    "\n",
    "# 画像として表示します\n",
    "show_face_frames(face_close_up, titles, figsize=(8, 5))\n",
    "\n",
    "# ２．全体\n",
    "# 後処理なし\n",
    "result = get_only_swaped_fullimage(final_frames_list, crop_frames_list, full_frames[0], tfm_array_list)\n",
    "noshow_images([source[0][:, :, ::-1], target_full, result], ['Source Image', 'Target Image', 'Swapped Image'], figsize=(20, 15))\n"
   ]
  }
 ],
 "metadata": {
  "kernelspec": {
   "display_name": ".venv",
   "language": "python",
   "name": "python3"
  },
  "language_info": {
   "codemirror_mode": {
    "name": "ipython",
    "version": 3
   },
   "file_extension": ".py",
   "mimetype": "text/x-python",
   "name": "python",
   "nbconvert_exporter": "python",
   "pygments_lexer": "ipython3",
   "version": "3.8.10"
  }
 },
 "nbformat": 4,
 "nbformat_minor": 2
}
